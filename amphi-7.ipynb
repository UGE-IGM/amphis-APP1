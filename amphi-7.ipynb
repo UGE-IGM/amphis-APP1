{
 "cells": [
  {
   "cell_type": "markdown",
   "id": "8535a497",
   "metadata": {},
   "source": [
    "# Amphi du 22/11/2021\n",
    "\n",
    "- Questions diverses\n",
    "- Entraînement : dosctrings / doctests\n",
    "- Entraînement : listes"
   ]
  },
  {
   "cell_type": "markdown",
   "id": "509e38e7",
   "metadata": {},
   "source": [
    "## Questions diverses"
   ]
  },
  {
   "cell_type": "markdown",
   "id": "cab9f6c5",
   "metadata": {},
   "source": [
    "*À compléter.*"
   ]
  },
  {
   "cell_type": "markdown",
   "id": "e913d993",
   "metadata": {},
   "source": [
    "## Docstrings / doctests\n",
    "\n",
    "**Objectifs :** \n",
    "\n",
    "- Pour soi-même :\n",
    "    - Réfléchir à la *spécification* (ce que *devrait* faire) un programme, et à la *correction* du code.\n",
    "    - Se convaincre, à l'aide d'exemples (tests), que la fonction qu'on vient d'écrire est correcte\n",
    "- Pour quelqu'un d'autre :\n",
    "    - Expliquer et montrer à quelqu'un à quoi sert une fonction et comment on l'utilise.\n",
    "    - Convaincre quelqu'un, à l'aide d'exemples (tests), qu'une fonction fait bien ce qu'elle prétend faire."
   ]
  },
  {
   "cell_type": "code",
   "execution_count": null,
   "id": "05de3d31",
   "metadata": {},
   "outputs": [],
   "source": [
    "from doctest import testmod"
   ]
  },
  {
   "cell_type": "markdown",
   "id": "8b6f4c3b",
   "metadata": {},
   "source": [
    "### Exercice 1 : nombres premiers\n",
    "\n",
    "On considère le code suivant :"
   ]
  },
  {
   "cell_type": "code",
   "execution_count": null,
   "id": "48915448",
   "metadata": {},
   "outputs": [],
   "source": [
    "from math import sqrt\n",
    "\n",
    "def est_premier(n):\n",
    "    if n == 0 or n == 1:\n",
    "        return False\n",
    "    for i in range(2, int(sqrt(n)) + 1):\n",
    "        if n % i == 0:\n",
    "            return False\n",
    "    return True\n",
    "\n",
    "def compte(donnees):\n",
    "    p = 0\n",
    "    c = 0\n",
    "    for i in range(len(donnees)):\n",
    "        if est_premier(donnees[i]):\n",
    "            p += 1\n",
    "        else:\n",
    "            c += 1\n",
    "    return p, c"
   ]
  },
  {
   "cell_type": "markdown",
   "id": "05f9c7f3",
   "metadata": {},
   "source": [
    "Écrire pour chacune de ces fonctions une *docstring* et des *doctests* pertinents."
   ]
  },
  {
   "cell_type": "code",
   "execution_count": null,
   "id": "437a8fd3",
   "metadata": {},
   "outputs": [],
   "source": [
    "help(est_premier)\n",
    "help(compte)\n",
    "testmod()"
   ]
  },
  {
   "cell_type": "markdown",
   "id": "0a402419",
   "metadata": {},
   "source": [
    "### Exercice 2 : tirage de dés\n",
    "\n",
    "On considère le code suivant :"
   ]
  },
  {
   "cell_type": "code",
   "execution_count": null,
   "id": "5c7ebb73",
   "metadata": {},
   "outputs": [],
   "source": [
    "from random import randint\n",
    "\n",
    "def lance(f):\n",
    "    \"\"\" Simule le lancer d'un dé à f faces\n",
    "\n",
    "    :param f: int\n",
    "    :return value: int, compris entre 1 et f\n",
    "\n",
    "    >>> from random import seed\n",
    "    >>> seed(42)\n",
    "    >>> lance(0)\n",
    "    >>> lance(6)\n",
    "    6\n",
    "    \"\"\"\n",
    "    if f >= 1:\n",
    "        return randint(1, f)\n",
    "    return None"
   ]
  },
  {
   "cell_type": "markdown",
   "id": "763f5a0b",
   "metadata": {},
   "source": [
    "Pour comprendre le *doctest* dans la fonction `lance` ci-dessus, on fait les observations suivantes :"
   ]
  },
  {
   "cell_type": "code",
   "execution_count": null,
   "id": "49a88b37",
   "metadata": {},
   "outputs": [],
   "source": [
    "import random"
   ]
  },
  {
   "cell_type": "code",
   "execution_count": null,
   "id": "69a07c3b",
   "metadata": {},
   "outputs": [],
   "source": [
    "random.seed(42)\n",
    "[random.randint(1, 2) for _ in range(20)]"
   ]
  },
  {
   "cell_type": "code",
   "execution_count": null,
   "id": "d019b112",
   "metadata": {},
   "outputs": [],
   "source": [
    "random.seed(42)\n",
    "[random.randint(1, 6) for _ in range(20)]"
   ]
  },
  {
   "cell_type": "markdown",
   "id": "1a85c7e2",
   "metadata": {},
   "source": [
    "Soient les fonctions `foo` et `bar` ci-dessous :"
   ]
  },
  {
   "cell_type": "code",
   "execution_count": null,
   "id": "daea5c2f",
   "metadata": {},
   "outputs": [],
   "source": [
    "def foo(n, f, x):\n",
    "    o = False\n",
    "    for p in range(n):\n",
    "        if x == lance(f):\n",
    "            o = True\n",
    "    return o\n",
    "   \n",
    "def bar(n, f, x):\n",
    "    if not(n <= 0 or f <= 0):\n",
    "        cmpt = 1\n",
    "        while not foo(n, f, x):\n",
    "            cmpt += 1\n",
    "        return cmpt\n",
    "    else:\n",
    "        return None"
   ]
  },
  {
   "cell_type": "markdown",
   "id": "e52ade1c",
   "metadata": {},
   "source": [
    "Proposer des *docstring* et *doctests* pertinents pour ces deux fonctions."
   ]
  },
  {
   "cell_type": "code",
   "execution_count": null,
   "id": "51c76b54",
   "metadata": {},
   "outputs": [],
   "source": [
    "help(foo)\n",
    "help(bar)\n",
    "testmod()"
   ]
  },
  {
   "cell_type": "markdown",
   "id": "cf8c197d",
   "metadata": {},
   "source": [
    "### Exercice 3 : mystère... (?)"
   ]
  },
  {
   "cell_type": "markdown",
   "id": "c02aa927",
   "metadata": {},
   "source": [
    "Proposer des docstring et doctests pertinents pour les deux fonctions suivantes."
   ]
  },
  {
   "cell_type": "code",
   "execution_count": null,
   "id": "e2b3477a",
   "metadata": {},
   "outputs": [],
   "source": [
    "def mystere_1(datas):\n",
    "    lst = []\n",
    "    for i in range(len(datas)):\n",
    "        est_present = False\n",
    "        for j in range(len(lst)):\n",
    "            if datas[i] == lst[j]:\n",
    "                est_present = True\n",
    "        if not est_present:\n",
    "            lst.append(datas[i])\n",
    "    return lst\n",
    "\n",
    "def mystere_2(datas):\n",
    "    pos = 0\n",
    "    while pos < len(datas):\n",
    "        est_present = False\n",
    "        for i in range(pos):\n",
    "            if pos < len(datas) and datas[pos] == datas[i]:\n",
    "                datas.pop(pos)\n",
    "                est_present = True\n",
    "        if not est_present:\n",
    "            pos += 1"
   ]
  },
  {
   "cell_type": "code",
   "execution_count": null,
   "id": "5f82069a",
   "metadata": {},
   "outputs": [],
   "source": [
    "help(mystere_1)\n",
    "help(mystere_2)\n",
    "testmod()"
   ]
  },
  {
   "cell_type": "markdown",
   "id": "a55a9b58",
   "metadata": {},
   "source": [
    "## Listes\n",
    "\n",
    "### Exercice 4 : ensembles finis\n",
    "\n",
    "Dans cet exercice on considère uniquement des listes sans doublon et dont les éléments sont\n",
    "triés par ordre croissant. Ce genre de listes peut être utilisé pour représenter des ensembles. Par exemple l'ensemble $\\{1, 3, 2, 1, 1, -4\\}$ peut être représenté par la liste `[-4, 1, 2, 3]`.\n",
    "\n",
    "**Remarques :**\n",
    "\n",
    "- Dans chacune des fonctions suivantes, les paramètres `un` et `deux` sont des listes de ce type. \n",
    "- On veillera à ne parcourir chacune des listes fournies en argument qu’*une seule fois* (pas de boucles imbriquées).\n",
    "- Il existe des techniques plus efficaces pour représenter des ensembles.\n",
    "\n",
    "**Questions.**\n",
    "\n",
    "1. Écrire une fonction inclus_dans(un, deux) qui renvoie True si tous les éléments de un appartiennent à deux."
   ]
  },
  {
   "cell_type": "code",
   "execution_count": null,
   "id": "2e7af1d6",
   "metadata": {},
   "outputs": [],
   "source": []
  },
  {
   "cell_type": "markdown",
   "id": "6b1ae519",
   "metadata": {},
   "source": [
    "2. Écrire une fonction disjoint(un, deux) qui renvoie True si un et deux représentent des ensembles disjoints, et False sinon."
   ]
  },
  {
   "cell_type": "code",
   "execution_count": null,
   "id": "fcbcd6e6",
   "metadata": {},
   "outputs": [],
   "source": []
  },
  {
   "cell_type": "markdown",
   "id": "71e77ded",
   "metadata": {},
   "source": [
    "3. Écrire une fonction intersection(un, deux) qui renvoie la liste triée sans doublon con- tenant uniquement les éléments communs aux deux listes."
   ]
  },
  {
   "cell_type": "code",
   "execution_count": null,
   "id": "ba7c41e7",
   "metadata": {},
   "outputs": [],
   "source": []
  },
  {
   "cell_type": "markdown",
   "id": "53c91601",
   "metadata": {},
   "source": [
    "4. Écrire une fonction difference(un, deux) qui renvoie la liste triée sans doublon contenant tous les éléments appartenant à un mais pas à deux."
   ]
  },
  {
   "cell_type": "code",
   "execution_count": null,
   "id": "7583a515",
   "metadata": {},
   "outputs": [],
   "source": []
  },
  {
   "cell_type": "markdown",
   "id": "256017c9",
   "metadata": {},
   "source": [
    "5. Écrire une fonction union(un, deux) qui renvoie la liste triée sans doublon contenant tous les éléments appartenant à un ou deux (ou au deux)."
   ]
  },
  {
   "cell_type": "code",
   "execution_count": null,
   "id": "2595fcc9",
   "metadata": {},
   "outputs": [],
   "source": []
  },
  {
   "cell_type": "markdown",
   "id": "ca8f9392",
   "metadata": {},
   "source": [
    "6. Écrire une fonction difference_symetrique(un, deux) qui renvoie la liste triée sans doublon contenant tous les éléments appartenant soit à un, soit à deux (mais pas aux deux)."
   ]
  },
  {
   "cell_type": "code",
   "execution_count": null,
   "id": "52cca916",
   "metadata": {},
   "outputs": [],
   "source": []
  }
 ],
 "metadata": {
  "kernelspec": {
   "display_name": "Python 3 (ipykernel)",
   "language": "python",
   "name": "python3"
  },
  "language_info": {
   "codemirror_mode": {
    "name": "ipython",
    "version": 3
   },
   "file_extension": ".py",
   "mimetype": "text/x-python",
   "name": "python",
   "nbconvert_exporter": "python",
   "pygments_lexer": "ipython3",
   "version": "3.9.8"
  }
 },
 "nbformat": 4,
 "nbformat_minor": 5
}
