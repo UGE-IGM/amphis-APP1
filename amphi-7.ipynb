{
 "cells": [
  {
   "cell_type": "markdown",
   "id": "39cc0b74",
   "metadata": {},
   "source": [
    "# APP1 — Problème 3 — Amphi n° 7"
   ]
  },
  {
   "cell_type": "markdown",
   "id": "6ecb65c3",
   "metadata": {},
   "source": [
    "## Rappels\n",
    "\n",
    "- Salles libre-service + tutorat tous les jours (y compris le vendredi) 12h45 - 14h, Ader 106\n",
    "- CC2 le **6 janvier, amphis à préciser**\n",
    "- Prochaine semaine de projet + remédiation la semaine du 16/12\n",
    "- Vacances de Noël le vendredi 20/12 au soir"
   ]
  },
  {
   "cell_type": "markdown",
   "id": "a6b8bd10",
   "metadata": {},
   "source": [
    "\n",
    "![calendrier2024-S1-AP-PR1.png](img/calendrier2024-S1-AP-PR1.png)"
   ]
  },
  {
   "cell_type": "markdown",
   "id": "709d49fd",
   "metadata": {
    "vscode": {
     "languageId": "plaintext"
    }
   },
   "source": [
    "## Discussions et questions générales"
   ]
  },
  {
   "cell_type": "markdown",
   "id": "9164df42",
   "metadata": {},
   "source": [
    "- Retours sur le CC1 ?\n",
    "- Retours sur le problème 2 (génération de texte) ?"
   ]
  },
  {
   "cell_type": "markdown",
   "id": "32c728c7",
   "metadata": {},
   "source": [
    "## Sujets du jour\n",
    "\n",
    "- Un aperçu du cours d'AP1\n",
    "- Lecture commentée du sujet de problème 3\n",
    "    - Quelques éléments pour aborder le problème\n",
    "- *Quoi d'autre ?*\n",
    "\n",
    "Déjà traités :\n",
    "\n",
    "- Éléments de cours\n",
    "    - ~~Un mot sur les bonnes pratiques de programmation~~\n",
    "    - ~~Comment traiter les paramètres en ligne de commande d'un programme ?~~\n",
    "    - ~~représentation des listes (et listes de listes) en mémoire~~\n",
    "    - ~~Exercice : fabriquer une matrice $m \\times n$ remplie de 0~~\n",
    "    - ~~Chaînes de documentation (docstrings) contenant des tests (doctests)~~\n",
    "- `fltk`\n",
    "    - ~~Exo d'entraînement : afficher une grille carrée~~\n",
    "    - ~~Exo d'entraînement : récupérer un clic sur la grille et déterminer sa case~~\n",
    "- Évaluation\n",
    "    - ~~Un aperçu des précédents CC0~~\n",
    "- Problème 1\n",
    "    - ~~Lecture commentée du problème 1~~\n",
    "    - ~~Travailler sur un fichier texte dans un programme~~\n",
    "    - ~~Exo d'entraînement : conversions entre bases sur les entiers~~\n",
    "- Problème 2\n",
    "    - ~~Lecture commentée du problème~~\n",
    "    - ~~Argparse c'est pas hyper clair~~\n",
    "    - ~~Tirage pondéré dans une liste~~\n",
    "    - ~~Distance de Levenshtein~~\n",
    "    - ~~Un point sur les dictionnaires pour représenter les corpus~~\n",
    "\n",
    "Non traités :\n",
    "\n",
    "- Les expressions régulières\n",
    "- Exercice : inverser les clés et les valeurs d'un dictionnaire"
   ]
  },
  {
   "cell_type": "markdown",
   "id": "0575cf15",
   "metadata": {},
   "source": [
    "## Problème 3 : lecture guidée\n",
    "\n",
    "Deux grandes parties :\n",
    "- Traitement de données sous format divers (CSV, JSON)\n",
    "- Dessiner une région donnée par un *shapefile*\n",
    "\n",
    "Discussions dans chaque groupe :\n",
    "- Répartition des tâches ou avancement tous ensemble ?\n",
    "- Lecture de documentation (Wikipedia, [http://docs.python.org](https://docs.python.org/fr/3/)...)\n",
    "- Choix de design :\n",
    "    - Quel jeu de données ? Quelles structures de données pour les représenter ?\n",
    "    - Quelle apparence ? Quelles fonctionnalités de base / avancées ?"
   ]
  },
  {
   "cell_type": "markdown",
   "id": "57acb195",
   "metadata": {},
   "source": []
  }
 ],
 "metadata": {
  "kernelspec": {
   "display_name": "Python 3 (ipykernel)",
   "language": "python",
   "name": "python3"
  },
  "language_info": {
   "codemirror_mode": {
    "name": "ipython",
    "version": 3
   },
   "file_extension": ".py",
   "mimetype": "text/x-python",
   "name": "python",
   "nbconvert_exporter": "python",
   "pygments_lexer": "ipython3",
   "version": "3.12.3"
  }
 },
 "nbformat": 4,
 "nbformat_minor": 5
}
