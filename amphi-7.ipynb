{
 "cells": [
  {
   "cell_type": "markdown",
   "id": "9a136673",
   "metadata": {
    "slideshow": {
     "slide_type": "slide"
    }
   },
   "source": [
    "# Amphi APP1 - Séquence 4 - Introduction"
   ]
  },
  {
   "cell_type": "markdown",
   "id": "5fbbe3b3",
   "metadata": {
    "slideshow": {
     "slide_type": "slide"
    }
   },
   "source": [
    "**Contenu :**\n",
    "\n",
    "1. Organisation de la fin du module\n",
    "2. Retour de Problème 3\n",
    "3. Problème 4 : questions, commentaires\n",
    "4. Discussion : projection de coordonnées géographiques"
   ]
  },
  {
   "cell_type": "markdown",
   "id": "f34a37ab",
   "metadata": {
    "slideshow": {
     "slide_type": "slide"
    }
   },
   "source": [
    "## Organisation de la fin du module\n",
    "\n",
    "**Rappels :** \n",
    "- fin du module APP1 le **27 novembre**\n",
    "- CC2 fin novembre\n",
    "\n",
    "**Propositions :**\n",
    "\n",
    "- La date limite du problème 4 au mercredi 22 novembre 23h59\n",
    "- Soutenance du problème 4 le jeudi 23 ou le vendredi 24 novembre 8h30 (selon les groupes)\n",
    "- Retour avec une annonce sur e-learning"
   ]
  },
  {
   "cell_type": "markdown",
   "id": "a35a484d",
   "metadata": {},
   "source": [
    "## Retour de Problème 3\n",
    "\n",
    "**Quelques observations**\n",
    "- En général un jeu jouable\n",
    "- Les collisions sont parfois bizarre (mais OK si jouable)\n",
    "- Interface bien pensée, bonus-malus, niveau/difficulté\n",
    "- Utilisation de classe aide, mais il faut pousser plus\n",
    "- C'est bien vu la difficulté (organisation de projet)"
   ]
  },
  {
   "cell_type": "markdown",
   "id": "04990d4c",
   "metadata": {},
   "source": [
    "**Démo** : 2 groupes\n",
    "\n",
    "**Que pensez-vous sur ce projet ?**\n",
    "\n",
    "- ???"
   ]
  },
  {
   "cell_type": "markdown",
   "id": "a4c2c0d1",
   "metadata": {
    "slideshow": {
     "slide_type": "slide"
    }
   },
   "source": [
    "## Problème 4 : questions, commentaires\n",
    "\n",
    "**Lecture guidée du problème**\n",
    "\n",
    "Deux grandes parties :\n",
    "- Traitement de données sous format divers\n",
    "- Dessiner une région donnée par shapefile"
   ]
  },
  {
   "cell_type": "markdown",
   "id": "1e055868",
   "metadata": {
    "slideshow": {
     "slide_type": "slide"
    }
   },
   "source": [
    "## Projection de coordonnées géographiques"
   ]
  },
  {
   "cell_type": "markdown",
   "id": "87b4309b",
   "metadata": {
    "slideshow": {
     "slide_type": "subslide"
    }
   },
   "source": [
    "Proposition de décomposition du problème :\n",
    "\n",
    "- reconnaître la nécessité d'un choix de projection\n",
    "- choisir une projection\n",
    "    - projection naïve\n",
    "    - projection de Mercator\n",
    "- calcul des coordonnées extrêmes (*bounding box*)\n",
    "- calcul de l'échelle (horizontale / verticale)"
   ]
  },
  {
   "cell_type": "code",
   "execution_count": 1,
   "id": "bf2136a4",
   "metadata": {
    "slideshow": {
     "slide_type": "subslide"
    }
   },
   "outputs": [],
   "source": [
    "# quelques points du contour de la Seine-et-Marne\n",
    "points = [(2.3923284961351237, 48.335929161584076), (2.5796456483373684, 48.72254039779301), (2.6241630097148376, 49.10056541579139), (3.097802797538821, 49.11080329041811), (3.26191242353348, 48.94707797669175), (3.4474402215212865, 48.848328384354076), (3.4613763255130037, 48.634670779600604), (3.4003188237982123, 48.45958741212868), (3.0995219034980406, 48.3529392805501), (2.8310023496715675, 48.13421017601398), (2.5384374109720103, 48.14073211263637), (2.419849013684824, 48.28321626105787)]\n",
    "bbox = [2.3923284961351237, 48.12014561527111, 3.559220826259302, 49.11789167125887]"
   ]
  },
  {
   "cell_type": "code",
   "execution_count": 4,
   "id": "9fc326a8",
   "metadata": {
    "slideshow": {
     "slide_type": "subslide"
    }
   },
   "outputs": [],
   "source": [
    "from math import log, tan, pi, radians\n",
    "\n",
    "def mercator_map(point):\n",
    "    \"\"\"Spherical Mercator map of p.\"\"\"\n",
    "    longi, lati = point\n",
    "    x = longi\n",
    "    y = log(tan(radians(lati) / 2 + pi / 4))\n",
    "    return x, y"
   ]
  },
  {
   "cell_type": "code",
   "execution_count": 5,
   "id": "53951aad",
   "metadata": {},
   "outputs": [
    {
     "data": {
      "text/plain": [
       "[(2.3923284961351237, 0.9662577881284141),\n",
       " (2.5796456483373684, 0.9764470048228808),\n",
       " (2.6241630097148376, 0.9864859440930788),\n",
       " (3.097802797538821, 0.9867588842948964),\n",
       " (3.26191242353348, 0.982400722969732),\n",
       " (3.4474402215212865, 0.9797790436298242),\n",
       " (3.4613763255130037, 0.9741243391291218),\n",
       " (3.4003188237982123, 0.9695083752512678),\n",
       " (3.0995219034980406, 0.9667044624472627),\n",
       " (2.8310023496715675, 0.9609721051774203),\n",
       " (2.5384374109720103, 0.961142675361159),\n",
       " (2.419849013684824, 0.9648745284085303)]"
      ]
     },
     "execution_count": 5,
     "metadata": {},
     "output_type": "execute_result"
    }
   ],
   "source": [
    "points_mercator = [mercator_map(p) for p in points]\n",
    "points_mercator"
   ]
  },
  {
   "cell_type": "code",
   "execution_count": 8,
   "id": "3c404cdf",
   "metadata": {},
   "outputs": [],
   "source": [
    "from fltk import cree_fenetre, polygone, attend_ev, ferme_fenetre\n",
    "\n",
    "cree_fenetre(500, 500)\n",
    "# Dessiner le polygone (mais comment ?)\n",
    "# polygone(points_mercator)\n",
    "attend_ev()\n",
    "ferme_fenetre()"
   ]
  },
  {
   "cell_type": "code",
   "execution_count": null,
   "id": "fe404ba9",
   "metadata": {},
   "outputs": [],
   "source": [
    "import fltk\n",
    "\n",
    "help(fltk.polygone)"
   ]
  },
  {
   "cell_type": "markdown",
   "id": "b28bda12",
   "metadata": {},
   "source": [
    "## Comment convertir le bounding box à la fenêtre ?\n",
    "\n",
    "- Il faut garder l'aspect (ratio longueur / largeur)\n",
    "- Calculer d'abord le bounding box (point nord-ouest et point sud-est)\n",
    "- Puis calculer l'aspect du bounding box\n",
    "- Calculer la taille de la fenêtre avec le bon aspect\n",
    "\n",
    "Maintenant, supposons que le point nord-ouest du bounding box est $(x_1, y_1)$, et celui sud-est est $(x_2, y_2)$. La fenêtre est de largeur $w$ et de hauteur $h$.\n",
    "\n",
    "**Comment convertir un point $(x, y)$ sur la fenêtre $(x_f, y_f)$ ?**\n",
    "\n",
    "- Cela doit être une transformation linéaire respectant l'aspect :\n",
    "$$\n",
    "    x_f = ax + b, y_f = ay + c.\n",
    "$$\n",
    "- Il faut transformer $(x_1, y_1)$ en $(0, 0)$.\n",
    "$$\n",
    "    0 = ax_1 + b, 0 = ay_1 + c.\n",
    "$$\n",
    "- Il faut transformer $(x_2, y_2)$ en $(w, h)$.\n",
    "$$\n",
    "    w = ax_2 + b, h = ay_2 + c.\n",
    "$$\n",
    "- Résoudre les équations pour $a, b, c$ !"
   ]
  },
  {
   "cell_type": "code",
   "execution_count": null,
   "id": "7ca3110b",
   "metadata": {
    "slideshow": {
     "slide_type": "subslide"
    }
   },
   "outputs": [],
   "source": [
    "def frame_map(point, origin, scale):\n",
    "    \"\"\"Screen map of point relative to (upper-left) origin and scale.\"\"\"\n",
    "    ... # à finir"
   ]
  },
  {
   "cell_type": "code",
   "execution_count": null,
   "id": "83145d68",
   "metadata": {
    "slideshow": {
     "slide_type": "subslide"
    }
   },
   "outputs": [],
   "source": [
    "def compute_frame(bbox, max_dim):\n",
    "     # à finir\n",
    "    long_min, lat_min, long_max, lat_max = bbox\n",
    "\n",
    "    # coordonnées des coins\n",
    "    xmin, ymax = ...\n",
    "    xmax, ymin = ...\n",
    "\n",
    "    # amplitude en abscisse et en ordonnée\n",
    "    dx, dy = \n",
    "\n",
    "    # échelle\n",
    "    scale = ...\n",
    "\n",
    "    return (xmin, ymax), (xmax, ymin), (dx, dy), scale"
   ]
  }
 ],
 "metadata": {
  "celltoolbar": "Diaporama",
  "kernelspec": {
   "display_name": "Python 3 (ipykernel)",
   "language": "python",
   "name": "python3"
  },
  "language_info": {
   "codemirror_mode": {
    "name": "ipython",
    "version": 3
   },
   "file_extension": ".py",
   "mimetype": "text/x-python",
   "name": "python",
   "nbconvert_exporter": "python",
   "pygments_lexer": "ipython3",
   "version": "3.11.4"
  }
 },
 "nbformat": 4,
 "nbformat_minor": 5
}
