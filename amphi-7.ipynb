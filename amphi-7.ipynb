{
 "cells": [
  {
   "cell_type": "markdown",
   "id": "9a136673",
   "metadata": {
    "slideshow": {
     "slide_type": "slide"
    }
   },
   "source": [
    "# Amphi APP1 - Séquence 4 - Introduction"
   ]
  },
  {
   "cell_type": "markdown",
   "id": "5fbbe3b3",
   "metadata": {
    "slideshow": {
     "slide_type": "slide"
    }
   },
   "source": [
    "**Contenu :**\n",
    "\n",
    "1. Organisation de la fin du module\n",
    "2. Retour de Problème 3\n",
    "3. Problème 4 : questions, commentaires\n",
    "4. Discussion : projection de coordonnées géographiques\n",
    "5. Exercice d'entraînement `fltk` : dessiner un polygone point par point"
   ]
  },
  {
   "cell_type": "markdown",
   "id": "f34a37ab",
   "metadata": {
    "slideshow": {
     "slide_type": "slide"
    }
   },
   "source": [
    "## Organisation de la fin du module\n",
    "\n",
    "**Rappels :** \n",
    "- fin du module APP1 le **28 novembre**\n",
    "- CC2 fin novembre\n",
    "\n",
    "**Propositions :**\n",
    "\n",
    "- La date limite du problème 4 au jeudi 24 novembre 23h59\n",
    "- Soutenance du problème 4 le vendredi 25 novembre 8h30\n",
    "- Retour avec une annonce sur e-learning"
   ]
  },
  {
   "cell_type": "markdown",
   "id": "a35a484d",
   "metadata": {},
   "source": [
    "## Retour de Problème 3\n",
    "\n",
    "**Quelques observations**\n",
    "- En général un jeu jouable\n",
    "- Les collisions sont parfois bizarre (mais OK si jouable)\n",
    "- Interface bien pensée, bonus-malus, niveau/difficulté\n",
    "- Utilisation de classe aide, mais il faut pousser plus\n",
    "- C'est bien vu la difficulté (organisation de projet)"
   ]
  },
  {
   "cell_type": "markdown",
   "id": "04990d4c",
   "metadata": {},
   "source": [
    "**Démo** : 2 groupes\n",
    "\n",
    "**Que pensez-vous sur ce projet ?**\n",
    "\n",
    "- ???"
   ]
  },
  {
   "cell_type": "markdown",
   "id": "a4c2c0d1",
   "metadata": {
    "slideshow": {
     "slide_type": "slide"
    }
   },
   "source": [
    "## Problème 4 : questions, commentaires\n",
    "\n",
    "**Lecture guidée du problème**\n",
    "\n",
    "Deux grandes parties :\n",
    "- Traitement de données sous format divers\n",
    "- Dessiner une région donnée par shapefile"
   ]
  },
  {
   "cell_type": "markdown",
   "id": "1e055868",
   "metadata": {
    "slideshow": {
     "slide_type": "slide"
    }
   },
   "source": [
    "## Projection de coordonnées géographiques"
   ]
  },
  {
   "cell_type": "markdown",
   "id": "87b4309b",
   "metadata": {
    "slideshow": {
     "slide_type": "subslide"
    }
   },
   "source": [
    "Proposition de décomposition du problème :\n",
    "\n",
    "- reconnaître la nécessité d'un choix de projection\n",
    "- choisir une projection\n",
    "    - projection naïve\n",
    "    - projection de Mercator\n",
    "- calcul des coordonnées extrêmes (*bounding box*)\n",
    "- calcul de l'échelle (horizontale / verticale)"
   ]
  },
  {
   "cell_type": "code",
   "execution_count": null,
   "id": "bf2136a4",
   "metadata": {
    "slideshow": {
     "slide_type": "subslide"
    }
   },
   "outputs": [],
   "source": [
    "# quelques points du contour de la Seine-et-Marne\n",
    "points = [(2.3923284961351237, 48.335929161584076), (2.5796456483373684, 48.72254039779301), (2.6241630097148376, 49.10056541579139), (3.097802797538821, 49.11080329041811), (3.26191242353348, 48.94707797669175), (3.4474402215212865, 48.848328384354076), (3.4613763255130037, 48.634670779600604), (3.4003188237982123, 48.45958741212868), (3.0995219034980406, 48.3529392805501), (2.8310023496715675, 48.13421017601398), (2.5384374109720103, 48.14073211263637), (2.419849013684824, 48.28321626105787)]\n",
    "bbox = [2.3923284961351237, 48.12014561527111, 3.559220826259302, 49.11789167125887]"
   ]
  },
  {
   "cell_type": "code",
   "execution_count": null,
   "id": "9fc326a8",
   "metadata": {
    "slideshow": {
     "slide_type": "subslide"
    }
   },
   "outputs": [],
   "source": [
    "from math import log, tan, pi, radians\n",
    "\n",
    "def mercator_map(point):\n",
    "    \"\"\"Spherical Mercator map of p.\"\"\"\n",
    "    long, lat = point\n",
    "    x = radians(long)\n",
    "    y = log(tan(pi/4 + radians(lat/2)))\n",
    "    return x, y"
   ]
  },
  {
   "cell_type": "code",
   "execution_count": null,
   "id": "53951aad",
   "metadata": {},
   "outputs": [],
   "source": [
    "points_fenetre = [mercator_map(p) for p in points]\n",
    "points_fenetre"
   ]
  },
  {
   "cell_type": "code",
   "execution_count": null,
   "id": "3c404cdf",
   "metadata": {},
   "outputs": [],
   "source": [
    "from fltk import cree_fenetre, polygone, attend_ev, ferme_fenetre\n",
    "\n",
    "cree_fenetre(500, 500)\n",
    "# Dessiner le polygone (mais comment ?)\n",
    "# polygone(points_fenetre)\n",
    "attend_ev()\n",
    "ferme_fenetre()"
   ]
  },
  {
   "cell_type": "code",
   "execution_count": null,
   "id": "7ca3110b",
   "metadata": {
    "slideshow": {
     "slide_type": "subslide"
    }
   },
   "outputs": [],
   "source": [
    "def frame_map(point, origin, scale):\n",
    "    \"\"\"Screen map of point relative to (upper-left) origin and scale.\"\"\"\n",
    "    ... # à finir"
   ]
  },
  {
   "cell_type": "code",
   "execution_count": null,
   "id": "83145d68",
   "metadata": {
    "slideshow": {
     "slide_type": "subslide"
    }
   },
   "outputs": [],
   "source": [
    "def compute_frame(bbox, max_dim):\n",
    "     # à finir\n",
    "    long_min, lat_min, long_max, lat_max = bbox\n",
    "\n",
    "    # coordonnées des coins\n",
    "    xmin, ymax = ...\n",
    "    xmax, ymin = ...\n",
    "\n",
    "    # amplitude en abscisse et en ordonnée\n",
    "    dx, dy = \n",
    "\n",
    "    # échelle\n",
    "    scale = ...\n",
    "\n",
    "    return (xmin, ymax), (xmax, ymin), (dx, dy), scale"
   ]
  },
  {
   "cell_type": "markdown",
   "id": "0259ed0a",
   "metadata": {},
   "source": [
    "## Exercice d'entraînement\n",
    "\n",
    "**Objectif :** créer un programme graphique qui permet de dessiner des polygones dans une fenêtre\n",
    "\n",
    "**Interactions :** \n",
    "- le bouton \"quitter\"... quitte\n",
    "- un clic gauche \"pose\" un point\n",
    "- un clic droit pendant le tracé d'un polygone ferme le polygone en cours\n",
    "- un clic droit à tout autre moment supprime le dernier polygone tracé\n",
    "\n",
    "**Look & feel :** \n",
    "le segment en cours (s'il existe) doit \"suivre\" le pointeur de la souris"
   ]
  },
  {
   "cell_type": "code",
   "execution_count": null,
   "id": "c124598b",
   "metadata": {},
   "outputs": [],
   "source": [
    "from fltk import *\n",
    "\n",
    "cree_fenetre(1000, 800)\n",
    "while True:\n",
    "    ev = donne_ev()\n",
    "    tev = type_ev(ev)\n",
    "    # ...\n",
    "    mise_a_jour()\n",
    "\n",
    "ferme_fenetre()"
   ]
  }
 ],
 "metadata": {
  "celltoolbar": "Diaporama",
  "kernelspec": {
   "display_name": "Python 3 (ipykernel)",
   "language": "python",
   "name": "python3"
  },
  "language_info": {
   "codemirror_mode": {
    "name": "ipython",
    "version": 3
   },
   "file_extension": ".py",
   "mimetype": "text/x-python",
   "name": "python",
   "nbconvert_exporter": "python",
   "pygments_lexer": "ipython3",
   "version": "3.10.7"
  }
 },
 "nbformat": 4,
 "nbformat_minor": 5
}
