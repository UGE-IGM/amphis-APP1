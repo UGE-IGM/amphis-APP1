{
 "cells": [
  {
   "cell_type": "markdown",
   "id": "9a136673",
   "metadata": {
    "slideshow": {
     "slide_type": "slide"
    }
   },
   "source": [
    "# Amphi du lundi 15 novembre 2021"
   ]
  },
  {
   "cell_type": "markdown",
   "id": "5fbbe3b3",
   "metadata": {
    "slideshow": {
     "slide_type": "slide"
    }
   },
   "source": [
    "**Contenu :**\n",
    "\n",
    "1. Organisation de la fin du module\n",
    "2. Problème 4 : questions, commentaires\n",
    "3. Discussion : projection de coordonnées géographiques\n",
    "4. Exercice d'entraînement `fltk` : dessiner un polygone point par point"
   ]
  },
  {
   "cell_type": "markdown",
   "id": "f34a37ab",
   "metadata": {
    "slideshow": {
     "slide_type": "slide"
    }
   },
   "source": [
    "## Organisation de la fin du module\n",
    "\n",
    "**Rappels :** \n",
    "- fin du module APP1 le **29 novembre**\n",
    "- CC2 le 29 novembre de 14h à 16h\n",
    "\n",
    "**Propositions :**\n",
    "\n",
    "- report de la date limite du problème 4 au jeudi 25 novembre 23h59\n",
    "- soutenance du problème 4 le vendredi 26 novembre 8h30\n",
    "- séance de soutien / révision le leundi 29 novembre 8h30"
   ]
  },
  {
   "cell_type": "markdown",
   "id": "a4c2c0d1",
   "metadata": {
    "slideshow": {
     "slide_type": "slide"
    }
   },
   "source": [
    "## Problème 4 : questions, commentaires\n",
    "\n",
    "`pass` # à compléter"
   ]
  },
  {
   "cell_type": "markdown",
   "id": "1e055868",
   "metadata": {
    "slideshow": {
     "slide_type": "slide"
    }
   },
   "source": [
    "## Projection de coordonnées géographiques"
   ]
  },
  {
   "cell_type": "markdown",
   "id": "87b4309b",
   "metadata": {
    "slideshow": {
     "slide_type": "subslide"
    }
   },
   "source": [
    "Proposition de décomposition du problème :\n",
    "\n",
    "- reconnaître la nécessité d'un choix de projection\n",
    "- choisir une projection\n",
    "    - projection naïve\n",
    "    - projection de Mercator\n",
    "- calcul des coordonnées extrêmes (*bounding box*)\n",
    "- calcul de l'échelle (horizontale / verticale)"
   ]
  },
  {
   "cell_type": "code",
   "execution_count": 1,
   "id": "bf2136a4",
   "metadata": {
    "slideshow": {
     "slide_type": "subslide"
    }
   },
   "outputs": [],
   "source": [
    "# quelques points du contour de la Seine-et-Marne\n",
    "points = [(2.3923284961351237, 48.335929161584076), (2.5796456483373684, 48.72254039779301), (2.6241630097148376, 49.10056541579139), (3.097802797538821, 49.11080329041811), (3.26191242353348, 48.94707797669175), (3.4474402215212865, 48.848328384354076), (3.4613763255130037, 48.634670779600604), (3.4003188237982123, 48.45958741212868), (3.0995219034980406, 48.3529392805501), (2.8310023496715675, 48.13421017601398), (2.5384374109720103, 48.14073211263637), (2.419849013684824, 48.28321626105787)]\n",
    "bbox = [2.3923284961351237, 48.12014561527111, 3.559220826259302, 49.11789167125887]"
   ]
  },
  {
   "cell_type": "code",
   "execution_count": 2,
   "id": "9fc326a8",
   "metadata": {
    "slideshow": {
     "slide_type": "subslide"
    }
   },
   "outputs": [],
   "source": [
    "from math import log, tan, pi, radians\n",
    "\n",
    "def mercator_map(point):\n",
    "    \"\"\"Spherical Mercator map of p.\"\"\"\n",
    "    long, lat = point\n",
    "    x = radians(long)\n",
    "    y = log(tan(pi/4 + radians(lat/2)))\n",
    "    return x, y"
   ]
  },
  {
   "cell_type": "code",
   "execution_count": 3,
   "id": "53951aad",
   "metadata": {},
   "outputs": [
    {
     "data": {
      "text/plain": [
       "[(0.041754009046842344, 0.9662577881284141),\n",
       " (0.045023310098230865, 0.9764470048228808),\n",
       " (0.04580028462856786, 0.9864859440930788),\n",
       " (0.05406685839454372, 0.9867588842948964),\n",
       " (0.05693111170236699, 0.982400722969732),\n",
       " (0.060169182631229126, 0.9797790436298242),\n",
       " (0.060412413530784914, 0.9741243391291218),\n",
       " (0.05934675909281972, 0.9695083752512678),\n",
       " (0.054096862453722756, 0.9667044624472626),\n",
       " (0.04941031213346466, 0.9609721051774204),\n",
       " (0.044304090677262015, 0.9611426753611592),\n",
       " (0.0422343326899375, 0.9648745284085303)]"
      ]
     },
     "execution_count": 3,
     "metadata": {},
     "output_type": "execute_result"
    }
   ],
   "source": [
    "points_fenetre = [mercator_map(p) for p in points]\n",
    "points_fenetre"
   ]
  },
  {
   "cell_type": "code",
   "execution_count": 3,
   "id": "3c404cdf",
   "metadata": {},
   "outputs": [
    {
     "name": "stderr",
     "output_type": "stream",
     "text": [
      "Bibliothèque PIL chargée.\n"
     ]
    }
   ],
   "source": [
    "from fltk import cree_fenetre, polygone, attend_ev, ferme_fenetre\n",
    "\n",
    "cree_fenetre(500, 500)\n",
    "polygone()\n",
    "attend_ev()\n",
    "ferme_fenetre()"
   ]
  },
  {
   "cell_type": "code",
   "execution_count": null,
   "id": "7ca3110b",
   "metadata": {
    "slideshow": {
     "slide_type": "subslide"
    }
   },
   "outputs": [],
   "source": [
    "def frame_map(point, origin, scale):\n",
    "    \"\"\"Screen map of point relative to (upper-left) origin and scale.\"\"\"\n",
    "    ... # à finir"
   ]
  },
  {
   "cell_type": "code",
   "execution_count": null,
   "id": "83145d68",
   "metadata": {
    "slideshow": {
     "slide_type": "subslide"
    }
   },
   "outputs": [],
   "source": [
    "def compute_frame(bbox, max_dim):\n",
    "     # à finir\n",
    "    long_min, lat_min, long_max, lat_max = bbox\n",
    "\n",
    "    # coordonnées des coins\n",
    "    xmin, ymax = ...\n",
    "    xmax, ymin = ...\n",
    "\n",
    "    # amplitude en abscisse et en ordonnée\n",
    "    dx, dy = \n",
    "\n",
    "    # échelle\n",
    "    scale = ...\n",
    "\n",
    "    return (xmin, ymax), (xmax, ymin), (dx, dy), scale"
   ]
  },
  {
   "cell_type": "markdown",
   "id": "0259ed0a",
   "metadata": {},
   "source": [
    "## Exercice d'entraînement\n",
    "\n",
    "**Objectif :** créer un programme graphique qui permet de dessiner des polygones dans une fenêtre\n",
    "\n",
    "**Interactions :** \n",
    "- le bouton \"quitter\"... quitte\n",
    "- un clic gauche \"pose\" un point\n",
    "- un clic droit pendant le tracé d'un polygone ferme le polygone en cours\n",
    "- un clic droit à tout autre moment supprime le dernier polygone tracé\n",
    "\n",
    "**Look & feel :** \n",
    "le segment en cours (s'il existe) doit \"suivre\" le pointeur de la souris"
   ]
  },
  {
   "cell_type": "code",
   "execution_count": null,
   "id": "c124598b",
   "metadata": {},
   "outputs": [],
   "source": [
    "from fltk import *\n",
    "\n",
    "polygone_courant = []\n",
    "polygones = []\n",
    "\n",
    "cree_fenetre(1000, 800)\n",
    "while True:\n",
    "    efface('ligne_temp')\n",
    "    if polygone_courant:\n",
    "        x, y = abscisse_souris(), ordonnee_souris()\n",
    "        xd, yd = polygone_courant[-1]\n",
    "        ligne(xd, yd, x, y, couleur='blue', tag='ligne_temp')\n",
    "    mise_a_jour()\n",
    "    ev = donne_ev()\n",
    "    tev = type_ev(ev)\n",
    "    if tev == 'Quitte':\n",
    "        break\n",
    "    elif tev == 'ClicGauche':\n",
    "        xn, yn = abscisse(ev), ordonnee(ev)\n",
    "        polygone_courant.append((xn, yn))\n",
    "        if len(polygone_courant) > 1:\n",
    "            xp, yp = polygone_courant[-2]\n",
    "            ligne(xp, yp, xn, yn)\n",
    "    elif tev == 'ClicDroit':\n",
    "        # Il manque la suppression !\n",
    "        if len(polygone_courant) > 1:\n",
    "            x0, y0 = polygone_courant[0]\n",
    "            xd, yd = polygone_courant[-1]\n",
    "            ligne(x0, y0, xd, yd)\n",
    "            polygones.append(polygone_courant)\n",
    "            polygone_courant = []\n",
    "\n",
    "ferme_fenetre()"
   ]
  }
 ],
 "metadata": {
  "celltoolbar": "Diaporama",
  "kernelspec": {
   "display_name": "Python 3 (ipykernel)",
   "language": "python",
   "name": "python3"
  },
  "language_info": {
   "codemirror_mode": {
    "name": "ipython",
    "version": 3
   },
   "file_extension": ".py",
   "mimetype": "text/x-python",
   "name": "python",
   "nbconvert_exporter": "python",
   "pygments_lexer": "ipython3",
   "version": "3.9.8"
  }
 },
 "nbformat": 4,
 "nbformat_minor": 5
}
