{
 "cells": [
  {
   "cell_type": "markdown",
   "id": "a2274a5c",
   "metadata": {},
   "source": [
    "# Amphi 6 - Soutien Séquence 2\n",
    "\n",
    "Contenu proposé :\n",
    "- Détection de collision, calcul de collision\n",
    "- Contrôle de framerate\n",
    "- Classe en python et programmation orientée objet (POO)\n",
    "- Session libre de question"
   ]
  },
  {
   "cell_type": "markdown",
   "id": "5c59b9a2",
   "metadata": {},
   "source": [
    "## Anatomie d'une brique\n",
    "\n",
    "**Repère de la fenêtre** : style fltk\n",
    "- ``(0, 0)`` en haut à gauche\n",
    "- l'axe ``x`` pointe vers la droite\n",
    "- l'axe ``y`` pointe vers le bas\n",
    "\n",
    "**Une brique** :\n",
    "- ``(bx, by)`` pour son sommet en haut à gauche\n",
    "- ``(cx, cy)``, avec ``cx`` son côté horizontal, et ``cy`` son côté vertical\n",
    "- Les coordonées des quatres sommets : ``(bx, by), (bx + cx, by), (bx, by + cy), (bx + cx, by + cy)``\n",
    "\n",
    "![Une brique dans le repère](img/brick.png)"
   ]
  },
  {
   "cell_type": "markdown",
   "id": "9d89fee5",
   "metadata": {},
   "source": [
    "## Anatomie d'une collision\n",
    "\n",
    "**Une boule** :\n",
    "- ``(x, y)`` : les coordonées du centre\n",
    "- ``r`` : son rayon\n",
    "\n",
    "**Deux façon** de traiter la **collision** entre la boule et une brique :\n",
    "- (Facile mais imprécis) Tester si la boule se chevauche avec la boule. Si oui, alors on a une collision et on l'exécute.\n",
    "- (Dur mais précis) Calculer le temps pour la prochaine collision, puis attendre jusqu'à la collision\n",
    "\n",
    "**Test de chevauchement** :\n",
    "- Il suffit de tester pour les quatres côtés\n",
    "- Division en 8 zones selon la position courante de la boule\n",
    "- Elément à tester pour chaque zone :\n",
    "    + Un sommet pour les quatres zones dans le coin (facile)\n",
    "    + Une arête pour les quatres zones de côté (tester une seule coordonneé)\n",
    "\n",
    "![Zone pour le chevauchement possible](img/overlap-zones.png)"
   ]
  },
  {
   "cell_type": "markdown",
   "id": "4604187a",
   "metadata": {},
   "source": [
    "## Traitement des collisions\n",
    "\n",
    "**Deux cas de collision**\n",
    "- Avec les bords de la fenêtre ou avec la raquette\n",
    "- Avec une brique\n",
    "\n",
    "**Deux façon de les traiter**\n",
    "- (Facile mais imprécis) Si la boule est en chevauchement, changer la vitesse puis faire avancer la boule\n",
    "- (Dur mais précis) Déplacer la boule à la position de collision au temps de collision calculé préalablement, changer la vitesse, puis faire avancer la boule pour le reste du frame\n",
    "\n",
    "**Changement de vitesse**\n",
    "- Collision avec un côté **horizontal**\n",
    "    + la composante horizontale invariante\n",
    "    + la composante verticale inversée\n",
    "- Collision avec un côté **vertical**\n",
    "    + la composante verticale invariante\n",
    "    + la composante horizontale inversée\n",
    "- Pour exécuter la collision, il suffit de changer la vitesse.\n",
    "\n",
    "![Changement de vitesse lors d'une collision](img/reflection.png)"
   ]
  },
  {
   "cell_type": "markdown",
   "id": "c41017c2",
   "metadata": {},
   "source": [
    "## Contrôle de framerate\n",
    "\n",
    "On veut exactement 60 frames par seconde. Que fait ?"
   ]
  },
  {
   "cell_type": "code",
   "execution_count": 5,
   "id": "5693c3f1",
   "metadata": {},
   "outputs": [],
   "source": [
    "import fltk\n",
    "from random import uniform\n",
    "\n",
    "def limited_increment(orig, delta, maximum):\n",
    "    orig += delta\n",
    "    if orig > maximum:\n",
    "        orig -= maximum\n",
    "    elif orig < 0:\n",
    "        orig += maximum\n",
    "    return orig\n",
    "\n",
    "def test_framerate():\n",
    "    fltk.cree_fenetre(600, 400)\n",
    "    x, y = 300, 200\n",
    "    vx, vy = uniform(-5, 5), uniform(-5, 5)\n",
    "    while True:\n",
    "        ev = fltk.donne_ev()\n",
    "        tev = fltk.type_ev(ev)\n",
    "        if tev == 'Quitte':\n",
    "            break\n",
    "        fltk.efface('c')\n",
    "        fltk.cercle(x, y, 10, tag='c')\n",
    "        x = limited_increment(x, vx, 600)\n",
    "        y = limited_increment(y, vy, 400)\n",
    "        fltk.mise_a_jour()\n",
    "    fltk.ferme_fenetre()\n",
    "\n",
    "test_framerate()"
   ]
  },
  {
   "cell_type": "markdown",
   "id": "16ca4c6a",
   "metadata": {},
   "source": [
    "## Mesurer le temps\n",
    "\n",
    "Pour mesurer le temps, on peut utiliser la fonction ``time`` dans le module ``time``.\n",
    "\n",
    "Mais que signifie la valeur retournée ?"
   ]
  },
  {
   "cell_type": "code",
   "execution_count": 7,
   "id": "7e848e88",
   "metadata": {},
   "outputs": [
    {
     "name": "stdout",
     "output_type": "stream",
     "text": [
      "1665934189.9528546\n"
     ]
    }
   ],
   "source": [
    "import time\n",
    "\n",
    "print(time.time())"
   ]
  },
  {
   "cell_type": "code",
   "execution_count": 8,
   "id": "03989f7e",
   "metadata": {},
   "outputs": [
    {
     "name": "stdout",
     "output_type": "stream",
     "text": [
      "Help on built-in function time in module time:\n",
      "\n",
      "time(...)\n",
      "    time() -> floating point number\n",
      "    \n",
      "    Return the current time in seconds since the Epoch.\n",
      "    Fractions of a second may be present if the system clock provides them.\n",
      "\n"
     ]
    }
   ],
   "source": [
    "help(time.time)"
   ]
  },
  {
   "cell_type": "markdown",
   "id": "ad979db7",
   "metadata": {},
   "source": [
    "**Pour toute fonction du système, on peut demander l'aide !**"
   ]
  },
  {
   "cell_type": "code",
   "execution_count": 9,
   "id": "e43bc60b",
   "metadata": {},
   "outputs": [
    {
     "name": "stdout",
     "output_type": "stream",
     "text": [
      "Help on function rectangle in module fltk:\n",
      "\n",
      "rectangle(ax, ay, bx, by, couleur='black', remplissage='', epaisseur=1, tag='')\n",
      "    Trace un rectangle noir ayant les point ``(ax, ay)`` et ``(bx, by)``\n",
      "    comme coins opposés.\n",
      "    \n",
      "    :param float ax: abscisse du premier coin\n",
      "    :param float ay: ordonnée du premier coin\n",
      "    :param float bx: abscisse du second coin\n",
      "    :param float by: ordonnée du second coin\n",
      "    :param str couleur: couleur de trait (défaut 'black')\n",
      "    :param str remplissage: couleur de fond (défaut transparent)\n",
      "    :param float epaisseur: épaisseur de trait en pixels (défaut 1)\n",
      "    :param str tag: étiquette d'objet (défaut : pas d'étiquette)\n",
      "    :return: identificateur d'objet\n",
      "\n"
     ]
    }
   ],
   "source": [
    "help(fltk.rectangle)"
   ]
  },
  {
   "cell_type": "markdown",
   "id": "34d90574",
   "metadata": {},
   "source": [
    "En fait, la fonction ``help`` affiche simplement le docstring. Donc vous voyez l'importance de docstring.\n",
    "\n",
    "Maintenant, il suffit d'intégrer la mesure du temps. Quel est votre observation ?"
   ]
  },
  {
   "cell_type": "markdown",
   "id": "ea56a982",
   "metadata": {},
   "source": [
    "## Attendre avec sleep\n",
    "\n",
    "Si le programme prend trop peu de temps pour les mise-à-jours, il faut attendre un bon moment pour continuer.\n",
    "\n",
    "On peut utiliser la fonction ``sleep`` dans le module ``time``"
   ]
  },
  {
   "cell_type": "code",
   "execution_count": 14,
   "id": "f5c86bd4",
   "metadata": {
    "scrolled": true
   },
   "outputs": [
    {
     "name": "stdout",
     "output_type": "stream",
     "text": [
      "Help on built-in function sleep in module time:\n",
      "\n",
      "sleep(...)\n",
      "    sleep(seconds)\n",
      "    \n",
      "    Delay execution for a given number of seconds.  The argument may be\n",
      "    a floating point number for subsecond precision.\n",
      "\n"
     ]
    }
   ],
   "source": [
    "help(time.sleep)"
   ]
  },
  {
   "cell_type": "markdown",
   "id": "0507cb1c",
   "metadata": {},
   "source": [
    "Alors, si on veut exactement 1 frame tous les 1/60 secondes, il suffit d'attendre un temps approprié.\n",
    "\n",
    "Si ``t`` secondes a été dépensé et que ``t`` est plus petit que 1/60, alors il faut attendre ``1.0/60 -x`` secondes"
   ]
  },
  {
   "cell_type": "markdown",
   "id": "2e11f567",
   "metadata": {},
   "source": [
    "## Classe en Python\n",
    "\n",
    "Une **classe** est comme un prototype d'objets avec les mêmes **attributs** et **méthodes**. Le nom d'une classe commence par une lettre en **majuscule** par convention.\n",
    "\n",
    "Une **instance** d'une classe est un objet avec les attributs et les méthodes **ordonnés par la classe**.\n",
    "\n",
    "Exemple : une classe ``Etudiant`` peut contenir\n",
    "- Nom (string)\n",
    "- Numéro d'étudiant (int)\n",
    "- Adresse mail de l'université (string)\n",
    "- Adresse mail privé (string)\n",
    "- Afficher les informations de l'étudiant (fonction qui affiche l'information de l'étudiant courant)\n",
    "- Envoyer un mail à l'étudiant (fonction qui prend un message et qui l'envoie à l'étudiant courant)\n",
    "- ..."
   ]
  },
  {
   "cell_type": "markdown",
   "id": "97a46bcd",
   "metadata": {},
   "source": [
    "## Anatomie d'une classe\n",
    "\n",
    "Dans une classe, **l'instance courante** s'appelle ``self``, et est toujour le premier paramètre des méthodes.\n",
    "\n",
    "Deux types d'éléments :\n",
    "\n",
    "- Attributs : en général des données\n",
    "    + Accès à l'intérieur de la classe : ``self.data`` pour l'attribut ``data`` de l'instance courante\n",
    "    + Accès à l'extérieur de la classe : ``objet.data`` pour l'attribut ``data`` d'une instance ``objet``\n",
    "- Méthodes : en général des fontions (pour les actions, pour les calcul)\n",
    "    + Défini comme ``action(self, param, ...)`` dans la classe\n",
    "    + Accès à l'intérieur de la classe : ``self.action(param, ...)`` pour la méthode ``action`` de l'instance courante\n",
    "    + Accès à l'extérieur de la classe : ``objet.action(param, ...)`` pour la méthode ``action`` d'une instance ``objet``\n",
    "\n",
    "``__init__``, méthode appelée à l'initialisation d'un objet (pas besoin de retourner une valeur !)"
   ]
  },
  {
   "cell_type": "code",
   "execution_count": null,
   "id": "64b00cd9",
   "metadata": {},
   "outputs": [],
   "source": [
    "class Etudiant:\n",
    "    ..."
   ]
  },
  {
   "cell_type": "markdown",
   "id": "af151b1c",
   "metadata": {},
   "source": [
    "## Utiliser des objets d'une classe\n",
    "\n",
    "**Avantage d'utiliser une classe**\n",
    "- Les objets compliqués (comme une boule) avec beaucoup de paramètres sont représentés d'une façon simple.\n",
    "- L'accès aux attributs d'un même objet est centralisé, avec des noms qui ont du sens.\n",
    "- Le traitement est intuitif.\n",
    "- On peut écrire beaucoup de fonctions sans pourri l'espace de nommage.\n",
    "\n",
    "**Déclarer une instance** : ``new_object = MyClass(param1, param2, ...)``\n",
    "- La méthode ``__init__`` est appelée avec un objet vide ``self``, puis les paramètres\n",
    "- L'objet ``self`` après l'exécution de ``__init__`` (qui ne retourne rien) est affecté à ``new_object``.\n",
    "\n",
    "**Utiliser les instances** : accès aux attributs et aux méthodes avec un point ``.``"
   ]
  },
  {
   "cell_type": "code",
   "execution_count": null,
   "id": "8d136708",
   "metadata": {},
   "outputs": [],
   "source": [
    "class Ball:\n",
    "    ..."
   ]
  },
  {
   "cell_type": "markdown",
   "id": "3b0f2196",
   "metadata": {},
   "source": [
    "## Questions libres\n",
    "\n",
    "???"
   ]
  },
  {
   "cell_type": "code",
   "execution_count": null,
   "id": "76b0feb8",
   "metadata": {},
   "outputs": [],
   "source": []
  }
 ],
 "metadata": {
  "kernelspec": {
   "display_name": "Python 3 (ipykernel)",
   "language": "python",
   "name": "python3"
  },
  "language_info": {
   "codemirror_mode": {
    "name": "ipython",
    "version": 3
   },
   "file_extension": ".py",
   "mimetype": "text/x-python",
   "name": "python",
   "nbconvert_exporter": "python",
   "pygments_lexer": "ipython3",
   "version": "3.10.6"
  }
 },
 "nbformat": 4,
 "nbformat_minor": 5
}
