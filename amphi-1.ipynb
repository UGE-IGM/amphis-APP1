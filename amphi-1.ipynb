{
 "cells": [
  {
   "cell_type": "markdown",
   "id": "3e2e9c21",
   "metadata": {
    "slideshow": {
     "slide_type": "slide"
    }
   },
   "source": [
    "# APP1 — Amphi 1 : Introduction et lancement du problème 1"
   ]
  },
  {
   "cell_type": "markdown",
   "id": "ab01aac2",
   "metadata": {
    "slideshow": {
     "slide_type": "slide"
    }
   },
   "source": [
    "## TODO (liste de choses à faire pour vous)\n",
    "\n",
    "- Lire ce document en entier (tâches suivantes en fin de document)"
   ]
  },
  {
   "cell_type": "markdown",
   "id": "56d46669",
   "metadata": {
    "slideshow": {
     "slide_type": "slide"
    }
   },
   "source": [
    "## Comment nous allons travailler"
   ]
  },
  {
   "cell_type": "markdown",
   "id": "2190122f",
   "metadata": {
    "slideshow": {
     "slide_type": "slide"
    }
   },
   "source": [
    "### Principe\n",
    "\n",
    "-   Quatre *problèmes* sur 9 semaines, répartis en quatre *séquences*\n",
    "\n",
    "![sequences-ipe.png](img/sequences-ipe.png)"
   ]
  },
  {
   "cell_type": "markdown",
   "id": "4c47a51e",
   "metadata": {
    "slideshow": {
     "slide_type": "subslide"
    }
   },
   "source": [
    "Travail par petits groupes\n",
    "-   deux ou trois étudiants\n",
    "-   tirés au sort **dans un même groupe de TP**\n",
    "-   différents pour chaque problème"
   ]
  },
  {
   "cell_type": "markdown",
   "id": "4516b028",
   "metadata": {
    "slideshow": {
     "slide_type": "subslide"
    }
   },
   "source": [
    "Pas de *cours* proprement dit, pas d’exercices d’entraînement…  \n",
    "mais accès aux ressources de l’UE AP1"
   ]
  },
  {
   "cell_type": "markdown",
   "id": "9ce64feb",
   "metadata": {
    "slideshow": {
     "slide_type": "subslide"
    }
   },
   "source": [
    "Évaluation théorique commune avec AP1\n",
    "\n",
    "- CC1 en semaine 45 (semaine du 07/11)\n",
    "- CC2 en semaine 48 (semaine du 28/11)\n",
    "\n",
    "Donc il faut qussi voir les ressources d'AP1 !"
   ]
  },
  {
   "cell_type": "markdown",
   "id": "f87da775",
   "metadata": {
    "slideshow": {
     "slide_type": "slide"
    }
   },
   "source": [
    "### Organisation d’une séquence typique\n",
    "\n",
    "![une-sequence.png](img/une-sequence.png)"
   ]
  },
  {
   "cell_type": "markdown",
   "id": "3450df15",
   "metadata": {
    "slideshow": {
     "slide_type": "slide"
    }
   },
   "source": [
    "1.  Amphi de lancement (lundi 14h)\n",
    "    -   (Bilan de la séquence précédente)\n",
    "    -   Présentation d’un nouveau problème\n",
    "    -   Tirage des groupes pour la nouvelle séquence"
   ]
  },
  {
   "cell_type": "markdown",
   "id": "8700e785",
   "metadata": {
    "slideshow": {
     "slide_type": "subslide"
    }
   },
   "source": [
    "2.  Travail autonome (mardi à jeudi)\n",
    "    -   Réflexion *individuelle* sur le problème\n",
    "    -   Lecture de documentation, recherches, essais\n",
    "   \n",
    "\n",
    "3.  Sprint 1 (vendredi 8h30)\n",
    "    -   Mise en commun des recherches dans chaque trinôme\n",
    "    -   Soutien des enseignants, résolution de difficultés"
   ]
  },
  {
   "cell_type": "markdown",
   "id": "a5ecc7e4",
   "metadata": {
    "slideshow": {
     "slide_type": "subslide"
    }
   },
   "source": [
    "4.  Travail autonome (samedi et dimanche)\n",
    "    -   Collaboration à distance (Discord, GitHub)\n",
    "\n",
    "\n",
    "5.  Sprint 2 + évaluation d’étape (lundi 8h30)"
   ]
  },
  {
   "cell_type": "markdown",
   "id": "89c16490",
   "metadata": {
    "slideshow": {
     "slide_type": "subslide"
    }
   },
   "source": [
    "6.  Amphi d’étape (lundi 14h)\n",
    "    -   Questions / réponses, difficultés fréquentes…\n",
    "    -   Apports supplémentaires (si nécessaire)"
   ]
  },
  {
   "cell_type": "markdown",
   "id": "c40db3ed",
   "metadata": {
    "slideshow": {
     "slide_type": "subslide"
    }
   },
   "source": [
    "7.  Travail autonome (mardi à jeudi)\n",
    "\n",
    "\n",
    "8.  Sprint 3 (vendredi 8h30)"
   ]
  },
  {
   "cell_type": "markdown",
   "id": "dc437537",
   "metadata": {
    "slideshow": {
     "slide_type": "subslide"
    }
   },
   "source": [
    "9.  Travail autonome (samedi et dimanche)\n",
    "    -   **Clôture des dépôt** le dimanche à 23h59\n",
    "    \n",
    "    \n",
    "10. Évaluation finale (lundi 8h30)\n",
    "    -   Heures de passages gérées par chargés de TP"
   ]
  },
  {
   "cell_type": "markdown",
   "id": "a2c73903",
   "metadata": {
    "slideshow": {
     "slide_type": "subslide"
    }
   },
   "source": [
    "11. Amphi de clôture (lundi 14h)\n",
    "    -   Bilan de la séquence\n",
    "    -   (Présentation de la séquence suivante)"
   ]
  },
  {
   "cell_type": "markdown",
   "id": "dd9a47c8",
   "metadata": {
    "slideshow": {
     "slide_type": "subslide"
    }
   },
   "source": [
    "### Environnement technique\n",
    "\n",
    "-   Programmation en Python (3.x), IDE au choix\n",
    "-   Interface graphique FLTK (surcouche simplifiée de `tkinter`)\n",
    "-   Collaboration et remise de travaux : Git + GitHub"
   ]
  },
  {
   "cell_type": "markdown",
   "id": "8ffff345",
   "metadata": {
    "slideshow": {
     "slide_type": "slide"
    }
   },
   "source": [
    "## Évaluation"
   ]
  },
  {
   "cell_type": "markdown",
   "id": "4569702b",
   "metadata": {
    "slideshow": {
     "slide_type": "subslide"
    }
   },
   "source": [
    "### Évaluation pratique\n",
    "\n",
    "Note sur l’ensemble de chaque séquence (pas nécessairement la même pour chaque membre du groupe)"
   ]
  },
  {
   "cell_type": "markdown",
   "id": "6d033c10",
   "metadata": {
    "slideshow": {
     "slide_type": "subslide"
    }
   },
   "source": [
    "#### Structure des problèmes\n",
    "\n",
    "- Plutôt *ouverts* : possibilité d'améliorations ou explorations originales\n",
    "- Peu guidés : pas de simples exercices “faites ci, puis ça” \n",
    "- Découpés en une partie obligatoire (détaillée dans le sujet) et des améliorations supplémentaires (suggérées ou laissées à votre imagination)"
   ]
  },
  {
   "cell_type": "markdown",
   "id": "c0980cb8",
   "metadata": {
    "slideshow": {
     "slide_type": "slide"
    }
   },
   "source": [
    "#### Fixer ses priorités\n",
    "\n",
    "-   Il est possible d’obtenir la moyenne et de valider l’UE en ne\n",
    "    traitant que la partie obligatoire de chaque problème\n",
    "-   Il est préférable de fournir une solution de bonne qualité à la\n",
    "    partie obligatoire et très peu ou pas d’améliorations que le\n",
    "    contraire"
   ]
  },
  {
   "cell_type": "markdown",
   "id": "1682581b",
   "metadata": {
    "slideshow": {
     "slide_type": "slide"
    }
   },
   "source": [
    "#### Critères d’évaluation collectifs\n",
    "\n",
    "-   Fonctionnalités de base\n",
    "-   Fonctionnalités supplémentaires, originalité\n",
    "-   Qualité du code (conventions,\n",
    "    documentation, structure…)\n",
    "-   Qualité algorithmique (structures de données,\n",
    "    modélisation, performance…)"
   ]
  },
  {
   "cell_type": "markdown",
   "id": "dff7c74f",
   "metadata": {
    "slideshow": {
     "slide_type": "subslide"
    }
   },
   "source": [
    "#### Critère d'évaluation personnel\n",
    "\n",
    "-   Attitude, assiduité, participation, prise d’initiative…"
   ]
  },
  {
   "cell_type": "markdown",
   "id": "8af613bc",
   "metadata": {
    "slideshow": {
     "slide_type": "subslide"
    }
   },
   "source": [
    "#### Appréciations\n",
    "\n",
    "Chaque critère est évalué comme :\n",
    "\n",
    "-   Absent ou non applicable\n",
    "-   Exigences non atteintes\n",
    "-   Exigences atteintes\n",
    "-   Exigences dépassées"
   ]
  },
  {
   "cell_type": "markdown",
   "id": "dbd4319b",
   "metadata": {
    "slideshow": {
     "slide_type": "subslide"
    }
   },
   "source": [
    "#### Moments d'évaluation\n",
    "\n",
    "Suivi du travail tout au long des sprints + démo finale le dernier lundi de la séquence\n",
    "\n",
    "Horaire de présentation annoncé à l'avance"
   ]
  },
  {
   "cell_type": "markdown",
   "id": "26f4bfa9",
   "metadata": {
    "slideshow": {
     "slide_type": "slide"
    }
   },
   "source": [
    "### Évaluation théorique\n",
    "\n",
    "-   Mêmes devoirs sur table que les étudiants suivant AP1 (semaines 44 et 48)\n",
    "-   Accès à l’intégralité du matériel pédagogique d’AP1 (également utile pour résoudre les problèmes d’APP1)"
   ]
  },
  {
   "cell_type": "markdown",
   "id": "54f10b90",
   "metadata": {
    "slideshow": {
     "slide_type": "slide"
    }
   },
   "source": [
    "### Note finale et remédiation\n",
    "\n",
    "- Au cours de l’UE : quatre notes pratiques ($P_1$, $P_2$…), deux notes théoriques ($T_1$, $T_2$)\n",
    "\n",
    "- À la fin : moyennes intermédiaires $P$ (à partir des notes pratiques) et $T$ (à partir des notes théoriques)\n",
    "\n",
    "- Note finale de l’UE : $(P + T) / 2$."
   ]
  },
  {
   "cell_type": "markdown",
   "id": "19fdc890",
   "metadata": {
    "slideshow": {
     "slide_type": "slide"
    }
   },
   "source": [
    "### En cas de difficulté\n",
    "\n",
    "Si vous êtes perdu·e, ou que le mode de travail ne vous convient pas, en\n",
    "parler *dès que possible* à Wenjie Fang ou un autre enseignant pour\n",
    "chercher une solution"
   ]
  },
  {
   "cell_type": "markdown",
   "id": "9d242135",
   "metadata": {
    "slideshow": {
     "slide_type": "slide"
    }
   },
   "source": [
    "## Quelques éléments pour aborder le problème 1"
   ]
  },
  {
   "cell_type": "markdown",
   "id": "43c761b7",
   "metadata": {
    "slideshow": {
     "slide_type": "slide"
    }
   },
   "source": [
    "### Bibliothèque graphique simplifiée : FLTK\n",
    "\n",
    "https://antoinemeyer.frama.io/fltk/\n",
    "\n",
    "Seul interdit (ou presque) dans ce problème : utiliser la fonction `image`\n",
    "\n",
    "**Travail à faire :** lire la documentation et essayer quelques exemples sur votre machine"
   ]
  },
  {
   "cell_type": "markdown",
   "id": "8ca674af",
   "metadata": {
    "slideshow": {
     "slide_type": "slide"
    }
   },
   "source": [
    "### Représentation informatique d'une image\n",
    "\n",
    "#### Concept général\n",
    "\n",
    "Une image est vue comme un tableau (ou une grille) de points colorés (*pixels* pour *picture elements*)\n",
    "\n",
    "![Un écran d'ordinateur ancien](img/rgb.png)"
   ]
  },
  {
   "cell_type": "markdown",
   "id": "2797fc70",
   "metadata": {
    "slideshow": {
     "slide_type": "subslide"
    }
   },
   "source": [
    "#### Coder une couleur au format RGB\n",
    "\n",
    "Couleur d'ensemble du pixel : mélange des trois couleurs rouge, vert et bleu (synthèse additive)\n",
    "\n",
    "![Synthèse additive](img/synthese-additive.png)"
   ]
  },
  {
   "cell_type": "markdown",
   "id": "5a166e61",
   "metadata": {
    "slideshow": {
     "slide_type": "subslide"
    }
   },
   "source": [
    "Représentation numérique : trois nombres réels (en pourcents)\n",
    "- intensité lumineuse de la diode rouge\n",
    "- intensité lumineuse de la diode verte\n",
    "- intensité lumineuse de la diode bleue\n",
    "\n",
    "**Exemple :** $(100\\%, 100\\%, 0\\%)$ ou $(1, 1, 0)$ représente du jaune, $(1, 1, 1)$ représente du blanc"
   ]
  },
  {
   "cell_type": "markdown",
   "id": "577b0b7d",
   "metadata": {
    "slideshow": {
     "slide_type": "subslide"
    }
   },
   "source": [
    "Représentation numérique simplifiée : trois entiers (entre 0 et N)\n",
    "\n",
    "Souvent (mais pas toujours), N = 255\n",
    "\n",
    "- 0 correspond à 0% d'intensité, 255 correspond à 100%\n",
    "- espace nécessaire : 3 octets (24 bits)\n",
    "- nombre total de couleurs représentables : $256^3 \\approx 16 M$\n",
    "\n",
    "**Exemple :** $(255, 255, 0)$ représente du jaune, $(255, 255, 255)$ représente du blanc"
   ]
  },
  {
   "cell_type": "markdown",
   "id": "558d2332",
   "metadata": {
    "slideshow": {
     "slide_type": "subslide"
    }
   },
   "source": [
    "Représentation dans `fltk` (et aussi en HTML) : chaîne hexadécimale\n",
    "\n",
    "1. On convertit chaque composante (entre 0 et 255) en hexadécimal\n",
    "2. On écrit bout à bout les trois composantes\n",
    "3. On ajoute un dièse (#) au début\n",
    "\n",
    "**Exemple :** `\"#ffff00\"`représente du jaune, `\"#ffffff\"` représente du blanc"
   ]
  },
  {
   "cell_type": "markdown",
   "id": "ff50be47",
   "metadata": {
    "slideshow": {
     "slide_type": "slide"
    }
   },
   "source": [
    "### Git et GitHub\n",
    "\n",
    "https://rogerdudler.github.io/git-guide/index.fr.html\n",
    "\n",
    "**Démo :** comment créer son équipe et son dépôt Git sur le problème 1\n",
    "\n",
    "**Démo :** lecture commentée du Problème 1 : afficher des images PPM"
   ]
  },
  {
   "cell_type": "markdown",
   "id": "07ddd240",
   "metadata": {
    "slideshow": {
     "slide_type": "slide"
    }
   },
   "source": [
    "### Listes (et listes de listes)\n",
    "\n",
    "[Doc officielle Python](https://docs.python.org/fr/3/tutorial/introduction.html#lists)"
   ]
  },
  {
   "cell_type": "markdown",
   "id": "d8f5337a",
   "metadata": {
    "slideshow": {
     "slide_type": "subslide"
    }
   },
   "source": [
    "Un petit exemple avec des liste de listes : table d'addition"
   ]
  },
  {
   "cell_type": "code",
   "execution_count": 64,
   "id": "7dd0c193",
   "metadata": {
    "slideshow": {
     "slide_type": "-"
    }
   },
   "outputs": [],
   "source": [
    "def addition(taille):\n",
    "    table = []\n",
    "    for a in range(1, taille+1):\n",
    "        ligne = []\n",
    "        for b in range(1, taille+1):\n",
    "            ligne.append(a+b)\n",
    "        table.append(ligne)\n",
    "    return table"
   ]
  },
  {
   "cell_type": "code",
   "execution_count": 66,
   "id": "8d4df6e4",
   "metadata": {
    "slideshow": {
     "slide_type": "subslide"
    }
   },
   "outputs": [
    {
     "data": {
      "text/plain": [
       "[[2, 3, 4, 5], [3, 4, 5, 6], [4, 5, 6, 7], [5, 6, 7, 8]]"
      ]
     },
     "execution_count": 66,
     "metadata": {},
     "output_type": "execute_result"
    }
   ],
   "source": [
    "addition(4)"
   ]
  },
  {
   "cell_type": "markdown",
   "id": "0f9f6ece",
   "metadata": {
    "slideshow": {
     "slide_type": "slide"
    }
   },
   "source": [
    "### Lecture de fichiers\n",
    "\n",
    "\n",
    "\n",
    "Il est très facile de consulter le contenu d'un fichier texte en Python, et de le modifier ([doc officielle Python](https://docs.python.org/fr/3/tutorial/inputoutput.html#reading-and-writing-files))"
   ]
  },
  {
   "cell_type": "markdown",
   "id": "160f9a74",
   "metadata": {
    "slideshow": {
     "slide_type": "subslide"
    }
   },
   "source": [
    "Ouverture d'un fichier : `f = open(chemin, mode)`\n",
    "\n",
    "- Paramètre `chemin` (chaîne de caractère) :  \n",
    "  nom (absolu ou relatif) d'un fichier\n",
    "- Paramètre `mode` (chaîne de caractère) :\n",
    "  - lecture seule : `'r'` (par défaut)\n",
    "  - écriture (crée / écrase le fichier) : `'w'`\n",
    "  - ajout (écrit à la fin) : `'a'`\n",
    "  - *autres modes possibles pour fichiers binaires*"
   ]
  },
  {
   "cell_type": "markdown",
   "id": "46a9d08a",
   "metadata": {
    "slideshow": {
     "slide_type": "subslide"
    }
   },
   "source": [
    "Fermeture : `f.close()`"
   ]
  },
  {
   "cell_type": "markdown",
   "id": "60489212",
   "metadata": {
    "slideshow": {
     "slide_type": "subslide"
    }
   },
   "source": [
    "Lecture (mode `'r'`) :\n",
    "\n",
    "-   Tout lire d'un coup (une seule chaîne) :  \n",
    "    `contenu = f.read()`  \n",
    "    **Attention :** charge tout le fichier en mémoire !  \n",
    "    **Attention :** inclut les retours à la ligne"
   ]
  },
  {
   "cell_type": "markdown",
   "id": "6ec1b4e1",
   "metadata": {
    "slideshow": {
     "slide_type": "subslide"
    }
   },
   "source": [
    "-   Liste des lignes (liste de chaînes) :  \n",
    "    `lst_lignes = f.readlines()`  \n",
    "    **Attention :** charge tout le fichier en mémoire !  \n",
    "    **Attention :** inclut les retours à la ligne"
   ]
  },
  {
   "cell_type": "markdown",
   "id": "8f4f0508",
   "metadata": {
    "slideshow": {
     "slide_type": "subslide"
    }
   },
   "source": [
    "    \n",
    "-   Prochaine ligne : `ligne = f.readline()`  \n",
    "    **Attention :** renvoie une chaîne vide à la fin"
   ]
  },
  {
   "cell_type": "markdown",
   "id": "7b2f4d01",
   "metadata": {
    "slideshow": {
     "slide_type": "subslide"
    }
   },
   "source": [
    "-   Parcours ligne par ligne : `for ligne in f: ...`"
   ]
  },
  {
   "cell_type": "code",
   "execution_count": 2,
   "id": "25971789",
   "metadata": {
    "slideshow": {
     "slide_type": "subslide"
    }
   },
   "outputs": [
    {
     "name": "stdout",
     "output_type": "stream",
     "text": [
      "ceci est la ligne 1\n",
      "ceci  est   la  ligne    2\n",
      "ceci est la ligne 3\n"
     ]
    }
   ],
   "source": [
    "f = open('tmp/test.txt', 'r')\n",
    "for ligne in f:\n",
    "    # strip supprime les espaces avant et après la chaîne\n",
    "    print(ligne.strip()) \n",
    "f.close()"
   ]
  },
  {
   "cell_type": "markdown",
   "id": "d859cf13",
   "metadata": {
    "slideshow": {
     "slide_type": "subslide"
    }
   },
   "source": [
    "À méditer : comment faire pour\n",
    "\n",
    "- construire une liste dont chaque élément est une liste des mots d'une ligne ?\n",
    "- construire une liste unique contenant tous les mots du texte ?"
   ]
  },
  {
   "cell_type": "code",
   "execution_count": 3,
   "id": "bab89ba5",
   "metadata": {
    "slideshow": {
     "slide_type": "subslide"
    }
   },
   "outputs": [
    {
     "name": "stdout",
     "output_type": "stream",
     "text": [
      "['ceci', 'est', 'la', 'ligne', '1']\n",
      "['ceci', 'est', 'la', 'ligne', '2']\n",
      "['ceci', 'est', 'la', 'ligne', '3']\n"
     ]
    }
   ],
   "source": [
    "f = open('tmp/test.txt', 'r')\n",
    "for ligne in f:\n",
    "    # astuce : découper chaque ligne selon les blancs\n",
    "    print(ligne.split()) \n",
    "f.close()"
   ]
  },
  {
   "cell_type": "code",
   "execution_count": 4,
   "id": "707b6f80",
   "metadata": {},
   "outputs": [
    {
     "name": "stdout",
     "output_type": "stream",
     "text": [
      "['ceci', 'est', 'la', 'ligne', '1', 'ceci', 'est', 'la', 'ligne', '2', 'ceci', 'est', 'la', 'ligne', '3']\n"
     ]
    }
   ],
   "source": [
    "f = open('tmp/test.txt', 'r')\n",
    "contenu = f.read()\n",
    "print(contenu.split())\n",
    "f.close()"
   ]
  },
  {
   "cell_type": "markdown",
   "id": "d8971dc7",
   "metadata": {
    "slideshow": {
     "slide_type": "slide"
    }
   },
   "source": [
    "### Lancement d’un programme en ligne de commande\n",
    "\n",
    "Dans un système de type UNIX / Linux etc. on travaille beaucoup en *ligne de commande* (ou \"terminal\")\n",
    "\n",
    "Pour manier Git *et* pour lancer vos programmes, vous devez apprendre à vous en servir\n",
    "\n",
    "**Démo :** le programme `cat`\n",
    "\n",
    "On peut aussi créer ses propres programmes en ligne de commande en Python\n",
    "([doc officielle Python](https://docs.python.org/fr/3/tutorial/stdlib.html#command-line-arguments))"
   ]
  },
  {
   "cell_type": "markdown",
   "id": "08c3a080",
   "metadata": {
    "slideshow": {
     "slide_type": "slide"
    }
   },
   "source": [
    "## TODO (suite)\n",
    "\n",
    "- Créer un compte [GitHub](https://github.com)\n",
    "- Accéder au [problème 1 sur GitHub classroom](https://classroom.github.com/g/XMvPD76O)"
   ]
  },
  {
   "cell_type": "markdown",
   "id": "1ac7b54d",
   "metadata": {
    "slideshow": {
     "slide_type": "subslide"
    }
   },
   "source": [
    "- Rejoindre l'équipe appelée `app1-pb1-numero-nom1-nom2-nom3` où `nom1`, `nom2` et `nom3` sont les noms des membres de l'équipe dans l'ordre alphabétique (ou la créer si nécessaire)  \n",
    "  Attention, ne vous trompez pas d'équipe, vous ne pourrez pas en changer !"
   ]
  },
  {
   "cell_type": "markdown",
   "id": "e44eb10c",
   "metadata": {
    "slideshow": {
     "slide_type": "subslide"
    }
   },
   "source": [
    "- Relire *en détail* le sujet du problème 1\n",
    "\n",
    "- Faire une copie du dépôt `git` de votre équipe pour le problème 1  \n",
    "  ```shell\n",
    "  git clone https://github.com/UGE-L1-MI/nom_de_votre_depot\n",
    "  ```\n",
    "  (depuis le terminal, dans un répertoire approprié)"
   ]
  },
  {
   "cell_type": "markdown",
   "id": "a437318a",
   "metadata": {
    "slideshow": {
     "slide_type": "subslide"
    }
   },
   "source": [
    "- Lire la [doc FLTK](https://antoinemeyer.frama.io/fltk/)\n",
    "- Installer Python et un éditeur sur votre machine personnelle si nécessaire\n",
    "- Commencer à réfléchir !"
   ]
  },
  {
   "cell_type": "markdown",
   "id": "766fd205",
   "metadata": {
    "slideshow": {
     "slide_type": "subslide"
    }
   },
   "source": [
    "En cas de besoin : demandez de l'aide par mail ou [sur Discord???](https://discord.gg/2A2gEhne3z)\n",
    "    \n",
    "Vos enseignants :\n",
    "- Wenjie Fang (c'est moi) <wenjie.fang@univ-eiffel.fr>\n",
    "- Cyril Nicaud <cyril.nicaud@univ-eiffel.fr>\n",
    "- ???"
   ]
  },
  {
   "cell_type": "code",
   "execution_count": null,
   "id": "69c7302e",
   "metadata": {},
   "outputs": [],
   "source": []
  }
 ],
 "metadata": {
  "celltoolbar": "Diaporama",
  "kernelspec": {
   "display_name": "Python 3 (ipykernel)",
   "language": "python",
   "name": "python3"
  },
  "language_info": {
   "codemirror_mode": {
    "name": "ipython",
    "version": 3
   },
   "file_extension": ".py",
   "mimetype": "text/x-python",
   "name": "python",
   "nbconvert_exporter": "python",
   "pygments_lexer": "ipython3",
   "version": "3.10.4"
  }
 },
 "nbformat": 4,
 "nbformat_minor": 5
}
