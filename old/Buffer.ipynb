{
 "cells": [
  {
   "cell_type": "markdown",
   "metadata": {},
   "source": [
    "- Sujets concernant la soutenance\n",
    "    - La modalité\n",
    "    - Qu'est-ce qu'on attend ?\n",
    "    - Structure de la soutenance\n",
    "\n"
   ]
  },
  {
   "cell_type": "markdown",
   "metadata": {},
   "source": [
    "## Soutenance\n",
    "\n",
    "### Modalité\n",
    "\n",
    "- Temps : 2 heures / 8 $\\approx$ 15 minutes par groupe\n",
    "- Constitution : Explication par le groupe + questions de chargé de TP\n",
    "\n",
    "### Le contenu attendu (ce qu'on veut savoir)\n",
    "\n",
    "- Un petit démo, explication du travail effectué (partie obligatoire, partie complémentaire)\n",
    "- Conception du programme\n",
    "    - Structure de données (comment les données sont représentées dans le programme, avec quel type de variable)\n",
    "    - Organisation des fonctions (comment vous faites marcher votre code, avec quelles fonctions pour chaque tâche)\n",
    "- Partage de travail (comment vous travaillez, qui s'occupe de quoi)\n",
    "\n",
    "### Quelques conseils\n",
    "\n",
    "- Bien répéter\n",
    "- Discuter le partage de parole\n",
    "- Préparer et tester le démo avant"
   ]
  },
  {
   "cell_type": "markdown",
   "metadata": {},
   "source": [
    "## Configurer sa machine\n",
    "\n",
    "Pour faire simple, quel que soit votre OS :\n",
    "\n",
    "- [Anaconda](https://www.anaconda.com/products/individual) pour installer Python 3 et un éditeur (Spyder ou Visual Studio Code par exemple)\n",
    "- [Git](https://git-scm.com/downloads), plus éventuellement une interface graphique pour vous simplifier la vie, par exemple [GitHub desktop](https://desktop.github.com/) ou git-gui (fourni avec Git)"
   ]
  },
  {
   "cell_type": "markdown",
   "metadata": {},
   "source": [
    "## Git / GitHub\n",
    "\n",
    "Je n'arrive pas à me connecter (dans le terminal)\n",
    "\n",
    "- Solution 1 : créer une clé pour [l'accès ssh](https://docs.github.com/en/authentication/connecting-to-github-with-ssh/generating-a-new-ssh-key-and-adding-it-to-the-ssh-agent) et puis [l'ajouter sur GitHub](https://docs.github.com/en/authentication/connecting-to-github-with-ssh/adding-a-new-ssh-key-to-your-github-account). C'est le plus facile sur Linux (donc tous les machines de la fac).\n",
    "\n",
    "- Solution 2 : ne pas utiliser le terminal mais plutôt GitHub desktop ou VS Code"
   ]
  }
 ],
 "metadata": {
  "language_info": {
   "name": "python"
  }
 },
 "nbformat": 4,
 "nbformat_minor": 2
}
