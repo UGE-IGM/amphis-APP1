{
 "cells": [
  {
   "cell_type": "markdown",
   "id": "39cc0b74",
   "metadata": {},
   "source": [
    "# APP1 — Problème 1 — Amphi n° 3"
   ]
  },
  {
   "cell_type": "markdown",
   "id": "6ecb65c3",
   "metadata": {},
   "source": [
    "## Rappel\n",
    "\n",
    "CC0 le **jeudi 25 septembre à 10h45, amphi A1**. Programme de révision : semaines 1 à 3 d'AP1"
   ]
  },
  {
   "cell_type": "markdown",
   "id": "27d8180d",
   "metadata": {},
   "source": [
    "## Discussion sur le problème 1\n",
    "\n",
    "### Idées d'améliorations pour vos programmes\n",
    "\n",
    "- Charger plusieurs images et pouvoir passer d'une image à l'autre (ouvrir un répertoire ??)\n",
    "- Fusionner / superposer deux images. Masques ??\n",
    "- Éditer l'image comme dans MS Paint\n",
    "- Convertir entre les différents formats (recommandé par AM !)\n",
    "- Appliquer des filtres à l'image\n",
    "- Faire un diaporama avec des transitions\n",
    "- Redimensionner la fenêtre\n",
    "- Sauvegarder l'image\n",
    "- Explorer d'autres formats (BMP, TIFF, GIF, PNG...)"
   ]
  },
  {
   "cell_type": "markdown",
   "id": "15a7f4ed",
   "metadata": {},
   "source": [
    "### Préparer le code final\n",
    "\n",
    "- Figer la liste des fonctionnalités\n",
    "- *Si nécessaire :* fusionner les contributions, nettoyer le dépôt Git\n",
    "- Corriger les derniers bugs ou maladresses (redondances, hack \"sale\"...)\n",
    "    - *Si nécessaire :* Introduire des variables globales pour rendre le programme facile à paramétrer\n",
    "    - Structurer le programme selon les recommandations d'usage\n",
    "    - Découper en fonctions simples, courtes et de rôle clair\n",
    "    - Passer le programme au toilettage ([pylama](https://klen.github.io/pylama/), etc.)\n",
    "- Inclure des docstrings et doctests, éventuellement générer de la documentation"
   ]
  },
  {
   "cell_type": "markdown",
   "id": "9d4b8255",
   "metadata": {},
   "source": [
    "### Préparer la démonstration\n",
    "\n",
    "- Choisir ce que l'on veut montrer et dire\n",
    "    - Fonctionnalités principales\n",
    "    - *Éventuellement :* fonctionnalités absentes\n",
    "    - Remarques sur l'implémentation\n",
    "    - *Éventuellement :* un ou deux détails marquants sur le code\n",
    "- Décider qui montre (ou qui dit) quoi, et dans quel ordre\n",
    "    - Préparer une petite fiche si nécessaire\n",
    "- S'assurer que le programme tourne sur les machines de la fac (ou la machine personnelle choisie)"
   ]
  },
  {
   "cell_type": "markdown",
   "id": "df45ed9c",
   "metadata": {},
   "source": [
    "### En attendant sa démo, et après\n",
    "\n",
    "Piocher des activités dans le matériel d'AP1, et travailler sans gêner les autres"
   ]
  },
  {
   "cell_type": "markdown",
   "id": "32c728c7",
   "metadata": {},
   "source": [
    "## Sujets au choix (liste non limitative)\n",
    "\n",
    "- ~~Simuler un conflit sur Git~~\n",
    "- ~~Bonnes pratiques de programmation~~\n",
    "- ~~Représentation des listes (et listes de listes) en mémoire~~\n",
    "- ~~Conversions entre bases sur les entiers (suite)~~\n",
    "- Travailler sur un fichier texte (ou binaire) dans un programme\n",
    "- Traiter les paramètres en ligne de commande d'un programme\n",
    "- Chaînes de documentation (docstrings) contenant des tests (doctests)\n",
    "- Afficher une grille carrée en `fltk`\n",
    "- Récupérer un clic sur la grille et déterminer sa case\n",
    "- Quelques exemples de programmes `fltk` avec événements\n",
    "- *à compléter par vos propositions ou besoins*"
   ]
  },
  {
   "cell_type": "markdown",
   "id": "57a6d890",
   "metadata": {},
   "source": []
  }
 ],
 "metadata": {
  "kernelspec": {
   "display_name": "Python 3 (ipykernel)",
   "language": "python",
   "name": "python3"
  },
  "language_info": {
   "codemirror_mode": {
    "name": "ipython",
    "version": 3
   },
   "file_extension": ".py",
   "mimetype": "text/x-python",
   "name": "python",
   "nbconvert_exporter": "python",
   "pygments_lexer": "ipython3",
   "version": "3.13.3"
  }
 },
 "nbformat": 4,
 "nbformat_minor": 5
}
