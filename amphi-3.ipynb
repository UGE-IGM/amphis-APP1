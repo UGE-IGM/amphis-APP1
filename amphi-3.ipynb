{
 "cells": [
  {
   "cell_type": "markdown",
   "id": "ea1fbf92",
   "metadata": {
    "slideshow": {
     "slide_type": "slide"
    }
   },
   "source": [
    "# APP1 - Amphi 3"
   ]
  },
  {
   "cell_type": "markdown",
   "id": "3cb9059a",
   "metadata": {},
   "source": [
    "## Rappels divers\n",
    "\n",
    "- **CC0 obligatoire ce jeudi 10h45 à l'amphi A1**\n",
    "- Questionnaire de suivi sur e-learning"
   ]
  },
  {
   "cell_type": "markdown",
   "id": "baae8f4d",
   "metadata": {},
   "source": [
    "## Rappel sur l'évaluation pratique"
   ]
  },
  {
   "cell_type": "markdown",
   "id": "1682581b",
   "metadata": {
    "slideshow": {
     "slide_type": "subslide"
    }
   },
   "source": [
    "### Critères d’évaluation collectifs\n",
    "\n",
    "-   Fonctionnalités de base\n",
    "-   Fonctionnalités supplémentaires, originalité\n",
    "-   Qualité du code (style de code, conventions, documentation, structure…)\n",
    "-   Qualité algorithmique (structures de données, modélisation, performance…)"
   ]
  },
  {
   "cell_type": "markdown",
   "id": "dff7c74f",
   "metadata": {
    "slideshow": {
     "slide_type": "subslide"
    }
   },
   "source": [
    "### Critère d'évaluation individuelle\n",
    "\n",
    "- Attitude, assiduité, participation, prise d’initiative…\n",
    "- Agir de façon proportionnelle sur l'évaluation finale !"
   ]
  },
  {
   "cell_type": "markdown",
   "id": "8af613bc",
   "metadata": {
    "slideshow": {
     "slide_type": "subslide"
    }
   },
   "source": [
    "### Appréciations\n",
    "\n",
    "Chaque critère est évalué comme :\n",
    "\n",
    "-   Absent ou non applicable\n",
    "-   Exigences non atteintes\n",
    "-   Exigences atteintes\n",
    "-   Exigences dépassées\n",
    "\n",
    "Il ne s'agit pas d'une note mais d'une **appréciation** !"
   ]
  },
  {
   "cell_type": "markdown",
   "id": "56130319",
   "metadata": {
    "slideshow": {
     "slide_type": "slide"
    }
   },
   "source": [
    "## Bilan des travaux réalisés"
   ]
  },
  {
   "cell_type": "markdown",
   "id": "6eff9f6c",
   "metadata": {},
   "source": [
    "### Quelques observations\n",
    "\n",
    "- **Travailler aussi entre les séances !!**\n",
    "- Communiquer plus sur Discord et par mail pour travailler ensemble\n",
    "- Bien partager le travail, éviter le déséquilibre !\n",
    "- Bien réfléchir sur des façons simples à faire les choses.\n",
    "- Docstring est bien, il faut les mettre.\n",
    "- Pas bien d'utiliser ``del`` sur les listes ! On préfère les slices ``lst[start:end]`` ou des décalages manuels.\n",
    "- Tableau 1D ou 2D de pixels, ça dépend ce qu'on veut faire."
   ]
  },
  {
   "cell_type": "markdown",
   "id": "bf6d6f00",
   "metadata": {
    "slideshow": {
     "slide_type": "slide"
    }
   },
   "source": [
    "### Exemples de productions\n",
    "\n",
    "Deux démos (prises un peu au hasard), commentaire de code."
   ]
  },
  {
   "cell_type": "markdown",
   "id": "b8818ee0",
   "metadata": {
    "slideshow": {
     "slide_type": "subslide"
    }
   },
   "source": [
    "Ce qui vous a plu :\n",
    "\n",
    "- ???"
   ]
  },
  {
   "cell_type": "markdown",
   "id": "6c4de89b",
   "metadata": {
    "slideshow": {
     "slide_type": "subslide"
    }
   },
   "source": [
    "Ce qui ne vous a pas plus :\n",
    "\n",
    "- Git, trop compliqué ......\n",
    "- ......"
   ]
  },
  {
   "cell_type": "markdown",
   "id": "6cefa46e",
   "metadata": {
    "slideshow": {
     "slide_type": "subslide"
    }
   },
   "source": [
    "Ce qui vous a semblé facile :\n",
    "\n",
    "- fltk, bien expliqué"
   ]
  },
  {
   "cell_type": "markdown",
   "id": "ddef8034",
   "metadata": {},
   "source": [
    "Ce qui vous a semblé difficile :\n",
    "\n",
    "- La soutenance, trop stressant ...\n",
    "- Travailler ensemble, pas évident du tout, pas juste diviser par 3 ..."
   ]
  },
  {
   "cell_type": "markdown",
   "id": "651e6060",
   "metadata": {
    "slideshow": {
     "slide_type": "subslide"
    }
   },
   "source": [
    "### Programmer à plusieurs : comment découper le travail ?\n",
    "\n",
    "Vos idées ?\n",
    "\n",
    "- Séparer les fonctionalités selon leur affinité\n",
    "- Attribution par spécialité de personne\n",
    "- Séparer les tâches selon le besoin algorithmique\n",
    "- Attribution les tâches à des personnes différentes\n",
    "- Récupérer les codes avec Git, puis intégrer\n",
    "- Commencer par la spécialité de chacun\n",
    "- Un \"gourou\" d'intégration pour faire un seul code"
   ]
  },
  {
   "cell_type": "markdown",
   "id": "0f40dbec",
   "metadata": {},
   "source": [
    "Quelques idées :\n",
    "\n",
    "- Commencer par une réunion (en vrai, sur Discord...) pour\n",
    "    - Délimiter les grandes tâches\n",
    "    - Attribuer des responsabilités dans le groupe"
   ]
  },
  {
   "cell_type": "markdown",
   "id": "25b29d5b",
   "metadata": {
    "slideshow": {
     "slide_type": "subslide"
    }
   },
   "source": [
    "- Plusieurs façons de contribuer à un projet :\n",
    "    - Réflexion, croquis, algorithmes\n",
    "    - Lecture de documentation, recherche sur les forums\n",
    "    - Tests préliminaires, prototypes\n",
    "    - Mise au propre du code, relecture\n",
    "    - Conception d'interface utilisateur\n",
    "    - Préparation de ressources (images, fichiers...)\n",
    "    - Écriture de documentation\n",
    "    - Gourou Git :-)"
   ]
  },
  {
   "cell_type": "markdown",
   "id": "bbbaa7dd",
   "metadata": {
    "slideshow": {
     "slide_type": "subslide"
    }
   },
   "source": [
    "- STRUCTURER LE PROGRAMME À L'AIDE DE **FONCTIONS** !!!\n",
    "    - Chaque fonction doit avoir un rôle clair (même avant d'être écrite)\n",
    "    - Une fonction peut être programmée et **testée** seule\n",
    "    - Une fois une tâche terminée, facile à intégrer dans le reste"
   ]
  },
  {
   "cell_type": "markdown",
   "id": "f0de6f1c",
   "metadata": {
    "slideshow": {
     "slide_type": "subslide"
    }
   },
   "source": [
    "- S'entraider, communiquer\n",
    "    - Ne pas laisser durer un blocage\n",
    "    - Faire des `git push` suffisamment fréquents\n",
    "    - Vérifier souvent qu'on avance dans la bonne direction"
   ]
  },
  {
   "cell_type": "markdown",
   "id": "9e78d0dc",
   "metadata": {
    "slideshow": {
     "slide_type": "slide"
    }
   },
   "source": [
    "### Style et bonnes pratiques"
   ]
  },
  {
   "cell_type": "markdown",
   "id": "a29a8f6e",
   "metadata": {
    "slideshow": {
     "slide_type": "subslide"
    }
   },
   "source": [
    "#### Structure d'un programme\n",
    "\n",
    "```python\n",
    "from foo import bar, baz\n",
    "import mymodule\n",
    "\n",
    "def f1(a, b, c):\n",
    "    \"\"\"Renvoie un truc.\"\"\"\n",
    "    ...\n",
    "    return \"un truc\"\n",
    "\n",
    "def main():\n",
    "    print(f1(1, 2, 3))\n",
    "\n",
    "if __name__ == \"__main__\":\n",
    "    main()\n",
    "```"
   ]
  },
  {
   "cell_type": "markdown",
   "id": "c8dfafd5",
   "metadata": {
    "slideshow": {
     "slide_type": "subslide"
    }
   },
   "source": [
    "#### PEP 8 — *Style guide for Python code*\n",
    "\n",
    "Le plus important : être *cohérent* (surtout à l'échelle d'une fonction ou d'un fichier)\n",
    "\n",
    "https://pep8.org/\n",
    "\n",
    "*(insérer une bonne référence en français ici ?)*"
   ]
  },
  {
   "cell_type": "markdown",
   "id": "02e7aa7b",
   "metadata": {
    "slideshow": {
     "slide_type": "subslide"
    }
   },
   "source": [
    "#### PEP 257 — Docstring conventions\n",
    "\n",
    "Comment décrire à quoi sert chaque fonction dans une chaîne de documentation ?\n",
    "\n",
    "https://www.python.org/dev/peps/pep-0257/"
   ]
  },
  {
   "cell_type": "markdown",
   "id": "5f4710d2",
   "metadata": {
    "slideshow": {
     "slide_type": "subslide"
    }
   },
   "source": [
    "#### Tests interactifs dans la documentation\n",
    "\n",
    "https://docs.python.org/fr/3/library/doctest.html"
   ]
  },
  {
   "cell_type": "markdown",
   "id": "e4121b02",
   "metadata": {
    "slideshow": {
     "slide_type": "subslide"
    }
   },
   "source": [
    "#### Outils de contrôle de style\n",
    "\n",
    "https://github.com/klen/pylama  \n",
    "https://pylavadocs.readthedocs.io/en/latest/  \n",
    "etc."
   ]
  },
  {
   "cell_type": "markdown",
   "id": "ca0066d2",
   "metadata": {
    "slideshow": {
     "slide_type": "slide"
    }
   },
   "source": [
    "### Comment faire une (bonne) démo\n",
    "\n",
    "Quelques idées :\n",
    "\n",
    "- Décider à l'avance ce que vous voulez montrer\n",
    "    - sous forme de démo\n",
    "    - dans le code\n",
    "- Faire au moins un test (en partant d'un `git clone`, ou au moins un `git pull` !)\n",
    "- Donner la parole à tout le monde\n",
    "- Si vous avez des *doctests* : montrer un appel à `testmod()`\n",
    "- Ne pas commenter le code de manière linéaire"
   ]
  },
  {
   "cell_type": "markdown",
   "id": "b177ab25",
   "metadata": {
    "slideshow": {
     "slide_type": "subslide"
    }
   },
   "source": [
    "Vos idées :\n",
    "\n",
    "- ???"
   ]
  },
  {
   "cell_type": "markdown",
   "id": "62035273",
   "metadata": {
    "slideshow": {
     "slide_type": "slide"
    }
   },
   "source": [
    "# Séquence 2 : Jeu de couplage"
   ]
  },
  {
   "cell_type": "markdown",
   "id": "7b462dd3",
   "metadata": {
    "slideshow": {
     "slide_type": "slide"
    }
   },
   "source": [
    "## Lecture commentée de l'énoncé"
   ]
  },
  {
   "cell_type": "markdown",
   "id": "9ef2b80c",
   "metadata": {},
   "source": [
    "## Recherche de chemin\n",
    "\n",
    "Que proposez-vous ?"
   ]
  },
  {
   "cell_type": "code",
   "execution_count": null,
   "id": "4c0187c3",
   "metadata": {},
   "outputs": [],
   "source": []
  }
 ],
 "metadata": {
  "celltoolbar": "Diaporama",
  "kernelspec": {
   "display_name": "Python 3 (ipykernel)",
   "language": "python",
   "name": "python3"
  },
  "language_info": {
   "codemirror_mode": {
    "name": "ipython",
    "version": 3
   },
   "file_extension": ".py",
   "mimetype": "text/x-python",
   "name": "python",
   "nbconvert_exporter": "python",
   "pygments_lexer": "ipython3",
   "version": "3.11.4"
  }
 },
 "nbformat": 4,
 "nbformat_minor": 5
}
