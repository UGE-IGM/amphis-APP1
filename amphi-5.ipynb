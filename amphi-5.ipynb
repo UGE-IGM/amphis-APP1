{
 "cells": [
  {
   "cell_type": "markdown",
   "id": "d13d622b",
   "metadata": {
    "slideshow": {
     "slide_type": "slide"
    }
   },
   "source": [
    "# Amphi 5 - Bilan séquence 2 - Lancement séquence 3"
   ]
  },
  {
   "cell_type": "markdown",
   "id": "17d37fca",
   "metadata": {
    "slideshow": {
     "slide_type": "slide"
    }
   },
   "source": [
    "- Retour sur CC0\n",
    "    - Quelques remarques\n",
    "    - Démo sur des questions\n",
    "- Bilan de la séquence 2\n",
    "    - Quelques démos de vos productions\n",
    "    - Vos retours sur la séquence 2\n",
    "- Lancement de la séquence 3\n",
    "    - Découverte du sujet du problème 3\n",
    "    - Quelques éléments pour bien démarrer\n",
    "    - Quelques éléments pour aller plus loin"
   ]
  },
  {
   "cell_type": "markdown",
   "id": "6e6b495c",
   "metadata": {
    "slideshow": {
     "slide_type": "slide"
    }
   },
   "source": [
    "## Retour sur CC0\n",
    "\n",
    "- Moyenne : 12,66/18 pour APP1, 11,3/18 pour AP1+APP1\n",
    "- Questions dures : expressions booléennes, expression compliquée, certaines boucles while"
   ]
  },
  {
   "cell_type": "markdown",
   "id": "ee88d385",
   "metadata": {},
   "source": [
    "Q1. Quelle expression est équivalente à ``(not A) or B`` ?\n",
    "- ``A and not B``\n",
    "- ``A or not B``\n",
    "- ``not (A and not B)``\n",
    "- ``not (A or not B)``"
   ]
  },
  {
   "cell_type": "markdown",
   "id": "daffd4f2",
   "metadata": {},
   "source": [
    "Comment faire ?\n",
    "- Table de vérité (on est sûr que ça marche)\n",
    "- Réfutation : trouver des valeurs de A et de B qui fait différer la valeur\n",
    "  - Par exemple, dans ``(not A) or B``, si B est vrai, alors l'expression est toujours vraie\n",
    "- Lois de De Morgan\n",
    "  - ``not (P or Q)`` est équivalent à ``(not P) and (not Q)``\n",
    "  - ``not (P and Q)`` est équivalent à ``(not P) or (not Q)``\n",
    "  - Application : ``(not A) or B`` est équivalent à ``not (A or not B)``"
   ]
  },
  {
   "cell_type": "markdown",
   "id": "4ba7e481",
   "metadata": {},
   "source": [
    "Q2. Quelle expression test l'appartenance à l'intervalle ``[a, b[`` (``a`` inclus, ``b`` exclu) ?\n",
    "\n",
    "- ``x >= a and x <= b``\n",
    "- ``x >= a or x < b``\n",
    "- ``not (x < a or x >= b)``\n",
    "- ``not (x < a and x >= b)``"
   ]
  },
  {
   "cell_type": "markdown",
   "id": "0fae26ed",
   "metadata": {},
   "source": [
    "Comment faire ?\n",
    "\n",
    "- Prendre des exemples concrets : ``a = 2, b = 5``\n",
    "  - Donc les éléments sont 2, 3, 4\n",
    "  - Il suffit de tout tester\n",
    "  - Astuce : tester les cas limites d'abord, par exemple 1, 2, 4, 5\n",
    "- L'intervalle ``[a, b[`` veut dire ``x >= a and x < b``\n",
    "  - Loi de De Morgan : équivalent à ``not (x < a or x >= b)``\n",
    "  - Astuce : interprétation négative"
   ]
  },
  {
   "cell_type": "markdown",
   "id": "193cabf2",
   "metadata": {},
   "source": [
    "Q3. Pour quelles valeurs de a et b l’expression ``'score : ' + a*2 + ' à ' + str(int(b)*2)`` ne provoque-t-elle pas d’erreur ?\n",
    "\n",
    "- ``'4'`` et ``'4'``\n",
    "- ``4`` et ``'4'``\n",
    "- ``'4'`` et ``'zéro'``\n",
    "- l'évaluation provoque toujours une erreur"
   ]
  },
  {
   "cell_type": "markdown",
   "id": "8bf8bace",
   "metadata": {},
   "source": [
    "Q4. Que donne le code suivant ?"
   ]
  },
  {
   "cell_type": "code",
   "execution_count": 6,
   "id": "293c556e",
   "metadata": {},
   "outputs": [
    {
     "name": "stdout",
     "output_type": "stream",
     "text": [
      "1024\n"
     ]
    }
   ],
   "source": [
    "x = 1\n",
    "i = 0\n",
    "while i <= 9:\n",
    "    x = x * 2\n",
    "    i += 1\n",
    "\n",
    "print(x)"
   ]
  },
  {
   "cell_type": "markdown",
   "id": "235a5770",
   "metadata": {
    "slideshow": {
     "slide_type": "slide"
    }
   },
   "source": [
    "#### Comment se préparer au CC1 ?\n",
    "\n",
    "Tous les supports d'AP1 sont sur la page elearning (https://elearning.univ-eiffel.fr/course/view.php?id=3222)\n",
    "\n",
    "Si vous n'y avez pas accès, le signaler **vite** !"
   ]
  },
  {
   "cell_type": "markdown",
   "id": "582a7e60",
   "metadata": {
    "slideshow": {
     "slide_type": "slide"
    }
   },
   "source": [
    "### Point sur l'évaluation\n",
    "\n",
    "- Comment interpréter les appréciations ?\n",
    "- Comment se préparer au CC1 ?"
   ]
  },
  {
   "cell_type": "markdown",
   "id": "ee2308cb",
   "metadata": {
    "slideshow": {
     "slide_type": "subslide"
    }
   },
   "source": [
    "Format du contrôle (en général) :\n",
    "- Une partie QCM (énoncés variables, correction automatique)\n",
    "- Une partie manuscrite (fonctions ou petits programmes à écrire)\n",
    "- Conseil 1 : faire *simple* et *propre*, éviter les astuces de hacker\n",
    "- Conseil 2 : se familiariser *avant* avec les supports d'AP1\n",
    "- Conseil 3 : s'entraîner sur la [plateforme PL](https://elearning.univ-eiffel.fr/course/view.php?id=57#section-6) (ou http://france-ioi.org, ou https://pydefis.callicode.fr/, ou https://www.codingame.com/start, ou http://www.pythonchallenge.com/, ou https://projecteuler.net/...)"
   ]
  },
  {
   "cell_type": "markdown",
   "id": "43a9f67d",
   "metadata": {
    "slideshow": {
     "slide_type": "subslide"
    }
   },
   "source": [
    "Méthode de travail : profiter des temps libres pour\n",
    "- lire les supports de cours (notebooks Jupyter)\n",
    "- parcourir les sujets de TD et de TP\n",
    "- faire quelques exercices pour s'entraîner"
   ]
  },
  {
   "cell_type": "markdown",
   "id": "22f55655",
   "metadata": {
    "slideshow": {
     "slide_type": "slide"
    }
   },
   "source": [
    "## Bilan séquence 2 "
   ]
  },
  {
   "cell_type": "markdown",
   "id": "53131646",
   "metadata": {
    "slideshow": {
     "slide_type": "slide"
    }
   },
   "source": [
    "#### Comment interpréter les appréciations ?\n",
    "\n",
    "Réponse : **PAS** comme des notes \"brutes\" sur 15 (à la rigueur sur 10) !!!\n",
    "\n",
    "Chaque rubrique (base, améliorations, code, algo, assiduité) est indépendante\n",
    "\n",
    "Il faut prendre les appréciations comme des *indications* pour savoir quoi améliorer"
   ]
  },
  {
   "cell_type": "markdown",
   "id": "454f709f",
   "metadata": {
    "slideshow": {
     "slide_type": "subslide"
    }
   },
   "source": [
    "L'objectif est d'avoir \"bien\" (ou 2 points) partout (sauf éventuellement dans \"améliorations\")\n",
    "\n",
    "- avoir 2 points partout est un objectif **atteignable**\n",
    "- avoir une ou deux rubriques à 1 est un signe qu'il faut lire et s'entraîner davantage !\n",
    "- avoir 3 points dans une rubrique est **rare**, avoir 3 partout est quasiment impossible\n",
    "\n",
    "Vous **pouvez** (devez ?) demander des détails ou des explications si vous ne comprenez pas une appréciation"
   ]
  },
  {
   "cell_type": "markdown",
   "id": "bd8f606a",
   "metadata": {
    "slideshow": {
     "slide_type": "subslide"
    }
   },
   "source": [
    "Barème (schématique) pour interpréter votre note :\n",
    "\n",
    "- 1 dans une ou deux catégories (hors améliorations) : il y a des choses importantes à corriger, demandez de l'aide aux profs !\n",
    "- 2 ou plus dans *base*, *code*, *algo* et *assiduité* : tout va bien ! Continuez à découvrir et à progresser !\n",
    "- 2 partout : c'est très bien ! Continuez comme ça !\n",
    "- 3 dans une ou catégorie (ou plus) : félicitations !"
   ]
  },
  {
   "cell_type": "markdown",
   "id": "299cd0cd",
   "metadata": {
    "slideshow": {
     "slide_type": "slide"
    }
   },
   "source": [
    "### Quelques démos !!!"
   ]
  },
  {
   "cell_type": "markdown",
   "id": "bfdd7f6a",
   "metadata": {
    "slideshow": {
     "slide_type": "slide"
    }
   },
   "source": [
    "### Impressions, remarques, critiques sur la séquence 2\n",
    "\n",
    "- Problème 2 plus facile que Problème 1 ???"
   ]
  },
  {
   "cell_type": "markdown",
   "id": "38c8fc00",
   "metadata": {
    "slideshow": {
     "slide_type": "slide"
    }
   },
   "source": [
    "## Lancement séquence 3\n",
    "\n",
    "[Jeu en ligne](https://elgoog.im/breakout/)"
   ]
  },
  {
   "cell_type": "markdown",
   "id": "19f31707",
   "metadata": {
    "slideshow": {
     "slide_type": "slide"
    }
   },
   "source": [
    "### Présentation du problème 3 : Breakout"
   ]
  },
  {
   "cell_type": "markdown",
   "id": "a28c0935",
   "metadata": {
    "slideshow": {
     "slide_type": "slide"
    }
   },
   "source": [
    "### Quelques pistes pour bien démarrer\n",
    "\n",
    "Illustrations tirées de l'ouvrage \"The Nature of Code\" par Daniel Shiffman, ouvrage libre, gratuit et animé [disponible en ligne](https://natureofcode.com/book/)\n",
    "\n",
    "Lecture fortement recommandée, en particulier les chapitres 1 et 2 !!"
   ]
  },
  {
   "cell_type": "markdown",
   "id": "03929027",
   "metadata": {
    "slideshow": {
     "slide_type": "slide"
    }
   },
   "source": [
    "#### Représenter un objet mobile\n",
    "\n",
    "Pour représenter chaque objet mobile dans la scène, on a besoin de connaître au moins\n",
    "- sa position\n",
    "- sa vitesse"
   ]
  },
  {
   "cell_type": "markdown",
   "id": "1218f850",
   "metadata": {
    "slideshow": {
     "slide_type": "subslide"
    }
   },
   "source": [
    "On peut utiliser pour cela des **vecteurs** à deux dimensions :\n",
    "\n",
    "![dessin de vecteur](img/vecteur.png)"
   ]
  },
  {
   "cell_type": "markdown",
   "id": "ada071e1",
   "metadata": {
    "slideshow": {
     "slide_type": "subslide"
    }
   },
   "source": [
    "Un vecteur peut servir à représenter \n",
    "- la **position** d'un objet par rapport à l'origine (vecteur position),\n",
    "- ou bien sa **vitesse** ou déplacement au cours du prochain laps de temps (vecteur vitesse)\n",
    "\n",
    "![vecteur comme position et vecteur comme vitesse](img/vecteur_point_vitesse.png)"
   ]
  },
  {
   "cell_type": "markdown",
   "id": "47ad1c24",
   "metadata": {
    "slideshow": {
     "slide_type": "subslide"
    }
   },
   "source": [
    "Un vecteur peut être vu \n",
    "- comme une \"flèche\" entre deux points du plan\n",
    "- ou comme un couple de deux nombres (coordonnées ou composantes)\n",
    "\n",
    "![composantes d'un vecteur](img/vecteur_composantes.png)"
   ]
  },
  {
   "cell_type": "markdown",
   "id": "f955b1ec",
   "metadata": {
    "slideshow": {
     "slide_type": "subslide"
    }
   },
   "source": [
    "À chaque intervalle de temps (par exemple un 60e de seconde) et pour chaque objet mobile :\n",
    "\n",
    "- on ajoute le vecteur vitesse de l'objet à sa position précédente\n",
    "- on dessine l'objet à sa nouvelle position"
   ]
  },
  {
   "cell_type": "markdown",
   "id": "9c71556f",
   "metadata": {
    "slideshow": {
     "slide_type": "slide"
    }
   },
   "source": [
    "#### Vecteurs en Python\n",
    "\n",
    "Représentation simple : avec des `tuple` ou des `list` de taille 2\n",
    "\n",
    "Premières opérations :\n",
    "- addition de deux vecteurs (composante par composante)\n",
    "- multiplication par un nombre (produit scalaire)"
   ]
  },
  {
   "cell_type": "code",
   "execution_count": 7,
   "id": "676bcb22",
   "metadata": {
    "slideshow": {
     "slide_type": "subslide"
    }
   },
   "outputs": [
    {
     "data": {
      "text/plain": [
       "(1.3333333333333333, 2.0)"
      ]
     },
     "execution_count": 7,
     "metadata": {},
     "output_type": "execute_result"
    }
   ],
   "source": [
    "def somme_vecteurs(v1, v2):\n",
    "    x1, y1 = v1\n",
    "    x2, y2 = v2\n",
    "    x = x1 + x2\n",
    "    y = y1 + y2\n",
    "    return (x, y)\n",
    "    \n",
    "def produit_scalaire(v, m):\n",
    "    x, y = v\n",
    "    return (m*x, m*y)\n",
    "    \n",
    "# insérer un test ici\n",
    "produit_scalaire(somme_vecteurs((1, 2), (3, 4)), 1/3)"
   ]
  },
  {
   "cell_type": "markdown",
   "id": "70c1c68d",
   "metadata": {
    "slideshow": {
     "slide_type": "slide"
    }
   },
   "source": [
    "#### Objets mobiles en Python\n",
    "\n",
    "Représentation simple : liste de deux vecteurs (position et vitesse)"
   ]
  },
  {
   "cell_type": "code",
   "execution_count": 8,
   "id": "08db92c7",
   "metadata": {
    "slideshow": {
     "slide_type": "subslide"
    }
   },
   "outputs": [
    {
     "name": "stderr",
     "output_type": "stream",
     "text": [
      "Bibliothèque PIL chargée.\n"
     ]
    }
   ],
   "source": [
    "import fltk"
   ]
  },
  {
   "cell_type": "code",
   "execution_count": 9,
   "id": "6e24fe81",
   "metadata": {
    "slideshow": {
     "slide_type": "subslide"
    }
   },
   "outputs": [],
   "source": [
    "def dessine(mobile):\n",
    "    pos = mobile[0]\n",
    "    x, y = pos\n",
    "    fltk.cercle(x, y, 10)\n",
    "    \n",
    "def deplace(mobile):\n",
    "    pos, vit = mobile\n",
    "    mobile[0] = somme_vecteurs(pos, vit)"
   ]
  },
  {
   "cell_type": "code",
   "execution_count": 10,
   "id": "8757495f",
   "metadata": {
    "slideshow": {
     "slide_type": "subslide"
    }
   },
   "outputs": [],
   "source": [
    "from random import uniform"
   ]
  },
  {
   "cell_type": "code",
   "execution_count": 13,
   "id": "ff20f496",
   "metadata": {
    "slideshow": {
     "slide_type": "subslide"
    }
   },
   "outputs": [],
   "source": [
    "def scene1():\n",
    "    \"\"\"Je veux une balle qui se déplace à une vitesse constante\n",
    "    dans une direction fixe (aléatoire).\n",
    "    \"\"\"\n",
    "    mobile = [[300, 300], [uniform(-2, 2), uniform(-2, 2)]]\n",
    "    \n",
    "    fltk.cree_fenetre(600, 600)\n",
    "\n",
    "    while True:\n",
    "        ev = fltk.donne_ev()\n",
    "        tev = fltk.type_ev(ev)\n",
    "        if tev == 'Quitte':\n",
    "            break\n",
    "        \n",
    "        fltk.efface_tout()\n",
    "        \n",
    "        # notre moteur de déplacement :\n",
    "        dessine(mobile)\n",
    "        deplace(mobile)\n",
    "    \n",
    "        fltk.mise_a_jour()\n",
    "\n",
    "    fltk.ferme_fenetre()\n",
    "\n",
    "scene1()"
   ]
  },
  {
   "cell_type": "markdown",
   "id": "8f731d80",
   "metadata": {
    "slideshow": {
     "slide_type": "slide"
    }
   },
   "source": [
    "### Et ensuite ?\n",
    "\n",
    "- Gestion des rebonds sur les bords\n",
    "- Dessin et contrôle de la raquette\n",
    "- Rebondissement sur la raquette\n",
    "- Détection des collisions entre la balle et une brique\n",
    "- Calculer l'effet des collisions et faire les mise-à-jour"
   ]
  },
  {
   "cell_type": "markdown",
   "id": "3203331d",
   "metadata": {
    "slideshow": {
     "slide_type": "slide"
    }
   },
   "source": [
    "### Pour aller plus loin\n",
    "\n",
    "Voir le chapitre 2 de [Nature of Code](https://natureofcode.com/book/)."
   ]
  },
  {
   "cell_type": "code",
   "execution_count": null,
   "id": "26c4b8e9",
   "metadata": {},
   "outputs": [],
   "source": []
  }
 ],
 "metadata": {
  "celltoolbar": "Diaporama",
  "kernelspec": {
   "display_name": "Python 3 (ipykernel)",
   "language": "python",
   "name": "python3"
  },
  "language_info": {
   "codemirror_mode": {
    "name": "ipython",
    "version": 3
   },
   "file_extension": ".py",
   "mimetype": "text/x-python",
   "name": "python",
   "nbconvert_exporter": "python",
   "pygments_lexer": "ipython3",
   "version": "3.10.6"
  }
 },
 "nbformat": 4,
 "nbformat_minor": 5
}
