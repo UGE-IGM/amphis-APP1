{
 "cells": [
  {
   "cell_type": "markdown",
   "id": "39cc0b74",
   "metadata": {},
   "source": [
    "# APP1 — Problème 2 — Amphi n° 5"
   ]
  },
  {
   "cell_type": "markdown",
   "id": "6ecb65c3",
   "metadata": {},
   "source": [
    "## Point sur le calendrier\n",
    "\n",
    "- Octobre : entièrement consacré au problème 2 (plus une semaine de vacances)\n",
    "- À la rentrée (3/11) : semaine de CC 1, puis semaine en autonomie (pas de cours d'info) puis semaine de Projet1\n",
    "- Problème 3 APP1 : du 24/11 au 12/12"
   ]
  },
  {
   "cell_type": "markdown",
   "id": "709d49fd",
   "metadata": {
    "vscode": {
     "languageId": "plaintext"
    }
   },
   "source": [
    "## Discussions et questions générales"
   ]
  },
  {
   "cell_type": "markdown",
   "id": "9164df42",
   "metadata": {},
   "source": [
    "*à compléter*"
   ]
  },
  {
   "cell_type": "markdown",
   "id": "32c728c7",
   "metadata": {},
   "source": [
    "## Sujets du jour\n",
    "\n",
    "- Un aperçu du cours d'AP1\n",
    "- Élément de cours : quelques rappels sur les dictionnaires\n",
    "    - Exercice : compter le nombre d'occurrences de chaque lettre dans une chaîne avec un dictionnaire\n",
    "    - Exercice : inverser les clés et les valeurs d'un dictionnaire.\n",
    "- Sujets en rapport avec le problème 2\n",
    "    - Exercice : tirage d'un élément de collection pondéré par un entier\n",
    "    - Exercice : sauvegarde et restauration avec `pickle`\n",
    "\n",
    "### Sujets non traités\n",
    "\n",
    "- Traiter les paramètres en ligne de commande d'un programme\n",
    "- Travailler sur un fichier texte (ou binaire) dans un programme\n",
    "- Chaînes de documentation (docstrings) contenant des tests (doctests)\n",
    "- `fltk`\n",
    "    - Exercice : afficher une grille carrée en `fltk`\n",
    "    - Exercice : récupérer un clic sur la grille et déterminer sa case\n",
    "\n",
    "### Sujets traités\n",
    "\n",
    "- Conversions entre bases sur les entiers\n",
    "- Un mot sur les bonnes pratiques de programmation\n",
    "- Représentation des listes (et listes de listes) en mémoire\n",
    "    - Exercice : fabriquer une matrice $m \\times n$ remplie de 0\n"
   ]
  },
  {
   "cell_type": "markdown",
   "id": "0575cf15",
   "metadata": {},
   "source": []
  }
 ],
 "metadata": {
  "kernelspec": {
   "display_name": "Python 3 (ipykernel)",
   "language": "python",
   "name": "python3"
  },
  "language_info": {
   "codemirror_mode": {
    "name": "ipython",
    "version": 3
   },
   "file_extension": ".py",
   "mimetype": "text/x-python",
   "name": "python",
   "nbconvert_exporter": "python",
   "pygments_lexer": "ipython3",
   "version": "3.12.3"
  }
 },
 "nbformat": 4,
 "nbformat_minor": 5
}
