{
 "cells": [
  {
   "cell_type": "markdown",
   "id": "db87aa5c",
   "metadata": {},
   "source": [
    "# Amphi APP1 - Séquence 4 - Soutien 2\n",
    "\n",
    "**Contenu**\n",
    "1. Fin de module\n",
    "1. Retour sur CC1\n",
    "1. Liste et dictionnaire\n",
    "1. Fonctions et lambda\n",
    "1. Exercice d'entraînement `fltk` : dessiner un polygone point par point\n",
    "1. Révision"
   ]
  },
  {
   "cell_type": "markdown",
   "id": "2207d988",
   "metadata": {},
   "source": [
    "## Fin de module\n",
    "\n",
    "- **Soumission du Problème 4 sur Git** : 24 novembre à 23h\n",
    "- **Soutenance** : 24 ou 25 novembre\n",
    "- **CC2** (commun AP1/APP1) : 28 novembre à 14h\n",
    "- **Projet** : lundi 5 décembre il y aura une annonce"
   ]
  },
  {
   "cell_type": "markdown",
   "id": "682e6a94",
   "metadata": {},
   "source": [
    "## Retour sur CC1\n",
    "\n",
    "- Moyenne APP1 environ 16--17, seulement 3 au-dessous de 10. **Bravo !**\n",
    "- Révision pour CC2 : manipulation de listes de listes, dictionnaire"
   ]
  },
  {
   "cell_type": "markdown",
   "id": "d140de1e",
   "metadata": {},
   "source": [
    "## Quelques détails sur les listes\n",
    "\n",
    "Les listes sont **mutables** : si c'est passé en argument à une fonction, puis modifié avec des méthodes, alors les changements persistent.\n",
    "\n",
    "Problème de ***shallow copy*** : quand on recopie une liste par son nom, le nouveau nom pointe toujours vers la même liste"
   ]
  },
  {
   "cell_type": "code",
   "execution_count": null,
   "id": "2a5d9ef1",
   "metadata": {},
   "outputs": [],
   "source": [
    "def foo(lst):\n",
    "    mylst = lst\n",
    "    mylst[0] = 'error'\n",
    "    return\n",
    "\n",
    "testlst = [3, 1, 4, 1, 5]\n",
    "foo(testlst)\n",
    "print(testlst)"
   ]
  },
  {
   "cell_type": "code",
   "execution_count": null,
   "id": "7c70a31e",
   "metadata": {},
   "outputs": [],
   "source": [
    "testlst = [3, 1, 4, 1, 5]\n",
    "matrix = [testlst.copy() for _ in range(5)] # [testlst] * 5\n",
    "matrix[0][0] = 1\n",
    "print(matrix)"
   ]
  },
  {
   "cell_type": "markdown",
   "id": "4ade159f",
   "metadata": {},
   "source": [
    "## Quelques méthodes et constructions utiles pour les listes\n",
    "\n",
    "**Les méthodes modifiantes**, qui modifie la liste :\n",
    "\n",
    "- ``lst.append(elem)`` : ajout d'un élément en fin de liste\n",
    "- ``lst1.extend(lst2)`` : ajout d'une liste d'éléments en fin de liste\n",
    "- ``elem = L.pop()`` : suppression du dernier élément\n",
    "- ``lst.clear()`` : retire tous les éléments de ``lst`` (pas exactement équivalent à ``lst = []``)\n",
    "- ``lst.reverse()`` : renverse la liste L sur place\n",
    "- ``lst.remove(x)`` : retire la première occurrence de x\n",
    "- ``lst.insert(i, x)`` : insère x avant la position i\n",
    "- ``lst.sort()`` : trie sur place la liste L \n",
    "\n",
    "**Les méthodes**, qui ne modifie pas la liste\n",
    "\n",
    "- ``lst.copy()`` : renvoie une copie (superficielle) de ``lst`` (ou bien ``lst[:]``)\n",
    "- ``lst.index(x)`` : indice de la première occurrence de ``x``\n",
    "- ``lst.count(x)`` : nombre d'occurrences de ``x``\n",
    "- ``sorted(L)`` : renvoie une copie (superficielle) triée de ``lst``\n",
    "\n",
    "**Parcourir la liste avec indices** : ``enumerate(lst)``\n",
    "\n",
    "```python\n",
    "for index, value in enumerate(lst):\n",
    "    ......\n",
    "```"
   ]
  },
  {
   "cell_type": "code",
   "execution_count": null,
   "id": "e0b96057",
   "metadata": {},
   "outputs": [],
   "source": [
    "def empty_the_list(lst):\n",
    "    lst.clear() # lst = []\n",
    "\n",
    "mylist = [3, 1, 4, 1, 5]\n",
    "empty_the_list(mylist)\n",
    "print(mylist)"
   ]
  },
  {
   "cell_type": "code",
   "execution_count": null,
   "id": "cc487a5b",
   "metadata": {},
   "outputs": [],
   "source": [
    "lst = [3, 1, 4, 1, 5]\n",
    "for i, elem in enumerate(lst):\n",
    "    print('Index', str(i), '->', str(elem))"
   ]
  },
  {
   "cell_type": "markdown",
   "id": "76e4448b",
   "metadata": {},
   "source": [
    "## Dictionnaire\n",
    "\n",
    "Un **dictionnaire** associe une **clé** avec sa **valeur** : ``dico[key]``.\n",
    "\n",
    "**Affectation** est aussi possible : ``dico[key] = newvalue``\n",
    "\n",
    "- Initialisation vide : ``dico = {}``\n",
    "- Initialisation avec clés et valeurs : ``dico = {key1 : value1, key2 : value2}``\n",
    "- Initialisation avec clés (valeurs à ``None`` par défaut) : ``dico = dict.fromkeys(iterable_of_keys)``\n",
    "- Parcourir les clés : ``for key in dico:``\n",
    "- Tester existence : ``key in dico``"
   ]
  },
  {
   "cell_type": "markdown",
   "id": "d2bc3159",
   "metadata": {},
   "source": [
    "## Parcours de dictionnaire avec clé et valeur\n",
    "\n",
    "On peut utiliser ``dico.items()``.\n",
    "\n",
    "```python\n",
    "for key, value in dico.items():\n",
    "    ......\n",
    "```"
   ]
  },
  {
   "cell_type": "code",
   "execution_count": null,
   "id": "1aab67f5",
   "metadata": {},
   "outputs": [],
   "source": [
    "dico = {75 : 'Paris', 93 : 'Seine-Saint-Denis', 77 : 'Seine-et-Marne'}\n",
    "\n",
    "for key, value in dico.items():\n",
    "    print(value, '-> code', str(key))"
   ]
  },
  {
   "cell_type": "markdown",
   "id": "b44e71e0",
   "metadata": {},
   "source": [
    "## Exercice : compteur d'élément\n",
    "\n",
    "On peut utiliser un dictionnaire pour compter l'occurrence des éléments dans une liste.\n",
    "\n",
    "**Attention** : L'accès à une clé non initialisée donne une erreur !"
   ]
  },
  {
   "cell_type": "code",
   "execution_count": null,
   "id": "b339aa84",
   "metadata": {},
   "outputs": [],
   "source": [
    "def count_occurrence(lst):\n",
    "    counter = {}\n",
    "    for elem in lst:\n",
    "        if elem not in counter:\n",
    "            counter[elem] = 1\n",
    "        else:\n",
    "            counter[elem] += 1\n",
    "    return counter\n",
    "\n",
    "def count_occurrence_short(lst):\n",
    "    counter = dict.fromkeys(lst, 0)\n",
    "    for elem in lst:\n",
    "        counter[elem] += 1\n",
    "    return counter\n",
    "\n",
    "count_occurrence([3,1,4,1,5,9,2,6,5,3,5,8,9,7,9,3,2,3,8,4,6,2,6])"
   ]
  },
  {
   "cell_type": "markdown",
   "id": "6a871d66",
   "metadata": {},
   "source": [
    "## Fonctions en tant que données (!!! Largement hors programme !!!)\n",
    "\n",
    "Les fonctions dans Python sont aussi des données, qui peuvent être affectées à une variable, passées en paramètre ou retournées"
   ]
  },
  {
   "cell_type": "code",
   "execution_count": null,
   "id": "48811a5c",
   "metadata": {},
   "outputs": [],
   "source": [
    "def add1(n):\n",
    "    return n + 1\n",
    "\n",
    "def repeat_last_chara(s):\n",
    "    return s + s[-1]\n",
    "\n",
    "myfnt = add1\n",
    "print(myfnt(3))\n",
    "myfnt = repeat_last_chara\n",
    "print(myfnt('Paris'))"
   ]
  },
  {
   "cell_type": "code",
   "execution_count": null,
   "id": "486f6312",
   "metadata": {},
   "outputs": [],
   "source": [
    "def apply_fnt_list(lst, fnt):\n",
    "    for i in range(len(lst)):\n",
    "        lst[i] = fnt(lst[i])\n",
    "    return\n",
    "\n",
    "testlist = [3, 1, 4, 1, 5]\n",
    "apply_fnt_list(testlist, add1)\n",
    "print(testlist)"
   ]
  },
  {
   "cell_type": "code",
   "execution_count": null,
   "id": "d9ed5924",
   "metadata": {},
   "outputs": [],
   "source": [
    "def increment_fnt(obj):\n",
    "    if isinstance(obj, int):\n",
    "        return add1\n",
    "    elif isinstance(obj, str):\n",
    "        return repeat_last_chara\n",
    "    else:\n",
    "        return lambda x : type(obj)\n",
    "\n",
    "def auto_increment(obj):\n",
    "    return increment_fnt(obj)(obj)\n",
    "\n",
    "print(auto_increment(42))\n",
    "print(auto_increment('Fin'))\n",
    "print(auto_increment(3.14))"
   ]
  },
  {
   "cell_type": "markdown",
   "id": "db529f5e",
   "metadata": {},
   "source": [
    "Il est possible de définir des **fonctions anonymes** avec les **expression lambda** :\n",
    "\n",
    "```python\n",
    "newfnt = lambda arg1, arg2: expression_of_argments\n",
    "```"
   ]
  },
  {
   "cell_type": "code",
   "execution_count": null,
   "id": "f3c38270",
   "metadata": {},
   "outputs": [],
   "source": [
    "testparity = lambda n: n % 2 == 0\n",
    "\n",
    "testparity(9), testparity(6)"
   ]
  },
  {
   "cell_type": "code",
   "execution_count": null,
   "id": "ed50d7ef",
   "metadata": {},
   "outputs": [],
   "source": [
    "listsquare = lambda lst: [elem * elem for elem in lst]\n",
    "listsquare([3, 1, 4, 1, 5])"
   ]
  },
  {
   "cell_type": "code",
   "execution_count": null,
   "id": "79f830a9",
   "metadata": {},
   "outputs": [],
   "source": [
    "list_all_string = lambda lst: [str(elem) for elem in lst]\n",
    "list_all_string([3, 1, 4, 1, 5])"
   ]
  },
  {
   "cell_type": "code",
   "execution_count": null,
   "id": "b179919d",
   "metadata": {},
   "outputs": [],
   "source": [
    "# Renvoie une fonction qui est la composition de deux fonctions en argument\n",
    "compose_fnt = lambda fnt1, fnt2: (lambda x: fnt2(fnt1(x)))\n",
    "\n",
    "# Composer deux fonctions : d'abord prendre des carrés, puis les convertir en chaînes\n",
    "squarestring = compose_fnt(listsquare, list_all_string)\n",
    "squarestring([3, 1, 4, 1, 5])"
   ]
  },
  {
   "cell_type": "markdown",
   "id": "c9a696e4",
   "metadata": {},
   "source": [
    "Utile pour un traitement uniforme et pour simplifier le code !"
   ]
  },
  {
   "cell_type": "code",
   "execution_count": null,
   "id": "9160a15c",
   "metadata": {
    "scrolled": true
   },
   "outputs": [],
   "source": [
    "from fltk import rectangle, cercle, polygone, cree_fenetre, ferme_fenetre, attend_ev, type_ev, ligne\n",
    "\n",
    "class Shapes:\n",
    "    def __init__(self, typ, coords, color):\n",
    "        self.coords = coords\n",
    "        self.color = color\n",
    "        self.type = typ\n",
    "        if typ == 'rectangle':\n",
    "            self.draw = self.__draw_rect\n",
    "        elif typ == 'cercle':\n",
    "            self.draw = self.__draw_circle\n",
    "        elif typ == 'polygone':\n",
    "            self.draw = self.__draw_polygone\n",
    "        elif typ == 'line':\n",
    "            self.draw = self.__draw_line\n",
    "        else:\n",
    "            self.draw = lambda : print('Error: wrong type of object:', self.type)\n",
    "    \n",
    "    def __draw_rect(self):\n",
    "        ax, ay, bx, by = tuple(self.coords)\n",
    "        rectangle(ax, ay, bx, by, couleur=self.color)\n",
    "    \n",
    "    def __draw_circle(self):\n",
    "        x, y, r = tuple(self.coords)\n",
    "        cercle(x, y, r, couleur=self.color)\n",
    "    \n",
    "    def __draw_polygone(self):\n",
    "        polygone(self.coords, couleur=self.color)\n",
    "    \n",
    "    def __draw_line(self):\n",
    "        ax, ay, bx, by = tuple(self.coords)\n",
    "        ligne(ax, ay, bx, by, couleur=self.color)\n",
    "        \n",
    "cree_fenetre(800, 800)\n",
    "l = []\n",
    "l.append(Shapes('rectangle', [100, 100, 300, 400], 'red'))\n",
    "l.append(Shapes('cercle', [500, 500, 70], 'blue'))\n",
    "l.append(Shapes('polygone', [(300, 140), (250, 670), (120, 350), (590, 240)], 'purple'))\n",
    "l.append(Shapes('line', [100, 100, 300, 400], 'green'))\n",
    "for shp in l:\n",
    "    shp.draw()\n",
    "while True:\n",
    "    ev = attend_ev()\n",
    "    tev = type_ev(ev)\n",
    "    if tev == 'Quitte':\n",
    "        break\n",
    "ferme_fenetre()"
   ]
  },
  {
   "cell_type": "markdown",
   "id": "97a19486",
   "metadata": {},
   "source": [
    "## Exercice d'entraînement\n",
    "\n",
    "**Objectif :** créer un programme graphique qui permet de dessiner des polygones dans une fenêtre\n",
    "\n",
    "**Interactions :** \n",
    "- le bouton \"quitter\"... quitte\n",
    "- un clic gauche \"pose\" un point\n",
    "- un clic droit pendant le tracé d'un polygone ferme le polygone en cours\n",
    "- un clic droit à tout autre moment supprime le dernier polygone tracé\n",
    "\n",
    "**Look & feel :** \n",
    "le segment en cours (s'il existe) doit \"suivre\" le pointeur de la souris"
   ]
  },
  {
   "cell_type": "code",
   "execution_count": null,
   "id": "6ab97393",
   "metadata": {},
   "outputs": [],
   "source": [
    "    "
   ]
  }
 ],
 "metadata": {
  "kernelspec": {
   "display_name": "Python 3 (ipykernel)",
   "language": "python",
   "name": "python3"
  },
  "language_info": {
   "codemirror_mode": {
    "name": "ipython",
    "version": 3
   },
   "file_extension": ".py",
   "mimetype": "text/x-python",
   "name": "python",
   "nbconvert_exporter": "python",
   "pygments_lexer": "ipython3",
   "version": "3.10.7"
  }
 },
 "nbformat": 4,
 "nbformat_minor": 5
}
