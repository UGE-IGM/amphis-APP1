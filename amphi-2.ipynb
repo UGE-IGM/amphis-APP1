{
 "cells": [
  {
   "cell_type": "markdown",
   "id": "39cc0b74",
   "metadata": {},
   "source": [
    "# APP1 — Problème 1 — Amphi n° 2"
   ]
  },
  {
   "cell_type": "markdown",
   "id": "6ecb65c3",
   "metadata": {},
   "source": [
    "## Aujourd'hui\n",
    "\n",
    "- Clarification que CC0 est obligatoire (29 septembre, amphi commun)\n",
    "- Explication de soutenance\n",
    "- Discussion sur la poursuite du module, recensement des personnes souhaitant passer en AP1\n",
    "- Réponse à vos questions\n",
    "- Questionnaire de suivi (TODO)"
   ]
  },
  {
   "cell_type": "markdown",
   "id": "062f6ce8",
   "metadata": {},
   "source": [
    "### Propositions de sujets à aborder :\n",
    "\n",
    "- Sujets concernant la soutenance\n",
    "    - La modalité\n",
    "    - Qu'est-ce qu'on attend ?\n",
    "    - Structure de la soutenance\n",
    "\n",
    "- Sujets spécifiques au problème\n",
    "    - Conversion d'un nombre décimal en hexadécimal\n",
    "    - Utilisation générale de `fltk`\n",
    "    - Affichage d'une image, coordonnées des rectangles\n",
    "\n",
    "- Sujets relatifs à Python\n",
    "    - Parcours de listes, listes de listes\n",
    "    - Écriture et utilisation de fonctions (paramètres, résultat, etc.)\n",
    "    - Travailler sur un fichier\n",
    "    - Programmation d'un script en ligne de commande\n",
    "\n",
    "- Sujets méthodologiques\n",
    "    - Configuration de Python sur une machine personnelle\n",
    "    - Questions sur l'utilisation de GitHub"
   ]
  },
  {
   "cell_type": "markdown",
   "id": "df406857",
   "metadata": {},
   "source": [
    "## Soutenance\n",
    "\n",
    "### Modalité\n",
    "\n",
    "- Temps : 2 heures / 7 $\\approx$ 15 minutes par groupe\n",
    "- Constitution : Explication par le groupe + questions de chargé de TP\n",
    "\n",
    "### Le contenu attendu (ce qu'on veut savoir)\n",
    "\n",
    "- Un petit démo, explication du travail effectué (partie obligatoire, partie complémentaire)\n",
    "- Conception du programme\n",
    "    - Structure de données (comment les données sont représentées dans le programme, avec quel type de variable)\n",
    "    - Organisation des fonctions (comment vous faites marcher votre code, avec quelles fonctions pour chaque tâche)\n",
    "- Partage de travail (comment vous travaillez, qui s'occupe de quoi)\n",
    "\n",
    "### Quelques conseils\n",
    "\n",
    "- Bien répéter\n",
    "- Discuter le partage de parole\n",
    "- Préparer et tester le démo avant"
   ]
  },
  {
   "cell_type": "markdown",
   "id": "d5ca919c",
   "metadata": {},
   "source": [
    "## Conversion décimal vers hexadécimal\n",
    "\n",
    "Hexadécimal veut dire \"représentation en base 16\".\n",
    "\n",
    "On utilise les 10 chiffres habituels (0 à 9) *plus* les 6 premières lettres de l'alhabet (A à F) pour les valeurs de 10 à 15.\n",
    "\n",
    "Exemples : \n",
    "- FF représente le nombre $15 * 16^1 + 15 * 16^0 = 255$\n",
    "- 1A45 représente le nombre $1 * 16^3 + 10 * 16^2 + 4 * 16^1 + 5 * 16^0 = 6725$"
   ]
  },
  {
   "cell_type": "code",
   "execution_count": 8,
   "id": "301d0f24",
   "metadata": {},
   "outputs": [
    {
     "data": {
      "text/plain": [
       "6725"
      ]
     },
     "execution_count": 8,
     "metadata": {},
     "output_type": "execute_result"
    }
   ],
   "source": [
    "int('1A45', 16)"
   ]
  },
  {
   "cell_type": "code",
   "execution_count": 6,
   "id": "809b1fdf",
   "metadata": {},
   "outputs": [
    {
     "data": {
      "text/plain": [
       "'0x1a45'"
      ]
     },
     "execution_count": 6,
     "metadata": {},
     "output_type": "execute_result"
    }
   ],
   "source": [
    "hex(6725)"
   ]
  },
  {
   "cell_type": "code",
   "execution_count": 9,
   "id": "e0ffbc06",
   "metadata": {},
   "outputs": [
    {
     "data": {
      "text/plain": [
       "6725"
      ]
     },
     "execution_count": 9,
     "metadata": {},
     "output_type": "execute_result"
    }
   ],
   "source": [
    "0x1a45"
   ]
  },
  {
   "cell_type": "code",
   "execution_count": 10,
   "id": "610a3139",
   "metadata": {},
   "outputs": [
    {
     "name": "stdout",
     "output_type": "stream",
     "text": [
      "ceci est le c\n"
     ]
    }
   ],
   "source": [
    "var = 12\n",
    "print(f'ceci est le {var:x}')"
   ]
  },
  {
   "cell_type": "markdown",
   "id": "56038a0b",
   "metadata": {},
   "source": [
    "### Exercices\n",
    "\n",
    "1.  Écrire une fonction `hexa_facile(petit_nombre)` recevant un entier positif strictement inférieur à 256 et renvoyant une chaîne de caractères représentant ce nombre en hexadécimal (sans utiliser la fonction `hex`).\n",
    "\n",
    "    Indice : `nombre % 16` donne le nombre d'unités en base 16, et `nombre // 16` donne le nombre de \"seizaines\".\n",
    "    "
   ]
  },
  {
   "cell_type": "code",
   "execution_count": null,
   "id": "9fe66e0b",
   "metadata": {},
   "outputs": [],
   "source": []
  },
  {
   "cell_type": "markdown",
   "id": "efa56d4a",
   "metadata": {},
   "source": [
    "2.  Écrire une fonction `hexa(nombre)` recevant un entier positif strictement inférieur à 256 et renvoyant une chaîne de caractères représentant ce nombre en hexadécimal (sans utiliser la fonction `hex`).\n",
    "\n",
    "    Indice : `nombre % 16` donne le nombre d'unités en base 16, et `nombre // 16` donne le nombre de \"seizaines\", qu'il faut encore convertir en hexadécimal."
   ]
  },
  {
   "cell_type": "code",
   "execution_count": null,
   "id": "1967bc8b",
   "metadata": {},
   "outputs": [],
   "source": []
  },
  {
   "cell_type": "markdown",
   "id": "eed0a9ce",
   "metadata": {},
   "source": [
    "## Utilisation de `fltk`\n",
    "\n",
    "La doc est [ici](https://antoinemeyer.frama.io/fltk/).\n",
    "\n",
    "Vos questions ?"
   ]
  },
  {
   "cell_type": "markdown",
   "id": "2ae2fd7d",
   "metadata": {},
   "source": [
    "### Exercice\n",
    "\n",
    "Écrire un programme qui affiche un quadrillage de 16 * 16 cases en dégradés de gris (noir en haut à gauche, blanc en bas à droite).\n",
    "\n",
    "**Observer docstring et doctest**\n",
    "\n",
    "**Bonus :** Chaque clic sur un carré de l'image affiche la valeur de la couleur correspondante dans le terminal."
   ]
  },
  {
   "cell_type": "code",
   "execution_count": 24,
   "id": "5feb509f",
   "metadata": {},
   "outputs": [],
   "source": [
    "from fltk import *\n",
    "\n",
    "def hexa(nb):\n",
    "    \"\"\"\n",
    "    Convertit un nombre entier entre 0 et 255 en une couleur \n",
    "    au format #rgb.\n",
    "    \n",
    "    >>> hexa(255)\n",
    "    '#ffffff'\n",
    "    \n",
    "    >>> hexa(0)\n",
    "    '#000000'\n",
    "    \n",
    "    >>> hexa(16)\n",
    "    '#101010'\n",
    "    \"\"\"\n",
    "    ch = hex(nb)[2:]\n",
    "    if nb < 16:\n",
    "        ch = '0' + ch\n",
    "    return \"#\" + ch + ch + ch\n",
    "\n",
    "def gris():\n",
    "    taille_pixel = 20\n",
    "    cree_fenetre(taille_pixel * 16, taille_pixel * 16)\n",
    "    couleur = 0\n",
    "    for x in range(16):\n",
    "        for y in range(16):\n",
    "            rectangle(\n",
    "                x * taille_pixel, y * taille_pixel,\n",
    "                (x+1) * taille_pixel, (y+1) * taille_pixel,\n",
    "                remplissage=hexa(couleur))\n",
    "            couleur += 1\n",
    "    attend_ev()\n",
    "    ferme_fenetre()"
   ]
  },
  {
   "cell_type": "code",
   "execution_count": 26,
   "id": "0a8ddc00",
   "metadata": {},
   "outputs": [],
   "source": [
    "gris()"
   ]
  },
  {
   "cell_type": "code",
   "execution_count": 19,
   "id": "1f663dc0",
   "metadata": {},
   "outputs": [
    {
     "data": {
      "text/plain": [
       "TestResults(failed=0, attempted=3)"
      ]
     },
     "execution_count": 19,
     "metadata": {},
     "output_type": "execute_result"
    }
   ],
   "source": [
    "from doctest import testmod\n",
    "testmod()"
   ]
  },
  {
   "cell_type": "code",
   "execution_count": 20,
   "id": "0d180fd9",
   "metadata": {},
   "outputs": [
    {
     "name": "stdout",
     "output_type": "stream",
     "text": [
      "Help on function hexa in module __main__:\n",
      "\n",
      "hexa(nb)\n",
      "    Convertit un nombre entier entre 0 et 255 en une couleur \n",
      "    au format #rgb.\n",
      "    \n",
      "    >>> hexa(255)\n",
      "    '#ffffff'\n",
      "    \n",
      "    >>> hexa(0)\n",
      "    '#000000'\n",
      "    \n",
      "    >>> hexa(16)\n",
      "    '#101010'\n",
      "\n"
     ]
    }
   ],
   "source": [
    "help(hexa)"
   ]
  },
  {
   "cell_type": "code",
   "execution_count": null,
   "id": "ef69cbf0",
   "metadata": {},
   "outputs": [],
   "source": []
  },
  {
   "cell_type": "markdown",
   "id": "16c56773",
   "metadata": {},
   "source": [
    "## Parcours de liste, listes de listes, fonctions, fichiers\n",
    "\n",
    "Rappels : voir les [cours d'AP1](https://github.com/UGE-IGM/courspython)\n",
    "\n",
    "Vos questions ?"
   ]
  },
  {
   "cell_type": "markdown",
   "id": "d462c70d",
   "metadata": {},
   "source": [
    "## Scripts en ligne de commande\n",
    "\n",
    "### Exercices\n",
    "\n",
    "1.  Écrire un programme en ligne de commande qui affiche ses arguments sur le terminal (ligne par ligne)"
   ]
  },
  {
   "cell_type": "markdown",
   "id": "a7ad5bac",
   "metadata": {},
   "source": [
    "2.  Écrire un programme en ligne de commande qui reçoit en paramètre le nom d'un fichier texte et affiche son contenu sous forme de liste de liste de mots"
   ]
  },
  {
   "cell_type": "markdown",
   "id": "8983abf7",
   "metadata": {},
   "source": [
    "3.  Écrire un programme en ligne de commande qui reçoit en paramètre un mot et le nom d'un fichier et affiche la liste des lignes du fichier qui contiennent ce mot"
   ]
  },
  {
   "cell_type": "markdown",
   "id": "6a3c2efe",
   "metadata": {},
   "source": [
    "## Configurer sa machine\n",
    "\n",
    "Pour faire simple, quel que soit votre OS :\n",
    "\n",
    "- [Anaconda](https://www.anaconda.com/products/individual) pour installer Python 3 et un éditeur (Spyder ou Visual Studio Code par exemple)\n",
    "- [Git](https://git-scm.com/downloads), plus éventuellement une interface graphique pour vous simplifier la vie, par exemple [GitHub desktop](https://desktop.github.com/) ou git-gui (fourni avec Git)"
   ]
  },
  {
   "cell_type": "code",
   "execution_count": null,
   "id": "68302e9b",
   "metadata": {},
   "outputs": [],
   "source": []
  },
  {
   "cell_type": "markdown",
   "id": "9c0e4eed",
   "metadata": {},
   "source": [
    "## Git / GitHub\n",
    "\n",
    "Je n'arrive pas à me connecter (dans le terminal)\n",
    "\n",
    "- Solution 1 : créer une clé pour [l'accès ssh](https://docs.github.com/en/authentication/connecting-to-github-with-ssh/generating-a-new-ssh-key-and-adding-it-to-the-ssh-agent) et puis [l'ajouter sur GitHub](https://docs.github.com/en/authentication/connecting-to-github-with-ssh/adding-a-new-ssh-key-to-your-github-account). C'est le plus facile sur Linux (donc tous les machines de la fac.\n",
    "\n",
    "- Solution 2 : ne pas utiliser le terminal mais plutôt GitHub desktop ou VS Code"
   ]
  },
  {
   "cell_type": "markdown",
   "id": "aa654e6b",
   "metadata": {},
   "source": []
  },
  {
   "cell_type": "code",
   "execution_count": null,
   "id": "147d8d03",
   "metadata": {},
   "outputs": [],
   "source": []
  }
 ],
 "metadata": {
  "kernelspec": {
   "display_name": "Python 3 (ipykernel)",
   "language": "python",
   "name": "python3"
  },
  "language_info": {
   "codemirror_mode": {
    "name": "ipython",
    "version": 3
   },
   "file_extension": ".py",
   "mimetype": "text/x-python",
   "name": "python",
   "nbconvert_exporter": "python",
   "pygments_lexer": "ipython3",
   "version": "3.10.4"
  }
 },
 "nbformat": 4,
 "nbformat_minor": 5
}
