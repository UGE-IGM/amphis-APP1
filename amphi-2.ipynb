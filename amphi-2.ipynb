{
 "cells": [
  {
   "cell_type": "markdown",
   "id": "39cc0b74",
   "metadata": {},
   "source": [
    "# APP1 — Problème 1 — Amphi n° 2"
   ]
  },
  {
   "cell_type": "markdown",
   "id": "6ecb65c3",
   "metadata": {},
   "source": [
    "## Aujourd'hui\n",
    "\n",
    "- Explication de soutenance\n",
    "- Discussion sur la poursuite du module, recensement des personnes souhaitant passer en AP1\n",
    "- Réponse à vos questions\n",
    "- Annonce du questionnaire de suivi"
   ]
  },
  {
   "cell_type": "markdown",
   "id": "062f6ce8",
   "metadata": {},
   "source": [
    "### Quelques éléments possibles de l'ordre du jour :\n",
    "\n",
    "- Sujets concernant la soutenance\n",
    "    - La modalité\n",
    "    - Qu'est-ce qu'on attend ?\n",
    "    - Structure de la soutenance\n",
    "\n",
    "- Sujets spécifiques au problème\n",
    "    - Conversion d'un nombre décimal en hexadécimal\n",
    "    - Utilisation générale de `fltk`\n",
    "    - Affichage d'une image, coordonnées des rectangles\n",
    "\n",
    "- Sujets relatifs à Python\n",
    "    - Parcours de listes, listes de listes\n",
    "    - Écriture et utilisation de fonctions (paramètres, résultat, etc.)\n",
    "    - Travailler sur un fichier\n",
    "    - Programmation d'un script en ligne de commande\n",
    "\n",
    "- Sujets méthodologiques\n",
    "    - Configuration de Python sur une machine personnelle\n",
    "    - Questions sur l'utilisation de GitHub"
   ]
  },
  {
   "cell_type": "markdown",
   "id": "df406857",
   "metadata": {},
   "source": [
    "## Soutenance\n",
    "\n",
    "### Modalité\n",
    "\n",
    "- Temps : 2 heures / 8 $\\approx$ 15 minutes par groupe\n",
    "- Constitution : Explication par le groupe + questions de chargé de TP\n",
    "\n",
    "### Le contenu attendu (ce qu'on veut savoir)\n",
    "\n",
    "- Un petit démo, explication du travail effectué (partie obligatoire, partie complémentaire)\n",
    "- Conception du programme\n",
    "    - Structure de données (comment les données sont représentées dans le programme, avec quel type de variable)\n",
    "    - Organisation des fonctions (comment vous faites marcher votre code, avec quelles fonctions pour chaque tâche)\n",
    "- Partage de travail (comment vous travaillez, qui s'occupe de quoi)\n",
    "\n",
    "### Quelques conseils\n",
    "\n",
    "- Bien répéter\n",
    "- Discuter le partage de parole\n",
    "- Préparer et tester le démo avant"
   ]
  },
  {
   "cell_type": "markdown",
   "id": "234a094d",
   "metadata": {},
   "source": [
    "## Configurer sa machine\n",
    "\n",
    "Pour faire simple, quel que soit votre OS :\n",
    "\n",
    "- [Anaconda](https://www.anaconda.com/products/individual) pour installer Python 3 et un éditeur (Spyder ou Visual Studio Code par exemple)\n",
    "- [Git](https://git-scm.com/downloads), plus éventuellement une interface graphique pour vous simplifier la vie, par exemple [GitHub desktop](https://desktop.github.com/) ou git-gui (fourni avec Git)"
   ]
  },
  {
   "cell_type": "markdown",
   "id": "1c1093a5",
   "metadata": {},
   "source": [
    "## Git / GitHub\n",
    "\n",
    "Je n'arrive pas à me connecter (dans le terminal)\n",
    "\n",
    "- Solution 1 : créer une clé pour [l'accès ssh](https://docs.github.com/en/authentication/connecting-to-github-with-ssh/generating-a-new-ssh-key-and-adding-it-to-the-ssh-agent) et puis [l'ajouter sur GitHub](https://docs.github.com/en/authentication/connecting-to-github-with-ssh/adding-a-new-ssh-key-to-your-github-account). C'est le plus facile sur Linux (donc tous les machines de la fac).\n",
    "\n",
    "- Solution 2 : ne pas utiliser le terminal mais plutôt GitHub desktop ou VS Code"
   ]
  },
  {
   "cell_type": "markdown",
   "id": "d5ca919c",
   "metadata": {},
   "source": [
    "## Conversion décimal vers hexadécimal\n",
    "\n",
    "Hexadécimal veut dire \"représentation en base 16\".\n",
    "\n",
    "On utilise les 10 chiffres habituels (0 à 9) *plus* les 6 premières lettres de l'alhabet (A à F) pour les valeurs de 10 à 15.\n",
    "\n",
    "Exemples : \n",
    "- FF représente le nombre $15 * 16^1 + 15 * 16^0 = 255$\n",
    "- 1A45 représente le nombre $1 * 16^3 + 10 * 16^2 + 4 * 16^1 + 5 * 16^0 = 6725$"
   ]
  },
  {
   "cell_type": "code",
   "execution_count": null,
   "id": "301d0f24",
   "metadata": {},
   "outputs": [],
   "source": [
    "int('1A45', 16)"
   ]
  },
  {
   "cell_type": "code",
   "execution_count": null,
   "id": "809b1fdf",
   "metadata": {},
   "outputs": [],
   "source": [
    "hex(6725)"
   ]
  },
  {
   "cell_type": "code",
   "execution_count": null,
   "id": "e0ffbc06",
   "metadata": {},
   "outputs": [],
   "source": [
    "0x1a45"
   ]
  },
  {
   "cell_type": "code",
   "execution_count": null,
   "id": "610a3139",
   "metadata": {},
   "outputs": [],
   "source": [
    "var = 12\n",
    "print(f'ceci est le {var:x}')"
   ]
  },
  {
   "cell_type": "markdown",
   "id": "56038a0b",
   "metadata": {},
   "source": [
    "### Exercices\n",
    "\n",
    "1.  Écrire une fonction `hexa_facile(petit_nombre)` recevant un entier positif strictement inférieur à 256 et renvoyant une chaîne de caractères représentant ce nombre en hexadécimal (sans utiliser la fonction `hex`).\n",
    "\n",
    "    Indice : `nombre % 16` donne le nombre d'unités en base 16, et `nombre // 16` donne le nombre de \"seizaines\".\n",
    "    "
   ]
  },
  {
   "cell_type": "code",
   "execution_count": null,
   "id": "9fe66e0b",
   "metadata": {},
   "outputs": [],
   "source": []
  },
  {
   "cell_type": "markdown",
   "id": "efa56d4a",
   "metadata": {},
   "source": [
    "2.  Écrire une fonction `hexa(nombre)` recevant un entier positif strictement inférieur à 256 et renvoyant une chaîne de caractères représentant ce nombre en hexadécimal (sans utiliser la fonction `hex`).\n",
    "\n",
    "    Indice : `nombre % 16` donne le nombre d'unités en base 16, et `nombre // 16` donne le nombre de \"seizaines\", qu'il faut encore convertir en hexadécimal."
   ]
  },
  {
   "cell_type": "code",
   "execution_count": null,
   "id": "1967bc8b",
   "metadata": {},
   "outputs": [],
   "source": []
  },
  {
   "cell_type": "markdown",
   "id": "eed0a9ce",
   "metadata": {},
   "source": [
    "## Utilisation de `fltk`\n",
    "\n",
    "La doc est [ici](https://antoinemeyer.frama.io/fltk/).\n",
    "\n",
    "Vos questions ?"
   ]
  },
  {
   "cell_type": "markdown",
   "id": "2ae2fd7d",
   "metadata": {},
   "source": [
    "### Exercice\n",
    "\n",
    "Écrire un programme qui affiche un quadrillage de 16 * 16 cases en dégradés de gris (noir en haut à gauche, blanc en bas à droite).\n",
    "\n",
    "**Observer docstring et doctest**"
   ]
  },
  {
   "cell_type": "code",
   "execution_count": null,
   "id": "5feb509f",
   "metadata": {},
   "outputs": [],
   "source": [
    "from fltk import *\n",
    "\n",
    "def hexa(k):\n",
    "    '''\n",
    "    Convertir un nombre entier entre 0 et 255 en une couleur grise au format fltk, donc \"#rrggbb\"\n",
    "    \n",
    "    Doctest ?\n",
    "    '''"
   ]
  },
  {
   "cell_type": "code",
   "execution_count": null,
   "id": "0a8ddc00",
   "metadata": {},
   "outputs": [],
   "source": [
    "gris()"
   ]
  },
  {
   "cell_type": "code",
   "execution_count": null,
   "id": "1f663dc0",
   "metadata": {},
   "outputs": [],
   "source": [
    "from doctest import testmod\n",
    "testmod()"
   ]
  },
  {
   "cell_type": "code",
   "execution_count": null,
   "id": "0d180fd9",
   "metadata": {},
   "outputs": [],
   "source": [
    "help(hexa)"
   ]
  },
  {
   "cell_type": "code",
   "execution_count": null,
   "id": "ef69cbf0",
   "metadata": {},
   "outputs": [],
   "source": []
  },
  {
   "cell_type": "markdown",
   "id": "16c56773",
   "metadata": {},
   "source": [
    "## Parcours de liste, listes de listes, fonctions, fichiers\n",
    "\n",
    "Rappels : voir les [cours d'AP1](https://github.com/UGE-IGM/courspython)\n",
    "\n",
    "Vos questions ?"
   ]
  },
  {
   "cell_type": "markdown",
   "id": "d462c70d",
   "metadata": {},
   "source": [
    "## Scripts en ligne de commande\n",
    "\n",
    "### Exercices\n",
    "\n",
    "1.  Écrire un programme en ligne de commande qui affiche ses arguments sur le terminal (ligne par ligne)"
   ]
  },
  {
   "cell_type": "markdown",
   "id": "a7ad5bac",
   "metadata": {},
   "source": [
    "2.  Écrire un programme en ligne de commande qui reçoit en paramètre le nom d'un fichier texte et affiche son contenu sous forme de liste de liste de mots"
   ]
  },
  {
   "cell_type": "markdown",
   "id": "8983abf7",
   "metadata": {},
   "source": [
    "3.  Écrire un programme en ligne de commande qui reçoit en paramètre un mot et le nom d'un fichier et affiche la liste des lignes du fichier qui contiennent ce mot"
   ]
  },
  {
   "cell_type": "code",
   "execution_count": null,
   "id": "90239bea",
   "metadata": {},
   "outputs": [],
   "source": []
  }
 ],
 "metadata": {
  "kernelspec": {
   "display_name": "Python 3 (ipykernel)",
   "language": "python",
   "name": "python3"
  },
  "language_info": {
   "codemirror_mode": {
    "name": "ipython",
    "version": 3
   },
   "file_extension": ".py",
   "mimetype": "text/x-python",
   "name": "python",
   "nbconvert_exporter": "python",
   "pygments_lexer": "ipython3",
   "version": "3.11.4"
  }
 },
 "nbformat": 4,
 "nbformat_minor": 5
}
