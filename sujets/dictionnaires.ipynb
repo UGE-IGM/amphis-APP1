{
 "cells": [
  {
   "cell_type": "markdown",
   "metadata": {},
   "source": [
    "# Dictionnaires"
   ]
  },
  {
   "cell_type": "markdown",
   "metadata": {},
   "source": [
    "Comment résoudre efficacement les problèmes suivants ?\n",
    "\n",
    "- Compter le nombre d'occurences de chaque mot dans un texte\n",
    "- Rassembler plusieurs informations concernant une personne (nom, âge, numéro de sécurité sociale, profession, liste d’enfants...) et les passer en argument à une fonction\n",
    "- Représenter les coefficients d’une matrice ou d’un polynôme \"creux\"\n",
    "- Mémoriser les valeurs de retour d’une fonction pour différents arguments\n",
    "\n",
    "On verra des exemples dans la suite."
   ]
  },
  {
   "cell_type": "markdown",
   "metadata": {},
   "source": [
    "## Le type `dict`\n",
    "\n",
    "Dictionnaire : objet associant une liste de clés (*keys*) à des valeurs (*values*). \n",
    "\n",
    "Un objet de type `dict` est :\n",
    "* **une collection**\n",
    "* **mutable** (modifiable)\n",
    "* **hétérogène** (peut contenir des types différents)\n",
    "* **itérable** (utilisable dans un `for`)\n",
    "\n",
    "~~Un objet de type `dict` n'est **pas** une **séquence** (éléments non numérotés et non ordonnés)~~"
   ]
  },
  {
   "cell_type": "markdown",
   "metadata": {},
   "source": [
    "## Création d'un dictionnaire"
   ]
  },
  {
   "cell_type": "markdown",
   "metadata": {},
   "source": [
    "### Création d'un dictionnaire vide"
   ]
  },
  {
   "cell_type": "markdown",
   "metadata": {},
   "source": [
    "Avec la notation « accolades » :"
   ]
  },
  {
   "cell_type": "code",
   "execution_count": 1,
   "metadata": {
    "slideshow": {
     "slide_type": "-"
    }
   },
   "outputs": [
    {
     "data": {
      "text/plain": [
       "{}"
      ]
     },
     "execution_count": 1,
     "metadata": {},
     "output_type": "execute_result"
    }
   ],
   "source": [
    "vide = {}    # dictionnaire vide\n",
    "vide"
   ]
  },
  {
   "cell_type": "markdown",
   "metadata": {},
   "source": [
    "Avec la fonction « `dict` » :"
   ]
  },
  {
   "cell_type": "code",
   "execution_count": 2,
   "metadata": {
    "slideshow": {
     "slide_type": "-"
    }
   },
   "outputs": [
    {
     "data": {
      "text/plain": [
       "{}"
      ]
     },
     "execution_count": 2,
     "metadata": {},
     "output_type": "execute_result"
    }
   ],
   "source": [
    "vide = dict()   # idem\n",
    "vide"
   ]
  },
  {
   "cell_type": "markdown",
   "metadata": {
    "slideshow": {
     "slide_type": "subslide"
    }
   },
   "source": [
    "### Création d'un dictionnaire contenant des éléments"
   ]
  },
  {
   "cell_type": "markdown",
   "metadata": {},
   "source": [
    "Avec la notation « accolades » :"
   ]
  },
  {
   "cell_type": "code",
   "execution_count": 3,
   "metadata": {
    "slideshow": {
     "slide_type": "-"
    }
   },
   "outputs": [
    {
     "data": {
      "text/plain": [
       "{'a': 31, 'bidule': 28.5, 'c': 33, 9: 18, 'Prépa': 22}"
      ]
     },
     "execution_count": 3,
     "metadata": {},
     "output_type": "execute_result"
    }
   ],
   "source": [
    "effectif_groupes = {'a': 31, \n",
    "                    'bidule': 28.5, \n",
    "                    'c': 33, \n",
    "                    9: 18, \n",
    "                    'Prépa': 22}\n",
    "effectif_groupes"
   ]
  },
  {
   "cell_type": "markdown",
   "metadata": {},
   "source": [
    "Avec la fonction `dict` à partir d'un itérable contenant des couples `(clé, valeur)` :"
   ]
  },
  {
   "cell_type": "code",
   "execution_count": 4,
   "metadata": {},
   "outputs": [
    {
     "data": {
      "text/plain": [
       "{'a': 31, 'bidule': 28.5, 'c': 33, 9: 18, 'Prépa': 22}"
      ]
     },
     "execution_count": 4,
     "metadata": {},
     "output_type": "execute_result"
    }
   ],
   "source": [
    "effectif_groupes = dict([('a', 31), ('bidule', 28.5), ('c', 33), (9, 18), ('Prépa', 22)])\n",
    "effectif_groupes"
   ]
  },
  {
   "cell_type": "markdown",
   "metadata": {},
   "source": [
    "### Restrictions portant sur les clés"
   ]
  },
  {
   "cell_type": "markdown",
   "metadata": {},
   "source": [
    "\n",
    "Il faut que les **clés** soient **hashables**. La définition de hashable est un peu compliquée. Il suffit de retenir pour le moment que tous les objets prédéfinis **immutables** (non modifiables) sont hashables.\n",
    "\n",
    "Les types qui peuvent être des clés :\n",
    "* Types primitifs : `int`, `float`, `str`, `bool`\n",
    "* `tuple` : `(0, 0)`\n",
    "\n",
    "Les types qui ne peuvent **pas** être des clés :\n",
    "* `list` : `[0, 0]`\n",
    "* `dict`, etc."
   ]
  },
  {
   "cell_type": "code",
   "execution_count": 7,
   "metadata": {},
   "outputs": [
    {
     "ename": "TypeError",
     "evalue": "unhashable type: 'list'",
     "output_type": "error",
     "traceback": [
      "\u001b[31m---------------------------------------------------------------------------\u001b[39m",
      "\u001b[31mTypeError\u001b[39m                                 Traceback (most recent call last)",
      "\u001b[36mCell\u001b[39m\u001b[36m \u001b[39m\u001b[32mIn[7]\u001b[39m\u001b[32m, line 1\u001b[39m\n\u001b[32m----> \u001b[39m\u001b[32m1\u001b[39m \u001b[38;5;28;43mhash\u001b[39;49m\u001b[43m(\u001b[49m\u001b[43m[\u001b[49m\u001b[33;43m\"\u001b[39;49m\u001b[33;43mfou\u001b[39;49m\u001b[33;43m\"\u001b[39;49m\u001b[43m,\u001b[49m\u001b[43m \u001b[49m\u001b[33;43m\"\u001b[39;49m\u001b[33;43men\u001b[39;49m\u001b[33;43m\"\u001b[39;49m\u001b[43m,\u001b[49m\u001b[43m \u001b[49m\u001b[33;43m'\u001b[39;49m\u001b[33;43mD\u001b[39;49m\u001b[33;43m'\u001b[39;49m\u001b[43m,\u001b[49m\u001b[43m \u001b[49m\u001b[32;43m4\u001b[39;49m\u001b[43m]\u001b[49m\u001b[43m)\u001b[49m\n",
      "\u001b[31mTypeError\u001b[39m: unhashable type: 'list'"
     ]
    }
   ],
   "source": [
    "hash([\"fou\", \"en\", 'D', 4])"
   ]
  },
  {
   "cell_type": "code",
   "execution_count": 8,
   "metadata": {},
   "outputs": [
    {
     "data": {
      "text/plain": [
       "2047164412774107477"
      ]
     },
     "execution_count": 8,
     "metadata": {},
     "output_type": "execute_result"
    }
   ],
   "source": [
    "hash((\"fou\", \"en\", 'D', 4))"
   ]
  },
  {
   "cell_type": "code",
   "execution_count": 5,
   "metadata": {},
   "outputs": [
    {
     "ename": "TypeError",
     "evalue": "unhashable type: 'list'",
     "output_type": "error",
     "traceback": [
      "\u001b[31m---------------------------------------------------------------------------\u001b[39m",
      "\u001b[31mTypeError\u001b[39m                                 Traceback (most recent call last)",
      "\u001b[36mCell\u001b[39m\u001b[36m \u001b[39m\u001b[32mIn[5]\u001b[39m\u001b[32m, line 1\u001b[39m\n\u001b[32m----> \u001b[39m\u001b[32m1\u001b[39m contenu_cases = {\n\u001b[32m      2\u001b[39m     [\u001b[32m0\u001b[39m, \u001b[32m0\u001b[39m]: \u001b[33m'\u001b[39m\u001b[33mpersonnage\u001b[39m\u001b[33m'\u001b[39m,\n\u001b[32m      3\u001b[39m     [\u001b[32m3\u001b[39m, \u001b[32m5\u001b[39m]: \u001b[33m'\u001b[39m\u001b[33mpomme\u001b[39m\u001b[33m'\u001b[39m,\n\u001b[32m      4\u001b[39m     [\u001b[32m2\u001b[39m, \u001b[32m1\u001b[39m]: \u001b[33m'\u001b[39m\u001b[33mtrésor\u001b[39m\u001b[33m'\u001b[39m\n\u001b[32m      5\u001b[39m }\n",
      "\u001b[31mTypeError\u001b[39m: unhashable type: 'list'"
     ]
    }
   ],
   "source": [
    "contenu_cases = {\n",
    "    [0, 0]: 'personnage',\n",
    "    [3, 5]: 'pomme',\n",
    "    [2, 1]: 'trésor'\n",
    "}"
   ]
  },
  {
   "cell_type": "code",
   "execution_count": 6,
   "metadata": {},
   "outputs": [],
   "source": [
    "contenu_cases = {\n",
    "    (0, 0): 'personnage',\n",
    "    (3, 5): 'pomme',\n",
    "    (2, 1): 'trésor'\n",
    "}"
   ]
  },
  {
   "cell_type": "markdown",
   "metadata": {},
   "source": [
    "### Restrictions portant sur les valeurs"
   ]
  },
  {
   "cell_type": "markdown",
   "metadata": {},
   "source": [
    "Pour les **valeurs** d'un dictionnaire, il n'y a **pas de restriction**. On peut utiliser des listes ou des dictionnaires comme valeurs dans un dictionnaire."
   ]
  },
  {
   "cell_type": "code",
   "execution_count": 9,
   "metadata": {},
   "outputs": [
    {
     "data": {
      "text/plain": [
       "['Pikachu', 'Bulbizarre', 'Dracaufeu']"
      ]
     },
     "execution_count": 9,
     "metadata": {},
     "output_type": "execute_result"
    }
   ],
   "source": [
    "dresseurs = {\n",
    "    'Sacha': ['Pikachu', 'Bulbizarre', 'Dracaufeu'],\n",
    "    'Ondine': ['Togepi', 'Psykokwak'],\n",
    "    'Pierre': ['Onix', 'Racaillou']\n",
    "}\n",
    "\n",
    "dresseurs['Sacha']"
   ]
  },
  {
   "cell_type": "markdown",
   "metadata": {},
   "source": [
    "## Manipulation d'un dictionnaire"
   ]
  },
  {
   "cell_type": "markdown",
   "metadata": {},
   "source": [
    "### Accès à une valeur via sa clé : `dico[clé]`"
   ]
  },
  {
   "cell_type": "code",
   "execution_count": 10,
   "metadata": {},
   "outputs": [
    {
     "name": "stdout",
     "output_type": "stream",
     "text": [
      "Valeur de la clé 'c' :  33\n"
     ]
    }
   ],
   "source": [
    "effectifs = {'a': 31, 'bidule': 28, 'c': 33, 9: 18, 'Prépa': 22}\n",
    "print(\"Valeur de la clé 'c' : \", effectifs['c'])"
   ]
  },
  {
   "cell_type": "code",
   "execution_count": 11,
   "metadata": {},
   "outputs": [
    {
     "data": {
      "text/plain": [
       "22"
      ]
     },
     "execution_count": 11,
     "metadata": {},
     "output_type": "execute_result"
    }
   ],
   "source": [
    "effectifs['Prépa']"
   ]
  },
  {
   "cell_type": "code",
   "execution_count": 12,
   "metadata": {},
   "outputs": [
    {
     "data": {
      "text/plain": [
       "18"
      ]
     },
     "execution_count": 12,
     "metadata": {},
     "output_type": "execute_result"
    }
   ],
   "source": [
    "effectifs[9]"
   ]
  },
  {
   "cell_type": "code",
   "execution_count": 13,
   "metadata": {},
   "outputs": [
    {
     "ename": "KeyError",
     "evalue": "0",
     "output_type": "error",
     "traceback": [
      "\u001b[31m---------------------------------------------------------------------------\u001b[39m",
      "\u001b[31mKeyError\u001b[39m                                  Traceback (most recent call last)",
      "\u001b[36mCell\u001b[39m\u001b[36m \u001b[39m\u001b[32mIn[13]\u001b[39m\u001b[32m, line 1\u001b[39m\n\u001b[32m----> \u001b[39m\u001b[32m1\u001b[39m \u001b[43meffectifs\u001b[49m\u001b[43m[\u001b[49m\u001b[32;43m0\u001b[39;49m\u001b[43m]\u001b[49m\n",
      "\u001b[31mKeyError\u001b[39m: 0"
     ]
    }
   ],
   "source": [
    "effectifs[0]"
   ]
  },
  {
   "cell_type": "markdown",
   "metadata": {},
   "source": [
    "### Nombre de clés (taille) : `len(dico)`"
   ]
  },
  {
   "cell_type": "code",
   "execution_count": 14,
   "metadata": {},
   "outputs": [
    {
     "data": {
      "text/plain": [
       "5"
      ]
     },
     "execution_count": 14,
     "metadata": {},
     "output_type": "execute_result"
    }
   ],
   "source": [
    "effectifs = {'a': 31, 'bidule': 28, 'c': 33, 9: 18, 'Prépa': 22}\n",
    "len(effectifs)"
   ]
  },
  {
   "cell_type": "markdown",
   "metadata": {},
   "source": [
    "### Test d'appartenance : `clé in dico`"
   ]
  },
  {
   "cell_type": "code",
   "execution_count": 15,
   "metadata": {},
   "outputs": [],
   "source": [
    "effectifs = {'a': 31, 'bidule': 28, 'c': 33, 9: 18, 'Prépa': 22}"
   ]
  },
  {
   "cell_type": "code",
   "execution_count": 16,
   "metadata": {},
   "outputs": [
    {
     "data": {
      "text/plain": [
       "True"
      ]
     },
     "execution_count": 16,
     "metadata": {},
     "output_type": "execute_result"
    }
   ],
   "source": [
    "'bidule' in effectifs"
   ]
  },
  {
   "cell_type": "code",
   "execution_count": 17,
   "metadata": {},
   "outputs": [
    {
     "data": {
      "text/plain": [
       "False"
      ]
     },
     "execution_count": 17,
     "metadata": {},
     "output_type": "execute_result"
    }
   ],
   "source": [
    "31 in effectifs"
   ]
  },
  {
   "cell_type": "code",
   "execution_count": 18,
   "metadata": {},
   "outputs": [
    {
     "data": {
      "text/plain": [
       "False"
      ]
     },
     "execution_count": 18,
     "metadata": {},
     "output_type": "execute_result"
    }
   ],
   "source": [
    "'bidule' not in effectifs"
   ]
  },
  {
   "cell_type": "markdown",
   "metadata": {},
   "source": [
    "Cette construction est très utile pour faire des accès **contrôlés** au dictionnaire.\n",
    "\n",
    "Par exemple, le code suivant donne une erreur."
   ]
  },
  {
   "cell_type": "code",
   "execution_count": 22,
   "metadata": {},
   "outputs": [
    {
     "name": "stdin",
     "output_type": "stream",
     "text": [
      "Saisir un nom de groupe :  d\n"
     ]
    },
    {
     "name": "stdout",
     "output_type": "stream",
     "text": [
      "Le groupe d n'existe pas.\n"
     ]
    }
   ],
   "source": [
    "groupe = input('Saisir un nom de groupe : ')\n",
    "if groupe in effectifs:\n",
    "    print('Le groupe', groupe, 'compte', effectifs[groupe], 'étudiants.')\n",
    "else:\n",
    "    print('Le groupe', groupe, \"n'existe pas.\")"
   ]
  },
  {
   "cell_type": "markdown",
   "metadata": {},
   "source": [
    "### Modification d'une valeur associée à une clé : `dico[clé] = nouvelle_valeur`"
   ]
  },
  {
   "cell_type": "code",
   "execution_count": 23,
   "metadata": {},
   "outputs": [],
   "source": [
    "effectifs = {'a': 31, 'bidule': 28, 'c': 33, 9: 18, 'Prépa': 22}"
   ]
  },
  {
   "cell_type": "code",
   "execution_count": 24,
   "metadata": {},
   "outputs": [],
   "source": [
    "effectifs['bidule'] = 'truc'"
   ]
  },
  {
   "cell_type": "code",
   "execution_count": 25,
   "metadata": {},
   "outputs": [
    {
     "data": {
      "text/plain": [
       "{'a': 31, 'bidule': 'truc', 'c': 33, 9: 18, 'Prépa': 22}"
      ]
     },
     "execution_count": 25,
     "metadata": {},
     "output_type": "execute_result"
    }
   ],
   "source": [
    "effectifs"
   ]
  },
  {
   "cell_type": "markdown",
   "metadata": {},
   "source": [
    "Cette syntaxe permet aussi de créer une nouvelle clé associée à une nouvelle valeur :"
   ]
  },
  {
   "cell_type": "code",
   "execution_count": 26,
   "metadata": {},
   "outputs": [
    {
     "data": {
      "text/plain": [
       "{'a': 31, 'bidule': 'truc', 'c': 33, 9: 18, 'Prépa': 22, 8: 19}"
      ]
     },
     "execution_count": 26,
     "metadata": {},
     "output_type": "execute_result"
    }
   ],
   "source": [
    "effectifs[8] = 19\n",
    "effectifs"
   ]
  },
  {
   "cell_type": "markdown",
   "metadata": {},
   "source": [
    "### Suppression d'un couple clé/valeur : `del dico[clé]`"
   ]
  },
  {
   "cell_type": "code",
   "execution_count": 27,
   "metadata": {},
   "outputs": [
    {
     "data": {
      "text/plain": [
       "{'a': 31, 'c': 33, 9: 18, 'Prépa': 22, 8: 19}"
      ]
     },
     "execution_count": 27,
     "metadata": {},
     "output_type": "execute_result"
    }
   ],
   "source": [
    "del effectifs['bidule']\n",
    "effectifs"
   ]
  },
  {
   "cell_type": "markdown",
   "metadata": {},
   "source": [
    "### Parcours d'un dictionnaire par boucle `for` :"
   ]
  },
  {
   "cell_type": "markdown",
   "metadata": {},
   "source": [
    "Forme générale :\n",
    "\n",
    "```python\n",
    "for cle in dictionnaire:\n",
    "    valeur = dictionnaire[cle]\n",
    "    ...  # traitement utilisant cle et valeur\n",
    "```"
   ]
  },
  {
   "cell_type": "code",
   "execution_count": 28,
   "metadata": {},
   "outputs": [
    {
     "name": "stdout",
     "output_type": "stream",
     "text": [
      "a -> 31\n",
      "c -> 33\n",
      "9 -> 18\n",
      "Prépa -> 22\n",
      "8 -> 19\n"
     ]
    }
   ],
   "source": [
    "for groupe in effectifs:\n",
    "    print(groupe, \"->\", effectifs[groupe])"
   ]
  },
  {
   "cell_type": "markdown",
   "metadata": {},
   "source": [
    "Remarque : cela n'a pas de sens de parcourir un dictionnaire avec `range` !"
   ]
  },
  {
   "cell_type": "markdown",
   "metadata": {},
   "source": [
    "### Récupérer une valeur avec valeur par défaut : `dictionnaire.get(cle, defaut)`\n",
    "\n",
    "Si `cle` existe dans `dictionnaire` la méthode renvoie `dictionnaire[cle]`, sinon elle renvoie la valeur de `defaut`.\n",
    "\n",
    "Méthode équivalente à la fonction suivante :"
   ]
  },
  {
   "cell_type": "code",
   "execution_count": 30,
   "metadata": {},
   "outputs": [
    {
     "data": {
      "text/plain": [
       "33"
      ]
     },
     "execution_count": 30,
     "metadata": {},
     "output_type": "execute_result"
    }
   ],
   "source": [
    "def acces_avec_defaut(dictionnaire, cle, defaut):\n",
    "    if cle in dictionnaire:\n",
    "        return dictionnaire[cle]\n",
    "    else:\n",
    "        return defaut\n",
    "\n",
    "acces_avec_defaut(effectifs, 'c', 0)"
   ]
  },
  {
   "cell_type": "code",
   "execution_count": 31,
   "metadata": {},
   "outputs": [
    {
     "data": {
      "text/plain": [
       "0"
      ]
     },
     "execution_count": 31,
     "metadata": {},
     "output_type": "execute_result"
    }
   ],
   "source": [
    "effectifs.get('d', 0)"
   ]
  },
  {
   "cell_type": "markdown",
   "metadata": {},
   "source": [
    "\n",
    "\n",
    "Pratique pour éviter le test `if cle in dictionnaire` :"
   ]
  },
  {
   "cell_type": "code",
   "execution_count": 32,
   "metadata": {},
   "outputs": [],
   "source": [
    "dico_exam = {'Adam': 19, 'Ben': 3, 'Cécile': 16.5, 'Dhara': 10.5, 'Ea': 8}"
   ]
  },
  {
   "cell_type": "code",
   "execution_count": 33,
   "metadata": {},
   "outputs": [
    {
     "data": {
      "text/plain": [
       "10.5"
      ]
     },
     "execution_count": 33,
     "metadata": {},
     "output_type": "execute_result"
    }
   ],
   "source": [
    "\n",
    "dico_exam.get('Dhara', 0)\n"
   ]
  },
  {
   "cell_type": "code",
   "execution_count": 34,
   "metadata": {},
   "outputs": [
    {
     "data": {
      "text/plain": [
       "0"
      ]
     },
     "execution_count": 34,
     "metadata": {},
     "output_type": "execute_result"
    }
   ],
   "source": [
    "dico_exam.get('Fanhui', 0)"
   ]
  },
  {
   "cell_type": "markdown",
   "metadata": {},
   "source": [
    "## Exemples d'utilisation"
   ]
  },
  {
   "cell_type": "markdown",
   "metadata": {},
   "source": [
    "### Carte de visite"
   ]
  },
  {
   "cell_type": "code",
   "execution_count": 35,
   "metadata": {},
   "outputs": [
    {
     "name": "stdout",
     "output_type": "stream",
     "text": [
      "Hello,\n",
      "My name is Sir Galahad the pure.\n",
      "I am a knight in Camelot.\n",
      "My quest is to seek the holy Grail.\n",
      "My favorite color is blue. No yel... auuuuuuuugh.\n",
      "\n",
      "Hello,\n",
      "My name is Sir Robin the not-quite-so-brave-as-Sir-Lancelot.\n",
      "I am a knight in Camelot.\n",
      "My quest is to seek the holy Grail.\n",
      "My favorite color is red.\n"
     ]
    }
   ],
   "source": [
    "def affiche_carte(carte):\n",
    "    print(\"Hello,\")\n",
    "    print(\"My name is\", carte['name'], \"the\", carte['quality'], end='.\\n')\n",
    "    print(\"I am a\", carte['profession'], 'in', carte['place'], end='.\\n')\n",
    "    print(\"My quest is\", carte['quest'], end='.\\n')\n",
    "    print(\"My favorite color is\", carte['color'], end='.\\n')\n",
    "\n",
    "carte = {'name': 'Sir Galahad',\n",
    "         'quality': 'pure',\n",
    "         'profession': 'knight',\n",
    "         'place': 'Camelot',\n",
    "         'quest': 'to seek the holy Grail',\n",
    "         'color': 'blue. No yel... auuuuuuuugh'}\n",
    "\n",
    "carte2 = {'name': 'Sir Robin',\n",
    "          'quality': 'not-quite-so-brave-as-Sir-Lancelot',\n",
    "          'profession': 'knight',\n",
    "          'place': 'Camelot',\n",
    "          'quest': 'to seek the holy Grail',\n",
    "          'color': 'red'}\n",
    "\n",
    "affiche_carte(carte)\n",
    "print()\n",
    "affiche_carte(carte2)"
   ]
  },
  {
   "cell_type": "markdown",
   "metadata": {
    "slideshow": {
     "slide_type": "subslide"
    }
   },
   "source": [
    "## Opérations (résumé)\n",
    "\n",
    "- Création   `d = {}` ou `d = dict()` ou `d = {’a’: 1, ...}`\n",
    "- Accès : `d[cle]`, `d[cle1][cle2]`, ...\n",
    "- Taille : `len(d)`\n",
    "- Test d'appartenance : `cle in d`, `cle not in d`      \n",
    "- Ajout ou modification : `d[cle] = valeur`\n",
    "- Suppression : `del d[cle]`\n",
    "- Itération : `for cle in d`"
   ]
  },
  {
   "cell_type": "markdown",
   "metadata": {
    "slideshow": {
     "slide_type": "subslide"
    }
   },
   "source": [
    "## Méthodes (non exhaustif, voir la [documentation](https://docs.python.org/fr/3/library/stdtypes.html#dict))\n",
    "\n",
    "- Accès aux clés : `d.keys()`\n",
    "- Accès aux valeurs : `d.values()`\n",
    "- Accès aux couples `(cle, valeur)` : `d.items()`            \n",
    "- Copie (superficielle) : `d.copy()`             \n",
    "- Vidange : `d.clear()`\n",
    "- Accès avec valeur par défaut : `d.get(cle, defaut)`\n",
    "- Retrait de valeur : `d.pop(cle)`           \n",
    "- Mise à jour / fusion : `d.update(d2)`"
   ]
  },
  {
   "cell_type": "code",
   "execution_count": 36,
   "metadata": {
    "slideshow": {
     "slide_type": "subslide"
    }
   },
   "outputs": [
    {
     "name": "stdout",
     "output_type": "stream",
     "text": [
      "a\n",
      "c\n",
      "9\n",
      "Prépa\n",
      "8\n"
     ]
    }
   ],
   "source": [
    "for cle in effectifs.keys():\n",
    "    print(cle)"
   ]
  },
  {
   "cell_type": "code",
   "execution_count": 37,
   "metadata": {
    "slideshow": {
     "slide_type": "subslide"
    }
   },
   "outputs": [
    {
     "data": {
      "text/plain": [
       "['a', 'c', 9, 'Prépa', 8]"
      ]
     },
     "execution_count": 37,
     "metadata": {},
     "output_type": "execute_result"
    }
   ],
   "source": [
    "list(effectifs.keys())"
   ]
  },
  {
   "cell_type": "code",
   "execution_count": 38,
   "metadata": {
    "slideshow": {
     "slide_type": "fragment"
    }
   },
   "outputs": [
    {
     "data": {
      "text/plain": [
       "[31, 33, 18, 22, 19]"
      ]
     },
     "execution_count": 38,
     "metadata": {},
     "output_type": "execute_result"
    }
   ],
   "source": [
    "list(effectifs.values())"
   ]
  },
  {
   "cell_type": "code",
   "execution_count": 39,
   "metadata": {
    "slideshow": {
     "slide_type": "fragment"
    }
   },
   "outputs": [
    {
     "data": {
      "text/plain": [
       "[('a', 31), ('c', 33), (9, 18), ('Prépa', 22), (8, 19)]"
      ]
     },
     "execution_count": 39,
     "metadata": {},
     "output_type": "execute_result"
    }
   ],
   "source": [
    "list(effectifs.items())"
   ]
  },
  {
   "cell_type": "code",
   "execution_count": 40,
   "metadata": {
    "slideshow": {
     "slide_type": "subslide"
    }
   },
   "outputs": [
    {
     "data": {
      "text/plain": [
       "0"
      ]
     },
     "execution_count": 40,
     "metadata": {},
     "output_type": "execute_result"
    }
   ],
   "source": [
    "effectifs.get('machin', 0)"
   ]
  },
  {
   "cell_type": "code",
   "execution_count": 41,
   "metadata": {
    "slideshow": {
     "slide_type": "subslide"
    }
   },
   "outputs": [
    {
     "data": {
      "text/plain": [
       "33"
      ]
     },
     "execution_count": 41,
     "metadata": {},
     "output_type": "execute_result"
    }
   ],
   "source": [
    "effectifs.pop('c')"
   ]
  },
  {
   "cell_type": "code",
   "execution_count": 42,
   "metadata": {
    "slideshow": {
     "slide_type": "fragment"
    }
   },
   "outputs": [
    {
     "ename": "KeyError",
     "evalue": "'c'",
     "output_type": "error",
     "traceback": [
      "\u001b[31m---------------------------------------------------------------------------\u001b[39m",
      "\u001b[31mKeyError\u001b[39m                                  Traceback (most recent call last)",
      "\u001b[36mCell\u001b[39m\u001b[36m \u001b[39m\u001b[32mIn[42]\u001b[39m\u001b[32m, line 1\u001b[39m\n\u001b[32m----> \u001b[39m\u001b[32m1\u001b[39m \u001b[43meffectifs\u001b[49m\u001b[43m[\u001b[49m\u001b[33;43m'\u001b[39;49m\u001b[33;43mc\u001b[39;49m\u001b[33;43m'\u001b[39;49m\u001b[43m]\u001b[49m  \u001b[38;5;66;03m# la clé n'existe plus !\u001b[39;00m\n",
      "\u001b[31mKeyError\u001b[39m: 'c'"
     ]
    }
   ],
   "source": [
    "effectifs['c']  # la clé n'existe plus !"
   ]
  },
  {
   "cell_type": "markdown",
   "metadata": {
    "slideshow": {
     "slide_type": "subslide"
    }
   },
   "source": [
    "**Attention :** la méthode `copy` produit une copie *superficielle* !!"
   ]
  },
  {
   "cell_type": "code",
   "execution_count": 43,
   "metadata": {
    "slideshow": {
     "slide_type": "-"
    }
   },
   "outputs": [
    {
     "name": "stdout",
     "output_type": "stream",
     "text": [
      "{'lst': [1, 2, 3]}\n",
      "{'lst': [1, 2, 3]}\n"
     ]
    }
   ],
   "source": [
    "d = {'lst': [1, 2]}\n",
    "e = d.copy()\n",
    "e['lst'].append(3) \n",
    "print(d)\n",
    "print(e)"
   ]
  },
  {
   "cell_type": "markdown",
   "metadata": {
    "slideshow": {
     "slide_type": "subslide"
    }
   },
   "source": [
    "## Exercices"
   ]
  },
  {
   "cell_type": "markdown",
   "metadata": {},
   "source": [
    "\n",
    "- Écrire, sans utiliser la méthode `items()`, une fonction `dict_vers_list(dico)` recevant en paramètre un dictionnaire et renvoyant une liste de ses couples `(cle, valeur)`."
   ]
  },
  {
   "cell_type": "code",
   "execution_count": 44,
   "metadata": {},
   "outputs": [
    {
     "data": {
      "text/plain": [
       "[('a', 31), ('bidule', 28.5), ('c', 33), (9, 18), ('Prépa', 22)]"
      ]
     },
     "execution_count": 44,
     "metadata": {},
     "output_type": "execute_result"
    }
   ],
   "source": [
    "def dict_vers_list(dico):\n",
    "    res = []\n",
    "    for key in dico:\n",
    "        valeur = dico[key]\n",
    "        res.append((key, valeur))\n",
    "    return res\n",
    "\n",
    "dict_vers_list({'a': 31, 'bidule': 28.5, 'c': 33, 9: 18, 'Prépa': 22})"
   ]
  },
  {
   "cell_type": "markdown",
   "metadata": {},
   "source": [
    "\n",
    "- Écrire, sans utiliser la fonction `dict()`, une fonction `list_vers_dict(lst)` recevant en paramètre une liste de couples `(cle, valeur)` et renvoyant le dictionnaire correspondant."
   ]
  },
  {
   "cell_type": "code",
   "execution_count": 47,
   "metadata": {},
   "outputs": [
    {
     "data": {
      "text/plain": [
       "{'a': 31, 'bidule': 28, 'c': 33, 9: 18, 'Prépa': 22}"
      ]
     },
     "execution_count": 47,
     "metadata": {},
     "output_type": "execute_result"
    }
   ],
   "source": [
    "def list_vers_dict(lst):\n",
    "    res = {}\n",
    "    for cle, valeur in lst:\n",
    "        res[cle] = valeur\n",
    "    return res\n",
    "\n",
    "list_vers_dict([('a', 31), ('bidule', 28), ('c', 33), (9, 18), ('Prépa', 22)])"
   ]
  },
  {
   "cell_type": "markdown",
   "metadata": {},
   "source": [
    "- Écrire une fonction `compte_occurrences(iterable)` renvoyant un dictionnaire dont les clés sont les éléments de `iterable` (qui peut être une chaîne, une liste...) et dont la valeur associée à chaque clé est son nombre d'occurrences dans `iterable`."
   ]
  },
  {
   "cell_type": "code",
   "execution_count": 4,
   "metadata": {},
   "outputs": [
    {
     "data": {
      "text/plain": [
       "{0: 3, 1: 3, 'coucou': 1}"
      ]
     },
     "execution_count": 4,
     "metadata": {},
     "output_type": "execute_result"
    }
   ],
   "source": [
    "def compte_occurrences(iterable):\n",
    "    dico = {}\n",
    "    for cle in iterable:\n",
    "        if cle not in dico:\n",
    "            dico[cle] = 0\n",
    "        dico[cle] = dico[cle] + 1  # ou dico[cle] += 1\n",
    "    return dico\n",
    "\n",
    "compte_occurrences([0, 0, 1, 0, 1, 1, 'coucou'])"
   ]
  },
  {
   "cell_type": "code",
   "execution_count": 5,
   "metadata": {},
   "outputs": [
    {
     "data": {
      "text/plain": [
       "{0: 3, 1: 3, 'coucou': 1}"
      ]
     },
     "execution_count": 5,
     "metadata": {},
     "output_type": "execute_result"
    }
   ],
   "source": [
    "def compte_occurrences(iterable):\n",
    "    dico = {}\n",
    "    for cle in iterable:\n",
    "        dico[cle] = dico.get(cle, 0) + 1\n",
    "    return dico\n",
    "\n",
    "compte_occurrences([0, 0, 1, 0, 1, 1, 'coucou'])"
   ]
  },
  {
   "cell_type": "markdown",
   "metadata": {},
   "source": [
    "- Écrire une fonction `indices(lst)` recevant une liste d'objets immutables et renvoyant un dictionnaire dont les clés sont les éléments de `lst` et dont la valeur associée à chaque clé est la liste des indices où apparaît cet élément dans `lst`."
   ]
  },
  {
   "cell_type": "code",
   "execution_count": 6,
   "metadata": {},
   "outputs": [
    {
     "data": {
      "text/plain": [
       "{0: [0, 1, 3], 1: [2, 4, 5], 'coucou': [6]}"
      ]
     },
     "execution_count": 6,
     "metadata": {},
     "output_type": "execute_result"
    }
   ],
   "source": [
    "def indices(lst):\n",
    "    dico = {}\n",
    "    for i in range(len(lst)):\n",
    "        elem = lst[i]\n",
    "        if elem in dico:\n",
    "            dico[elem].append(i)\n",
    "        else:\n",
    "            dico[elem] = [i]\n",
    "    return dico\n",
    "\n",
    "indices([0, 0, 1, 0, 1, 1, 'coucou'])  \n",
    "# devrait revoyer :\n",
    "# {0: [0, 1, 3], 1: [2, 4, 5], 'coucou': [6]}"
   ]
  },
  {
   "cell_type": "code",
   "execution_count": 9,
   "metadata": {},
   "outputs": [
    {
     "data": {
      "text/plain": [
       "{0: [0, 1, 3], 1: [2, 4, 5], 'coucou': [6]}"
      ]
     },
     "execution_count": 9,
     "metadata": {},
     "output_type": "execute_result"
    }
   ],
   "source": [
    "def indices(lst):\n",
    "    dico = {}\n",
    "    for i, elem in enumerate(lst):\n",
    "        dico.setdefault(elem, []).append(i)\n",
    "    return dico\n",
    "\n",
    "indices([0, 0, 1, 0, 1, 1, 'coucou'])  \n",
    "# devrait revoyer :\n",
    "# {0: [0, 1, 3], 1: [2, 4, 5], 'coucou': [6]}"
   ]
  },
  {
   "cell_type": "code",
   "execution_count": 15,
   "metadata": {},
   "outputs": [
    {
     "data": {
      "text/plain": [
       "{0: 3, 1: 5, 'coucou': 6}"
      ]
     },
     "execution_count": 15,
     "metadata": {},
     "output_type": "execute_result"
    }
   ],
   "source": [
    "indices = lambda lst: {element: index for index, element in enumerate(lst)}\n",
    "# hors-programme, et à corriger !\n",
    "\n",
    "indices([0, 0, 1, 0, 1, 1, 'coucou'])"
   ]
  },
  {
   "cell_type": "markdown",
   "metadata": {
    "slideshow": {
     "slide_type": "subslide"
    }
   },
   "source": [
    "- $\\bigstar$ Écrire une fonction `inverse_dict(dico)` renvoyant un nouveau dictionnaire dont les clés sont les valeurs de `dico` et les valeurs sont les listes de clés correspondantes. On supposera que toutes les valeurs de `dico` sont immutables.  \n",
    "  Par exemple :\n",
    "\n",
    "  ```python\n",
    "  >>> inverse_dict({'a': 1, 'b': 2, 'c': 1})\n",
    "  {1: ['a', 'c'], 2: ['b']}\n",
    "  ```"
   ]
  },
  {
   "cell_type": "code",
   "execution_count": 19,
   "metadata": {
    "slideshow": {
     "slide_type": "skip"
    }
   },
   "outputs": [
    {
     "data": {
      "text/plain": [
       "{1: ['a', 'c'], 2: ['b']}"
      ]
     },
     "execution_count": 19,
     "metadata": {},
     "output_type": "execute_result"
    }
   ],
   "source": [
    "def inverse_dict(dico):\n",
    "    res = {}\n",
    "    for cle, val in dico.items():\n",
    "        if val in res:\n",
    "            res[val].append(cle)\n",
    "        else:\n",
    "            res[val] = [cle]\n",
    "    return res\n",
    "\n",
    "inverse_dict({'a': 1, 'b': 2, 'c': 1})"
   ]
  },
  {
   "cell_type": "code",
   "execution_count": null,
   "metadata": {},
   "outputs": [],
   "source": []
  }
 ],
 "metadata": {
  "kernelspec": {
   "display_name": "Python 3 (ipykernel)",
   "language": "python",
   "name": "python3"
  },
  "language_info": {
   "codemirror_mode": {
    "name": "ipython",
    "version": 3
   },
   "file_extension": ".py",
   "mimetype": "text/x-python",
   "name": "python",
   "nbconvert_exporter": "python",
   "pygments_lexer": "ipython3",
   "version": "3.13.3"
  },
  "vscode": {
   "interpreter": {
    "hash": "aee8b7b246df8f9039afb4144a1f6fd8d2ca17a180786b69acc140d282b71a49"
   }
  }
 },
 "nbformat": 4,
 "nbformat_minor": 4
}
