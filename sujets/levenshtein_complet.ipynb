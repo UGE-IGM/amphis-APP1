{
 "cells": [
  {
   "cell_type": "markdown",
   "metadata": {},
   "source": [
    "# Distance de Levenshtein"
   ]
  },
  {
   "cell_type": "markdown",
   "metadata": {},
   "source": [
    "**Objectifs :**  \n",
    "- Définir une notion de distance distance mesurant à quel point deux mots sont similaires\n",
    "- Étant donné un mot et un lexique, déterminer quels mots du lexique sont les plus proches du mot fourni"
   ]
  },
  {
   "cell_type": "markdown",
   "metadata": {
    "vscode": {
     "languageId": "plaintext"
    }
   },
   "source": [
    "**Opérations :**  \n",
    "- *Remplacement* d'une lettre par une autre\n",
    "- *Insertion* d'une lettre\n",
    "- *Suppression* d'une lettre"
   ]
  },
  {
   "cell_type": "markdown",
   "metadata": {},
   "source": [
    "**Définition (distance de Levenshtein) :**  \n",
    "La distance $d(u, v)$ entre deux mots $u$ et $v$ est le plus petit entier $k$ tel que $v$ peut être obtenu à partir de $v$ par une série de $k$ insertions, remplacements ou suppressions."
   ]
  },
  {
   "cell_type": "markdown",
   "metadata": {
    "vscode": {
     "languageId": "plaintext"
    }
   },
   "source": [
    "**Exemples :**\n",
    "- $d(\\text{chateau}, \\text{bateau}) = 2$  \n",
    "- $d(\\text{chat}, \\text{batte}) = 4$  "
   ]
  },
  {
   "cell_type": "markdown",
   "metadata": {},
   "source": [
    "## Calcul de la distance entre deux mots"
   ]
  },
  {
   "cell_type": "markdown",
   "metadata": {
    "vscode": {
     "languageId": "plaintext"
    }
   },
   "source": [
    "**Observations :**\n",
    "- Si les deux mots dont on cherche la distance commencent par la même lettre, il n'est jamais avantageux de faire une insertion ou une suppression sur cette lettre (ni évidemment un remplacement).  \n",
    "- Si les deux mots commencent par des lettres différentes, on ne peut pas savoir quelle opération il est préférable d'appliquer sur ce couple de lettres sans regarder la suite (exemples : chat et hat, chat et achat, plat et flat)."
   ]
  },
  {
   "cell_type": "markdown",
   "metadata": {},
   "source": [
    "**Définition inductive :**  \n",
    "- La distance entre un mot vide et un autre mot est la longueur de cet autre mot.\n",
    "- La distance entre deux mots non vides est obtenue en considérant le calcul suivant : \n",
    "  $$\n",
    "  d(xu, yv) = \n",
    "  \\begin{cases}\n",
    "  1 + \\min \\left\\{ d(u, yv), d(u, v), d(xu, v) \\right\\} & \\text{ si } x \\neq y \\\\\n",
    "  d(u, v) & \\text{ sinon}\n",
    "  \\end{cases}\n",
    "  $$"
   ]
  },
  {
   "cell_type": "markdown",
   "metadata": {},
   "source": [
    "### Implémentation récursive"
   ]
  },
  {
   "cell_type": "code",
   "execution_count": 136,
   "metadata": {},
   "outputs": [],
   "source": [
    "def distance_rec(un_mot, autre_mot):\n",
    "    if un_mot == \"\":\n",
    "        return len(autre_mot)\n",
    "    elif autre_mot == \"\":\n",
    "        return len(un_mot)\n",
    "    else:\n",
    "        d_rep = distance_rec(un_mot[1:], autre_mot[1:])\n",
    "        if un_mot[0] == autre_mot[0]:\n",
    "            return d_rep\n",
    "        else:\n",
    "            d_ins = distance_rec(un_mot[1:], autre_mot)\n",
    "            d_del = distance_rec(un_mot, autre_mot[1:])\n",
    "            return 1 + min(d_rep, d_ins, d_del)\n"
   ]
  },
  {
   "cell_type": "code",
   "execution_count": 137,
   "metadata": {},
   "outputs": [
    {
     "data": {
      "text/plain": [
       "4"
      ]
     },
     "execution_count": 137,
     "metadata": {},
     "output_type": "execute_result"
    }
   ],
   "source": [
    "distance_rec(\"\", \"chat\")"
   ]
  },
  {
   "cell_type": "code",
   "execution_count": 138,
   "metadata": {},
   "outputs": [
    {
     "data": {
      "text/plain": [
       "4"
      ]
     },
     "execution_count": 138,
     "metadata": {},
     "output_type": "execute_result"
    }
   ],
   "source": [
    "distance_rec(\"chat\", \"\")"
   ]
  },
  {
   "cell_type": "code",
   "execution_count": 139,
   "metadata": {},
   "outputs": [
    {
     "data": {
      "text/plain": [
       "2"
      ]
     },
     "execution_count": 139,
     "metadata": {},
     "output_type": "execute_result"
    }
   ],
   "source": [
    "distance_rec(\"chateau\", \"bateau\")"
   ]
  },
  {
   "cell_type": "code",
   "execution_count": 140,
   "metadata": {},
   "outputs": [
    {
     "data": {
      "text/plain": [
       "4"
      ]
     },
     "execution_count": 140,
     "metadata": {},
     "output_type": "execute_result"
    }
   ],
   "source": [
    "distance_rec(\"chat\", \"batte\")"
   ]
  },
  {
   "cell_type": "code",
   "execution_count": 141,
   "metadata": {},
   "outputs": [
    {
     "ename": "KeyboardInterrupt",
     "evalue": "",
     "output_type": "error",
     "traceback": [
      "\u001b[0;31m---------------------------------------------------------------------------\u001b[0m",
      "\u001b[0;31mKeyboardInterrupt\u001b[0m                         Traceback (most recent call last)",
      "Cell \u001b[0;32mIn[141], line 1\u001b[0m\n\u001b[0;32m----> 1\u001b[0m \u001b[43mdistance_rec\u001b[49m\u001b[43m(\u001b[49m\u001b[38;5;124;43m\"\u001b[39;49m\u001b[38;5;124;43manticonstitutionnellement\u001b[39;49m\u001b[38;5;124;43m\"\u001b[39;49m\u001b[43m,\u001b[49m\u001b[43m \u001b[49m\u001b[38;5;124;43m\"\u001b[39;49m\u001b[38;5;124;43mc\u001b[39;49m\u001b[38;5;124;43m'\u001b[39;49m\u001b[38;5;124;43mest n\u001b[39;49m\u001b[38;5;124;43m'\u001b[39;49m\u001b[38;5;124;43mimporte quoi\u001b[39;49m\u001b[38;5;124;43m\"\u001b[39;49m\u001b[43m)\u001b[49m\n",
      "Cell \u001b[0;32mIn[136], line 7\u001b[0m, in \u001b[0;36mdistance_rec\u001b[0;34m(un_mot, autre_mot)\u001b[0m\n\u001b[1;32m      5\u001b[0m     \u001b[38;5;28;01mreturn\u001b[39;00m \u001b[38;5;28mlen\u001b[39m(un_mot)\n\u001b[1;32m      6\u001b[0m \u001b[38;5;28;01melse\u001b[39;00m:\n\u001b[0;32m----> 7\u001b[0m     d_rep \u001b[38;5;241m=\u001b[39m \u001b[43mdistance_rec\u001b[49m\u001b[43m(\u001b[49m\u001b[43mun_mot\u001b[49m\u001b[43m[\u001b[49m\u001b[38;5;241;43m1\u001b[39;49m\u001b[43m:\u001b[49m\u001b[43m]\u001b[49m\u001b[43m,\u001b[49m\u001b[43m \u001b[49m\u001b[43mautre_mot\u001b[49m\u001b[43m[\u001b[49m\u001b[38;5;241;43m1\u001b[39;49m\u001b[43m:\u001b[49m\u001b[43m]\u001b[49m\u001b[43m)\u001b[49m\n\u001b[1;32m      8\u001b[0m     \u001b[38;5;28;01mif\u001b[39;00m un_mot[\u001b[38;5;241m0\u001b[39m] \u001b[38;5;241m==\u001b[39m autre_mot[\u001b[38;5;241m0\u001b[39m]:\n\u001b[1;32m      9\u001b[0m         \u001b[38;5;28;01mreturn\u001b[39;00m d_rep\n",
      "Cell \u001b[0;32mIn[136], line 7\u001b[0m, in \u001b[0;36mdistance_rec\u001b[0;34m(un_mot, autre_mot)\u001b[0m\n\u001b[1;32m      5\u001b[0m     \u001b[38;5;28;01mreturn\u001b[39;00m \u001b[38;5;28mlen\u001b[39m(un_mot)\n\u001b[1;32m      6\u001b[0m \u001b[38;5;28;01melse\u001b[39;00m:\n\u001b[0;32m----> 7\u001b[0m     d_rep \u001b[38;5;241m=\u001b[39m \u001b[43mdistance_rec\u001b[49m\u001b[43m(\u001b[49m\u001b[43mun_mot\u001b[49m\u001b[43m[\u001b[49m\u001b[38;5;241;43m1\u001b[39;49m\u001b[43m:\u001b[49m\u001b[43m]\u001b[49m\u001b[43m,\u001b[49m\u001b[43m \u001b[49m\u001b[43mautre_mot\u001b[49m\u001b[43m[\u001b[49m\u001b[38;5;241;43m1\u001b[39;49m\u001b[43m:\u001b[49m\u001b[43m]\u001b[49m\u001b[43m)\u001b[49m\n\u001b[1;32m      8\u001b[0m     \u001b[38;5;28;01mif\u001b[39;00m un_mot[\u001b[38;5;241m0\u001b[39m] \u001b[38;5;241m==\u001b[39m autre_mot[\u001b[38;5;241m0\u001b[39m]:\n\u001b[1;32m      9\u001b[0m         \u001b[38;5;28;01mreturn\u001b[39;00m d_rep\n",
      "    \u001b[0;31m[... skipping similar frames: distance_rec at line 7 (8 times)]\u001b[0m\n",
      "Cell \u001b[0;32mIn[136], line 11\u001b[0m, in \u001b[0;36mdistance_rec\u001b[0;34m(un_mot, autre_mot)\u001b[0m\n\u001b[1;32m      9\u001b[0m     \u001b[38;5;28;01mreturn\u001b[39;00m d_rep\n\u001b[1;32m     10\u001b[0m \u001b[38;5;28;01melse\u001b[39;00m:\n\u001b[0;32m---> 11\u001b[0m     d_ins \u001b[38;5;241m=\u001b[39m \u001b[43mdistance_rec\u001b[49m\u001b[43m(\u001b[49m\u001b[43mun_mot\u001b[49m\u001b[43m[\u001b[49m\u001b[38;5;241;43m1\u001b[39;49m\u001b[43m:\u001b[49m\u001b[43m]\u001b[49m\u001b[43m,\u001b[49m\u001b[43m \u001b[49m\u001b[43mautre_mot\u001b[49m\u001b[43m)\u001b[49m\n\u001b[1;32m     12\u001b[0m     d_del \u001b[38;5;241m=\u001b[39m distance_rec(un_mot, autre_mot[\u001b[38;5;241m1\u001b[39m:])\n\u001b[1;32m     13\u001b[0m     \u001b[38;5;28;01mreturn\u001b[39;00m \u001b[38;5;241m1\u001b[39m \u001b[38;5;241m+\u001b[39m \u001b[38;5;28mmin\u001b[39m(d_rep, d_ins, d_del)\n",
      "Cell \u001b[0;32mIn[136], line 11\u001b[0m, in \u001b[0;36mdistance_rec\u001b[0;34m(un_mot, autre_mot)\u001b[0m\n\u001b[1;32m      9\u001b[0m     \u001b[38;5;28;01mreturn\u001b[39;00m d_rep\n\u001b[1;32m     10\u001b[0m \u001b[38;5;28;01melse\u001b[39;00m:\n\u001b[0;32m---> 11\u001b[0m     d_ins \u001b[38;5;241m=\u001b[39m \u001b[43mdistance_rec\u001b[49m\u001b[43m(\u001b[49m\u001b[43mun_mot\u001b[49m\u001b[43m[\u001b[49m\u001b[38;5;241;43m1\u001b[39;49m\u001b[43m:\u001b[49m\u001b[43m]\u001b[49m\u001b[43m,\u001b[49m\u001b[43m \u001b[49m\u001b[43mautre_mot\u001b[49m\u001b[43m)\u001b[49m\n\u001b[1;32m     12\u001b[0m     d_del \u001b[38;5;241m=\u001b[39m distance_rec(un_mot, autre_mot[\u001b[38;5;241m1\u001b[39m:])\n\u001b[1;32m     13\u001b[0m     \u001b[38;5;28;01mreturn\u001b[39;00m \u001b[38;5;241m1\u001b[39m \u001b[38;5;241m+\u001b[39m \u001b[38;5;28mmin\u001b[39m(d_rep, d_ins, d_del)\n",
      "Cell \u001b[0;32mIn[136], line 12\u001b[0m, in \u001b[0;36mdistance_rec\u001b[0;34m(un_mot, autre_mot)\u001b[0m\n\u001b[1;32m     10\u001b[0m \u001b[38;5;28;01melse\u001b[39;00m:\n\u001b[1;32m     11\u001b[0m     d_ins \u001b[38;5;241m=\u001b[39m distance_rec(un_mot[\u001b[38;5;241m1\u001b[39m:], autre_mot)\n\u001b[0;32m---> 12\u001b[0m     d_del \u001b[38;5;241m=\u001b[39m \u001b[43mdistance_rec\u001b[49m\u001b[43m(\u001b[49m\u001b[43mun_mot\u001b[49m\u001b[43m,\u001b[49m\u001b[43m \u001b[49m\u001b[43mautre_mot\u001b[49m\u001b[43m[\u001b[49m\u001b[38;5;241;43m1\u001b[39;49m\u001b[43m:\u001b[49m\u001b[43m]\u001b[49m\u001b[43m)\u001b[49m\n\u001b[1;32m     13\u001b[0m     \u001b[38;5;28;01mreturn\u001b[39;00m \u001b[38;5;241m1\u001b[39m \u001b[38;5;241m+\u001b[39m \u001b[38;5;28mmin\u001b[39m(d_rep, d_ins, d_del)\n",
      "Cell \u001b[0;32mIn[136], line 12\u001b[0m, in \u001b[0;36mdistance_rec\u001b[0;34m(un_mot, autre_mot)\u001b[0m\n\u001b[1;32m     10\u001b[0m \u001b[38;5;28;01melse\u001b[39;00m:\n\u001b[1;32m     11\u001b[0m     d_ins \u001b[38;5;241m=\u001b[39m distance_rec(un_mot[\u001b[38;5;241m1\u001b[39m:], autre_mot)\n\u001b[0;32m---> 12\u001b[0m     d_del \u001b[38;5;241m=\u001b[39m \u001b[43mdistance_rec\u001b[49m\u001b[43m(\u001b[49m\u001b[43mun_mot\u001b[49m\u001b[43m,\u001b[49m\u001b[43m \u001b[49m\u001b[43mautre_mot\u001b[49m\u001b[43m[\u001b[49m\u001b[38;5;241;43m1\u001b[39;49m\u001b[43m:\u001b[49m\u001b[43m]\u001b[49m\u001b[43m)\u001b[49m\n\u001b[1;32m     13\u001b[0m     \u001b[38;5;28;01mreturn\u001b[39;00m \u001b[38;5;241m1\u001b[39m \u001b[38;5;241m+\u001b[39m \u001b[38;5;28mmin\u001b[39m(d_rep, d_ins, d_del)\n",
      "    \u001b[0;31m[... skipping similar frames: distance_rec at line 11 (6 times), distance_rec at line 12 (3 times), distance_rec at line 7 (1 times)]\u001b[0m\n",
      "Cell \u001b[0;32mIn[136], line 7\u001b[0m, in \u001b[0;36mdistance_rec\u001b[0;34m(un_mot, autre_mot)\u001b[0m\n\u001b[1;32m      5\u001b[0m     \u001b[38;5;28;01mreturn\u001b[39;00m \u001b[38;5;28mlen\u001b[39m(un_mot)\n\u001b[1;32m      6\u001b[0m \u001b[38;5;28;01melse\u001b[39;00m:\n\u001b[0;32m----> 7\u001b[0m     d_rep \u001b[38;5;241m=\u001b[39m \u001b[43mdistance_rec\u001b[49m\u001b[43m(\u001b[49m\u001b[43mun_mot\u001b[49m\u001b[43m[\u001b[49m\u001b[38;5;241;43m1\u001b[39;49m\u001b[43m:\u001b[49m\u001b[43m]\u001b[49m\u001b[43m,\u001b[49m\u001b[43m \u001b[49m\u001b[43mautre_mot\u001b[49m\u001b[43m[\u001b[49m\u001b[38;5;241;43m1\u001b[39;49m\u001b[43m:\u001b[49m\u001b[43m]\u001b[49m\u001b[43m)\u001b[49m\n\u001b[1;32m      8\u001b[0m     \u001b[38;5;28;01mif\u001b[39;00m un_mot[\u001b[38;5;241m0\u001b[39m] \u001b[38;5;241m==\u001b[39m autre_mot[\u001b[38;5;241m0\u001b[39m]:\n\u001b[1;32m      9\u001b[0m         \u001b[38;5;28;01mreturn\u001b[39;00m d_rep\n",
      "    \u001b[0;31m[... skipping similar frames: distance_rec at line 11 (2 times), distance_rec at line 12 (1 times)]\u001b[0m\n",
      "Cell \u001b[0;32mIn[136], line 12\u001b[0m, in \u001b[0;36mdistance_rec\u001b[0;34m(un_mot, autre_mot)\u001b[0m\n\u001b[1;32m     10\u001b[0m \u001b[38;5;28;01melse\u001b[39;00m:\n\u001b[1;32m     11\u001b[0m     d_ins \u001b[38;5;241m=\u001b[39m distance_rec(un_mot[\u001b[38;5;241m1\u001b[39m:], autre_mot)\n\u001b[0;32m---> 12\u001b[0m     d_del \u001b[38;5;241m=\u001b[39m \u001b[43mdistance_rec\u001b[49m\u001b[43m(\u001b[49m\u001b[43mun_mot\u001b[49m\u001b[43m,\u001b[49m\u001b[43m \u001b[49m\u001b[43mautre_mot\u001b[49m\u001b[43m[\u001b[49m\u001b[38;5;241;43m1\u001b[39;49m\u001b[43m:\u001b[49m\u001b[43m]\u001b[49m\u001b[43m)\u001b[49m\n\u001b[1;32m     13\u001b[0m     \u001b[38;5;28;01mreturn\u001b[39;00m \u001b[38;5;241m1\u001b[39m \u001b[38;5;241m+\u001b[39m \u001b[38;5;28mmin\u001b[39m(d_rep, d_ins, d_del)\n",
      "    \u001b[0;31m[... skipping similar frames: distance_rec at line 11 (1 times)]\u001b[0m\n",
      "Cell \u001b[0;32mIn[136], line 11\u001b[0m, in \u001b[0;36mdistance_rec\u001b[0;34m(un_mot, autre_mot)\u001b[0m\n\u001b[1;32m      9\u001b[0m     \u001b[38;5;28;01mreturn\u001b[39;00m d_rep\n\u001b[1;32m     10\u001b[0m \u001b[38;5;28;01melse\u001b[39;00m:\n\u001b[0;32m---> 11\u001b[0m     d_ins \u001b[38;5;241m=\u001b[39m \u001b[43mdistance_rec\u001b[49m\u001b[43m(\u001b[49m\u001b[43mun_mot\u001b[49m\u001b[43m[\u001b[49m\u001b[38;5;241;43m1\u001b[39;49m\u001b[43m:\u001b[49m\u001b[43m]\u001b[49m\u001b[43m,\u001b[49m\u001b[43m \u001b[49m\u001b[43mautre_mot\u001b[49m\u001b[43m)\u001b[49m\n\u001b[1;32m     12\u001b[0m     d_del \u001b[38;5;241m=\u001b[39m distance_rec(un_mot, autre_mot[\u001b[38;5;241m1\u001b[39m:])\n\u001b[1;32m     13\u001b[0m     \u001b[38;5;28;01mreturn\u001b[39;00m \u001b[38;5;241m1\u001b[39m \u001b[38;5;241m+\u001b[39m \u001b[38;5;28mmin\u001b[39m(d_rep, d_ins, d_del)\n",
      "Cell \u001b[0;32mIn[136], line 1\u001b[0m, in \u001b[0;36mdistance_rec\u001b[0;34m(un_mot, autre_mot)\u001b[0m\n\u001b[0;32m----> 1\u001b[0m \u001b[38;5;28;01mdef\u001b[39;00m \u001b[38;5;21mdistance_rec\u001b[39m(un_mot, autre_mot):\n\u001b[1;32m      2\u001b[0m     \u001b[38;5;28;01mif\u001b[39;00m un_mot \u001b[38;5;241m==\u001b[39m \u001b[38;5;124m\"\u001b[39m\u001b[38;5;124m\"\u001b[39m:\n\u001b[1;32m      3\u001b[0m         \u001b[38;5;28;01mreturn\u001b[39;00m \u001b[38;5;28mlen\u001b[39m(autre_mot)\n",
      "\u001b[0;31mKeyboardInterrupt\u001b[0m: "
     ]
    }
   ],
   "source": [
    "distance_rec(\"anticonstitutionnellement\", \"c'est n'importe quoi\")"
   ]
  },
  {
   "cell_type": "markdown",
   "metadata": {},
   "source": [
    "### Implémentation itérative\n",
    "\n",
    "Une autre approche consiste à construire ligne par ligne un tableau indiquant la distance entre chaque préfixe des deux mots. Une nouvelle case peut être remplie en regardant le contenu des trois cases en haut, à gauche et en diagonale (vers le haut et la gauche).\n",
    "\n",
    "Ce type d'approche qui consiste à construire un résultat en s'appuyant sur un tableau de résultats à des sous-problèmes est souvent appelé *programmation dynamique*."
   ]
  },
  {
   "cell_type": "markdown",
   "metadata": {},
   "source": [
    "**Exemple :**\n",
    "\n",
    "|       | **-** | **c** | **h** | **a** | **t** | **e** | **a** | **u** |\n",
    "|-------|-------|-------|-------|-------|-------|-------|-------|-------|\n",
    "| **-** |   0   |   1   |   2   |   3   |   4   |   5   |   6   |   7   |\n",
    "| **b** |   1   |   ?   |       |       |       |       |       |       |\n",
    "| **a** |   2   |       |       |       |       |       |       |       |\n",
    "| **t** |   3   |       |       |       |       |       |       |       |\n",
    "| **e** |   4   |       |       |       |       |       |       |       |\n",
    "| **a** |   5   |       |       |       |       |       |       |       |\n",
    "| **u** |   6   |       |       |       |       |       |       |       |\n"
   ]
  },
  {
   "cell_type": "code",
   "execution_count": 142,
   "metadata": {},
   "outputs": [],
   "source": [
    "def distance_iter(un_mot, autre_mot):\n",
    "    m, n = len(un_mot), len(autre_mot)\n",
    "    i, j = 0, 0\n",
    "    tableau = [list(range(n + 1))]\n",
    "    for i in range(1, m+1):\n",
    "        ligne = [i]\n",
    "        tableau.append(ligne)\n",
    "        for j in range(1, n+1):\n",
    "            if un_mot[i-1] == autre_mot[j-1]:\n",
    "                ligne.append(tableau[i-1][j-1])\n",
    "            else:\n",
    "                d_ins = tableau[i][j-1]\n",
    "                d_del = tableau[i-1][j]\n",
    "                d_rep = tableau[i-1][j-1]\n",
    "                d = 1 + min(d_ins, d_rep, d_del)\n",
    "                ligne.append(d)\n",
    "    return tableau[-1][-1]"
   ]
  },
  {
   "cell_type": "code",
   "execution_count": 143,
   "metadata": {},
   "outputs": [
    {
     "data": {
      "text/plain": [
       "4"
      ]
     },
     "execution_count": 143,
     "metadata": {},
     "output_type": "execute_result"
    }
   ],
   "source": [
    "distance_iter(\"\", \"chat\")"
   ]
  },
  {
   "cell_type": "code",
   "execution_count": 144,
   "metadata": {},
   "outputs": [
    {
     "data": {
      "text/plain": [
       "4"
      ]
     },
     "execution_count": 144,
     "metadata": {},
     "output_type": "execute_result"
    }
   ],
   "source": [
    "distance_iter(\"chat\", \"\")"
   ]
  },
  {
   "cell_type": "code",
   "execution_count": 145,
   "metadata": {},
   "outputs": [
    {
     "data": {
      "text/plain": [
       "2"
      ]
     },
     "execution_count": 145,
     "metadata": {},
     "output_type": "execute_result"
    }
   ],
   "source": [
    "distance_iter(\"chateau\", \"bateau\")"
   ]
  },
  {
   "cell_type": "code",
   "execution_count": 146,
   "metadata": {},
   "outputs": [
    {
     "data": {
      "text/plain": [
       "4"
      ]
     },
     "execution_count": 146,
     "metadata": {},
     "output_type": "execute_result"
    }
   ],
   "source": [
    "distance_iter(\"chat\", \"batte\")"
   ]
  },
  {
   "cell_type": "code",
   "execution_count": 147,
   "metadata": {},
   "outputs": [
    {
     "data": {
      "text/plain": [
       "21"
      ]
     },
     "execution_count": 147,
     "metadata": {},
     "output_type": "execute_result"
    }
   ],
   "source": [
    "distance_iter(\"anticonstitutionnellement\", \"c'est n'importe quoi\")"
   ]
  },
  {
   "cell_type": "markdown",
   "metadata": {},
   "source": [
    "On peut améliorer un peu la consommation de mémoire de cette fonction en ne mémorisant que la ligne en cours et la ligne précédente du tableau :"
   ]
  },
  {
   "cell_type": "code",
   "execution_count": 154,
   "metadata": {},
   "outputs": [],
   "source": [
    "def distance_iter_opti(un_mot, autre_mot):\n",
    "    m, n = len(un_mot), len(autre_mot)\n",
    "    i, j = 0, 0\n",
    "    prec = list(range(n + 1))\n",
    "    ligne = [0] * (n + 1)\n",
    "    for i in range(1, m+1):\n",
    "        ligne[0] = i\n",
    "        for j in range(1, n+1):\n",
    "            if un_mot[i-1] == autre_mot[j-1]:\n",
    "                ligne[j] = prec[j-1]\n",
    "            else:\n",
    "                d_ins = ligne[j-1]\n",
    "                d_del = prec[j]\n",
    "                d_rep = prec[j-1]\n",
    "                d = 1 + min(d_ins, d_rep, d_del)\n",
    "                ligne[j] = d\n",
    "        prec, ligne = ligne, prec\n",
    "    return prec[-1]"
   ]
  },
  {
   "cell_type": "code",
   "execution_count": 155,
   "metadata": {},
   "outputs": [
    {
     "data": {
      "text/plain": [
       "4"
      ]
     },
     "execution_count": 155,
     "metadata": {},
     "output_type": "execute_result"
    }
   ],
   "source": [
    "distance_iter_opti(\"\", \"chat\")"
   ]
  },
  {
   "cell_type": "code",
   "execution_count": 156,
   "metadata": {},
   "outputs": [
    {
     "data": {
      "text/plain": [
       "4"
      ]
     },
     "execution_count": 156,
     "metadata": {},
     "output_type": "execute_result"
    }
   ],
   "source": [
    "distance_iter_opti(\"chat\", \"\")"
   ]
  },
  {
   "cell_type": "code",
   "execution_count": 157,
   "metadata": {},
   "outputs": [
    {
     "data": {
      "text/plain": [
       "2"
      ]
     },
     "execution_count": 157,
     "metadata": {},
     "output_type": "execute_result"
    }
   ],
   "source": [
    "distance_iter_opti(\"chateau\", \"bateau\")"
   ]
  },
  {
   "cell_type": "code",
   "execution_count": 158,
   "metadata": {},
   "outputs": [
    {
     "data": {
      "text/plain": [
       "4"
      ]
     },
     "execution_count": 158,
     "metadata": {},
     "output_type": "execute_result"
    }
   ],
   "source": [
    "distance_iter_opti(\"chat\", \"batte\")"
   ]
  },
  {
   "cell_type": "code",
   "execution_count": 159,
   "metadata": {},
   "outputs": [
    {
     "data": {
      "text/plain": [
       "21"
      ]
     },
     "execution_count": 159,
     "metadata": {},
     "output_type": "execute_result"
    }
   ],
   "source": [
    "distance_iter_opti(\"anticonstitutionnellement\", \"c'est n'importe quoi\")"
   ]
  },
  {
   "cell_type": "markdown",
   "metadata": {},
   "source": [
    "### Implémentation récursive avec mémoïsation\n",
    "\n",
    "La version récursive est plus simple, mais elle est beaucoup plus lente... Pour la rendre plus efficace on peut utiliser une astuce appelée \"mémoisation\" : on conserve dans un dictionnaire tous les résultats déjà connus, et avant de faire le moindre calcul, on vérifie dans le dictionnaire si la distance qu'on cherche n'a pas déjà été calculée."
   ]
  },
  {
   "cell_type": "code",
   "execution_count": 190,
   "metadata": {},
   "outputs": [],
   "source": [
    "def distance_rec_opti(un_mot, autre_mot, memo=None):\n",
    "    if memo is None:\n",
    "        memo = {}\n",
    "    if un_mot <= autre_mot:\n",
    "        instance = (un_mot, autre_mot)\n",
    "    else:\n",
    "        instance = (autre_mot, un_mot)\n",
    "    if instance in memo:\n",
    "        return memo[instance]\n",
    "    if un_mot == \"\":\n",
    "        res = len(autre_mot)\n",
    "    elif autre_mot == \"\":\n",
    "        res = len(un_mot)\n",
    "    else:\n",
    "        d_rep = distance_rec_opti(un_mot[1:], autre_mot[1:], memo)\n",
    "        if un_mot[0] == autre_mot[0]:\n",
    "            res = d_rep\n",
    "        else:\n",
    "            d_ins = distance_rec_opti(un_mot[1:], autre_mot, memo)\n",
    "            d_del = distance_rec_opti(un_mot, autre_mot[1:], memo)\n",
    "            res = 1 + min(d_rep, d_ins, d_del)\n",
    "    memo[instance] = res\n",
    "    return res"
   ]
  },
  {
   "cell_type": "code",
   "execution_count": 191,
   "metadata": {},
   "outputs": [
    {
     "data": {
      "text/plain": [
       "4"
      ]
     },
     "execution_count": 191,
     "metadata": {},
     "output_type": "execute_result"
    }
   ],
   "source": [
    "distance_rec_opti(\"\", \"chat\")"
   ]
  },
  {
   "cell_type": "code",
   "execution_count": 192,
   "metadata": {},
   "outputs": [
    {
     "data": {
      "text/plain": [
       "4"
      ]
     },
     "execution_count": 192,
     "metadata": {},
     "output_type": "execute_result"
    }
   ],
   "source": [
    "distance_rec_opti(\"chat\", \"\")"
   ]
  },
  {
   "cell_type": "code",
   "execution_count": 193,
   "metadata": {},
   "outputs": [
    {
     "data": {
      "text/plain": [
       "2"
      ]
     },
     "execution_count": 193,
     "metadata": {},
     "output_type": "execute_result"
    }
   ],
   "source": [
    "distance_rec_opti(\"chateau\", \"bateau\")"
   ]
  },
  {
   "cell_type": "code",
   "execution_count": 194,
   "metadata": {},
   "outputs": [
    {
     "data": {
      "text/plain": [
       "4"
      ]
     },
     "execution_count": 194,
     "metadata": {},
     "output_type": "execute_result"
    }
   ],
   "source": [
    "distance_rec_opti(\"chat\", \"batte\")"
   ]
  },
  {
   "cell_type": "code",
   "execution_count": 195,
   "metadata": {},
   "outputs": [
    {
     "data": {
      "text/plain": [
       "21"
      ]
     },
     "execution_count": 195,
     "metadata": {},
     "output_type": "execute_result"
    }
   ],
   "source": [
    "distance_rec_opti(\"anticonstitutionnellement\", \"c'est n'importe quoi\")"
   ]
  },
  {
   "cell_type": "markdown",
   "metadata": {},
   "source": [
    "### Une petite comparaison"
   ]
  },
  {
   "cell_type": "code",
   "execution_count": 196,
   "metadata": {},
   "outputs": [
    {
     "name": "stdout",
     "output_type": "stream",
     "text": [
      "31.4 µs ± 1.11 µs per loop (mean ± std. dev. of 7 runs, 10,000 loops each)\n",
      "30.7 µs ± 3.99 µs per loop (mean ± std. dev. of 7 runs, 10,000 loops each)\n",
      "1.38 ms ± 14.3 µs per loop (mean ± std. dev. of 7 runs, 1,000 loops each)\n",
      "62.5 µs ± 731 ns per loop (mean ± std. dev. of 7 runs, 10,000 loops each)\n"
     ]
    }
   ],
   "source": [
    "%timeit distance_iter(\"bougeoir\", \"bavoir\")\n",
    "%timeit distance_iter_opti(\"bougeoir\", \"bavoir\")\n",
    "%timeit distance_rec(\"bougeoir\", \"bavoir\")\n",
    "%timeit distance_rec_opti(\"bougeoir\", \"bavoir\")"
   ]
  },
  {
   "cell_type": "markdown",
   "metadata": {},
   "source": [
    "Quel intérêt à utiliser malgré tout la version mémoïsée (si on ne s'inquiète pas trop de la mémoire) ?"
   ]
  },
  {
   "cell_type": "code",
   "execution_count": 197,
   "metadata": {},
   "outputs": [
    {
     "name": "stdout",
     "output_type": "stream",
     "text": [
      "562 µs ± 79.5 µs per loop (mean ± std. dev. of 7 runs, 1,000 loops each)\n"
     ]
    }
   ],
   "source": [
    "%%timeit\n",
    "distance_rec_opti(\"recevoir\", \"percevra\")\n",
    "distance_rec_opti(\"décevoir\", \"percevra\")\n",
    "distance_rec_opti(\"tellement\", \"feulement\")\n",
    "distance_rec_opti(\"feulement\", \"tellement\")"
   ]
  },
  {
   "cell_type": "code",
   "execution_count": 198,
   "metadata": {},
   "outputs": [
    {
     "name": "stdout",
     "output_type": "stream",
     "text": [
      "291 µs ± 6.85 µs per loop (mean ± std. dev. of 7 runs, 1,000 loops each)\n"
     ]
    }
   ],
   "source": [
    "%%timeit\n",
    "memo = {}\n",
    "distance_rec_opti(\"recevoir\", \"percevra\", memo)\n",
    "distance_rec_opti(\"décevoir\", \"percevra\", memo)\n",
    "distance_rec_opti(\"tellement\", \"feulement\", memo)\n",
    "distance_rec_opti(\"feulement\", \"tellement\", memo)"
   ]
  },
  {
   "cell_type": "code",
   "execution_count": 199,
   "metadata": {},
   "outputs": [
    {
     "name": "stdout",
     "output_type": "stream",
     "text": [
      "{('', ''): 0, ('', 'a'): 1, ('r', ''): 1, ('r', 'a'): 1, ('r', 'ra'): 1, ('ir', ''): 2, ('ir', 'a'): 2, ('ir', 'ra'): 2, ('', 'ra'): 2, ('', 'vra'): 3, ('r', 'vra'): 2, ('ir', 'vra'): 2, ('oir', ''): 3, ('oir', 'a'): 3, ('oir', 'ra'): 3, ('oir', 'vra'): 3, ('', 'evra'): 4, ('r', 'evra'): 3, ('ir', 'evra'): 3, ('oir', 'evra'): 3, ('voir', 'vra'): 3, ('voir', 'evra'): 4, ('', 'cevra'): 5, ('r', 'cevra'): 4, ('ir', 'cevra'): 4, ('oir', 'cevra'): 4, ('voir', 'cevra'): 4, ('evoir', 'evra'): 3, ('evoir', 'cevra'): 4, ('r', 'rcevra'): 5, ('ir', 'rcevra'): 5, ('oir', 'rcevra'): 5, ('voir', 'rcevra'): 5, ('evoir', 'rcevra'): 5, ('cevoir', 'cevra'): 3, ('cevoir', 'rcevra'): 4, ('ecevoir', 'ercevra'): 4, ('evoir', 'ercevra'): 5, ('cevoir', 'ercevra'): 5, ('', 'rcevra'): 6, ('', 'ercevra'): 7, ('r', 'ercevra'): 6, ('ir', 'ercevra'): 6, ('oir', 'ercevra'): 6, ('voir', 'ercevra'): 6, ('', 'percevra'): 8, ('r', 'percevra'): 7, ('ir', 'percevra'): 7, ('oir', 'percevra'): 7, ('voir', 'percevra'): 7, ('evoir', 'percevra'): 6, ('cevoir', 'percevra'): 6, ('ecevoir', 'percevra'): 5, ('voir', ''): 4, ('voir', 'a'): 4, ('voir', 'ra'): 4, ('evoir', ''): 5, ('evoir', 'a'): 5, ('evoir', 'ra'): 5, ('evoir', 'vra'): 4, ('cevoir', ''): 6, ('cevoir', 'a'): 6, ('cevoir', 'ra'): 6, ('cevoir', 'vra'): 5, ('cevoir', 'evra'): 4, ('ecevoir', 'evra'): 5, ('ecevoir', 'cevra'): 4, ('ecevoir', 'rcevra'): 4, ('recevoir', 'rcevra'): 4, ('recevoir', 'ercevra'): 5, ('recevoir', 'percevra'): 5, ('écevoir', ''): 7, ('écevoir', 'a'): 7, ('écevoir', 'ra'): 7, ('écevoir', 'vra'): 6, ('écevoir', 'evra'): 5, ('écevoir', 'cevra'): 4, ('écevoir', 'rcevra'): 4, ('écevoir', 'ercevra'): 5, ('écevoir', 'percevra'): 6, ('décevoir', ''): 8, ('décevoir', 'a'): 8, ('décevoir', 'ra'): 8, ('décevoir', 'vra'): 7, ('décevoir', 'evra'): 6, ('décevoir', 'cevra'): 5, ('décevoir', 'rcevra'): 5, ('décevoir', 'ercevra'): 5, ('décevoir', 'percevra'): 6}\n"
     ]
    }
   ],
   "source": [
    "print(memo)"
   ]
  },
  {
   "cell_type": "markdown",
   "metadata": {},
   "source": [
    "## Correction othographique\n",
    "\n",
    "Étant donné un mot `mot` et une liste de mots `lexique`, il suffit de chercher tous les mots à une distance minimale de `mot` dans `lexique` pour obtenir une liste de candidats à la correction (et éventuellement le mot lui même s'il apparaît dans le lexique !).\n",
    "\n",
    "**Variantes possibles :** renvoyer tous les mots à une distance inférieure à un certain seuil, ou seulement les mots de distance minimale (s'ils sont en-dessous du seuil)."
   ]
  },
  {
   "cell_type": "code",
   "execution_count": 118,
   "metadata": {},
   "outputs": [],
   "source": [
    "def corrections(mot, lexique, seuil=float(\"+inf\"), min_seulement=True):\n",
    "    d_min = float(\"+inf\")\n",
    "    candidats = []\n",
    "    for candidat in lexique:\n",
    "        d = distance_iter(mot, candidat)\n",
    "        if min_seulement and d < d_min:\n",
    "            candidats = []\n",
    "            d_min = d\n",
    "        if d <= seuil:\n",
    "            if d == d_min or not min_seulement:\n",
    "                candidats.append(candidat)\n",
    "    return candidats"
   ]
  },
  {
   "cell_type": "code",
   "execution_count": 133,
   "metadata": {},
   "outputs": [
    {
     "name": "stdout",
     "output_type": "stream",
     "text": [
      "0 []\n",
      "1 []\n",
      "2 ['blanc', 'calancha']\n",
      "3 ['balance', 'balança', 'blanc', 'calancha']\n",
      "4 ['balance', 'balança', 'blanc', 'calancha', 'balancerai']\n",
      "5 ['balance', 'balança', 'blanc', 'calancha', 'calancherai', 'balancerai']\n"
     ]
    }
   ],
   "source": [
    "for i in range(6):\n",
    "    print(i, corrections(\"blancha\", [\"balance\", \"balança\", \"blanc\", \"calancha\", \"calancherai\", \"balancerai\"], i, False))"
   ]
  },
  {
   "cell_type": "markdown",
   "metadata": {},
   "source": [
    "## Pour aller plus loin"
   ]
  },
  {
   "cell_type": "markdown",
   "metadata": {},
   "source": [
    "- Une structure de données (potentiellement) plus efficace : les [arbres BK](https://en.wikipedia.org/wiki/BK-tree).\n",
    "- Une distance qui prend en compte les erreurs dans l'ordre des lettres : la distance de [Damerau-Levenshtein](https://fr.wikipedia.org/wiki/Distance_de_Damerau-Levenshtein).\n",
    "- Comment tenir compte des informations du corpus pour améliorer la suggestion de correction ?\n",
    "- Comment tenir compte de la notion de seuil pour optimiser les calculs de distance ?"
   ]
  },
  {
   "cell_type": "markdown",
   "metadata": {},
   "source": []
  }
 ],
 "metadata": {
  "kernelspec": {
   "display_name": "Python 3 (ipykernel)",
   "language": "python",
   "name": "python3"
  },
  "language_info": {
   "codemirror_mode": {
    "name": "ipython",
    "version": 3
   },
   "file_extension": ".py",
   "mimetype": "text/x-python",
   "name": "python",
   "nbconvert_exporter": "python",
   "pygments_lexer": "ipython3",
   "version": "3.12.3"
  }
 },
 "nbformat": 4,
 "nbformat_minor": 4
}
