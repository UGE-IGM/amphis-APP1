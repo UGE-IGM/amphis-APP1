{
 "cells": [
  {
   "cell_type": "markdown",
   "id": "12e35ded",
   "metadata": {},
   "source": [
    "# Exercice sur les listes : ensembles finis\n"
   ]
  },
  {
   "cell_type": "markdown",
   "id": "bf983bcb",
   "metadata": {},
   "source": [
    "\n",
    "## Type de données abstrait\n"
   ]
  },
  {
   "cell_type": "markdown",
   "id": "afb7ec11",
   "metadata": {},
   "source": [
    "\n",
    "On souhaite créer des structures de données en Python et les fonctions associées pour manipuler des **ensembles** de valeurs (supposés de même type, et *comparables* deux à deux). On veut pouvoir :\n",
    "\n",
    "- créer un ensemble vide : `ensemble_vide()`\n",
    "- ajouter un élément à un ensemble : `ajoute(ensemble, elem)`\n",
    "- déterminer si un ensemble contient un élément donné : `contient(ensemble, elem)`\n",
    "\n",
    "De plus, on voudrait pouvoir comparer et combiner des ensembles entre eux :\n",
    "\n",
    "- déterminer si un ensemble est inclus dans un autre : `inclus_dans(ens1, ens2)`\n",
    "- calculer la réunion de deux ensembles : `union(ens1, ens2)`\n",
    "- calculer l'intersection de deux ensembles : `intersection(ens1, ens2)`\n",
    "- calculer la différence de deux ensembles : `difference(ens1, ens2)`\n",
    "\n",
    "On appelle ce genre de spécification un **type abstrait de données** (abstrait parce qu'on ne précise pas comment on l'implémente !)\n"
   ]
  },
  {
   "cell_type": "markdown",
   "id": "60a8098d",
   "metadata": {},
   "source": [
    "\n",
    "## Idées d'implémentation\n"
   ]
  },
  {
   "cell_type": "markdown",
   "id": "bb44fd2b",
   "metadata": {},
   "source": [
    "\n",
    "Quelles implémentations possibles ?\n",
    "\n",
    "- \n",
    "- \n",
    "\n",
    "**En Python :** type `set`, *tables de hachage* (avec plein d'optimisations) → plus tard dans le cursus...\n"
   ]
  },
  {
   "cell_type": "markdown",
   "id": "3fbaf01c",
   "metadata": {},
   "source": [
    "## Code\n"
   ]
  },
  {
   "cell_type": "markdown",
   "id": "dac5a4f8",
   "metadata": {},
   "source": [
    "\n",
    "Pour chacune des implémentations envisagées ci-dessus, écrire l'ensemble des fonctions de la spécification du type abstrait *ensemble*."
   ]
  },
  {
   "cell_type": "code",
   "execution_count": null,
   "id": "710269c1",
   "metadata": {},
   "outputs": [],
   "source": [
    "def inclus_dans(un, deux):\n",
    "    ...\n",
    "\n",
    "\n",
    "def union(un, deux):\n",
    "    ...\n"
   ]
  }
 ],
 "metadata": {
  "kernelspec": {
   "display_name": "Python 3 (ipykernel)",
   "language": "python",
   "name": "python3"
  },
  "language_info": {
   "codemirror_mode": {
    "name": "ipython",
    "version": 3
   },
   "file_extension": ".py",
   "mimetype": "text/x-python",
   "name": "python",
   "nbconvert_exporter": "python",
   "pygments_lexer": "ipython3",
   "version": "3.10.7"
  }
 },
 "nbformat": 4,
 "nbformat_minor": 5
}
