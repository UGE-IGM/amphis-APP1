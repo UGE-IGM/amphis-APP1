{
 "cells": [
  {
   "cell_type": "markdown",
   "id": "12e35ded",
   "metadata": {},
   "source": [
    "# Exercice sur les listes : ensembles finis\n",
    "\n",
    "Dans cet exercice on considère uniquement des listes sans doublon et dont les éléments sont\n",
    "triés par ordre croissant. Ce genre de listes peut être utilisé pour représenter des ensembles. Par exemple l'ensemble $\\{1, 3, 2, 1, 1, -4\\}$ peut être représenté par la liste `[-4, 1, 2, 3]`.\n",
    "\n",
    "**Remarques :**\n",
    "\n",
    "- Dans chacune des fonctions suivantes, les paramètres `un` et `deux` sont des listes de ce type. \n",
    "- On veillera à ne parcourir chacune des listes fournies en argument qu’*une seule fois* (pas de boucles imbriquées).\n",
    "- Il existe des techniques plus efficaces pour représenter des ensembles.\n",
    "\n",
    "**Questions.**\n",
    "\n",
    "1. Écrire une fonction `inclus_dans(un, deux)` qui renvoie `True` si tous les éléments de `un` appartiennent à `deux`."
   ]
  },
  {
   "cell_type": "code",
   "execution_count": 28,
   "id": "710269c1",
   "metadata": {},
   "outputs": [
    {
     "data": {
      "text/plain": [
       "TestResults(failed=0, attempted=21)"
      ]
     },
     "execution_count": 28,
     "metadata": {},
     "output_type": "execute_result"
    }
   ],
   "source": [
    "def inclus_dans(un, deux):\n",
    "    \"\"\"\n",
    "    Renvoie True ssi l'ensemble un est inclus dans l'ensemble deux.\n",
    "    \n",
    "    >>> inclus_dans([2, 4], [1, 2, 3, 4])\n",
    "    True\n",
    "    \n",
    "    >>> inclus_dans([2, 5], [1, 2, 3, 4])\n",
    "    False\n",
    "\n",
    "    >>> inclus_dans([2, 5], [2])\n",
    "    False\n",
    "\n",
    "    >>> inclus_dans([2, 5], [2, 5])\n",
    "    True\n",
    "    \"\"\"\n",
    "    c1, c2 = 0, 0\n",
    "    \n",
    "    while c1 < len(un) and c2 < len(deux):\n",
    "        if un[c1] == deux[c2]:\n",
    "            c1 += 1\n",
    "            c2 += 1\n",
    "        elif un[c1] > deux[c2]:\n",
    "            c2 += 1\n",
    "        else:  # un[c1] < deux[c2]\n",
    "            return False\n",
    "    return c1 == len(un)\n",
    "\n",
    "testmod()"
   ]
  },
  {
   "cell_type": "markdown",
   "id": "98bc5d91",
   "metadata": {},
   "source": [
    "2. Écrire une fonction disjoint(un, deux) qui renvoie True si un et deux représentent des ensembles disjoints, et False sinon."
   ]
  },
  {
   "cell_type": "code",
   "execution_count": null,
   "id": "a51c066d",
   "metadata": {},
   "outputs": [],
   "source": []
  },
  {
   "cell_type": "markdown",
   "id": "ea04c4e3",
   "metadata": {},
   "source": [
    "3. Écrire une fonction intersection(un, deux) qui renvoie la liste triée sans doublon con- tenant uniquement les éléments communs aux deux listes."
   ]
  },
  {
   "cell_type": "code",
   "execution_count": null,
   "id": "8f9bd50b",
   "metadata": {},
   "outputs": [],
   "source": []
  },
  {
   "cell_type": "markdown",
   "id": "031f5406",
   "metadata": {},
   "source": [
    "4. Écrire une fonction difference(un, deux) qui renvoie la liste triée sans doublon contenant tous les éléments appartenant à un mais pas à deux."
   ]
  },
  {
   "cell_type": "code",
   "execution_count": null,
   "id": "7c1d283b",
   "metadata": {},
   "outputs": [],
   "source": []
  },
  {
   "cell_type": "markdown",
   "id": "f58490e1",
   "metadata": {},
   "source": [
    "5. Écrire une fonction union(un, deux) qui renvoie la liste triée sans doublon contenant tous les éléments appartenant à un ou deux (ou au deux)."
   ]
  },
  {
   "cell_type": "code",
   "execution_count": null,
   "id": "2420883f",
   "metadata": {},
   "outputs": [],
   "source": []
  },
  {
   "cell_type": "markdown",
   "id": "be027191",
   "metadata": {},
   "source": [
    "6. Écrire une fonction difference_symetrique(un, deux) qui renvoie la liste triée sans doublon contenant tous les éléments appartenant soit à un, soit à deux (mais pas aux deux)."
   ]
  },
  {
   "cell_type": "code",
   "execution_count": null,
   "id": "756df983",
   "metadata": {},
   "outputs": [],
   "source": []
  }
 ],
 "metadata": {
  "kernelspec": {
   "display_name": "Python 3 (ipykernel)",
   "language": "python",
   "name": "python3"
  },
  "language_info": {
   "codemirror_mode": {
    "name": "ipython",
    "version": 3
   },
   "file_extension": ".py",
   "mimetype": "text/x-python",
   "name": "python",
   "nbconvert_exporter": "python",
   "pygments_lexer": "ipython3",
   "version": "3.10.7"
  }
 },
 "nbformat": 4,
 "nbformat_minor": 5
}
