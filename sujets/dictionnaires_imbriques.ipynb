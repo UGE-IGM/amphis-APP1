{
 "cells": [
  {
   "cell_type": "markdown",
   "metadata": {},
   "source": [
    "# Dictionnaires imbriqués\n",
    "\n"
   ]
  },
  {
   "cell_type": "code",
   "execution_count": null,
   "metadata": {},
   "outputs": [],
   "source": [
    "exemple = {\n",
    "    \"le\": {\n",
    "        \"petit\": {\n",
    "            \"chat\": {\"blanc\": 2, \"noir\": 1, \"mange\": 1},\n",
    "            \"chien\": {\"blanc\": 1, \"aboie\":2},\n",
    "            \"garçon\": {\"joue\": 1, \"mange\": 1, \"aboie\": 1}\n",
    "        },\n",
    "        \"grand\": {\n",
    "            \"chien\": {\"joue\": 1, \"aboie\":1}\n",
    "        }\n",
    "    }\n",
    "}"
   ]
  },
  {
   "cell_type": "code",
   "execution_count": 1,
   "metadata": {},
   "outputs": [],
   "source": [
    "def inserer(corpus, n_gramme, mot_suivant):\n",
    "    ..."
   ]
  },
  {
   "cell_type": "code",
   "execution_count": 3,
   "metadata": {},
   "outputs": [
    {
     "data": {
      "text/plain": [
       "{'le': {'petit': {'chat': {'blanc': 2, 'noir': 1, 'mange': 1},\n",
       "   'chien': {'blanc': 1, 'aboie': 2},\n",
       "   'garçon': {'joue': 1, 'mange': 1, 'aboie': 1}},\n",
       "  'grand': {'chien': {'joue': 1, 'aboie': 1}}}}"
      ]
     },
     "execution_count": 3,
     "metadata": {},
     "output_type": "execute_result"
    }
   ],
   "source": [
    "corpus = {}\n",
    "inserer(corpus, [\"le\", \"petit\", \"chat\"], \"blanc\")\n",
    "inserer(corpus, [\"le\", \"petit\", \"chat\"], \"blanc\")\n",
    "inserer(corpus, [\"le\", \"petit\", \"chat\"], \"noir\")\n",
    "inserer(corpus, [\"le\", \"petit\", \"chat\"], \"mange\")\n",
    "inserer(corpus, [\"le\", \"petit\", \"chien\"], \"blanc\")\n",
    "inserer(corpus, [\"le\", \"petit\", \"chien\"], \"aboie\")\n",
    "inserer(corpus, [\"le\", \"petit\", \"chien\"], \"aboie\")\n",
    "inserer(corpus, [\"le\", \"petit\", \"garçon\"], \"joue\")\n",
    "inserer(corpus, [\"le\", \"petit\", \"garçon\"], \"mange\")\n",
    "inserer(corpus, [\"le\", \"petit\", \"garçon\"], \"aboie\")\n",
    "inserer(corpus, [\"le\", \"grand\", \"chien\"], \"joue\")\n",
    "inserer(corpus, [\"le\", \"grand\", \"chien\"], \"aboie\")\n",
    "corpus"
   ]
  },
  {
   "cell_type": "code",
   "execution_count": null,
   "metadata": {},
   "outputs": [],
   "source": [
    "def completer(corpus, n_gramme):\n",
    "    ..."
   ]
  },
  {
   "cell_type": "code",
   "execution_count": null,
   "metadata": {},
   "outputs": [],
   "source": [
    "def construire(corpus, phrases):\n",
    "    ..."
   ]
  }
 ],
 "metadata": {
  "kernelspec": {
   "display_name": ".venv",
   "language": "python",
   "name": "python3"
  },
  "language_info": {
   "codemirror_mode": {
    "name": "ipython",
    "version": 3
   },
   "file_extension": ".py",
   "mimetype": "text/x-python",
   "name": "python",
   "nbconvert_exporter": "python",
   "pygments_lexer": "ipython3",
   "version": "3.12.3"
  }
 },
 "nbformat": 4,
 "nbformat_minor": 2
}
