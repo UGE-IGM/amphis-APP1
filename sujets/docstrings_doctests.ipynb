{
 "cells": [
  {
   "cell_type": "markdown",
   "metadata": {},
   "source": [
    "## Illustration de docstring et doctest"
   ]
  },
  {
   "cell_type": "code",
   "execution_count": null,
   "metadata": {},
   "outputs": [],
   "source": [
    "from math import sqrt\n",
    "\n",
    "def sol_quadratique(a, b, c):\n",
    "    '''\n",
    "    Donner les solutions de l'équation quadratique ax² + bx + c = 0\n",
    "    \n",
    "    Paramètres :\n",
    "    - a, b, c : coefficients de l'équation (a non nul)\n",
    "    \n",
    "    Valeur de retour :\n",
    "    Un couple de valeurs qui sont les solutions, ou bien None s'il n'y\n",
    "    a pas de solution\n",
    "    \n",
    "    >>> sol_quadratique(1, 3, 2)\n",
    "    (-1.0, -2.0)\n",
    "    \n",
    "    >>> sol_quadratique(1, -2, 1)\n",
    "    (1.0, 1.0)\n",
    "    \n",
    "    >>> sol_quadratique(1, 0, 1)\n",
    "    '''\n",
    "    if a == 0:\n",
    "        raise ValueError('Coefficient a est nul.')\n",
    "    # discriminant\n",
    "    delta = b * b - 4 * a * c\n",
    "    if delta < 0:\n",
    "        return None\n",
    "    term1 = - b / 2 / a\n",
    "    term2 = sqrt(delta) / 2 / a\n",
    "    return (term1 + term2, term1 - term2)"
   ]
  },
  {
   "cell_type": "code",
   "execution_count": null,
   "metadata": {},
   "outputs": [
    {
     "data": {
      "text/plain": [
       "TestResults(failed=0, attempted=3)"
      ]
     },
     "metadata": {},
     "output_type": "display_data"
    }
   ],
   "source": [
    "from doctest import testmod\n",
    "testmod()"
   ]
  },
  {
   "cell_type": "code",
   "execution_count": null,
   "metadata": {},
   "outputs": [
    {
     "name": "stdout",
     "output_type": "stream",
     "text": [
      "valeur doit être non nul\n"
     ]
    }
   ],
   "source": [
    "sol_quadratique(0, 1, 1)"
   ]
  }
 ],
 "metadata": {
  "language_info": {
   "name": "python"
  }
 },
 "nbformat": 4,
 "nbformat_minor": 2
}
