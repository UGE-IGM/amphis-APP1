{
 "cells": [
  {
   "cell_type": "markdown",
   "metadata": {},
   "source": [
    "# Documentation et test de fonctions\n",
    "\n",
    "## Chaînes de documentation (*docstring*)\n",
    "\n",
    "Bonne pratique : indiquer par un commentaire\n",
    "- à quoi sert une fonction\n",
    "- ce que représentent ses paramètres et leur type\n",
    "- ce que représente sa valeur de retour\n",
    "- d'éventuels effets ou causes secondaires"
   ]
  },
  {
   "cell_type": "code",
   "execution_count": null,
   "metadata": {},
   "outputs": [],
   "source": [
    "def triple(n):\n",
    "    \"\"\"\n",
    "    Fonction calculant le triple du nombre n (int ou float) \n",
    "    ou la répétition trois fois de la chaîne n.\n",
    "    \"\"\"\n",
    "    return n * 3"
   ]
  },
  {
   "cell_type": "markdown",
   "metadata": {},
   "source": [
    "On peut accéder à la chaîne de documentation d'une fonction en tapant `help(nom de la fonction)` dans l'interpréteur :"
   ]
  },
  {
   "cell_type": "code",
   "execution_count": null,
   "metadata": {},
   "outputs": [],
   "source": [
    "help(triple)"
   ]
  },
  {
   "cell_type": "markdown",
   "metadata": {},
   "source": [
    "Cela fonctionne aussi pour les fonctions prédéfinies ou issues de modules :"
   ]
  },
  {
   "cell_type": "code",
   "execution_count": null,
   "metadata": {},
   "outputs": [],
   "source": [
    "from random import randint\n",
    "help(randint)"
   ]
  },
  {
   "cell_type": "markdown",
   "metadata": {},
   "source": [
    "## Tests intégrés à la documentation (*doctest*)\n",
    "\n",
    "Comme tout morceau de programme, chaque fonction doit être *testée* immédiatement pour s'assurer qu'elle fonctionne."
   ]
  },
  {
   "cell_type": "code",
   "execution_count": null,
   "metadata": {},
   "outputs": [],
   "source": [
    "def triple(n):\n",
    "    return n * 3"
   ]
  },
  {
   "cell_type": "code",
   "execution_count": null,
   "metadata": {},
   "outputs": [],
   "source": [
    "triple(3)"
   ]
  },
  {
   "cell_type": "code",
   "execution_count": null,
   "metadata": {},
   "outputs": [],
   "source": [
    "triple(9.0)"
   ]
  },
  {
   "cell_type": "markdown",
   "metadata": {},
   "source": [
    "Plutôt que de perdre ces tests, il est utile de les intégrer à la documentation de la fonction, pour pouvoir s'y référer plus tard. Si l'on change le code de la fonction, cela permet aussi de vérifier que son comportement reste correct."
   ]
  },
  {
   "cell_type": "code",
   "execution_count": null,
   "metadata": {},
   "outputs": [],
   "source": [
    "def triple(n):\n",
    "    \"\"\"\n",
    "    Fonction calculant le triple du nombre n (int ou float) \n",
    "    ou la répétition trois fois de la chaîne n.\n",
    "    \n",
    "    >>> triple(3)\n",
    "    9\n",
    "    >>> triple(9.0)\n",
    "    27.0\n",
    "    >>> triple('pom')\n",
    "    'pompompom'\n",
    "    \"\"\"\n",
    "    return n * 3"
   ]
  },
  {
   "cell_type": "markdown",
   "metadata": {},
   "source": [
    "Il existe des outils qui permettent de lancer automatiquement tous les tests présents dans la documentation, et de vérifier qu'ils produisent les résultats annoncés."
   ]
  },
  {
   "cell_type": "markdown",
   "metadata": {},
   "source": [
    "Par exemple, à la fin d'un programme, on peut écrire le code suivant pour lancer systématiquement tous les tests présents dans le fichier :\n",
    "\n",
    "```python\n",
    "import doctest\n",
    "doctest.testmod()\n",
    "```\n",
    "\n",
    "Exemple :"
   ]
  },
  {
   "cell_type": "code",
   "execution_count": null,
   "metadata": {},
   "outputs": [],
   "source": [
    "def racine(n):\n",
    "    \"\"\"\n",
    "    Fonction calculant la racine carrée du nombre n.\n",
    "    \n",
    "    >>> racine(0)\n",
    "    0.0\n",
    "    >>> racine(1)\n",
    "    1.0\n",
    "    >>> racine(4)\n",
    "    2.0\n",
    "    \"\"\"\n",
    "    return n ** (1/2)"
   ]
  },
  {
   "cell_type": "code",
   "execution_count": null,
   "metadata": {},
   "outputs": [],
   "source": [
    "import doctest\n",
    "doctest.testmod()"
   ]
  },
  {
   "cell_type": "markdown",
   "metadata": {},
   "source": [
    "## Un autre exemple"
   ]
  },
  {
   "cell_type": "code",
   "execution_count": null,
   "metadata": {},
   "outputs": [],
   "source": [
    "from math import sqrt\n",
    "\n",
    "def sol_quadratique(a, b, c):\n",
    "    '''\n",
    "    Renvoie les solutions réelles de l'équation quadratique ax² + bx + c = 0\n",
    "    \n",
    "    Paramètres :\n",
    "    - a, b, c : coefficients de l'équation (a non nul)\n",
    "    \n",
    "    Valeur de retour :\n",
    "    Un couple de valeurs qui sont les solutions, ou bien None s'il n'y\n",
    "    a pas de solution\n",
    "    \n",
    "    >>> sol_quadratique(1, 3, 2)\n",
    "    (-1.0, -2.0)\n",
    "    \n",
    "    >>> sol_quadratique(1, -2, 1)\n",
    "    (1.0, 1.0)\n",
    "    \n",
    "    >>> sol_quadratique(1, 0, 1)\n",
    "    '''\n",
    "    if a == 0:\n",
    "        raise ValueError('Coefficient a est nul.')\n",
    "    # discriminant\n",
    "    delta = b * b - 4 * a * c\n",
    "    if delta < 0:\n",
    "        return None\n",
    "    term1 = - b / 2 / a\n",
    "    term2 = sqrt(delta) / 2 / a\n",
    "    return (term1 + term2, term1 - term2)"
   ]
  },
  {
   "cell_type": "code",
   "execution_count": null,
   "metadata": {},
   "outputs": [
    {
     "data": {
      "text/plain": [
       "TestResults(failed=0, attempted=3)"
      ]
     },
     "metadata": {},
     "output_type": "display_data"
    }
   ],
   "source": [
    "from doctest import testmod\n",
    "testmod()"
   ]
  }
 ],
 "metadata": {
  "language_info": {
   "name": "python"
  }
 },
 "nbformat": 4,
 "nbformat_minor": 2
}
