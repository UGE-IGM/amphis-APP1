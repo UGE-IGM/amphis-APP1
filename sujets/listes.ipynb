{
 "cells": [
  {
   "cell_type": "markdown",
   "metadata": {},
   "source": [
    "# Listes (et listes de listes)\n",
    "\n",
    "[Doc officielle Python](https://docs.python.org/fr/3/tutorial/introduction.html#lists)"
   ]
  },
  {
   "cell_type": "markdown",
   "metadata": {},
   "source": [
    "Un petit exemple avec des liste de listes : table d'addition"
   ]
  },
  {
   "cell_type": "code",
   "execution_count": 1,
   "metadata": {},
   "outputs": [],
   "source": [
    "def addition(taille):\n",
    "    table = []\n",
    "    for a in range(0, taille+1):\n",
    "        ligne = []\n",
    "        for b in range(0, taille+1):\n",
    "            ligne.append(a+b)\n",
    "        table.append(ligne)\n",
    "    return table"
   ]
  },
  {
   "cell_type": "code",
   "execution_count": 2,
   "metadata": {},
   "outputs": [
    {
     "data": {
      "text/plain": [
       "[[0, 1, 2, 3, 4, 5, 6, 7, 8, 9, 10],\n",
       " [1, 2, 3, 4, 5, 6, 7, 8, 9, 10, 11],\n",
       " [2, 3, 4, 5, 6, 7, 8, 9, 10, 11, 12],\n",
       " [3, 4, 5, 6, 7, 8, 9, 10, 11, 12, 13],\n",
       " [4, 5, 6, 7, 8, 9, 10, 11, 12, 13, 14],\n",
       " [5, 6, 7, 8, 9, 10, 11, 12, 13, 14, 15],\n",
       " [6, 7, 8, 9, 10, 11, 12, 13, 14, 15, 16],\n",
       " [7, 8, 9, 10, 11, 12, 13, 14, 15, 16, 17],\n",
       " [8, 9, 10, 11, 12, 13, 14, 15, 16, 17, 18],\n",
       " [9, 10, 11, 12, 13, 14, 15, 16, 17, 18, 19],\n",
       " [10, 11, 12, 13, 14, 15, 16, 17, 18, 19, 20]]"
      ]
     },
     "execution_count": 2,
     "metadata": {},
     "output_type": "execute_result"
    }
   ],
   "source": [
    "addition(10)"
   ]
  },
  {
   "cell_type": "markdown",
   "metadata": {},
   "source": [
    "Exercice : décrire l'effet des cellules suivantes, en mémoire et sur l'affichage :"
   ]
  },
  {
   "cell_type": "code",
   "execution_count": 3,
   "metadata": {},
   "outputs": [],
   "source": [
    "m = 4\n",
    "n = 3\n",
    "matrice = [[0] * n] * m"
   ]
  },
  {
   "cell_type": "code",
   "execution_count": 4,
   "metadata": {},
   "outputs": [
    {
     "name": "stdout",
     "output_type": "stream",
     "text": [
      "[0, 0, 0]\n",
      "[0, 0, 0]\n",
      "[0, 0, 0]\n",
      "[0, 0, 0]\n"
     ]
    }
   ],
   "source": [
    "for ligne in matrice:\n",
    "    print(ligne)"
   ]
  },
  {
   "cell_type": "code",
   "execution_count": 6,
   "metadata": {},
   "outputs": [
    {
     "data": {
      "text/plain": [
       "[[0, 0, 0], [0, 0, 0], [0, 0, 0], [0, 0, 0]]"
      ]
     },
     "execution_count": 6,
     "metadata": {},
     "output_type": "execute_result"
    }
   ],
   "source": [
    "matrice"
   ]
  },
  {
   "cell_type": "code",
   "execution_count": 7,
   "metadata": {},
   "outputs": [
    {
     "name": "stdout",
     "output_type": "stream",
     "text": [
      "[0, 1, 0]\n",
      "[0, 1, 0]\n",
      "[0, 1, 0]\n",
      "[0, 1, 0]\n"
     ]
    }
   ],
   "source": [
    "matrice[2][1] = 1\n",
    "for ligne in matrice:\n",
    "    print(ligne)"
   ]
  },
  {
   "cell_type": "code",
   "execution_count": 9,
   "metadata": {},
   "outputs": [
    {
     "name": "stdout",
     "output_type": "stream",
     "text": [
      "[1, 2, 3, 4]\n"
     ]
    }
   ],
   "source": [
    "def zero(lst):\n",
    "    lst = [0] * len(lst)\n",
    "\n",
    "lst = [1, 2, 3, 4]\n",
    "zero(lst)\n",
    "print(lst)"
   ]
  },
  {
   "cell_type": "code",
   "execution_count": 12,
   "metadata": {},
   "outputs": [
    {
     "name": "stdout",
     "output_type": "stream",
     "text": [
      "[1, 2, 3, 4] [0, 0, 0, 0]\n"
     ]
    }
   ],
   "source": [
    "def zero(lst):\n",
    "    return [0] * len(lst)\n",
    "\n",
    "lst = [1, 2, 3, 4]\n",
    "lst2 = zero(lst)\n",
    "print(lst, lst2)"
   ]
  },
  {
   "cell_type": "code",
   "execution_count": 13,
   "metadata": {},
   "outputs": [
    {
     "name": "stdout",
     "output_type": "stream",
     "text": [
      "[[0, 0], [0, 40]] [[0, 0], [0, 40]]\n"
     ]
    }
   ],
   "source": [
    "matrice = [[0, 0],\n",
    "           [0, 0]]\n",
    "matrice2 = matrice.copy()\n",
    "matrice2[1][1] = 40\n",
    "\n",
    "print(matrice, matrice2)"
   ]
  },
  {
   "cell_type": "code",
   "execution_count": 16,
   "metadata": {},
   "outputs": [
    {
     "data": {
      "text/plain": [
       "(124822880942720, 124822880942720, 124822880943296, 124822880943296)"
      ]
     },
     "execution_count": 16,
     "metadata": {},
     "output_type": "execute_result"
    }
   ],
   "source": [
    "id(matrice[0]), id(matrice2[0]), id(matrice[1]), id(matrice2[1])"
   ]
  },
  {
   "cell_type": "code",
   "execution_count": 18,
   "metadata": {},
   "outputs": [
    {
     "name": "stdout",
     "output_type": "stream",
     "text": [
      "[[0, 0], [0, 0]] [[0, 0], [0, 40]]\n"
     ]
    }
   ],
   "source": [
    "from copy import deepcopy\n",
    "\n",
    "matrice = [[0, 0],\n",
    "           [0, 0]]\n",
    "matrice2 = deepcopy(matrice)\n",
    "matrice2[1][1] = 40\n",
    "\n",
    "print(matrice, matrice2)"
   ]
  },
  {
   "cell_type": "code",
   "execution_count": null,
   "metadata": {},
   "outputs": [],
   "source": []
  }
 ],
 "metadata": {
  "kernelspec": {
   "display_name": "Python 3 (ipykernel)",
   "language": "python",
   "name": "python3"
  },
  "language_info": {
   "codemirror_mode": {
    "name": "ipython",
    "version": 3
   },
   "file_extension": ".py",
   "mimetype": "text/x-python",
   "name": "python",
   "nbconvert_exporter": "python",
   "pygments_lexer": "ipython3",
   "version": "3.13.3"
  }
 },
 "nbformat": 4,
 "nbformat_minor": 4
}
