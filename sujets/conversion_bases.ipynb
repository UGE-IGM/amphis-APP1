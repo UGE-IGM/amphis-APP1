{
 "cells": [
  {
   "cell_type": "markdown",
   "metadata": {},
   "source": [
    "# Écriture des nombres entiers et changements de base\n",
    "\n",
    "Dans tout ce qui suit, il faudra bien faire la différence entre la *valeur* d'un nombre (la quantité ou la grandeur qu'il désigne) et son *écriture* (la suite de signes qui permet de le représenter). \n",
    "\n",
    "De même, il ne faudra pas confondre la notion de *chiffre* (signe utilisé dans une certaine base) et celle de *nombre* (qui peut s'écrire à l'aide d'un ou plusieurs chiffres)."
   ]
  },
  {
   "cell_type": "markdown",
   "metadata": {},
   "source": [
    "## Déterminer la valeur d'un nombre écrit dans une certaine base"
   ]
  },
  {
   "cell_type": "markdown",
   "metadata": {},
   "source": [
    "\n",
    "### Valeur d'un nombre écrit en base 10\n",
    "\n",
    "Un nombre entier positif s'écrivant sous la forme $d_r d_{r - 1} \\cdots d_0$ en base 10 a pour valeur :\n",
    "$$\n",
    "\\begin{align*}\n",
    "      n & = d_0 + d_1 \\times 10 + \\cdots + d_{r-1} \\times 10^{r-1} + d_r \\times 10^r\\\\\n",
    "        & = d_0 \\times 10^0 + d_1 \\times 10^1 + \\cdots + d_{r-1} \\times 10^{r-1} + d_r \\times 10^r\\\\\n",
    "        & = \\sum _{i = 0}\n",
    "                   ^r\n",
    "                   d_i 10^i\n",
    "        \\ .\n",
    "\\end{align*}\n",
    "$$\n",
    "On appelle $d_0$ le chiffre des unités, $d_1$ celui des dizaines, etc.\n",
    "\n",
    "Par exemple, le nombre dont l'écriture décimale est $(124)_{10}$ (ou « un quatre deux en base 10 ») a pour valeur \n",
    "        $$4 \\times 10^0 + 2 \\times 10^1 + 1 \\times 10^2 = 124.$$\n",
    "\n",
    "**Exercice :** Écrire une fonction `valeur_dec(chiffres)` recevant une liste de chiffres `chiffres` composant la représentation décimale d'un nombre, et renvoyant la valeur de ce nombre. On supposera que le premier élément de la liste est le chiffre des unités (aussi appelé *chiffre de poids faible*). Par exemple, `valeur_dec([4, 2, 1])` doit renvoyer l'entier `124`."
   ]
  },
  {
   "cell_type": "code",
   "execution_count": null,
   "metadata": {},
   "outputs": [],
   "source": [
    "def valeur_dec(chiffres):\n",
    "    ..."
   ]
  },
  {
   "cell_type": "code",
   "execution_count": null,
   "metadata": {},
   "outputs": [],
   "source": [
    "valeur_dec([4, 2, 1])"
   ]
  },
  {
   "cell_type": "markdown",
   "metadata": {},
   "source": [
    "\n",
    "En factorisant l'expression ci-dessus, on peut aussi écrire :\n",
    "$$\n",
    "    n = d_0 + 10(d_1 + 10 (d_2 + \\cdots + 10 (d_r)))\n",
    "$$\n",
    "\n",
    "**Exercice :** Proposer une nouvelle version de la fonction `valeur_dec(chiffres)` effectuant le calcul sous cette nouvelle forme (indication : il est cette fois-ci plus commode de parcourir la liste des chiffres en commençant par le chiffre de rang le plus élevé, ou *chiffre de poids fort*).  "
   ]
  },
  {
   "cell_type": "code",
   "execution_count": null,
   "metadata": {},
   "outputs": [],
   "source": [
    "def valeur_dec(chiffres):\n",
    "    ..."
   ]
  },
  {
   "cell_type": "markdown",
   "metadata": {},
   "source": [
    "**Exercice :** Comment peut-on déterminer laquelle de ces deux versions est la meilleure ?"
   ]
  },
  {
   "cell_type": "markdown",
   "metadata": {},
   "source": []
  },
  {
   "cell_type": "markdown",
   "metadata": {},
   "source": [
    "### Valeur d'un nombre écrit en base quelconque\n",
    "\n",
    "Dans une base $b$ différente de 10, le principe est le même : un nombre s'écrivant dans une base $b$ quelconque par la suite de chiffres $(d_r \\ldots d_0)_b$ a pour valeur :\n",
    "$$\n",
    "\\begin{align*}\n",
    "      n & = d_0 + d_1 \\times b + \\cdots + d_{r-1} \\times b^{r-1} + d_r \\times b^r\\\\\n",
    "        & = d_0 \\times b^0 + d_1 \\times b^1 + \\cdots + d_{r-1} \\times b^{r-1} + d_r \\times b^r\\\\\n",
    "        & = \\sum_{i = 0}^r d_i b^i\\\\\n",
    "        & = d_0 + b.(d_1 + b.(d_2 + \\cdots + b. (d_r)))\n",
    "        \\ .\n",
    "\\end{align*}\n",
    "$$\n",
    "Par exemple, \n",
    "$$\n",
    "\\begin{align*}\n",
    "(11010)_2 & = 0 \\times 1 + 1 \\times 2 + 0 \\times 4 + 1 \\times 8 + 1 \\times 16\\\\\n",
    "          & = 2 + 8 + 16 = 26\\ .\n",
    "\\end{align*}\n",
    "$$\n",
    "\n",
    "**Exercice :** quelle est la valeur de $(1110011)_2$ ? Et celle de $(302)_4$ ?"
   ]
  },
  {
   "cell_type": "markdown",
   "metadata": {},
   "source": [
    "115 et 50"
   ]
  },
  {
   "cell_type": "markdown",
   "metadata": {},
   "source": [
    "**Exercice :** En s'inspirant de la fonction `valeur_dec` écrite précédemment, écrire une fonction `valeur(chiffres, base)` recevant une liste de chiffres et une base et renvoyant la valeur du nombre correspondant."
   ]
  },
  {
   "cell_type": "code",
   "execution_count": null,
   "metadata": {},
   "outputs": [],
   "source": [
    "def valeur(chiffres, base=10):\n",
    "    ..."
   ]
  },
  {
   "cell_type": "code",
   "execution_count": null,
   "metadata": {},
   "outputs": [],
   "source": [
    "valeur([1, 1, 0, 0, 1, 1, 1], 2)"
   ]
  },
  {
   "cell_type": "code",
   "execution_count": null,
   "metadata": {},
   "outputs": [],
   "source": [
    "valeur([2, 0, 3], 4)"
   ]
  },
  {
   "cell_type": "code",
   "execution_count": null,
   "metadata": {},
   "outputs": [],
   "source": [
    "valeur([4, 2, 1])"
   ]
  },
  {
   "cell_type": "markdown",
   "metadata": {},
   "source": [
    "### La fonction `int` et autres syntaxes particulières"
   ]
  },
  {
   "cell_type": "markdown",
   "metadata": {},
   "source": [
    "La fonction `int(chaine, base)` de Python permet de calculer une valeur entière en interprétant son argument `chaine` comme une chaîne de chiffres dans la base `base` (qui vaut 10 par défaut). Par exemple :"
   ]
  },
  {
   "cell_type": "code",
   "execution_count": null,
   "metadata": {},
   "outputs": [],
   "source": [
    "int(\"124\")  # Si on ne précise pas la base : 10 par défaut"
   ]
  },
  {
   "cell_type": "code",
   "execution_count": null,
   "metadata": {},
   "outputs": [],
   "source": [
    "int(\"11010\", 2)"
   ]
  },
  {
   "cell_type": "markdown",
   "metadata": {},
   "source": [
    "**Exercice :** Vérifier les valeurs de $(1110011)_2$ et de $(302)_4$ à l'aide de la fonction `int`."
   ]
  },
  {
   "cell_type": "code",
   "execution_count": null,
   "metadata": {},
   "outputs": [],
   "source": []
  },
  {
   "cell_type": "code",
   "execution_count": null,
   "metadata": {},
   "outputs": [],
   "source": []
  },
  {
   "cell_type": "markdown",
   "metadata": {},
   "source": [
    "**Exercice :** Explorer le fonctionnement de la fonction `int` pour des bases supérieures à 10. Quelle est la plus grande base utilisable ? Quels caractères sont choisis pour représenter les chiffres supérieurs à 10 ?"
   ]
  },
  {
   "cell_type": "code",
   "execution_count": null,
   "metadata": {},
   "outputs": [],
   "source": []
  },
  {
   "cell_type": "markdown",
   "metadata": {},
   "source": [
    "**Exercice :** Calculer à la main (ou à la calculatrice) puis vérifier avec l'interpréteur les résultats des appels suivants :\n",
    "- `int('abba', 12)`\n",
    "- `int('ff', 16)`\n",
    "- `int('zoo', 36)`\n",
    "- `int('bat', 16)`"
   ]
  },
  {
   "cell_type": "code",
   "execution_count": null,
   "metadata": {},
   "outputs": [],
   "source": []
  },
  {
   "cell_type": "markdown",
   "metadata": {},
   "source": [
    "En Python, on peut également écrire directement des entiers en base 2 (binaire), 8 (octal) et 16 (hexadécimal) en faisant précéder leur écriture des préfixes respectifs `0b`, `0o` et `0x`.\n",
    "\n",
    "**Exercice :** Faire évaluer par l'interpréteur grâce à cette syntaxe les nombres $(11010)_2$, $(7777)_8$ et $(15\\,15)_{16}$ (« quinze quinze en base 16 »)."
   ]
  },
  {
   "cell_type": "code",
   "execution_count": null,
   "metadata": {},
   "outputs": [],
   "source": []
  },
  {
   "cell_type": "markdown",
   "metadata": {},
   "source": [
    "### Ordre de grandeur d'un nombre\n",
    "\n",
    "**Exercice :** Quelle est la plus grande valeur possible d'un nombre dont l'écriture possède 4 chiffres en base 10 ? "
   ]
  },
  {
   "cell_type": "markdown",
   "metadata": {},
   "source": [
    "Et en bases 2, 8, 16 ? "
   ]
  },
  {
   "cell_type": "markdown",
   "metadata": {},
   "source": []
  },
  {
   "cell_type": "markdown",
   "metadata": {},
   "source": [
    "Et en base quelconque $b$ ? "
   ]
  },
  {
   "cell_type": "markdown",
   "metadata": {},
   "source": []
  },
  {
   "cell_type": "markdown",
   "metadata": {},
   "source": [
    "Et sa plus petite valeur possible (si l'on suppose que le chiffre de poids fort n'est pas 0) ?"
   ]
  },
  {
   "cell_type": "markdown",
   "metadata": {},
   "source": []
  },
  {
   "cell_type": "markdown",
   "metadata": {},
   "source": [
    "\n",
    "Plus généralement, quelle est la plus grande valeur possible d'un nombre à $r$ chiffres dans chacune de ces bases ?"
   ]
  },
  {
   "cell_type": "markdown",
   "metadata": {},
   "source": []
  },
  {
   "cell_type": "markdown",
   "metadata": {},
   "source": [
    " Et sa plus petite valeur possible (si l'on suppose que le chiffre de poids fort n'est pas 0) ?"
   ]
  },
  {
   "cell_type": "markdown",
   "metadata": {},
   "source": []
  },
  {
   "cell_type": "markdown",
   "metadata": {},
   "source": [
    "## Déterminer l'écriture d'un nombre d'après sa valeur\n",
    "\n",
    "Travaillons maintenant dans la direction opposée : connaissant la valeur d'un nombre, comment déterminer son écriture (c'est à dire la suite de ses chiffres) dans une certaine base ?"
   ]
  },
  {
   "cell_type": "markdown",
   "metadata": {},
   "source": [
    "### Calcul de l'écriture décimale\n",
    "\n",
    "Si l'on remanie un peu l'écriture donnant la valeur $n$ d'un nombre décimal $(d_r \\ldots d_0)_{10}$, on trouve :\n",
    "$$\n",
    "\\begin{align*}\n",
    "      n & =       \\sum _{i = 0}^{r} d_i 10^i\\\\\n",
    "        & = d_0 + \\sum _{i = 1}^{r} d_{i} 10^i\\\\\n",
    "        & = d_0 + 10 \\sum _{i = 1}^{r} d_{i} 10^{i-1}\\\\\n",
    "        & = d_0 + 10 \\sum _{i = 0}^{r-1} d_{i+1} 10^{i}\n",
    "\\end{align*}\n",
    "$$\n",
    "Par exemple :\n",
    "$$\n",
    "\\begin{align*}\n",
    "124 & = 4.1 + 2.10 + 1.100 \\\\\n",
    "    & = 4 + (2.10 + 1.100) \\\\\n",
    "    & = 4 + 10.(2 + 1.10) \\\\\n",
    "    & = 4 + 10.12\n",
    "\\end{align*}\n",
    "$$\n",
    "\n",
    "Dans la dernière égalité, on voit :\n",
    "- que le chiffre des unités de $n$ est le reste de la division de $n$ par 10 ;\n",
    "- que les chiffres restants sont l'écriture en base 10 du quotient de $n$ par 10."
   ]
  },
  {
   "cell_type": "markdown",
   "metadata": {},
   "source": [
    "\n",
    "On peut en tirer un algorithme qui permet de déterminer tous les chiffres de l\"écriture décimale de $n$, en commençant par le chiffre des unités :\n",
    "\n",
    "> **Suite des chiffres du nombre $n$ (en commençant par les unités)**\n",
    "> 1. Calculer le quotient et le reste de $n$ par 10 (notés $q$ et $r$) ;\n",
    "> 2. Mémoriser $r$ comme chiffre suivant du résultat ;\n",
    "> 3. Si $q$ est nul, s'arrêter, sinon reprendre à l'étape 1 en remplaçant $n$ par $q$."
   ]
  },
  {
   "cell_type": "markdown",
   "metadata": {},
   "source": [
    "\n",
    "Par exemple, on obtient l'écriture décimale du nombre 124 ainsi :\n",
    "- $124 = 10 \\times 12 + 4$. Le premier chiffre trouvé est 4.\n",
    "- $12 = 10 \\times 1 + 2$. Le deuxième chiffre trouvé est 2.\n",
    "- $1 = 10 \\times 0 + 1$. Le troisième et dernier chiffre trouvé est 1."
   ]
  },
  {
   "cell_type": "markdown",
   "metadata": {},
   "source": [
    "**Exercice :** Écrire une fonction `chiffres_dec(entier)` recevant un nombre de type `int` et renvoyant la liste des chiffres composant son écriture binaire (chiffre des unités en premier)."
   ]
  },
  {
   "cell_type": "code",
   "execution_count": null,
   "metadata": {},
   "outputs": [],
   "source": [
    "def chiffres_dec(entier):\n",
    "    ..."
   ]
  },
  {
   "cell_type": "markdown",
   "metadata": {},
   "source": [
    "### Calcul de l'écriture binaire ou en base quelconque\n",
    "\n",
    "Le principe des calculs et de l'algorithme décrits ci-dessus reste le même en binaire ou dans toute autre base.\n",
    "\n",
    "Par exemple, pour convertir le nombre 26 en binaire :\n",
    "\n",
    "1. $26 = 2 \\times 13 + 0$, donc le chiffre de droite du résultat est 0  \n",
    "2. $13 = 2 \\times 6 + 1$, donc le deuxième chiffre du résultat est 1\n",
    "3. $6 = 2 \\times 3 + 0$, donc le troisième chiffre du résultat est 0  \n",
    "4. $3 = 2 \\times 1 + 1$, donc le quatrième chiffre du résultat est 1  \n",
    "5. $1 = 2 \\times 0 + 1$, donc le dernier chiffre du résultat est 1\n",
    "\n",
    "L'écriture de 26 en binaire est donc : $(11010)_2$."
   ]
  },
  {
   "cell_type": "markdown",
   "metadata": {},
   "source": [
    "**Exercice :** Écrire une fonction `chiffres(entier, base)` recevant un `int` positif et une base et renvoyant la liste des chiffres de l'écriture de ce nombre dans cette base, en commençant par le chiffre des unités."
   ]
  },
  {
   "cell_type": "code",
   "execution_count": null,
   "metadata": {},
   "outputs": [],
   "source": [
    "def chiffres(entier, base):\n",
    "    ..."
   ]
  },
  {
   "cell_type": "markdown",
   "metadata": {},
   "source": [
    "**Exercice :** Déterminer les écritures en bases 2, 4, 8, 16, et 53 du nombre 4926."
   ]
  },
  {
   "cell_type": "code",
   "execution_count": null,
   "metadata": {},
   "outputs": [],
   "source": []
  },
  {
   "cell_type": "markdown",
   "metadata": {},
   "source": [
    "**Exercice (application) :** Écrire une fonction `diese_couleur(rouge, vert, bleu)` recevant trois intensités de couleurs entières comprises entre 0 et 255 et renvoyant la chaîne de description de couleur HTML correspondante. Par exemple, `diese_couleur(255, 127, 0)` doit renvoyer la chaîne `#ff7f00`."
   ]
  },
  {
   "cell_type": "code",
   "execution_count": null,
   "metadata": {},
   "outputs": [],
   "source": [
    "def diese_couleur(rouge, vert, bleu):\n",
    "    ..."
   ]
  },
  {
   "cell_type": "code",
   "execution_count": null,
   "metadata": {},
   "outputs": [],
   "source": [
    "diese_couleur(255, 127, 0)"
   ]
  },
  {
   "cell_type": "markdown",
   "metadata": {},
   "source": [
    "### Fonctions et syntaxes prédéfinies"
   ]
  },
  {
   "cell_type": "markdown",
   "metadata": {},
   "source": [
    "Python fournit des fonctions prédéfinies permettant de déterminer l'écriture de nombres entiers dans certaines bases particulières."
   ]
  },
  {
   "cell_type": "markdown",
   "metadata": {},
   "source": [
    "**Exercice :** Lire la documentation des fonctions prédéfinies `bin(n)`, `oct(n)`, et `hex(n)`, et les tester sur quelques exemples."
   ]
  },
  {
   "cell_type": "code",
   "execution_count": null,
   "metadata": {},
   "outputs": [],
   "source": []
  },
  {
   "cell_type": "markdown",
   "metadata": {},
   "source": [
    "Il est également possible de spécifier la base d'écriture des nombres lors de la construction de châines de caractères, soit à l'aide de la fonction [`string.format`](https://docs.python.org/fr/3/library/string.html#format-string-syntax), soit à l'aide de la syntaxe des [« f-strings »](https://docs.python.org/fr/3/reference/lexical_analysis.html#formatted-string-literals). Une description complète de ces syntaxes serait trop longue et compliquée, mais voici un exemple intéressant :"
   ]
  },
  {
   "cell_type": "code",
   "execution_count": null,
   "metadata": {},
   "outputs": [],
   "source": [
    "oooh = 4926\n",
    "f\"{oooh:x}\""
   ]
  },
  {
   "cell_type": "markdown",
   "metadata": {},
   "source": [
    "**Exercice :** Écrire, à l'aide de la syntaxe des f-strings mentionnée ci-dessus, une nouvelle version de la fonction `diese_couleur(rouge, vert, bleu)` dont le corps ne fasse **qu'une seule ligne**."
   ]
  },
  {
   "cell_type": "code",
   "execution_count": null,
   "metadata": {},
   "outputs": [],
   "source": [
    "def diese_couleur(rouge, vert, bleu):\n",
    "    ..."
   ]
  },
  {
   "cell_type": "code",
   "execution_count": null,
   "metadata": {},
   "outputs": [],
   "source": [
    "diese_couleur(255, 255, 128)"
   ]
  }
 ],
 "metadata": {
  "kernelspec": {
   "display_name": ".venv",
   "language": "python",
   "name": "python3"
  },
  "language_info": {
   "codemirror_mode": {
    "name": "ipython",
    "version": 3
   },
   "file_extension": ".py",
   "mimetype": "text/x-python",
   "name": "python",
   "nbconvert_exporter": "python",
   "pygments_lexer": "ipython3",
   "version": "3.13.3"
  }
 },
 "nbformat": 4,
 "nbformat_minor": 4
}
