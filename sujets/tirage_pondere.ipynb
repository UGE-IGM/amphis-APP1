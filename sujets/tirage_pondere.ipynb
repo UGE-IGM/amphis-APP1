{
 "cells": [
  {
   "cell_type": "markdown",
   "metadata": {},
   "source": [
    "# Tirage aléatoire pondéré"
   ]
  },
  {
   "cell_type": "markdown",
   "metadata": {},
   "source": [
    "**Objectifs :** Étant donnée une suite d'objets `population`, et une suite de poids correspondante `poids`, tirer au sort un élément de `population` avec une probabilité proportionnelle à son poids par rapport aux autres éléments.\n",
    "\n",
    "⚠️⚠️⚠️ Dans ce cahier, on supposera dans un premier temps qu'on dispose uniquement de la fonction `random.randrange`.\n",
    "\n",
    "Pour tester les résultats obtenus, on pourra faire des expériences répétées, et tracer des histogrammes avec `matplotlib`."
   ]
  },
  {
   "cell_type": "code",
   "execution_count": 3,
   "metadata": {},
   "outputs": [],
   "source": [
    "from random import randrange\n",
    "import matplotlib.pyplot as plt"
   ]
  },
  {
   "cell_type": "markdown",
   "metadata": {},
   "source": [
    "## Échauffement : tirage uniforme"
   ]
  },
  {
   "cell_type": "markdown",
   "metadata": {},
   "source": [
    "Écrivons une fonction qui tire un élément **uniformément** au hasard dans la collection `population`, en utilisant uniquement `randrange`."
   ]
  },
  {
   "cell_type": "code",
   "execution_count": 4,
   "metadata": {},
   "outputs": [],
   "source": [
    "def choix_uniforme(population):\n",
    "    indice = randrange(len(population))\n",
    "    return population[indice]"
   ]
  },
  {
   "cell_type": "code",
   "execution_count": 13,
   "metadata": {},
   "outputs": [
    {
     "data": {
      "text/plain": [
       "'c'"
      ]
     },
     "execution_count": 13,
     "metadata": {},
     "output_type": "execute_result"
    }
   ],
   "source": [
    "choix_uniforme(['a', 'b', 'c'])  # pas de poids : une simple liste suffit"
   ]
  },
  {
   "cell_type": "markdown",
   "metadata": {},
   "source": [
    "On compte le nombre d'occurrence de chaque résultat sur un grand nombre d'appels, pour vérifier que les résultats obtenus semblent uniformes :"
   ]
  },
  {
   "cell_type": "code",
   "execution_count": 14,
   "metadata": {},
   "outputs": [],
   "source": [
    "def compte_resultats(population, fonction_de_tirage, n=12000):\n",
    "    \"\"\"\n",
    "    Effectue `n` appels à `fonction_de_tirage` sur la collection \n",
    "    `population`, compte le nombre d'occurrences de chaque résultat\n",
    "    (supposé hachable) et trace un diagramme.\n",
    "    \"\"\"\n",
    "    resultats = {}\n",
    "    for _ in range(n):\n",
    "        choix = fonction_de_tirage(population)\n",
    "        resultats[choix] = resultats.get(choix, 0) + 1\n",
    "    plt.bar(resultats.keys(), resultats.values(), tick_label=resultats.keys())"
   ]
  },
  {
   "cell_type": "code",
   "execution_count": 15,
   "metadata": {},
   "outputs": [
    {
     "data": {
      "image/png": "[encoded data removed]",
      "text/plain": [
       "<Figure size 640x480 with 1 Axes>"
      ]
     },
     "metadata": {},
     "output_type": "display_data"
    }
   ],
   "source": [
    "\n",
    "compte_resultats(['a', 'b', 'c'], choix_uniforme)"
   ]
  },
  {
   "cell_type": "markdown",
   "metadata": {},
   "source": [
    "## Premier essai de tirage pondéré : dupliquer les éléments de la collection\n",
    "\n",
    "Puisqu'on sait tirer uniformément dans une collection, on peut \"tricher\" en dupliquant chaque élément autant de fois que l'indique son poids, et tirer uniformément dans cette collection."
   ]
  },
  {
   "cell_type": "code",
   "execution_count": 16,
   "metadata": {},
   "outputs": [],
   "source": [
    "def choix_pondere_naif(population):  # ici population est supposé être un dictionnaire\n",
    "    population_avec_doublons = []\n",
    "    for cle in population:\n",
    "        poids = population[cle]\n",
    "        for i in range(poids):\n",
    "            population_avec_doublons.append(cle)\n",
    "    return choix_uniforme(population_avec_doublons)\n",
    "        "
   ]
  },
  {
   "cell_type": "code",
   "execution_count": 28,
   "metadata": {},
   "outputs": [
    {
     "data": {
      "text/plain": [
       "'c'"
      ]
     },
     "execution_count": 28,
     "metadata": {},
     "output_type": "execute_result"
    }
   ],
   "source": [
    "choix_pondere_naif({'a': 1, 'b': 3, 'c': 2})"
   ]
  },
  {
   "cell_type": "code",
   "execution_count": 29,
   "metadata": {},
   "outputs": [
    {
     "data": {
      "image/png": "[encoded data removed]",
      "text/plain": [
       "<Figure size 640x480 with 1 Axes>"
      ]
     },
     "metadata": {},
     "output_type": "display_data"
    }
   ],
   "source": [
    "compte_resultats({'a': 1, 'b': 3, 'c': 2}, choix_pondere_naif)"
   ]
  },
  {
   "cell_type": "markdown",
   "metadata": {},
   "source": [
    "## Deuxième essai : avec calcul des poids cumulés\n",
    "\n",
    "**Idée :** on calcule la somme des poids $S$, et on partitionne l'intervale des entiers de 0 à $S-1$ en `len(populations)` intervalles successifs correspondant à chacun des éléments de `population`. Ensuite, on fait un tirage uniforme d'un entier entre $0$ et $S-1$, et on associe l'entier tiré à l'intervalle correspondant."
   ]
  },
  {
   "cell_type": "markdown",
   "metadata": {},
   "source": [
    "**Tâches :**\n",
    "- choisir un type de données approprié pour représenter ces intervalles ;\n",
    "- compléter la fonction `poids_cumules` calculant ces intervalles pour un dictionnaire `population` donné, et en renvoyant sa représentation (ainsi que la valeur de $S$)."
   ]
  },
  {
   "cell_type": "code",
   "execution_count": 43,
   "metadata": {},
   "outputs": [],
   "source": [
    "def poids_cumules(population):\n",
    "    res = []\n",
    "    somme = 0\n",
    "    for cle, poids in population.items():\n",
    "        somme += poids\n",
    "        res.append((somme, cle))\n",
    "    return res"
   ]
  },
  {
   "cell_type": "code",
   "execution_count": 44,
   "metadata": {},
   "outputs": [
    {
     "data": {
      "text/plain": [
       "[(1, 'a'), (4, 'b'), (6, 'c')]"
      ]
     },
     "execution_count": 44,
     "metadata": {},
     "output_type": "execute_result"
    }
   ],
   "source": [
    "poids_cumules({'a': 1, 'b': 3, 'c': 2})  # devrait renvoyer [1, 4, 6]"
   ]
  },
  {
   "cell_type": "markdown",
   "metadata": {},
   "source": [
    "Étant donnés un entier `n` et l'objet `cumuls` calculé précédemment, on veut maintenant pouvoir déterminer à quel intervalle de `cumuls` appartient `n`. Par exemple, si $(c_i)_{0 \\leq i \\leq k}$ représente la suite des cumuls, on cherche le plus grand indice $i$ tel que $c_i \\leq$ `n` (ou de manière équivalente, le plus petit indice $i$ tel que `n` $< c_i$). C'est cet indice qui nous indiquera à quel intervalle appartient l'entier `n`  (et donc à quel élément de la population d'origine il correspond)."
   ]
  },
  {
   "cell_type": "code",
   "execution_count": 45,
   "metadata": {},
   "outputs": [],
   "source": [
    "def trouve_intervalle(population, n):\n",
    "    cumuls = poids_cumules(population)\n",
    "    for (borne, element) in cumuls:\n",
    "        if n < borne:\n",
    "            return element\n",
    "    return None  # ne devrait pas se produire ! n incorrect"
   ]
  },
  {
   "cell_type": "code",
   "execution_count": 46,
   "metadata": {},
   "outputs": [],
   "source": [
    "trouve_intervalle({'a': 1, 'b': 3, 'c': 2}, 6)"
   ]
  },
  {
   "cell_type": "code",
   "execution_count": 47,
   "metadata": {},
   "outputs": [
    {
     "name": "stdout",
     "output_type": "stream",
     "text": [
      "a\n",
      "b\n",
      "b\n",
      "b\n",
      "c\n",
      "c\n"
     ]
    }
   ],
   "source": [
    "for i in range(6):\n",
    "    print(trouve_intervalle({'a': 1, 'b': 3, 'c': 2}, i))"
   ]
  },
  {
   "cell_type": "markdown",
   "metadata": {},
   "source": [
    "**Pour aller plus loin :**\n",
    "- pour optimiser cette fonction, puisque la structure `cumuls` est (si vous l'avez bien choisie) triée par poids cumulés croissants, on peut utiliser un algorithme de *dichotomie* plutôt qu'une recherche exhaustive (Cf. programme de NSI terminale / AP2).\n",
    "- pour le projet, une fois les poids calculés sur le corpus, il serait préférable de stocker directement les cumuls plutôt que les poids individuels pour éviter d'avoir à le faire à chaque tirage."
   ]
  },
  {
   "cell_type": "markdown",
   "metadata": {},
   "source": [
    "On peut maintenant rassembler tous ces éléments pour obtenir un tirage pondéré un peu plus sobre."
   ]
  },
  {
   "cell_type": "code",
   "execution_count": 48,
   "metadata": {},
   "outputs": [],
   "source": [
    "def choix_pondere(population):\n",
    "    i = randrange(sum(population.values()))\n",
    "    return trouve_intervalle(population, i)"
   ]
  },
  {
   "cell_type": "code",
   "execution_count": 49,
   "metadata": {},
   "outputs": [
    {
     "data": {
      "image/png": "[encoded data removed]",
      "text/plain": [
       "<Figure size 640x480 with 1 Axes>"
      ]
     },
     "metadata": {},
     "output_type": "display_data"
    }
   ],
   "source": [
    "compte_resultats({'a': 1, 'b': 3, 'c': 2}, choix_pondere)"
   ]
  },
  {
   "cell_type": "markdown",
   "metadata": {},
   "source": [
    "## Et dans la bibliothèque standard ?"
   ]
  },
  {
   "cell_type": "code",
   "execution_count": 50,
   "metadata": {},
   "outputs": [],
   "source": [
    "population = ['a', 'b', 'c']\n",
    "poids = [1, 3, 2]"
   ]
  },
  {
   "cell_type": "markdown",
   "metadata": {},
   "source": [
    "Tirage uniforme :"
   ]
  },
  {
   "cell_type": "code",
   "execution_count": 51,
   "metadata": {},
   "outputs": [
    {
     "data": {
      "text/plain": [
       "'c'"
      ]
     },
     "execution_count": 51,
     "metadata": {},
     "output_type": "execute_result"
    }
   ],
   "source": [
    "from random import choice\n",
    "choice(population)"
   ]
  },
  {
   "cell_type": "markdown",
   "metadata": {},
   "source": [
    "Calcul des poids cumulés (facultatif) :"
   ]
  },
  {
   "cell_type": "code",
   "execution_count": 52,
   "metadata": {},
   "outputs": [
    {
     "data": {
      "text/plain": [
       "[1, 4, 6]"
      ]
     },
     "execution_count": 52,
     "metadata": {},
     "output_type": "execute_result"
    }
   ],
   "source": [
    "from itertools import accumulate\n",
    "list(accumulate(poids))"
   ]
  },
  {
   "cell_type": "markdown",
   "metadata": {},
   "source": [
    "Tirage pondéré :"
   ]
  },
  {
   "cell_type": "code",
   "execution_count": 53,
   "metadata": {},
   "outputs": [
    {
     "data": {
      "text/plain": [
       "['a']"
      ]
     },
     "execution_count": 53,
     "metadata": {},
     "output_type": "execute_result"
    }
   ],
   "source": [
    "from random import choices\n",
    "choices(population, poids)"
   ]
  },
  {
   "cell_type": "markdown",
   "metadata": {},
   "source": [
    "*Variante :*"
   ]
  },
  {
   "cell_type": "code",
   "execution_count": 54,
   "metadata": {},
   "outputs": [
    {
     "data": {
      "text/plain": [
       "['b']"
      ]
     },
     "execution_count": 54,
     "metadata": {},
     "output_type": "execute_result"
    }
   ],
   "source": [
    "cumuls = list(accumulate(poids))\n",
    "choices(population, cum_weights=cumuls)  # plus rapide en principe"
   ]
  },
  {
   "cell_type": "markdown",
   "metadata": {},
   "source": [
    "Vérification juste pour voir :"
   ]
  },
  {
   "cell_type": "code",
   "execution_count": 55,
   "metadata": {},
   "outputs": [
    {
     "data": {
      "image/png": "[encoded data removed]",
      "text/plain": [
       "<Figure size 640x480 with 1 Axes>"
      ]
     },
     "metadata": {},
     "output_type": "display_data"
    }
   ],
   "source": [
    "def choix_pondere_natif(population):\n",
    "    elems = list(population.keys())    # urgh...\n",
    "    poids = list(population.values())  # urgh...\n",
    "    return choices(elems, poids)[0]\n",
    "\n",
    "compte_resultats({'a': 1, 'b': 3, 'c': 2}, choix_pondere_natif)"
   ]
  },
  {
   "cell_type": "markdown",
   "metadata": {},
   "source": [
    "## Un petit test"
   ]
  },
  {
   "cell_type": "code",
   "execution_count": 57,
   "metadata": {},
   "outputs": [
    {
     "name": "stdout",
     "output_type": "stream",
     "text": [
      "3.37 ms ± 153 μs per loop (mean ± std. dev. of 7 runs, 100 loops each)\n",
      "1.55 μs ± 25.8 ns per loop (mean ± std. dev. of 7 runs, 1,000,000 loops each)\n",
      "1.58 μs ± 9.77 ns per loop (mean ± std. dev. of 7 runs, 1,000,000 loops each)\n"
     ]
    }
   ],
   "source": [
    "%timeit choix_pondere_naif(dict(zip(['a', 'b', 'c'], [32200, 77800, 21200])))\n",
    "%timeit choix_pondere(dict(zip(['a', 'b', 'c'], [32200, 77800, 21200])))\n",
    "%timeit choix_pondere_natif(dict(zip(['a', 'b', 'c'], [32200, 77800, 21200])))"
   ]
  },
  {
   "cell_type": "code",
   "execution_count": null,
   "metadata": {},
   "outputs": [],
   "source": []
  }
 ],
 "metadata": {
  "kernelspec": {
   "display_name": "Python 3 (ipykernel)",
   "language": "python",
   "name": "python3"
  },
  "language_info": {
   "codemirror_mode": {
    "name": "ipython",
    "version": 3
   },
   "file_extension": ".py",
   "mimetype": "text/x-python",
   "name": "python",
   "nbconvert_exporter": "python",
   "pygments_lexer": "ipython3",
   "version": "3.13.3"
  }
 },
 "nbformat": 4,
 "nbformat_minor": 4
}
