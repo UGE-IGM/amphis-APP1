{
 "cells": [
  {
   "cell_type": "markdown",
   "metadata": {},
   "source": [
    "# Tirage aléatoire pondéré"
   ]
  },
  {
   "cell_type": "markdown",
   "metadata": {},
   "source": [
    "**Objectifs :** Étant donnée une suite d'objets `population`, et une suite de poids correspondante `poids`, tirer au sort un élément de `population` avec une probabilité proportionnelle à son poids par rapport aux autres éléments.\n",
    "\n",
    "⚠️⚠️⚠️ Dans ce cahier, on supposera dans un premier temps qu'on dispose uniquement de la fonction `random.randrange`.\n",
    "\n",
    "Pour tester les résultats obtenus, on pourra faire des expériences répétées, et tracer des histogrammes avec `matplotlib`."
   ]
  },
  {
   "cell_type": "code",
   "execution_count": null,
   "metadata": {},
   "outputs": [],
   "source": [
    "from random import randrange\n",
    "import matplotlib.pyplot as plt"
   ]
  },
  {
   "cell_type": "markdown",
   "metadata": {},
   "source": [
    "## Échauffement : tirage uniforme"
   ]
  },
  {
   "cell_type": "markdown",
   "metadata": {},
   "source": [
    "Écrivons une fonction qui tire un élément **uniformément** au hasard dans la collection `population`, en utilisant uniquement `randrange`."
   ]
  },
  {
   "cell_type": "code",
   "execution_count": null,
   "metadata": {},
   "outputs": [],
   "source": [
    "def choix_uniforme(population):\n",
    "    ...  # compléter"
   ]
  },
  {
   "cell_type": "code",
   "execution_count": null,
   "metadata": {},
   "outputs": [],
   "source": [
    "choix_uniforme(['a', 'b', 'c'])  # pas de poids : une simple liste suffit"
   ]
  },
  {
   "cell_type": "markdown",
   "metadata": {},
   "source": [
    "On compte le nombre d'occurrence de chaque résultat sur un grand nombre d'appels, pour vérifier que les résultats obtenus semblent uniformes :"
   ]
  },
  {
   "cell_type": "code",
   "execution_count": null,
   "metadata": {},
   "outputs": [],
   "source": [
    "def compte_resultats(population, fonction_de_tirage, n=12000):\n",
    "    \"\"\"\n",
    "    Effectue `n` appels à `fonction_de_tirage` sur la collection \n",
    "    `population`, compte le nombre d'occurrences de chaque résultat\n",
    "    (supposé hachable) et trace un diagramme.\n",
    "    \"\"\"\n",
    "    resultats = {}\n",
    "    for _ in range(n):\n",
    "        choix = fonction_de_tirage(population)\n",
    "        resultats[choix] = ...  # compléter\n",
    "    plt.bar(resultats.keys(), resultats.values(), tick_label=resultats.keys())"
   ]
  },
  {
   "cell_type": "code",
   "execution_count": null,
   "metadata": {},
   "outputs": [],
   "source": [
    "\n",
    "compte_resultats(['a', 'b', 'c'], choix_uniforme)"
   ]
  },
  {
   "cell_type": "markdown",
   "metadata": {},
   "source": [
    "## Premier essai de tirage pondéré : dupliquer les éléments de la collection\n",
    "\n",
    "Puisqu'on sait tirer uniformément dans une collection, on peut \"tricher\" en dupliquant chaque élément autant de fois que l'indique son poids, et tirer uniformément dans cette collection."
   ]
  },
  {
   "cell_type": "code",
   "execution_count": null,
   "metadata": {},
   "outputs": [],
   "source": [
    "def choix_pondere_naif(population):  # ici population est supposé être un dictionnaire\n",
    "    ...  # à compléter"
   ]
  },
  {
   "cell_type": "code",
   "execution_count": null,
   "metadata": {},
   "outputs": [],
   "source": [
    "choix_pondere_naif({'a': 1, 'b': 3, 'c': 2})"
   ]
  },
  {
   "cell_type": "code",
   "execution_count": null,
   "metadata": {},
   "outputs": [],
   "source": [
    "compte_resultats({'a': 1, 'b': 3, 'c': 2}, choix_pondere_naif)"
   ]
  },
  {
   "cell_type": "markdown",
   "metadata": {},
   "source": [
    "## Deuxième essai : avec calcul des poids cumulés\n",
    "\n",
    "**Idée :** on calcule la somme des poids $S$, et on partitionne l'intervale des entiers de 0 à $S-1$ en `len(populations)` intervalles successifs correspondant à chacun des éléments de `population`. Ensuite, on fait un tirage uniforme d'un entier entre $0$ et $S-1$, et on associe l'entier tiré à l'intervalle correspondant."
   ]
  },
  {
   "cell_type": "markdown",
   "metadata": {},
   "source": [
    "**Tâches :**\n",
    "- choisir un type de données approprié pour représenter ces intervalles ;\n",
    "- compléter la fonction `poids_cumules` calculant ces intervalles pour un dictionnaire `population` donné, et en renvoyant sa représentation (ainsi que la valeur de $S$)."
   ]
  },
  {
   "cell_type": "code",
   "execution_count": null,
   "metadata": {},
   "outputs": [],
   "source": [
    "def poids_cumules(population):\n",
    "    ..."
   ]
  },
  {
   "cell_type": "code",
   "execution_count": null,
   "metadata": {},
   "outputs": [],
   "source": [
    "poids_cumules({'a': 1, 'b': 3, 'c': 2})"
   ]
  },
  {
   "cell_type": "markdown",
   "metadata": {},
   "source": [
    "Étant donnés un entier `n` et l'objet `cumuls` calculé précédemment, on veut maintenant pouvoir déterminer à quel intervalle de `cumuls` appartient `n`. Par exemple, si $(c_i)_{0 \\leq i \\leq k}$ représente la suite des cumuls, on cherche le plus grand indice $i$ tel que $c_i \\leq$ `n` (ou de manière équivalente, le plus petit indice $i$ tel que `n` $< c_i$). C'est cet indice qui nous indiquera à quel intervalle appartient l'entier `n`  (et donc à quel élément de la population d'origine il correspond)."
   ]
  },
  {
   "cell_type": "code",
   "execution_count": null,
   "metadata": {},
   "outputs": [],
   "source": [
    "def trouve_intervalle(cumuls, n):  # cumuls est supposé du type choisi précédemment\n",
    "    ...\n",
    "    return ...  # type de retour à déterminer (indice, élément de la population...)"
   ]
  },
  {
   "cell_type": "code",
   "execution_count": null,
   "metadata": {},
   "outputs": [],
   "source": [
    "trouve_intervalle({'a': 1, 'b': 3, 'c': 2}, 6)"
   ]
  },
  {
   "cell_type": "markdown",
   "metadata": {},
   "source": [
    "**Pour aller plus loin :**\n",
    "- pour optimiser cette fonction, puisque la structure `cumuls` est (si vous l'avez bien choisie) triée par poids cumulés croissants, on peut utiliser un algorithme de *dichotomie* plutôt qu'une recherche exhaustive (Cf. programme de NSI terminale / AP2).\n",
    "- pour le projet, une fois les poids calculés sur le corpus, il serait préférable de stocker directement les cumuls plutôt que les poids individuels pour éviter d'avoir à le faire à chaque tirage."
   ]
  },
  {
   "cell_type": "markdown",
   "metadata": {},
   "source": [
    "On peut maintenant rassembler tous ces éléments pour obtenir un tirage pondéré un peu plus sobre."
   ]
  },
  {
   "cell_type": "code",
   "execution_count": null,
   "metadata": {},
   "outputs": [],
   "source": [
    "def choix_pondere(population):\n",
    "    ..."
   ]
  },
  {
   "cell_type": "code",
   "execution_count": null,
   "metadata": {},
   "outputs": [],
   "source": [
    "compte_resultats({'a': 1, 'b': 3, 'c': 2}, choix_pondere)"
   ]
  },
  {
   "cell_type": "markdown",
   "metadata": {},
   "source": [
    "## Et dans la bibliothèque standard ?"
   ]
  },
  {
   "cell_type": "code",
   "execution_count": null,
   "metadata": {},
   "outputs": [],
   "source": [
    "population = ['a', 'b', 'c']\n",
    "poids = [1, 3, 2]"
   ]
  },
  {
   "cell_type": "markdown",
   "metadata": {},
   "source": [
    "Tirage uniforme :"
   ]
  },
  {
   "cell_type": "code",
   "execution_count": null,
   "metadata": {},
   "outputs": [],
   "source": [
    "from random import choice\n",
    "choice(population)"
   ]
  },
  {
   "cell_type": "markdown",
   "metadata": {},
   "source": [
    "Calcul des poids cumulés (facultatif) :"
   ]
  },
  {
   "cell_type": "code",
   "execution_count": null,
   "metadata": {},
   "outputs": [],
   "source": [
    "from itertools import accumulate\n",
    "list(accumulate(poids))"
   ]
  },
  {
   "cell_type": "markdown",
   "metadata": {},
   "source": [
    "Tirage pondéré :"
   ]
  },
  {
   "cell_type": "code",
   "execution_count": null,
   "metadata": {},
   "outputs": [],
   "source": [
    "from random import choices\n",
    "choices(population, poids)"
   ]
  },
  {
   "cell_type": "markdown",
   "metadata": {},
   "source": [
    "*Variante :*"
   ]
  },
  {
   "cell_type": "code",
   "execution_count": null,
   "metadata": {},
   "outputs": [],
   "source": [
    "cumuls = list(accumulate(poids))\n",
    "choices(population, cum_weights=cumuls)  # plus rapide en principe"
   ]
  },
  {
   "cell_type": "markdown",
   "metadata": {},
   "source": [
    "Vérification juste pour voir :"
   ]
  },
  {
   "cell_type": "code",
   "execution_count": null,
   "metadata": {},
   "outputs": [],
   "source": [
    "def choix_pondere_natif(population):\n",
    "    elems = list(population.keys())    # urgh...\n",
    "    poids = list(population.values())  # urgh...\n",
    "    return choices(elems, poids)[0]\n",
    "\n",
    "compte_resultats({'a': 1, 'b': 3, 'c': 2}, choix_pondere_natif)"
   ]
  },
  {
   "cell_type": "markdown",
   "metadata": {},
   "source": [
    "## Un petit test"
   ]
  },
  {
   "cell_type": "code",
   "execution_count": null,
   "metadata": {},
   "outputs": [],
   "source": [
    "%timeit choix_pondere_naif(dict(['a', 'b', 'c'], [32200, 77800, 21200]))\n",
    "%timeit choix_pondere(dict(['a', 'b', 'c'], [32200, 77800, 21200]))\n",
    "%timeit choix_pondere_natif(dict(['a', 'b', 'c'], [32200, 77800, 21200]))"
   ]
  },
  {
   "cell_type": "code",
   "execution_count": null,
   "metadata": {},
   "outputs": [],
   "source": []
  }
 ],
 "metadata": {
  "kernelspec": {
   "display_name": ".venv",
   "language": "python",
   "name": "python3"
  },
  "language_info": {
   "codemirror_mode": {
    "name": "ipython",
    "version": 3
   },
   "file_extension": ".py",
   "mimetype": "text/x-python",
   "name": "python",
   "nbconvert_exporter": "python",
   "pygments_lexer": "ipython3",
   "version": "3.13.3"
  }
 },
 "nbformat": 4,
 "nbformat_minor": 4
}
