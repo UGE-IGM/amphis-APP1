{
 "cells": [
  {
   "cell_type": "markdown",
   "metadata": {},
   "source": [
    "# Distance de Levenshtein"
   ]
  },
  {
   "cell_type": "markdown",
   "metadata": {},
   "source": [
    "**Objectifs :**  \n",
    "- Définir une notion de distance distance mesurant à quel point deux mots sont similaires\n",
    "- Étant donné un mot et un lexique, déterminer quels mots du lexique sont les plus proches du mot fourni"
   ]
  },
  {
   "cell_type": "markdown",
   "metadata": {
    "vscode": {
     "languageId": "plaintext"
    }
   },
   "source": [
    "**Opérations :**  \n",
    "- *Remplacement* d'une lettre par une autre\n",
    "- *Insertion* d'une lettre\n",
    "- *Suppression* d'une lettre"
   ]
  },
  {
   "cell_type": "markdown",
   "metadata": {},
   "source": [
    "**Définition (distance de Levenshtein) :**  \n",
    "La distance $d(u, v)$ entre deux mots $u$ et $v$ est le plus petit entier $k$ tel que $v$ peut être obtenu à partir de $v$ par une série de $k$ insertions, remplacements ou suppressions."
   ]
  },
  {
   "cell_type": "markdown",
   "metadata": {
    "vscode": {
     "languageId": "plaintext"
    }
   },
   "source": [
    "**Exemples :**\n",
    "- $d(\\text{chateau}, \\text{bateau}) = 2$  \n",
    "- $d(\\text{chat}, \\text{batte}) = 4$  "
   ]
  },
  {
   "cell_type": "markdown",
   "metadata": {},
   "source": [
    "## Calcul de la distance entre deux mots"
   ]
  },
  {
   "cell_type": "markdown",
   "metadata": {
    "vscode": {
     "languageId": "plaintext"
    }
   },
   "source": [
    "**Observations :**\n",
    "- Si les deux mots dont on cherche la distance commencent par la même lettre, il n'est jamais avantageux de faire une insertion ou une suppression sur cette lettre (ni évidemment un remplacement).  \n",
    "- Si les deux mots commencent par des lettres différentes, on ne peut pas savoir quelle opération il est préférable d'appliquer sur ce couple de lettres sans regarder la suite (exemples : chat et hat, chat et achat, plat et flat)."
   ]
  },
  {
   "cell_type": "markdown",
   "metadata": {},
   "source": [
    "**Définition inductive :**  \n",
    "- La distance entre un mot vide et un autre mot est la longueur de cet autre mot.\n",
    "- Soient $x$ et $y$ des lettres, $u$ et $v$ des mots, la distance entre les mots $xu$ et $yv$ est obtenue en considérant le calcul suivant : \n",
    "  $$\n",
    "  d(xu, yv) = \n",
    "  \\begin{cases}\n",
    "  1 + \\min \\left\\{ d(u, yv), d(u, v), d(xu, v) \\right\\} & \\text{ si } x \\neq y \\\\\n",
    "  d(u, v) & \\text{ sinon}\n",
    "  \\end{cases}\n",
    "  $$"
   ]
  },
  {
   "cell_type": "markdown",
   "metadata": {},
   "source": [
    "On peut prouver (mais pas aujourd'hui) que ce calcul détermine bien le plus petit nombre de transformations permettant de passer du premier mot au second."
   ]
  },
  {
   "cell_type": "markdown",
   "metadata": {},
   "source": [
    "### Implémentation récursive"
   ]
  },
  {
   "cell_type": "code",
   "execution_count": 136,
   "metadata": {},
   "outputs": [],
   "source": [
    "def distance_rec(un_mot, autre_mot):\n",
    "    ..."
   ]
  },
  {
   "cell_type": "code",
   "execution_count": null,
   "metadata": {},
   "outputs": [],
   "source": [
    "distance_rec(\"\", \"chat\")"
   ]
  },
  {
   "cell_type": "code",
   "execution_count": null,
   "metadata": {},
   "outputs": [],
   "source": [
    "distance_rec(\"chat\", \"\")"
   ]
  },
  {
   "cell_type": "code",
   "execution_count": null,
   "metadata": {},
   "outputs": [],
   "source": [
    "distance_rec(\"chateau\", \"bateau\")"
   ]
  },
  {
   "cell_type": "code",
   "execution_count": null,
   "metadata": {},
   "outputs": [],
   "source": [
    "distance_rec(\"chat\", \"batte\")"
   ]
  },
  {
   "cell_type": "code",
   "execution_count": null,
   "metadata": {},
   "outputs": [],
   "source": [
    "distance_rec(\"anticonstitutionnellement\", \"c'est n'importe quoi\")"
   ]
  },
  {
   "cell_type": "markdown",
   "metadata": {},
   "source": [
    "### Implémentation itérative\n",
    "\n",
    "Une autre approche consiste à construire ligne par ligne un tableau indiquant la distance entre chaque préfixe des deux mots. Une nouvelle case peut être remplie en regardant le contenu des trois cases en haut, à gauche et en diagonale (vers le haut et la gauche).\n",
    "\n",
    "Ce type d'approche qui consiste à construire un résultat en s'appuyant sur un tableau de résultats à des sous-problèmes est souvent appelé *programmation dynamique*."
   ]
  },
  {
   "cell_type": "markdown",
   "metadata": {},
   "source": [
    "**Exemple :**\n",
    "\n",
    "|       | **-** | **c** | **h** | **a** | **t** | **e** | **a** | **u** |\n",
    "|-------|-------|-------|-------|-------|-------|-------|-------|-------|\n",
    "| **-** |   0   |   1   |   2   |   3   |   4   |   5   |   6   |   7   |\n",
    "| **b** |   1   |   ?   |       |       |       |       |       |       |\n",
    "| **a** |   2   |       |       |       |       |       |       |       |\n",
    "| **t** |   3   |       |       |       |       |       |       |       |\n",
    "| **e** |   4   |       |       |       |       |       |       |       |\n",
    "| **a** |   5   |       |       |       |       |       |       |       |\n",
    "| **u** |   6   |       |       |       |       |       |       |       |\n"
   ]
  },
  {
   "cell_type": "code",
   "execution_count": 142,
   "metadata": {},
   "outputs": [],
   "source": [
    "def distance_iter(un_mot, autre_mot):\n",
    "    ..."
   ]
  },
  {
   "cell_type": "code",
   "execution_count": null,
   "metadata": {},
   "outputs": [],
   "source": [
    "distance_iter(\"\", \"chat\")"
   ]
  },
  {
   "cell_type": "code",
   "execution_count": null,
   "metadata": {},
   "outputs": [],
   "source": [
    "distance_iter(\"chat\", \"\")"
   ]
  },
  {
   "cell_type": "code",
   "execution_count": null,
   "metadata": {},
   "outputs": [],
   "source": [
    "distance_iter(\"chateau\", \"bateau\")"
   ]
  },
  {
   "cell_type": "code",
   "execution_count": null,
   "metadata": {},
   "outputs": [],
   "source": [
    "distance_iter(\"chat\", \"batte\")"
   ]
  },
  {
   "cell_type": "code",
   "execution_count": null,
   "metadata": {},
   "outputs": [],
   "source": [
    "distance_iter(\"anticonstitutionnellement\", \"c'est n'importe quoi\")"
   ]
  },
  {
   "cell_type": "markdown",
   "metadata": {},
   "source": [
    "On peut améliorer un peu la consommation de mémoire de cette fonction en ne mémorisant que la ligne en cours et la ligne précédente du tableau :"
   ]
  },
  {
   "cell_type": "code",
   "execution_count": 154,
   "metadata": {},
   "outputs": [],
   "source": [
    "def distance_iter_opti(un_mot, autre_mot):\n",
    "    ..."
   ]
  },
  {
   "cell_type": "code",
   "execution_count": null,
   "metadata": {},
   "outputs": [],
   "source": [
    "distance_iter_opti(\"\", \"chat\")"
   ]
  },
  {
   "cell_type": "code",
   "execution_count": null,
   "metadata": {},
   "outputs": [],
   "source": [
    "distance_iter_opti(\"chat\", \"\")"
   ]
  },
  {
   "cell_type": "code",
   "execution_count": null,
   "metadata": {},
   "outputs": [],
   "source": [
    "distance_iter_opti(\"chateau\", \"bateau\")"
   ]
  },
  {
   "cell_type": "code",
   "execution_count": null,
   "metadata": {},
   "outputs": [],
   "source": [
    "distance_iter_opti(\"chat\", \"batte\")"
   ]
  },
  {
   "cell_type": "code",
   "execution_count": null,
   "metadata": {},
   "outputs": [],
   "source": [
    "distance_iter_opti(\"anticonstitutionnellement\", \"c'est n'importe quoi\")"
   ]
  },
  {
   "cell_type": "markdown",
   "metadata": {},
   "source": [
    "### Implémentation récursive avec mémoïsation\n",
    "\n",
    "La version récursive est plus simple, mais elle est beaucoup plus lente... Pour la rendre plus efficace on peut utiliser une astuce appelée \"mémoisation\" : on conserve dans un dictionnaire tous les résultats déjà connus, et avant de faire le moindre calcul, on vérifie dans le dictionnaire si la distance qu'on cherche n'a pas déjà été calculée."
   ]
  },
  {
   "cell_type": "code",
   "execution_count": 190,
   "metadata": {},
   "outputs": [],
   "source": [
    "def distance_rec_opti(un_mot, autre_mot, memo=None):\n",
    "    ..."
   ]
  },
  {
   "cell_type": "code",
   "execution_count": null,
   "metadata": {},
   "outputs": [],
   "source": [
    "distance_rec_opti(\"\", \"chat\")"
   ]
  },
  {
   "cell_type": "code",
   "execution_count": null,
   "metadata": {},
   "outputs": [],
   "source": [
    "distance_rec_opti(\"chat\", \"\")"
   ]
  },
  {
   "cell_type": "code",
   "execution_count": null,
   "metadata": {},
   "outputs": [],
   "source": [
    "distance_rec_opti(\"chateau\", \"bateau\")"
   ]
  },
  {
   "cell_type": "code",
   "execution_count": null,
   "metadata": {},
   "outputs": [],
   "source": [
    "distance_rec_opti(\"chat\", \"batte\")"
   ]
  },
  {
   "cell_type": "code",
   "execution_count": null,
   "metadata": {},
   "outputs": [],
   "source": [
    "distance_rec_opti(\"anticonstitutionnellement\", \"c'est n'importe quoi\")"
   ]
  },
  {
   "cell_type": "markdown",
   "metadata": {},
   "source": [
    "### Une petite comparaison"
   ]
  },
  {
   "cell_type": "code",
   "execution_count": null,
   "metadata": {},
   "outputs": [],
   "source": [
    "%timeit distance_iter(\"bougeoir\", \"bavoir\")\n",
    "%timeit distance_iter_opti(\"bougeoir\", \"bavoir\")\n",
    "%timeit distance_rec(\"bougeoir\", \"bavoir\")\n",
    "%timeit distance_rec_opti(\"bougeoir\", \"bavoir\")"
   ]
  },
  {
   "cell_type": "markdown",
   "metadata": {},
   "source": [
    "Quel intérêt à utiliser malgré tout la version mémoïsée (si on ne s'inquiète pas trop de la mémoire) ?"
   ]
  },
  {
   "cell_type": "code",
   "execution_count": null,
   "metadata": {},
   "outputs": [],
   "source": [
    "%%timeit\n",
    "distance_rec_opti(\"recevoir\", \"percevra\")\n",
    "distance_rec_opti(\"décevoir\", \"percevra\")\n",
    "distance_rec_opti(\"tellement\", \"feulement\")\n",
    "distance_rec_opti(\"feulement\", \"tellement\")"
   ]
  },
  {
   "cell_type": "code",
   "execution_count": null,
   "metadata": {},
   "outputs": [],
   "source": [
    "%%timeit\n",
    "memo = {}\n",
    "distance_rec_opti(\"recevoir\", \"percevra\", memo)\n",
    "distance_rec_opti(\"décevoir\", \"percevra\", memo)\n",
    "distance_rec_opti(\"tellement\", \"feulement\", memo)\n",
    "distance_rec_opti(\"feulement\", \"tellement\", memo)"
   ]
  },
  {
   "cell_type": "code",
   "execution_count": null,
   "metadata": {},
   "outputs": [],
   "source": [
    "print(memo)"
   ]
  },
  {
   "cell_type": "markdown",
   "metadata": {},
   "source": [
    "## Correction othographique\n",
    "\n",
    "Étant donné un mot `mot` et une liste de mots `lexique`, il suffit de chercher tous les mots à une distance minimale de `mot` dans `lexique` pour obtenir une liste de candidats à la correction (et éventuellement le mot lui même s'il apparaît dans le lexique !).\n",
    "\n",
    "**Variantes possibles :** renvoyer tous les mots à une distance inférieure à un certain seuil, ou seulement les mots de distance minimale (s'ils sont en-dessous du seuil)."
   ]
  },
  {
   "cell_type": "code",
   "execution_count": 200,
   "metadata": {},
   "outputs": [],
   "source": [
    "def corrections(mot, lexique, seuil=float(\"+inf\"), min_seulement=True):\n",
    "    ..."
   ]
  },
  {
   "cell_type": "code",
   "execution_count": null,
   "metadata": {},
   "outputs": [],
   "source": [
    "for i in range(6):\n",
    "    print(i, corrections(\"blancha\", [\"balance\", \"balança\", \"blanc\", \"calancha\", \"calancherai\", \"balancerai\"], i, False))"
   ]
  },
  {
   "cell_type": "markdown",
   "metadata": {},
   "source": [
    "## Pour aller plus loin"
   ]
  },
  {
   "cell_type": "markdown",
   "metadata": {},
   "source": [
    "- Une structure de données (potentiellement) plus efficace : les [arbres BK](https://en.wikipedia.org/wiki/BK-tree).\n",
    "- Une distance qui prend en compte les erreurs dans l'ordre des lettres : la distance de [Damerau-Levenshtein](https://fr.wikipedia.org/wiki/Distance_de_Damerau-Levenshtein).\n",
    "- Comment tenir compte des informations du corpus pour améliorer la suggestion de correction ?\n",
    "- Comment tenir compte de la notion de seuil pour optimiser les calculs de distance ?"
   ]
  },
  {
   "cell_type": "markdown",
   "metadata": {},
   "source": []
  }
 ],
 "metadata": {
  "kernelspec": {
   "display_name": "Python 3",
   "language": "python",
   "name": "python3"
  },
  "language_info": {
   "codemirror_mode": {
    "name": "ipython",
    "version": 3
   },
   "file_extension": ".py",
   "mimetype": "text/x-python",
   "name": "python",
   "nbconvert_exporter": "python",
   "pygments_lexer": "ipython3",
   "version": "3.12.3"
  }
 },
 "nbformat": 4,
 "nbformat_minor": 2
}
