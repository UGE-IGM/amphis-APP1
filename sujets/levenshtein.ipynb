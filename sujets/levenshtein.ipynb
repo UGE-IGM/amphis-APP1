{
 "cells": [
  {
   "cell_type": "markdown",
   "metadata": {},
   "source": [
    "# Distance de Levenshtein"
   ]
  },
  {
   "cell_type": "markdown",
   "metadata": {},
   "source": [
    "**Objectifs :**  \n",
    "- Définir une notion de distance distance mesurant à quel point deux mots sont similaires\n",
    "- Étant donné un mot et un lexique, déterminer quels mots du lexique sont les plus proches du mot fourni"
   ]
  },
  {
   "cell_type": "markdown",
   "metadata": {
    "vscode": {
     "languageId": "plaintext"
    }
   },
   "source": [
    "**Opérations :**  \n",
    "- *Remplacement* d'une lettre par une autre\n",
    "- *Insertion* d'une lettre\n",
    "- *Suppression* d'une lettre"
   ]
  },
  {
   "cell_type": "markdown",
   "metadata": {},
   "source": [
    "**Définition (distance de Levenshtein) :**  \n",
    "La distance $d(u, v)$ entre deux mots $u$ et $v$ est le plus petit entier $k$ tel que $v$ peut être obtenu à partir de $v$ par une série de $k$ insertions, remplacements ou suppressions."
   ]
  },
  {
   "cell_type": "markdown",
   "metadata": {
    "vscode": {
     "languageId": "plaintext"
    }
   },
   "source": [
    "**Exemples :**\n",
    "- $d(\\text{chateau}, \\text{bateau}) = 2$  \n",
    "- $d(\\text{chat}, \\text{batte}) = 4$  "
   ]
  },
  {
   "cell_type": "markdown",
   "metadata": {},
   "source": [
    "## Calcul de la distance entre deux mots"
   ]
  },
  {
   "cell_type": "markdown",
   "metadata": {
    "vscode": {
     "languageId": "plaintext"
    }
   },
   "source": [
    "**Observations :**\n",
    "- Si les deux mots dont on cherche la distance commencent par la même lettre, il n'est jamais avantageux de faire une insertion ou une suppression sur cette lettre (ni évidemment un remplacement).  \n",
    "- Si les deux mots commencent par des lettres différentes, on ne peut pas savoir quelle opération il est préférable d'appliquer sur ce couple de lettres sans regarder la suite (exemples : chat et hat, chat et achat, plat et flat)."
   ]
  },
  {
   "cell_type": "markdown",
   "metadata": {},
   "source": [
    "**Définition inductive :**  \n",
    "- La distance entre un mot vide et un autre mot est la longueur de cet autre mot.\n",
    "- Soient $x$ et $y$ des lettres, $u$ et $v$ des mots, la distance entre les mots $xu$ et $yv$ est obtenue en considérant le calcul suivant : \n",
    "  $$\n",
    "  d(xu, yv) = \n",
    "  \\begin{cases}\n",
    "  1 + \\min \\left\\{ d(u, yv), d(u, v), d(xu, v) \\right\\} & \\text{ si } x \\neq y \\\\\n",
    "  d(u, v) & \\text{ sinon}\n",
    "  \\end{cases}\n",
    "  $$"
   ]
  },
  {
   "cell_type": "markdown",
   "metadata": {},
   "source": [
    "On peut prouver (mais pas aujourd'hui) que ce calcul détermine bien le plus petit nombre de transformations permettant de passer du premier mot au second."
   ]
  },
  {
   "cell_type": "markdown",
   "metadata": {},
   "source": [
    "### Implémentation récursive"
   ]
  },
  {
   "cell_type": "code",
   "execution_count": 5,
   "metadata": {},
   "outputs": [],
   "source": [
    "def distance_rec(un_mot, autre_mot):\n",
    "    if len(un_mot) == 0:\n",
    "        return len(autre_mot)\n",
    "    if len(autre_mot) == 0:\n",
    "        return len(un_mot)\n",
    "    if un_mot[0] == autre_mot[0]:\n",
    "        return distance_rec(un_mot[1:], autre_mot[1:])\n",
    "    d_rempl = distance_rec(un_mot[1:], autre_mot[1:])\n",
    "    d_ins =   distance_rec(un_mot,     autre_mot[1:])\n",
    "    d_sup =   distance_rec(un_mot[1:], autre_mot)\n",
    "    return 1 + min(d_rempl, d_ins, d_sup)"
   ]
  },
  {
   "cell_type": "code",
   "execution_count": 6,
   "metadata": {},
   "outputs": [
    {
     "data": {
      "text/plain": [
       "4"
      ]
     },
     "execution_count": 6,
     "metadata": {},
     "output_type": "execute_result"
    }
   ],
   "source": [
    "distance_rec(\"\", \"chat\")"
   ]
  },
  {
   "cell_type": "code",
   "execution_count": 7,
   "metadata": {},
   "outputs": [
    {
     "data": {
      "text/plain": [
       "4"
      ]
     },
     "execution_count": 7,
     "metadata": {},
     "output_type": "execute_result"
    }
   ],
   "source": [
    "distance_rec(\"chat\", \"\")"
   ]
  },
  {
   "cell_type": "code",
   "execution_count": 8,
   "metadata": {},
   "outputs": [
    {
     "data": {
      "text/plain": [
       "2"
      ]
     },
     "execution_count": 8,
     "metadata": {},
     "output_type": "execute_result"
    }
   ],
   "source": [
    "distance_rec(\"chateau\", \"bateau\")"
   ]
  },
  {
   "cell_type": "code",
   "execution_count": 9,
   "metadata": {},
   "outputs": [
    {
     "data": {
      "text/plain": [
       "4"
      ]
     },
     "execution_count": 9,
     "metadata": {},
     "output_type": "execute_result"
    }
   ],
   "source": [
    "distance_rec(\"chat\", \"batte\")"
   ]
  },
  {
   "cell_type": "code",
   "execution_count": 10,
   "metadata": {},
   "outputs": [
    {
     "ename": "KeyboardInterrupt",
     "evalue": "",
     "output_type": "error",
     "traceback": [
      "\u001b[31m---------------------------------------------------------------------------\u001b[39m",
      "\u001b[31mKeyboardInterrupt\u001b[39m                         Traceback (most recent call last)",
      "\u001b[36mCell\u001b[39m\u001b[36m \u001b[39m\u001b[32mIn[10]\u001b[39m\u001b[32m, line 1\u001b[39m\n\u001b[32m----> \u001b[39m\u001b[32m1\u001b[39m \u001b[43mdistance_rec\u001b[49m\u001b[43m(\u001b[49m\u001b[33;43m\"\u001b[39;49m\u001b[33;43manticonstitutionnellement\u001b[39;49m\u001b[33;43m\"\u001b[39;49m\u001b[43m,\u001b[49m\u001b[43m \u001b[49m\u001b[33;43m\"\u001b[39;49m\u001b[33;43mc\u001b[39;49m\u001b[33;43m'\u001b[39;49m\u001b[33;43mest n\u001b[39;49m\u001b[33;43m'\u001b[39;49m\u001b[33;43mimporte quoi\u001b[39;49m\u001b[33;43m\"\u001b[39;49m\u001b[43m)\u001b[49m\n",
      "\u001b[36mCell\u001b[39m\u001b[36m \u001b[39m\u001b[32mIn[5]\u001b[39m\u001b[32m, line 8\u001b[39m, in \u001b[36mdistance_rec\u001b[39m\u001b[34m(un_mot, autre_mot)\u001b[39m\n\u001b[32m      6\u001b[39m \u001b[38;5;28;01mif\u001b[39;00m un_mot[\u001b[32m0\u001b[39m] == autre_mot[\u001b[32m0\u001b[39m]:\n\u001b[32m      7\u001b[39m     \u001b[38;5;28;01mreturn\u001b[39;00m distance_rec(un_mot[\u001b[32m1\u001b[39m:], autre_mot[\u001b[32m1\u001b[39m:])\n\u001b[32m----> \u001b[39m\u001b[32m8\u001b[39m d_rempl = \u001b[43mdistance_rec\u001b[49m\u001b[43m(\u001b[49m\u001b[43mun_mot\u001b[49m\u001b[43m[\u001b[49m\u001b[32;43m1\u001b[39;49m\u001b[43m:\u001b[49m\u001b[43m]\u001b[49m\u001b[43m,\u001b[49m\u001b[43m \u001b[49m\u001b[43mautre_mot\u001b[49m\u001b[43m[\u001b[49m\u001b[32;43m1\u001b[39;49m\u001b[43m:\u001b[49m\u001b[43m]\u001b[49m\u001b[43m)\u001b[49m\n\u001b[32m      9\u001b[39m d_ins =   distance_rec(un_mot,     autre_mot[\u001b[32m1\u001b[39m:])\n\u001b[32m     10\u001b[39m d_sup =   distance_rec(un_mot[\u001b[32m1\u001b[39m:], autre_mot)\n",
      "\u001b[36mCell\u001b[39m\u001b[36m \u001b[39m\u001b[32mIn[5]\u001b[39m\u001b[32m, line 8\u001b[39m, in \u001b[36mdistance_rec\u001b[39m\u001b[34m(un_mot, autre_mot)\u001b[39m\n\u001b[32m      6\u001b[39m \u001b[38;5;28;01mif\u001b[39;00m un_mot[\u001b[32m0\u001b[39m] == autre_mot[\u001b[32m0\u001b[39m]:\n\u001b[32m      7\u001b[39m     \u001b[38;5;28;01mreturn\u001b[39;00m distance_rec(un_mot[\u001b[32m1\u001b[39m:], autre_mot[\u001b[32m1\u001b[39m:])\n\u001b[32m----> \u001b[39m\u001b[32m8\u001b[39m d_rempl = \u001b[43mdistance_rec\u001b[49m\u001b[43m(\u001b[49m\u001b[43mun_mot\u001b[49m\u001b[43m[\u001b[49m\u001b[32;43m1\u001b[39;49m\u001b[43m:\u001b[49m\u001b[43m]\u001b[49m\u001b[43m,\u001b[49m\u001b[43m \u001b[49m\u001b[43mautre_mot\u001b[49m\u001b[43m[\u001b[49m\u001b[32;43m1\u001b[39;49m\u001b[43m:\u001b[49m\u001b[43m]\u001b[49m\u001b[43m)\u001b[49m\n\u001b[32m      9\u001b[39m d_ins =   distance_rec(un_mot,     autre_mot[\u001b[32m1\u001b[39m:])\n\u001b[32m     10\u001b[39m d_sup =   distance_rec(un_mot[\u001b[32m1\u001b[39m:], autre_mot)\n",
      "    \u001b[31m[... skipping similar frames: distance_rec at line 8 (3 times)]\u001b[39m\n",
      "\u001b[36mCell\u001b[39m\u001b[36m \u001b[39m\u001b[32mIn[5]\u001b[39m\u001b[32m, line 8\u001b[39m, in \u001b[36mdistance_rec\u001b[39m\u001b[34m(un_mot, autre_mot)\u001b[39m\n\u001b[32m      6\u001b[39m \u001b[38;5;28;01mif\u001b[39;00m un_mot[\u001b[32m0\u001b[39m] == autre_mot[\u001b[32m0\u001b[39m]:\n\u001b[32m      7\u001b[39m     \u001b[38;5;28;01mreturn\u001b[39;00m distance_rec(un_mot[\u001b[32m1\u001b[39m:], autre_mot[\u001b[32m1\u001b[39m:])\n\u001b[32m----> \u001b[39m\u001b[32m8\u001b[39m d_rempl = \u001b[43mdistance_rec\u001b[49m\u001b[43m(\u001b[49m\u001b[43mun_mot\u001b[49m\u001b[43m[\u001b[49m\u001b[32;43m1\u001b[39;49m\u001b[43m:\u001b[49m\u001b[43m]\u001b[49m\u001b[43m,\u001b[49m\u001b[43m \u001b[49m\u001b[43mautre_mot\u001b[49m\u001b[43m[\u001b[49m\u001b[32;43m1\u001b[39;49m\u001b[43m:\u001b[49m\u001b[43m]\u001b[49m\u001b[43m)\u001b[49m\n\u001b[32m      9\u001b[39m d_ins =   distance_rec(un_mot,     autre_mot[\u001b[32m1\u001b[39m:])\n\u001b[32m     10\u001b[39m d_sup =   distance_rec(un_mot[\u001b[32m1\u001b[39m:], autre_mot)\n",
      "\u001b[36mCell\u001b[39m\u001b[36m \u001b[39m\u001b[32mIn[5]\u001b[39m\u001b[32m, line 7\u001b[39m, in \u001b[36mdistance_rec\u001b[39m\u001b[34m(un_mot, autre_mot)\u001b[39m\n\u001b[32m      5\u001b[39m     \u001b[38;5;28;01mreturn\u001b[39;00m \u001b[38;5;28mlen\u001b[39m(un_mot)\n\u001b[32m      6\u001b[39m \u001b[38;5;28;01mif\u001b[39;00m un_mot[\u001b[32m0\u001b[39m] == autre_mot[\u001b[32m0\u001b[39m]:\n\u001b[32m----> \u001b[39m\u001b[32m7\u001b[39m     \u001b[38;5;28;01mreturn\u001b[39;00m \u001b[43mdistance_rec\u001b[49m\u001b[43m(\u001b[49m\u001b[43mun_mot\u001b[49m\u001b[43m[\u001b[49m\u001b[32;43m1\u001b[39;49m\u001b[43m:\u001b[49m\u001b[43m]\u001b[49m\u001b[43m,\u001b[49m\u001b[43m \u001b[49m\u001b[43mautre_mot\u001b[49m\u001b[43m[\u001b[49m\u001b[32;43m1\u001b[39;49m\u001b[43m:\u001b[49m\u001b[43m]\u001b[49m\u001b[43m)\u001b[49m\n\u001b[32m      8\u001b[39m d_rempl = distance_rec(un_mot[\u001b[32m1\u001b[39m:], autre_mot[\u001b[32m1\u001b[39m:])\n\u001b[32m      9\u001b[39m d_ins =   distance_rec(un_mot,     autre_mot[\u001b[32m1\u001b[39m:])\n",
      "\u001b[36mCell\u001b[39m\u001b[36m \u001b[39m\u001b[32mIn[5]\u001b[39m\u001b[32m, line 8\u001b[39m, in \u001b[36mdistance_rec\u001b[39m\u001b[34m(un_mot, autre_mot)\u001b[39m\n\u001b[32m      6\u001b[39m \u001b[38;5;28;01mif\u001b[39;00m un_mot[\u001b[32m0\u001b[39m] == autre_mot[\u001b[32m0\u001b[39m]:\n\u001b[32m      7\u001b[39m     \u001b[38;5;28;01mreturn\u001b[39;00m distance_rec(un_mot[\u001b[32m1\u001b[39m:], autre_mot[\u001b[32m1\u001b[39m:])\n\u001b[32m----> \u001b[39m\u001b[32m8\u001b[39m d_rempl = \u001b[43mdistance_rec\u001b[49m\u001b[43m(\u001b[49m\u001b[43mun_mot\u001b[49m\u001b[43m[\u001b[49m\u001b[32;43m1\u001b[39;49m\u001b[43m:\u001b[49m\u001b[43m]\u001b[49m\u001b[43m,\u001b[49m\u001b[43m \u001b[49m\u001b[43mautre_mot\u001b[49m\u001b[43m[\u001b[49m\u001b[32;43m1\u001b[39;49m\u001b[43m:\u001b[49m\u001b[43m]\u001b[49m\u001b[43m)\u001b[49m\n\u001b[32m      9\u001b[39m d_ins =   distance_rec(un_mot,     autre_mot[\u001b[32m1\u001b[39m:])\n\u001b[32m     10\u001b[39m d_sup =   distance_rec(un_mot[\u001b[32m1\u001b[39m:], autre_mot)\n",
      "\u001b[36mCell\u001b[39m\u001b[36m \u001b[39m\u001b[32mIn[5]\u001b[39m\u001b[32m, line 8\u001b[39m, in \u001b[36mdistance_rec\u001b[39m\u001b[34m(un_mot, autre_mot)\u001b[39m\n\u001b[32m      6\u001b[39m \u001b[38;5;28;01mif\u001b[39;00m un_mot[\u001b[32m0\u001b[39m] == autre_mot[\u001b[32m0\u001b[39m]:\n\u001b[32m      7\u001b[39m     \u001b[38;5;28;01mreturn\u001b[39;00m distance_rec(un_mot[\u001b[32m1\u001b[39m:], autre_mot[\u001b[32m1\u001b[39m:])\n\u001b[32m----> \u001b[39m\u001b[32m8\u001b[39m d_rempl = \u001b[43mdistance_rec\u001b[49m\u001b[43m(\u001b[49m\u001b[43mun_mot\u001b[49m\u001b[43m[\u001b[49m\u001b[32;43m1\u001b[39;49m\u001b[43m:\u001b[49m\u001b[43m]\u001b[49m\u001b[43m,\u001b[49m\u001b[43m \u001b[49m\u001b[43mautre_mot\u001b[49m\u001b[43m[\u001b[49m\u001b[32;43m1\u001b[39;49m\u001b[43m:\u001b[49m\u001b[43m]\u001b[49m\u001b[43m)\u001b[49m\n\u001b[32m      9\u001b[39m d_ins =   distance_rec(un_mot,     autre_mot[\u001b[32m1\u001b[39m:])\n\u001b[32m     10\u001b[39m d_sup =   distance_rec(un_mot[\u001b[32m1\u001b[39m:], autre_mot)\n",
      "\u001b[36mCell\u001b[39m\u001b[36m \u001b[39m\u001b[32mIn[5]\u001b[39m\u001b[32m, line 9\u001b[39m, in \u001b[36mdistance_rec\u001b[39m\u001b[34m(un_mot, autre_mot)\u001b[39m\n\u001b[32m      7\u001b[39m     \u001b[38;5;28;01mreturn\u001b[39;00m distance_rec(un_mot[\u001b[32m1\u001b[39m:], autre_mot[\u001b[32m1\u001b[39m:])\n\u001b[32m      8\u001b[39m d_rempl = distance_rec(un_mot[\u001b[32m1\u001b[39m:], autre_mot[\u001b[32m1\u001b[39m:])\n\u001b[32m----> \u001b[39m\u001b[32m9\u001b[39m d_ins =   \u001b[43mdistance_rec\u001b[49m\u001b[43m(\u001b[49m\u001b[43mun_mot\u001b[49m\u001b[43m,\u001b[49m\u001b[43m     \u001b[49m\u001b[43mautre_mot\u001b[49m\u001b[43m[\u001b[49m\u001b[32;43m1\u001b[39;49m\u001b[43m:\u001b[49m\u001b[43m]\u001b[49m\u001b[43m)\u001b[49m\n\u001b[32m     10\u001b[39m d_sup =   distance_rec(un_mot[\u001b[32m1\u001b[39m:], autre_mot)\n\u001b[32m     11\u001b[39m \u001b[38;5;28;01mreturn\u001b[39;00m \u001b[32m1\u001b[39m + \u001b[38;5;28mmin\u001b[39m(d_rempl, d_ins, d_sup)\n",
      "\u001b[36mCell\u001b[39m\u001b[36m \u001b[39m\u001b[32mIn[5]\u001b[39m\u001b[32m, line 10\u001b[39m, in \u001b[36mdistance_rec\u001b[39m\u001b[34m(un_mot, autre_mot)\u001b[39m\n\u001b[32m      8\u001b[39m d_rempl = distance_rec(un_mot[\u001b[32m1\u001b[39m:], autre_mot[\u001b[32m1\u001b[39m:])\n\u001b[32m      9\u001b[39m d_ins =   distance_rec(un_mot,     autre_mot[\u001b[32m1\u001b[39m:])\n\u001b[32m---> \u001b[39m\u001b[32m10\u001b[39m d_sup =   \u001b[43mdistance_rec\u001b[49m\u001b[43m(\u001b[49m\u001b[43mun_mot\u001b[49m\u001b[43m[\u001b[49m\u001b[32;43m1\u001b[39;49m\u001b[43m:\u001b[49m\u001b[43m]\u001b[49m\u001b[43m,\u001b[49m\u001b[43m \u001b[49m\u001b[43mautre_mot\u001b[49m\u001b[43m)\u001b[49m\n\u001b[32m     11\u001b[39m \u001b[38;5;28;01mreturn\u001b[39;00m \u001b[32m1\u001b[39m + \u001b[38;5;28mmin\u001b[39m(d_rempl, d_ins, d_sup)\n",
      "    \u001b[31m[... skipping similar frames: distance_rec at line 8 (1 times)]\u001b[39m\n",
      "\u001b[36mCell\u001b[39m\u001b[36m \u001b[39m\u001b[32mIn[5]\u001b[39m\u001b[32m, line 10\u001b[39m, in \u001b[36mdistance_rec\u001b[39m\u001b[34m(un_mot, autre_mot)\u001b[39m\n\u001b[32m      8\u001b[39m d_rempl = distance_rec(un_mot[\u001b[32m1\u001b[39m:], autre_mot[\u001b[32m1\u001b[39m:])\n\u001b[32m      9\u001b[39m d_ins =   distance_rec(un_mot,     autre_mot[\u001b[32m1\u001b[39m:])\n\u001b[32m---> \u001b[39m\u001b[32m10\u001b[39m d_sup =   \u001b[43mdistance_rec\u001b[49m\u001b[43m(\u001b[49m\u001b[43mun_mot\u001b[49m\u001b[43m[\u001b[49m\u001b[32;43m1\u001b[39;49m\u001b[43m:\u001b[49m\u001b[43m]\u001b[49m\u001b[43m,\u001b[49m\u001b[43m \u001b[49m\u001b[43mautre_mot\u001b[49m\u001b[43m)\u001b[49m\n\u001b[32m     11\u001b[39m \u001b[38;5;28;01mreturn\u001b[39;00m \u001b[32m1\u001b[39m + \u001b[38;5;28mmin\u001b[39m(d_rempl, d_ins, d_sup)\n",
      "    \u001b[31m[... skipping similar frames: distance_rec at line 8 (1 times)]\u001b[39m\n",
      "\u001b[36mCell\u001b[39m\u001b[36m \u001b[39m\u001b[32mIn[5]\u001b[39m\u001b[32m, line 9\u001b[39m, in \u001b[36mdistance_rec\u001b[39m\u001b[34m(un_mot, autre_mot)\u001b[39m\n\u001b[32m      7\u001b[39m     \u001b[38;5;28;01mreturn\u001b[39;00m distance_rec(un_mot[\u001b[32m1\u001b[39m:], autre_mot[\u001b[32m1\u001b[39m:])\n\u001b[32m      8\u001b[39m d_rempl = distance_rec(un_mot[\u001b[32m1\u001b[39m:], autre_mot[\u001b[32m1\u001b[39m:])\n\u001b[32m----> \u001b[39m\u001b[32m9\u001b[39m d_ins =   \u001b[43mdistance_rec\u001b[49m\u001b[43m(\u001b[49m\u001b[43mun_mot\u001b[49m\u001b[43m,\u001b[49m\u001b[43m     \u001b[49m\u001b[43mautre_mot\u001b[49m\u001b[43m[\u001b[49m\u001b[32;43m1\u001b[39;49m\u001b[43m:\u001b[49m\u001b[43m]\u001b[49m\u001b[43m)\u001b[49m\n\u001b[32m     10\u001b[39m d_sup =   distance_rec(un_mot[\u001b[32m1\u001b[39m:], autre_mot)\n\u001b[32m     11\u001b[39m \u001b[38;5;28;01mreturn\u001b[39;00m \u001b[32m1\u001b[39m + \u001b[38;5;28mmin\u001b[39m(d_rempl, d_ins, d_sup)\n",
      "    \u001b[31m[... skipping similar frames: distance_rec at line 10 (6 times), distance_rec at line 9 (2 times), distance_rec at line 8 (1 times)]\u001b[39m\n",
      "\u001b[36mCell\u001b[39m\u001b[36m \u001b[39m\u001b[32mIn[5]\u001b[39m\u001b[32m, line 8\u001b[39m, in \u001b[36mdistance_rec\u001b[39m\u001b[34m(un_mot, autre_mot)\u001b[39m\n\u001b[32m      6\u001b[39m \u001b[38;5;28;01mif\u001b[39;00m un_mot[\u001b[32m0\u001b[39m] == autre_mot[\u001b[32m0\u001b[39m]:\n\u001b[32m      7\u001b[39m     \u001b[38;5;28;01mreturn\u001b[39;00m distance_rec(un_mot[\u001b[32m1\u001b[39m:], autre_mot[\u001b[32m1\u001b[39m:])\n\u001b[32m----> \u001b[39m\u001b[32m8\u001b[39m d_rempl = \u001b[43mdistance_rec\u001b[49m\u001b[43m(\u001b[49m\u001b[43mun_mot\u001b[49m\u001b[43m[\u001b[49m\u001b[32;43m1\u001b[39;49m\u001b[43m:\u001b[49m\u001b[43m]\u001b[49m\u001b[43m,\u001b[49m\u001b[43m \u001b[49m\u001b[43mautre_mot\u001b[49m\u001b[43m[\u001b[49m\u001b[32;43m1\u001b[39;49m\u001b[43m:\u001b[49m\u001b[43m]\u001b[49m\u001b[43m)\u001b[49m\n\u001b[32m      9\u001b[39m d_ins =   distance_rec(un_mot,     autre_mot[\u001b[32m1\u001b[39m:])\n\u001b[32m     10\u001b[39m d_sup =   distance_rec(un_mot[\u001b[32m1\u001b[39m:], autre_mot)\n",
      "\u001b[36mCell\u001b[39m\u001b[36m \u001b[39m\u001b[32mIn[5]\u001b[39m\u001b[32m, line 10\u001b[39m, in \u001b[36mdistance_rec\u001b[39m\u001b[34m(un_mot, autre_mot)\u001b[39m\n\u001b[32m      8\u001b[39m d_rempl = distance_rec(un_mot[\u001b[32m1\u001b[39m:], autre_mot[\u001b[32m1\u001b[39m:])\n\u001b[32m      9\u001b[39m d_ins =   distance_rec(un_mot,     autre_mot[\u001b[32m1\u001b[39m:])\n\u001b[32m---> \u001b[39m\u001b[32m10\u001b[39m d_sup =   \u001b[43mdistance_rec\u001b[49m\u001b[43m(\u001b[49m\u001b[43mun_mot\u001b[49m\u001b[43m[\u001b[49m\u001b[32;43m1\u001b[39;49m\u001b[43m:\u001b[49m\u001b[43m]\u001b[49m\u001b[43m,\u001b[49m\u001b[43m \u001b[49m\u001b[43mautre_mot\u001b[49m\u001b[43m)\u001b[49m\n\u001b[32m     11\u001b[39m \u001b[38;5;28;01mreturn\u001b[39;00m \u001b[32m1\u001b[39m + \u001b[38;5;28mmin\u001b[39m(d_rempl, d_ins, d_sup)\n",
      "    \u001b[31m[... skipping similar frames: distance_rec at line 9 (2 times)]\u001b[39m\n",
      "\u001b[36mCell\u001b[39m\u001b[36m \u001b[39m\u001b[32mIn[5]\u001b[39m\u001b[32m, line 9\u001b[39m, in \u001b[36mdistance_rec\u001b[39m\u001b[34m(un_mot, autre_mot)\u001b[39m\n\u001b[32m      7\u001b[39m     \u001b[38;5;28;01mreturn\u001b[39;00m distance_rec(un_mot[\u001b[32m1\u001b[39m:], autre_mot[\u001b[32m1\u001b[39m:])\n\u001b[32m      8\u001b[39m d_rempl = distance_rec(un_mot[\u001b[32m1\u001b[39m:], autre_mot[\u001b[32m1\u001b[39m:])\n\u001b[32m----> \u001b[39m\u001b[32m9\u001b[39m d_ins =   \u001b[43mdistance_rec\u001b[49m\u001b[43m(\u001b[49m\u001b[43mun_mot\u001b[49m\u001b[43m,\u001b[49m\u001b[43m     \u001b[49m\u001b[43mautre_mot\u001b[49m\u001b[43m[\u001b[49m\u001b[32;43m1\u001b[39;49m\u001b[43m:\u001b[49m\u001b[43m]\u001b[49m\u001b[43m)\u001b[49m\n\u001b[32m     10\u001b[39m d_sup =   distance_rec(un_mot[\u001b[32m1\u001b[39m:], autre_mot)\n\u001b[32m     11\u001b[39m \u001b[38;5;28;01mreturn\u001b[39;00m \u001b[32m1\u001b[39m + \u001b[38;5;28mmin\u001b[39m(d_rempl, d_ins, d_sup)\n",
      "\u001b[36mCell\u001b[39m\u001b[36m \u001b[39m\u001b[32mIn[5]\u001b[39m\u001b[32m, line 1\u001b[39m, in \u001b[36mdistance_rec\u001b[39m\u001b[34m(un_mot, autre_mot)\u001b[39m\n\u001b[32m----> \u001b[39m\u001b[32m1\u001b[39m \u001b[38;5;28;01mdef\u001b[39;00m\u001b[38;5;250m \u001b[39m\u001b[34mdistance_rec\u001b[39m(un_mot, autre_mot):\n\u001b[32m      2\u001b[39m     \u001b[38;5;28;01mif\u001b[39;00m \u001b[38;5;28mlen\u001b[39m(un_mot) == \u001b[32m0\u001b[39m:\n\u001b[32m      3\u001b[39m         \u001b[38;5;28;01mreturn\u001b[39;00m \u001b[38;5;28mlen\u001b[39m(autre_mot)\n",
      "\u001b[31mKeyboardInterrupt\u001b[39m: "
     ]
    }
   ],
   "source": [
    "distance_rec(\"anticonstitutionnellement\", \"c'est n'importe quoi\")"
   ]
  },
  {
   "cell_type": "markdown",
   "metadata": {},
   "source": [
    "### Implémentation itérative\n",
    "\n",
    "Une autre approche consiste à construire ligne par ligne un tableau indiquant la distance entre chaque préfixe des deux mots. Une nouvelle case peut être remplie en regardant le contenu des trois cases en haut, à gauche et en diagonale (vers le haut et la gauche).\n",
    "\n",
    "Ce type d'approche qui consiste à construire un résultat en s'appuyant sur un tableau de résultats à des sous-problèmes est souvent appelé *programmation dynamique*."
   ]
  },
  {
   "cell_type": "markdown",
   "metadata": {},
   "source": [
    "**Exemple :**\n",
    "\n",
    "|       | **-** | **c** | **h** | **a** | **t** | **e** | **a** | **u** |\n",
    "|-------|-------|-------|-------|-------|-------|-------|-------|-------|\n",
    "| **-** |   0   |   1   |   2   |   3   |   4   |   5   |   6   |   7   |\n",
    "| **b** |   1   |       |       |       |       |       |       |       |\n",
    "| **a** |   2   |       |       |       |       |       |       |       |\n",
    "| **t** |   3   |       |       |       |       |       |       |       |\n",
    "| **e** |   4   |       |       |       |       |       |       |       |\n",
    "| **a** |   5   |       |       |       |       |       |       |       |\n",
    "| **u** |   6   |       |       |       |       |       |       |       |\n"
   ]
  },
  {
   "cell_type": "markdown",
   "metadata": {},
   "source": [
    "**Exemple :**\n",
    "\n",
    "|       | **-** | **s** | **a** | **b** | **r** | **e** |\n",
    "|-------|-------|-------|-------|-------|-------|-------|\n",
    "| **-** |   0   |   1   |   2   |   3   |   4   |   5   |\n",
    "| **a** |   1   |       |       |       |       |       |\n",
    "| **r** |   2   |       |       |       |       |       |\n",
    "| **b** |   3   |       |       |       |       |       |\n",
    "| **r** |   4   |       |       |       |       |       |\n",
    "| **e** |   5   |       |       |       |       |       |\n"
   ]
  },
  {
   "cell_type": "code",
   "execution_count": 25,
   "metadata": {},
   "outputs": [],
   "source": [
    "def distance_iter(un_mot, autre_mot):\n",
    "    tableau = []\n",
    "    \n",
    "    # première ligne\n",
    "    ligne = list(range(len(un_mot)+1))\n",
    "    tableau.append(ligne)\n",
    "\n",
    "    # lignes suivantes\n",
    "    for i in range(len(autre_mot)):\n",
    "        ligne = [i+1]\n",
    "        tableau.append(ligne)\n",
    "        for j in range(len(un_mot)):\n",
    "            if un_mot[j] == autre_mot[i]:\n",
    "                ligne.append(tableau[i][j])\n",
    "            else:\n",
    "                # les deux prochaines lettres sont différentes\n",
    "                d_rempl = tableau[i][j]\n",
    "                d_ins = tableau[i][j+1]\n",
    "                d_sup = tableau[i+1][j]\n",
    "                ligne.append(1 + min(d_rempl, d_ins, d_sup))\n",
    "    return tableau[-1][-1]"
   ]
  },
  {
   "cell_type": "code",
   "execution_count": 26,
   "metadata": {},
   "outputs": [
    {
     "data": {
      "text/plain": [
       "4"
      ]
     },
     "execution_count": 26,
     "metadata": {},
     "output_type": "execute_result"
    }
   ],
   "source": [
    "distance_iter(\"\", \"chat\")"
   ]
  },
  {
   "cell_type": "code",
   "execution_count": 27,
   "metadata": {},
   "outputs": [
    {
     "data": {
      "text/plain": [
       "4"
      ]
     },
     "execution_count": 27,
     "metadata": {},
     "output_type": "execute_result"
    }
   ],
   "source": [
    "distance_iter(\"chat\", \"\")"
   ]
  },
  {
   "cell_type": "code",
   "execution_count": 28,
   "metadata": {},
   "outputs": [
    {
     "data": {
      "text/plain": [
       "2"
      ]
     },
     "execution_count": 28,
     "metadata": {},
     "output_type": "execute_result"
    }
   ],
   "source": [
    "distance_iter(\"chateau\", \"bateau\")"
   ]
  },
  {
   "cell_type": "code",
   "execution_count": 29,
   "metadata": {},
   "outputs": [
    {
     "data": {
      "text/plain": [
       "2"
      ]
     },
     "execution_count": 29,
     "metadata": {},
     "output_type": "execute_result"
    }
   ],
   "source": [
    "distance_iter(\"arbre\", \"sabre\")"
   ]
  },
  {
   "cell_type": "code",
   "execution_count": 30,
   "metadata": {},
   "outputs": [
    {
     "data": {
      "text/plain": [
       "4"
      ]
     },
     "execution_count": 30,
     "metadata": {},
     "output_type": "execute_result"
    }
   ],
   "source": [
    "distance_iter(\"chat\", \"batte\")"
   ]
  },
  {
   "cell_type": "code",
   "execution_count": 31,
   "metadata": {},
   "outputs": [
    {
     "data": {
      "text/plain": [
       "21"
      ]
     },
     "execution_count": 31,
     "metadata": {},
     "output_type": "execute_result"
    }
   ],
   "source": [
    "distance_iter(\"anticonstitutionnellement\", \"c'est n'importe quoi\")"
   ]
  },
  {
   "cell_type": "markdown",
   "metadata": {},
   "source": [
    "On peut améliorer un peu la consommation de mémoire de cette fonction en ne mémorisant que la ligne en cours et la ligne précédente du tableau :"
   ]
  },
  {
   "cell_type": "code",
   "execution_count": null,
   "metadata": {},
   "outputs": [],
   "source": [
    "def distance_iter_opti(un_mot, autre_mot):\n",
    "    ..."
   ]
  },
  {
   "cell_type": "code",
   "execution_count": null,
   "metadata": {},
   "outputs": [],
   "source": [
    "distance_iter_opti(\"\", \"chat\")"
   ]
  },
  {
   "cell_type": "code",
   "execution_count": null,
   "metadata": {},
   "outputs": [],
   "source": [
    "distance_iter_opti(\"chat\", \"\")"
   ]
  },
  {
   "cell_type": "code",
   "execution_count": null,
   "metadata": {},
   "outputs": [],
   "source": [
    "distance_iter_opti(\"chateau\", \"bateau\")"
   ]
  },
  {
   "cell_type": "code",
   "execution_count": null,
   "metadata": {},
   "outputs": [],
   "source": [
    "distance_iter_opti(\"chat\", \"batte\")"
   ]
  },
  {
   "cell_type": "code",
   "execution_count": null,
   "metadata": {},
   "outputs": [],
   "source": [
    "distance_iter_opti(\"anticonstitutionnellement\", \"c'est n'importe quoi\")"
   ]
  },
  {
   "cell_type": "markdown",
   "metadata": {},
   "source": [
    "### Implémentation récursive avec mémoïsation\n",
    "\n",
    "La version récursive est plus simple, mais elle est beaucoup plus lente... Pour la rendre plus efficace on peut utiliser une astuce appelée \"mémoisation\" : on conserve dans un dictionnaire tous les résultats déjà connus, et avant de faire le moindre calcul, on vérifie dans le dictionnaire si la distance qu'on cherche n'a pas déjà été calculée."
   ]
  },
  {
   "cell_type": "code",
   "execution_count": null,
   "metadata": {},
   "outputs": [],
   "source": [
    "def distance_rec_opti(un_mot, autre_mot, memo=None):\n",
    "    ..."
   ]
  },
  {
   "cell_type": "code",
   "execution_count": null,
   "metadata": {},
   "outputs": [],
   "source": [
    "distance_rec_opti(\"\", \"chat\")"
   ]
  },
  {
   "cell_type": "code",
   "execution_count": null,
   "metadata": {},
   "outputs": [],
   "source": [
    "distance_rec_opti(\"chat\", \"\")"
   ]
  },
  {
   "cell_type": "code",
   "execution_count": null,
   "metadata": {},
   "outputs": [],
   "source": [
    "distance_rec_opti(\"chateau\", \"bateau\")"
   ]
  },
  {
   "cell_type": "code",
   "execution_count": null,
   "metadata": {},
   "outputs": [],
   "source": [
    "distance_rec_opti(\"chat\", \"batte\")"
   ]
  },
  {
   "cell_type": "code",
   "execution_count": null,
   "metadata": {},
   "outputs": [],
   "source": [
    "distance_rec_opti(\"anticonstitutionnellement\", \"c'est n'importe quoi\")"
   ]
  },
  {
   "cell_type": "markdown",
   "metadata": {},
   "source": [
    "### Une petite comparaison"
   ]
  },
  {
   "cell_type": "code",
   "execution_count": 32,
   "metadata": {},
   "outputs": [
    {
     "name": "stdout",
     "output_type": "stream",
     "text": [
      "15 μs ± 156 ns per loop (mean ± std. dev. of 7 runs, 100,000 loops each)\n",
      "1.14 ms ± 14 μs per loop (mean ± std. dev. of 7 runs, 1,000 loops each)\n"
     ]
    }
   ],
   "source": [
    "%timeit distance_iter(\"bougeoir\", \"bavoir\")\n",
    "# %timeit distance_iter_opti(\"bougeoir\", \"bavoir\")\n",
    "%timeit distance_rec(\"bougeoir\", \"bavoir\")\n",
    "# %timeit distance_rec_opti(\"bougeoir\", \"bavoir\")"
   ]
  },
  {
   "cell_type": "markdown",
   "metadata": {},
   "source": [
    "Quel intérêt à utiliser malgré tout la version mémoïsée (si on ne s'inquiète pas trop de la mémoire) ?"
   ]
  },
  {
   "cell_type": "code",
   "execution_count": null,
   "metadata": {},
   "outputs": [],
   "source": [
    "%%timeit\n",
    "distance_rec_opti(\"recevoir\", \"percevra\")\n",
    "distance_rec_opti(\"décevoir\", \"percevra\")\n",
    "distance_rec_opti(\"tellement\", \"feulement\")\n",
    "distance_rec_opti(\"feulement\", \"tellement\")"
   ]
  },
  {
   "cell_type": "code",
   "execution_count": null,
   "metadata": {},
   "outputs": [],
   "source": [
    "%%timeit\n",
    "memo = {}\n",
    "distance_rec_opti(\"recevoir\", \"percevra\", memo)\n",
    "distance_rec_opti(\"décevoir\", \"percevra\", memo)\n",
    "distance_rec_opti(\"tellement\", \"feulement\", memo)\n",
    "distance_rec_opti(\"feulement\", \"tellement\", memo)"
   ]
  },
  {
   "cell_type": "markdown",
   "metadata": {},
   "source": [
    "## Correction othographique\n",
    "\n",
    "Étant donné un mot `mot` et une liste de mots `lexique`, il suffit de chercher tous les mots à une distance minimale de `mot` dans `lexique` pour obtenir une liste de candidats à la correction (et éventuellement le mot lui même s'il apparaît dans le lexique !).\n",
    "\n",
    "**Variantes possibles :** renvoyer tous les mots à une distance inférieure à un certain seuil, ou seulement les mots de distance minimale (s'ils sont en-dessous du seuil)."
   ]
  },
  {
   "cell_type": "code",
   "execution_count": null,
   "metadata": {},
   "outputs": [],
   "source": [
    "def corrections(mot, lexique, seuil=float(\"+inf\"), min_seulement=True):\n",
    "    ..."
   ]
  },
  {
   "cell_type": "code",
   "execution_count": null,
   "metadata": {},
   "outputs": [],
   "source": [
    "for i in range(6):\n",
    "    print(i, corrections(\"blancha\", [\"balance\", \"balança\", \"blanc\", \"calancha\", \"calancherai\", \"balancerai\"], i, False))"
   ]
  },
  {
   "cell_type": "markdown",
   "metadata": {},
   "source": [
    "## Pour aller plus loin"
   ]
  },
  {
   "cell_type": "markdown",
   "metadata": {},
   "source": [
    "- Une structure de données (potentiellement) plus efficace : les [arbres BK](https://en.wikipedia.org/wiki/BK-tree).\n",
    "- Une distance qui prend en compte les erreurs dans l'ordre des lettres : la distance de [Damerau-Levenshtein](https://fr.wikipedia.org/wiki/Distance_de_Damerau-Levenshtein).\n",
    "- Comment tenir compte des informations du corpus pour améliorer la suggestion de correction ?\n",
    "- Comment tenir compte de la notion de seuil pour optimiser les calculs de distance ?"
   ]
  },
  {
   "cell_type": "markdown",
   "metadata": {},
   "source": []
  }
 ],
 "metadata": {
  "kernelspec": {
   "display_name": "Python 3 (ipykernel)",
   "language": "python",
   "name": "python3"
  },
  "language_info": {
   "codemirror_mode": {
    "name": "ipython",
    "version": 3
   },
   "file_extension": ".py",
   "mimetype": "text/x-python",
   "name": "python",
   "nbconvert_exporter": "python",
   "pygments_lexer": "ipython3",
   "version": "3.13.3"
  }
 },
 "nbformat": 4,
 "nbformat_minor": 4
}
