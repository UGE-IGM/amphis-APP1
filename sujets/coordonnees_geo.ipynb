{
 "cells": [
  {
   "cell_type": "markdown",
   "id": "1e055868",
   "metadata": {
    "slideshow": {
     "slide_type": "slide"
    }
   },
   "source": [
    "# Dessin selon des coordonnées géographiques"
   ]
  },
  {
   "cell_type": "markdown",
   "id": "87b4309b",
   "metadata": {
    "slideshow": {
     "slide_type": "subslide"
    }
   },
   "source": [
    "Proposition de décomposition du problème :\n",
    "\n",
    "- reconnaître la nécessité d'un choix de projection\n",
    "- choisir une projection\n",
    "    - projection naïve\n",
    "    - projection de Mercator\n",
    "- calcul des coordonnées extrêmes (*bounding box*)\n",
    "- calcul de l'échelle (horizontale / verticale)"
   ]
  },
  {
   "cell_type": "markdown",
   "id": "581a1eb3",
   "metadata": {},
   "source": [
    "## Projection géographique"
   ]
  },
  {
   "cell_type": "markdown",
   "id": "4b51a912",
   "metadata": {},
   "source": [
    "Problème : les coordonnées géographiques [WGS84](https://fr.wikipedia.org/wiki/WGS_84) sont exprimées en *degrés* (coordonnées sphériques). Pour les représenter sur une surface plane, il faut associer à chaque couple (longitude, latitude) un couple (abscisse, ordonnée) sur un plan. On appelle cela une [projection cartographique](https://fr.wikipedia.org/wiki/Projection_cartographique). Il existe de nombreuses manières de faire, qui ont toutes différents avantages et inconvénients (déformations aux pôles, non-conservation des aires...). La plus courante est la [*projection de Mercator*](https://fr.wikipedia.org/wiki/Projection_de_Mercator)."
   ]
  },
  {
   "cell_type": "code",
   "execution_count": 3,
   "id": "bf2136a4",
   "metadata": {
    "slideshow": {
     "slide_type": "subslide"
    }
   },
   "outputs": [],
   "source": [
    "# quelques points du contour de la Seine-et-Marne\n",
    "points = [(2.3923284961351237, 48.335929161584076), (2.5796456483373684, 48.72254039779301), (2.6241630097148376, 49.10056541579139), (3.097802797538821, 49.11080329041811), (3.26191242353348, 48.94707797669175), (3.4474402215212865, 48.848328384354076), (3.4613763255130037, 48.634670779600604), (3.4003188237982123, 48.45958741212868), (3.0995219034980406, 48.3529392805501), (2.8310023496715675, 48.13421017601398), (2.5384374109720103, 48.14073211263637), (2.419849013684824, 48.28321626105787)]\n",
    "bbox = [2.3923284961351237, 48.12014561527111, 3.559220826259302, 49.11789167125887]"
   ]
  },
  {
   "cell_type": "code",
   "execution_count": 1,
   "id": "9fc326a8",
   "metadata": {
    "slideshow": {
     "slide_type": "subslide"
    }
   },
   "outputs": [],
   "source": [
    "from math import log, tan, pi, radians, degrees\n",
    "\n",
    "def mercator_map(point):\n",
    "    \"\"\"Spherical Mercator map of p.\"\"\"\n",
    "    long, lat = point\n",
    "    x = long\n",
    "    y = degrees(log(tan(radians(lat) / 2 + pi / 4)))\n",
    "    return x, y"
   ]
  },
  {
   "cell_type": "code",
   "execution_count": 4,
   "id": "53951aad",
   "metadata": {},
   "outputs": [
    {
     "data": {
      "text/plain": [
       "[(2.3923284961351237, 55.36249318140423),\n",
       " (2.5796456483373684, 55.94629229454141),\n",
       " (2.6241630097148376, 56.5214811455119),\n",
       " (3.097802797538821, 56.5371194671355),\n",
       " (3.26191242353348, 56.28741521676643),\n",
       " (3.4474402215212865, 56.13720405535307),\n",
       " (3.4613763255130037, 55.813213353069195),\n",
       " (3.4003188237982123, 55.54873810448331),\n",
       " (3.0995219034980406, 55.38808573469113),\n",
       " (2.8310023496715675, 55.05964585646803),\n",
       " (2.5384374109720103, 55.06941880810703),\n",
       " (2.419849013684824, 55.28323823748444)]"
      ]
     },
     "execution_count": 4,
     "metadata": {},
     "output_type": "execute_result"
    }
   ],
   "source": [
    "points_mercator = [mercator_map(p) for p in points]\n",
    "points_mercator"
   ]
  },
  {
   "cell_type": "code",
   "execution_count": 8,
   "id": "3c404cdf",
   "metadata": {},
   "outputs": [],
   "source": [
    "from fltk import cree_fenetre, polygone, attend_ev, ferme_fenetre\n",
    "\n",
    "cree_fenetre(500, 500)\n",
    "# Dessiner le polygone (mais comment ?)\n",
    "# polygone(points_mercator)\n",
    "attend_ev()\n",
    "ferme_fenetre()"
   ]
  },
  {
   "cell_type": "code",
   "execution_count": null,
   "id": "fe404ba9",
   "metadata": {},
   "outputs": [],
   "source": [
    "import fltk\n",
    "\n",
    "help(fltk.polygone)"
   ]
  },
  {
   "cell_type": "markdown",
   "id": "b28bda12",
   "metadata": {},
   "source": [
    "## Calcul des coordonnées à l'écran\n",
    "\n",
    "Contrainte : il faut garder l'aspect (ratio longueur / largeur)\n",
    "\n",
    "Stratégie :\n",
    "- Calculer d'abord le bounding box (point nord-ouest et point sud-est) en coordonnées géographiques\n",
    "- Chercher le plus grand facteur de zoom possible pour faire tenir la bounding box sur la zone de dessin\n",
    "\n",
    "Maintenant, supposons que \n",
    "- Le point nord-ouest du bounding box est $(x_1, y_1)$, et celui sud-est est $(x_2, y_2)$.\n",
    "- La zone de dessin est un rectangle de largeur $W$, de hauteur $H$, de coin supérieur gauche $(X_O, Y_O)$ et de coin inférieur droit $(X_O + W, Y_O + H)$.\n",
    "\n",
    "(Convention : coordonnées géographiques en minuscules, coordonnées écran (pixels) en majuscules.)"
   ]
  },
  {
   "cell_type": "markdown",
   "id": "5a9d51c4",
   "metadata": {},
   "source": [
    "### Comment convertir un point géographique $(x, y)$ en un point $(X, Y)$ sur la fenêtre ?"
   ]
  },
  {
   "cell_type": "markdown",
   "id": "549c12dc",
   "metadata": {},
   "source": [
    "\n",
    "Cela doit être une transformation linéaire (sans déformation) et respectant les proportions (même facteur en abscisses et en ordonnées).  \n",
    "⚠️⚠️⚠️ **Attention** : les ordonnées sont inversées sur la fenêtre !\n",
    "$$\n",
    "    \\begin{cases}\n",
    "    X = ax + B\\\\\n",
    "    Y = a(- y) + C.\n",
    "    \\end{cases}\n",
    "$$\n",
    "\n",
    "**Contrainte :** Les points correspondant aux coins nord-ouest et sud-est doivent tenir tous les deux dans la zone de dessin :\n",
    "$$\n",
    "    \\begin{cases}\n",
    "    X_O \\leq ax_1 + B \\leq ax_2 + B \\leq X_O + W\\\\\n",
    "    Y_O \\leq - ay_1 + C \\leq -ay_2 + C \\leq Y_O + H\n",
    "    \\end{cases}\n",
    "$$\n",
    "\n",
    "Il ne reste plus qu'à résoudre les inéquations pour encadrer $a$, $B$ et $C$ !"
   ]
  },
  {
   "cell_type": "markdown",
   "id": "77ec722c",
   "metadata": {},
   "source": [
    "#### Encadrement du facteur d'échelle $a$"
   ]
  },
  {
   "cell_type": "markdown",
   "id": "c4fd730b",
   "metadata": {},
   "source": [
    "\n",
    "On a d'une part, pour les abscisses :\n",
    "$$\n",
    "X_O - B \\leq ax_1 \\leq ax_2 \\leq X_O + W - B\n",
    "$$\n",
    "\n",
    "En réarrangeant on obtient :\n",
    "$$\n",
    "\\begin{aligned}\n",
    "ax_2 - ax_1 & \\leq (X_O + W - B) - (X_O - B)\\\\\n",
    "a(x_2 - x_1) & \\leq W\\\\\n",
    "a & \\leq W / (x_2 - x_1)\n",
    "\\end{aligned}\n",
    "$$"
   ]
  },
  {
   "cell_type": "markdown",
   "id": "9e4b0d34",
   "metadata": {},
   "source": [
    "Pour les ordonnées, on a :\n",
    "$$\n",
    "Y_O - C \\leq -ay_1 \\leq -ay_2 \\leq Y_O + H - C\n",
    "$$\n",
    "\n",
    "Soit, en réarrangeant :\n",
    "$$\n",
    "\\begin{aligned}\n",
    "a(y_1 - y_2) & \\leq (Y_O + H - C) - (Y_O - C)\\\\\n",
    "a(y_1 - y_2) & \\leq H\\\\\n",
    "a & \\leq H / (y_1 - y_2)\n",
    "\\end{aligned}\n",
    "$$"
   ]
  },
  {
   "cell_type": "markdown",
   "id": "441eb80c",
   "metadata": {},
   "source": [
    "\n",
    "On peut donc choisir par exemple $$a = \\min \\left\\{W / (x_2 - x_1), H / (y_1 - y_2)\\right\\}$$ qui correspond à un zoom maximal."
   ]
  },
  {
   "cell_type": "markdown",
   "id": "87f4ccd0",
   "metadata": {},
   "source": [
    "#### Encadrement des décalages $B$ et $C$"
   ]
  },
  {
   "cell_type": "markdown",
   "id": "50134d6d",
   "metadata": {},
   "source": [
    "\n",
    "On peut encadrer $B$ et $C$ ainsi :\n",
    "\n",
    "$$\n",
    "    \\begin{cases}\n",
    "    X_O - ax_1 \\leq B \\leq X_O + W - ax_2\\\\\n",
    "    Y_O + ay_1 \\leq C \\leq Y_O + H + ay_2\n",
    "    \\end{cases}\n",
    "$$\n",
    "\n",
    "On pourra choisir n'importe quelles valeurs qui conviennent pour placer le dessin où l'on veut (contre l'un des bords, centré...). "
   ]
  },
  {
   "cell_type": "markdown",
   "id": "baf1e7b6",
   "metadata": {},
   "source": [
    "\n",
    "Notons que si $a = W / (x_2 - x_1)$ (dessin ajusté en largeur) alors \n",
    "$$\n",
    "\\begin{aligned}\n",
    "X_O - a x_1 \\leq B & \\leq X_O + W - W x_2 / (x_2 - x_1)\\\\\n",
    "                   & \\leq X_O + (W (x_2 - x_1) - W x_2) / (x_2 - x_1)\\\\\n",
    "                   & \\leq X_O - W x_1 / (x_2 - x_1)\\\\\n",
    "                   & \\leq X_O - a x_1\n",
    "\\end{aligned}\n",
    "$$\n",
    "autrement dit $B$ est forcément égal à $0_x - a x_1$."
   ]
  },
  {
   "cell_type": "markdown",
   "id": "92a8649a",
   "metadata": {},
   "source": [
    "\n",
    "De même si $a = H / (y_1 - y_2)$ (dessin ajusté en hauteur) alors \n",
    "$$\n",
    "\\begin{aligned}\n",
    "Y_O + a y_1 \\leq C & \\leq Y_O + H + H y_2 / (y_1 - y_2)\\\\\n",
    "                   & \\leq Y_O + (H (y_1 - y_2) + H y_2) / (y_1 - y_2)\\\\\n",
    "                   & \\leq Y_O + H y_1 / (y_1 - y_2)\\\\\n",
    "                   & \\leq Y_O + a y_1\n",
    "\\end{aligned}\n",
    "$$\n",
    "autrement dit $C$ est forcément égal à $Y_O + a y_1$."
   ]
  },
  {
   "cell_type": "markdown",
   "id": "70717fd6",
   "metadata": {},
   "source": [
    "### Implémentation en Python"
   ]
  },
  {
   "cell_type": "code",
   "execution_count": null,
   "id": "7ca3110b",
   "metadata": {
    "slideshow": {
     "slide_type": "subslide"
    }
   },
   "outputs": [],
   "source": [
    "def frame_map(point, origin, scale):\n",
    "    \"\"\"Screen map of point relative to (upper-left) origin and scale.\"\"\"\n",
    "    ... # à finir"
   ]
  },
  {
   "cell_type": "code",
   "execution_count": null,
   "id": "83145d68",
   "metadata": {
    "slideshow": {
     "slide_type": "subslide"
    }
   },
   "outputs": [],
   "source": [
    "def compute_frame(bbox, max_dim):\n",
    "     # à finir\n",
    "    long_min, lat_min, long_max, lat_max = bbox\n",
    "\n",
    "    # coordonnées des coins\n",
    "    xmin, ymax = ...\n",
    "    xmax, ymin = ...\n",
    "\n",
    "    # amplitude en abscisse et en ordonnée\n",
    "    dx, dy = ...\n",
    "\n",
    "    # échelle\n",
    "    scale = ...\n",
    "\n",
    "    return (xmin, ymax), (xmax, ymin), (dx, dy), scale"
   ]
  }
 ],
 "metadata": {
  "celltoolbar": "Diaporama",
  "kernelspec": {
   "display_name": "Python 3 (ipykernel)",
   "language": "python",
   "name": "python3"
  },
  "language_info": {
   "codemirror_mode": {
    "name": "ipython",
    "version": 3
   },
   "file_extension": ".py",
   "mimetype": "text/x-python",
   "name": "python",
   "nbconvert_exporter": "python",
   "pygments_lexer": "ipython3",
   "version": "3.12.3"
  }
 },
 "nbformat": 4,
 "nbformat_minor": 5
}
