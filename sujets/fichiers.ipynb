{
 "cells": [
  {
   "cell_type": "markdown",
   "metadata": {},
   "source": [
    "# Lecture de fichiers\n",
    "\n",
    "\n",
    "\n",
    "Il est très facile de consulter le contenu d'un fichier texte en Python, et de le modifier ([doc officielle Python](https://docs.python.org/fr/3/tutorial/inputoutput.html#reading-and-writing-files))"
   ]
  },
  {
   "cell_type": "markdown",
   "metadata": {},
   "source": [
    "Ouverture d'un fichier : `f = open(chemin, mode)`\n",
    "\n",
    "- Paramètre `chemin` (chaîne de caractère) :  \n",
    "  nom (absolu ou relatif) d'un fichier\n",
    "- Paramètre `mode` (chaîne de caractère) :\n",
    "  - lecture seule : `'r'` (par défaut)\n",
    "  - écriture (crée / écrase le fichier) : `'w'`\n",
    "  - ajout (écrit à la fin) : `'a'`\n",
    "  - *autres modes possibles pour fichiers binaires*"
   ]
  },
  {
   "cell_type": "markdown",
   "metadata": {},
   "source": [
    "Fermeture : `f.close()`"
   ]
  },
  {
   "cell_type": "markdown",
   "metadata": {},
   "source": [
    "Lecture (mode `'r'`) :\n",
    "\n",
    "-   Tout lire d'un coup (une seule chaîne) :  \n",
    "    `contenu = f.read()`  \n",
    "    **Attention :** charge tout le fichier en mémoire !  \n",
    "    **Attention :** inclut les retours à la ligne"
   ]
  },
  {
   "cell_type": "markdown",
   "metadata": {},
   "source": [
    "-   Liste des lignes (liste de chaînes) :  \n",
    "    `lst_lignes = f.readlines()`  \n",
    "    **Attention :** charge tout le fichier en mémoire !  \n",
    "    **Attention :** inclut les retours à la ligne"
   ]
  },
  {
   "cell_type": "markdown",
   "metadata": {},
   "source": [
    "    \n",
    "-   Prochaine ligne : `ligne = f.readline()`  \n",
    "    **Attention :** renvoie une chaîne vide à la fin"
   ]
  },
  {
   "cell_type": "markdown",
   "metadata": {},
   "source": [
    "-   Parcours ligne par ligne : `for ligne in f: ...`"
   ]
  },
  {
   "cell_type": "code",
   "execution_count": null,
   "metadata": {},
   "outputs": [
    {
     "name": "stdout",
     "output_type": "stream",
     "text": [
      "ceci est la ligne 1|\n",
      "ceci  est   la  ligne    2|\n",
      "ceci est la ligne 3|\n"
     ]
    }
   ],
   "source": [
    "f = open('tmp/test.txt', 'r')\n",
    "for ligne in f:\n",
    "    # strip supprime les espaces avant et après la chaîne\n",
    "    print(ligne.strip() + \"|\")\n",
    "f.close()"
   ]
  },
  {
   "cell_type": "markdown",
   "metadata": {},
   "source": [
    "À méditer : comment faire pour\n",
    "\n",
    "- construire une liste dont chaque élément est une liste des mots d'une ligne ?\n",
    "- construire une liste unique contenant tous les mots du texte ?"
   ]
  },
  {
   "cell_type": "code",
   "execution_count": null,
   "metadata": {},
   "outputs": [
    {
     "name": "stdout",
     "output_type": "stream",
     "text": [
      "['ceci', 'est', 'la', 'ligne', '1']\n",
      "['ceci', 'est', 'la', 'ligne', '2']\n",
      "['ceci', 'est', 'la', 'ligne', '3']\n"
     ]
    }
   ],
   "source": [
    "f = open('tmp/test.txt', 'r')\n",
    "for ligne in f:\n",
    "    # astuce : découper chaque ligne selon les blancs\n",
    "    print(ligne.split()) \n",
    "f.close()"
   ]
  },
  {
   "cell_type": "code",
   "execution_count": null,
   "metadata": {},
   "outputs": [
    {
     "name": "stdout",
     "output_type": "stream",
     "text": [
      "['ceci', 'est', 'la', 'ligne', '1', 'ceci', 'est', 'la', 'ligne', '2', 'ceci', 'est', 'la', 'ligne', '3']\n"
     ]
    }
   ],
   "source": [
    "f = open('tmp/test.txt', 'r')\n",
    "contenu = f.read()\n",
    "print(contenu.split())\n",
    "f.close()"
   ]
  }
 ],
 "metadata": {
  "language_info": {
   "name": "python"
  }
 },
 "nbformat": 4,
 "nbformat_minor": 2
}
