{
 "cells": [
  {
   "cell_type": "markdown",
   "id": "1265647e",
   "metadata": {},
   "source": [
    "# Amphi APP1 - Séquence 4 - Soutien\n",
    "\n",
    "**Contenu**\n",
    "1. Rappel de l'organisation\n",
    "1. Retour sur CC1\n",
    "1. Shapefile\n",
    "1. Session de questions sur Problème 4"
   ]
  },
  {
   "cell_type": "markdown",
   "id": "01b2fa50",
   "metadata": {},
   "source": [
    "## Rappel de l'organisation\n",
    "\n",
    "**Pour APP1** :\n",
    "- Date de limite de soumission Git : 24 novembre à 23h\n",
    "- Séance de soutenance : dernière séance de la semaine\n",
    "- Pour les deux groupes lundi matin : séance de soutien\n",
    "\n",
    "**Pour Projet commun de AP1/APP1**\n",
    "- Début : 27 novembre\n",
    "- Durée : trois semaines\n",
    "- Modalité de regroupement : binôme libre **dans le même groupe de TP**"
   ]
  },
  {
   "cell_type": "markdown",
   "id": "14d04dfd",
   "metadata": {},
   "source": [
    "## Retour sur CC1\n",
    "\n",
    "Tout n'est pas encore corrigé... On en parlera la semaine prochaine."
   ]
  },
  {
   "cell_type": "markdown",
   "id": "212fac69",
   "metadata": {},
   "source": [
    "**Question 11**: renverser une liste\n",
    "\n",
    "Ecrire une fonction ``renverse(lst)`` qui renvoie une **nouvelle liste** dans l'ordre inverse."
   ]
  },
  {
   "cell_type": "code",
   "execution_count": 2,
   "id": "18dab136",
   "metadata": {},
   "outputs": [],
   "source": [
    "import doctest\n",
    "\n",
    "def renverse(lst):\n",
    "    '''\n",
    "    Returns a new list in reversed order of a given list\n",
    "    :param: lst -> list of integers\n",
    "    :return: list, longest increasing prefixe\n",
    "    \n",
    "    >>> renverse([])\n",
    "    []\n",
    "    >>> renverse([2, 1, 5])\n",
    "    [5, 1, 2]\n",
    "    >>> renverse(['a', 8, False])\n",
    "    [False, 8, 'a']\n",
    "    '''\n",
    "    return lst[::-1]\n",
    "\n",
    "# doctest.testmod()\n",
    "doctest.run_docstring_examples(renverse, globals())"
   ]
  },
  {
   "cell_type": "code",
   "execution_count": 8,
   "id": "bedb4d62",
   "metadata": {},
   "outputs": [
    {
     "data": {
      "text/plain": [
       "[1, 5, 9, 2, 6, 5, 3]"
      ]
     },
     "execution_count": 8,
     "metadata": {},
     "output_type": "execute_result"
    }
   ],
   "source": [
    "numlist = [3, 1, 4, 1, 5, 9, 2, 6, 5, 3, 5]\n",
    "\n",
    "numlist[3:-1]"
   ]
  },
  {
   "cell_type": "markdown",
   "id": "a506d57d",
   "metadata": {},
   "source": [
    "## Saisir contrôlé\n",
    "\n",
    "On veut lire l'entrée et mettre chaque élément dans une liste jusqu'à une certain condition soit vérifiée.\n",
    "\n",
    "**Code de base**\n",
    "```python\n",
    "input_list = []\n",
    "user_input = input()\n",
    "while cond:\n",
    "    input_list.append(user_input)\n",
    "    user_input = input()\n",
    "```"
   ]
  },
  {
   "cell_type": "code",
   "execution_count": null,
   "id": "36ec24fc",
   "metadata": {},
   "outputs": [],
   "source": [
    "def read_five_strings():\n",
    "    '''\n",
    "    Reads five strings from keyboard, then returns the list\n",
    "    '''\n",
    "    input_list = []\n",
    "    user_input = input()\n",
    "    while len(input_list) < 5:\n",
    "        input_lists.append(user_input)\n",
    "        user_input = input()\n",
    "    return input_list"
   ]
  },
  {
   "cell_type": "code",
   "execution_count": null,
   "id": "77bbd9df",
   "metadata": {},
   "outputs": [],
   "source": [
    "def read_positive_numbers():\n",
    "    '''\n",
    "    Reads numbers from keyboard, until reaching \n",
    "    a negative number, then return the list\n",
    "    '''\n",
    "    input_list = []\n",
    "    user_input = int(input())\n",
    "    while user_input >= 0:\n",
    "        input_list.append(user_input)\n",
    "        user_input = int(input())\n",
    "    return input_list"
   ]
  },
  {
   "cell_type": "code",
   "execution_count": null,
   "id": "b0ae4d7f",
   "metadata": {},
   "outputs": [],
   "source": [
    "def read_sum_limit(maxsum):\n",
    "    '''\n",
    "    Reads numbers from keyboard, until their sum\n",
    "    is larger than maxsum, then return the list\n",
    "    '''\n",
    "    input_list = []\n",
    "    user_input = int(input())\n",
    "    while sum(input_list) <= maxsum:\n",
    "        input_list.append(user_input)\n",
    "        user_input = int(input())\n",
    "    return input_list"
   ]
  },
  {
   "cell_type": "markdown",
   "id": "79a790c0",
   "metadata": {},
   "source": [
    "**Question 12** : multiplication à la demande\n",
    "\n",
    "Ecrire une fonction ``multiplication_a_la_demande`` qui imprime la table de multiplication de n tant que l'utilisateur dire \"oui\". L'exécution est interrompue avec \"non\", mais pas autrement.\n",
    "\n",
    "**Exemple** :\n",
    "```\n",
    ">>> multiplication_a_la_demande(11)\n",
    "11 * 1 = 11\n",
    "Voulez-vous continuer [oui/non] ? oui\n",
    "11 * 2 = 22\n",
    "Voulez-vous continuer [oui/non] ? oui\n",
    "11 * 3 = 33\n",
    "Voulez-vous continuer [oui/non] ? aze\n",
    "Réponse invalide. Voulez-vous continuer [oui/non] ? MAIS OUI !!!\n",
    "Réponse invalide. Voulez-vous continuer [oui/non] ? oui\n",
    "11 * 4 = 44\n",
    "Voulez-vous continuer [oui/non] ? non j en ai marre\n",
    "Réponse invalide. Voulez-vous continuer [oui/non] ? non\n",
    "D'accord ! Au revoir.\n",
    "```"
   ]
  },
  {
   "cell_type": "code",
   "execution_count": null,
   "id": "fe2777b0",
   "metadata": {},
   "outputs": [],
   "source": [
    "def multiplication_a_la_demande(n):\n",
    "    '''\n",
    "    Print multiplication table of n when the user says \"oui\", \n",
    "    and stops only when the user says \"non\".\n",
    "    '''\n",
    "    user_input = 'oui'\n",
    "    i = 0\n",
    "    while user_input != 'non':\n",
    "        i += 1\n",
    "        print(f'{n} * {i} = {n * i}')\n",
    "        user_input = input('Voulez-vous continuer [oui/non] ? ')\n",
    "        while user_input not in ('oui', 'non'):\n",
    "            user_input = input('Réponse invalide. Voulez-vous continuer [oui/non] ? ')\n",
    "    return"
   ]
  },
  {
   "cell_type": "markdown",
   "id": "f9486259",
   "metadata": {},
   "source": [
    "## Iteration comprimée et functools\n",
    "\n",
    "On veut souvent \"résumer\" les données dans une liste (ou une itérable).\n",
    "\n",
    "**Exemple** : compter le nombre d'occurrence d'un élément"
   ]
  },
  {
   "cell_type": "code",
   "execution_count": 9,
   "id": "c5d34238",
   "metadata": {},
   "outputs": [
    {
     "name": "stdout",
     "output_type": "stream",
     "text": [
      "3\n"
     ]
    }
   ],
   "source": [
    "numlist = [3, 1, 4, 1, 5, 9, 2, 6, 5, 3, 5]\n",
    "count5 = 0\n",
    "\n",
    "for num in numlist:\n",
    "    if num == 5:\n",
    "        count5 += 1\n",
    "\n",
    "print(count5)"
   ]
  },
  {
   "cell_type": "markdown",
   "id": "855621eb",
   "metadata": {},
   "source": [
    "**Exemple** : trouver l'élément pair qui est le plus grand, aussi son indice"
   ]
  },
  {
   "cell_type": "code",
   "execution_count": 10,
   "id": "c4badf54",
   "metadata": {},
   "outputs": [
    {
     "name": "stdout",
     "output_type": "stream",
     "text": [
      "6 7\n"
     ]
    }
   ],
   "source": [
    "numlist = [3, 1, 4, 1, 5, 9, 2, 6, 5, 3, 5]\n",
    "bigeven, idx = -2, -1\n",
    "\n",
    "for i in range(len(numlist)):\n",
    "    if numlist[i] % 2 == 0 and numlist[i] > bigeven:\n",
    "        bigeven, idx = numlist[i], i\n",
    "\n",
    "print(bigeven, idx)"
   ]
  },
  {
   "cell_type": "markdown",
   "id": "edab3971",
   "metadata": {},
   "source": [
    "**Structure générique**\n",
    "\n",
    "```\n",
    "res = initial_value\n",
    "for elem in iterable:\n",
    "    res = accumulator(elem, res)\n",
    "```\n",
    "\n",
    "**Réduction** : une façon simple pour écrire ce code (nécessitant ``functools``!)\n",
    "\n",
    "```\n",
    "from functools import reduce\n",
    "\n",
    "reduce(accumulator, iterable, initial_value)\n",
    "```\n",
    "\n",
    "C'est liée à la _programmation functionnelle_. Encore mieux avec les fonctions anonymes (lambda).\n",
    "\n",
    "Faisons quelques exercices en CC1 avec **reduce** (mais à **NE PAS UTILISER** dans les CC, car extrêmement hors programme...)"
   ]
  },
  {
   "cell_type": "code",
   "execution_count": 11,
   "id": "ee13b9bb",
   "metadata": {},
   "outputs": [
    {
     "data": {
      "text/plain": [
       "[3, 1, 4, 5, 9, 2, 6]"
      ]
     },
     "execution_count": 11,
     "metadata": {},
     "output_type": "execute_result"
    }
   ],
   "source": [
    "from functools import reduce\n",
    "\n",
    "def determine_candidats(lst):\n",
    "    '''\n",
    "    Return the list of candidates, meaning any element that \n",
    "    has appeared at least once \n",
    "    '''\n",
    "    return reduce(lambda clist, x: clist + [x] if x not in clist else clist, lst, [])\n",
    "\n",
    "determine_candidats([3, 1, 4, 1, 5, 9, 2, 6, 5, 3, 5])"
   ]
  },
  {
   "cell_type": "code",
   "execution_count": 14,
   "id": "4e680269",
   "metadata": {},
   "outputs": [
    {
     "data": {
      "text/plain": [
       "[[3, 2], [1, 2], [4, 1], [5, 3], [9, 1], [2, 1], [6, 1]]"
      ]
     },
     "execution_count": 14,
     "metadata": {},
     "output_type": "execute_result"
    }
   ],
   "source": [
    "def decompte_votes(votes, cands):\n",
    "    '''\n",
    "    Return a list of lists of candidates and their number of votes\n",
    "    '''\n",
    "    dlist = []\n",
    "    for c in cands:\n",
    "        cnt = reduce(lambda nvotes, x: nvotes + 1 if x == c else nvotes, votes, 0)\n",
    "        dlist.append([c, cnt])\n",
    "    return dlist\n",
    "\n",
    "numlist\n",
    "\n",
    "decompte_votes(numlist, determine_candidats(numlist))"
   ]
  },
  {
   "cell_type": "code",
   "execution_count": 16,
   "id": "3c0a5230",
   "metadata": {},
   "outputs": [
    {
     "data": {
      "text/plain": [
       "[5, 3]"
      ]
     },
     "execution_count": 16,
     "metadata": {},
     "output_type": "execute_result"
    }
   ],
   "source": [
    "def decide_vainqueur(lst):\n",
    "    '''\n",
    "    Return the candidate with the most votes, and the number of votes\n",
    "    '''\n",
    "    return reduce(lambda x,y : x if x[1] > y[1] else y, lst)\n",
    "\n",
    "\n",
    "decide_vainqueur(decompte_votes(numlist, determine_candidats(numlist)))"
   ]
  },
  {
   "cell_type": "markdown",
   "id": "9d2dcc75",
   "metadata": {},
   "source": [
    "## Fonctions avec cache\n",
    "\n",
    "C'est d'ajouter un cache (une mémoire) sur le résultat de la fonction."
   ]
  },
  {
   "cell_type": "code",
   "execution_count": 17,
   "id": "6ba2d0da",
   "metadata": {},
   "outputs": [],
   "source": [
    "def fib(n):\n",
    "    if n == 0 or n == 1:\n",
    "        return 1\n",
    "    return fib(n - 1) + fib(n - 2)"
   ]
  },
  {
   "cell_type": "code",
   "execution_count": 25,
   "id": "837f6dd7",
   "metadata": {},
   "outputs": [
    {
     "name": "stdout",
     "output_type": "stream",
     "text": [
      "CPU times: user 1.04 s, sys: 0 ns, total: 1.04 s\n",
      "Wall time: 1.04 s\n"
     ]
    },
    {
     "data": {
      "text/plain": [
       "14930352"
      ]
     },
     "execution_count": 25,
     "metadata": {},
     "output_type": "execute_result"
    }
   ],
   "source": [
    "%%time\n",
    "\n",
    "fib(35)"
   ]
  },
  {
   "cell_type": "code",
   "execution_count": 29,
   "id": "e7fb8cf0",
   "metadata": {},
   "outputs": [],
   "source": [
    "from functools import cache\n",
    "\n",
    "@cache\n",
    "def fib_cache(n):\n",
    "    if n == 0 or n == 1:\n",
    "        return 1\n",
    "    return fib_cache(n - 1) + fib_cache(n - 2)"
   ]
  },
  {
   "cell_type": "code",
   "execution_count": 36,
   "id": "df3d67bf",
   "metadata": {},
   "outputs": [
    {
     "name": "stdout",
     "output_type": "stream",
     "text": [
      "CPU times: user 1.02 ms, sys: 0 ns, total: 1.02 ms\n",
      "Wall time: 1.03 ms\n"
     ]
    },
    {
     "data": {
      "text/plain": [
       "6835702259575806647045396549170580107055408029365524565407553367798082454408054014954534318953113802726603726769523447478238192192714526677939943338306101405105414819705664090901813637296453767095528104868264704914433529355579148731044685634135487735897954629842516947101494253575869699893400976539545740214819819151952085089538422954565146720383752121972115725761141759114990448978941370030912401573418221496592822626"
      ]
     },
     "execution_count": 36,
     "metadata": {},
     "output_type": "execute_result"
    }
   ],
   "source": [
    "%%time\n",
    "\n",
    "fib_cache(2000)"
   ]
  },
  {
   "cell_type": "markdown",
   "id": "2b547080",
   "metadata": {},
   "source": [
    "## Listes en compréhension\n",
    "\n",
    "On veut souvent construire des nouvelles listes à partir d'une ancienne.\n",
    "\n",
    "**Exemple** : Extraction des éléments pairs"
   ]
  },
  {
   "cell_type": "code",
   "execution_count": null,
   "id": "23d67d94",
   "metadata": {},
   "outputs": [],
   "source": [
    "numlist = [3, 1, 4, 1, 5, 9, 2, 6, 5, 3, 5]\n",
    "evenlist = []\n",
    "\n",
    "for num in numlist:\n",
    "    if num % 2 == 0:\n",
    "        evenlist.append(num)\n",
    "\n",
    "print(evenlist)"
   ]
  },
  {
   "cell_type": "markdown",
   "id": "3aefa8d8",
   "metadata": {},
   "source": [
    "**Exemple** : Extraction et conversion des nombres"
   ]
  },
  {
   "cell_type": "code",
   "execution_count": null,
   "id": "011e2a75",
   "metadata": {},
   "outputs": [],
   "source": [
    "strlist = ['Ce', 'bibliothèque', 'contient', '60000', 'ouvrage', 'dont', '56000', 'sont', 'en', 'maths']\n",
    "numlist = []\n",
    "\n",
    "for elem in strlist:\n",
    "    if elem.isdigit():\n",
    "        numlist.append(int(elem))\n",
    "\n",
    "print(numlist)"
   ]
  },
  {
   "cell_type": "markdown",
   "id": "c8ab8f8b",
   "metadata": {},
   "source": [
    "**Structure générique**\n",
    "\n",
    "```python\n",
    "for elem in oldlist:\n",
    "    if cond: # related to elem, but also possibly external data\n",
    "        newlist.append(processing_function(elem))\n",
    "```\n",
    "\n",
    "**Compréhension de liste** : une façon simple d'écrire du code\n",
    "```python\n",
    "newlist = [processing_function(elem) for elem in oldlist if cond]\n",
    "```\n",
    "\n",
    "La variable ``oldlist`` pourrait être n'importe quel **itérable** !!"
   ]
  },
  {
   "cell_type": "code",
   "execution_count": 37,
   "id": "696043e2",
   "metadata": {},
   "outputs": [
    {
     "name": "stdout",
     "output_type": "stream",
     "text": [
      "[4, 2, 6]\n"
     ]
    }
   ],
   "source": [
    "numlist = [3, 1, 4, 1, 5, 9, 2, 6, 5, 3, 5]\n",
    "evenlist = [e for e in numlist if e % 2 == 0]\n",
    "\n",
    "print(evenlist)"
   ]
  },
  {
   "cell_type": "code",
   "execution_count": 38,
   "id": "a929a3bf",
   "metadata": {},
   "outputs": [
    {
     "name": "stdout",
     "output_type": "stream",
     "text": [
      "[60000, 56000]\n"
     ]
    }
   ],
   "source": [
    "strlist = ['Ce', 'bibliothèque', 'contient', '60000', 'ouvrage', 'dont', \n",
    "           '56000', 'sont', 'en', 'maths']\n",
    "numlist = [int(e) for e in strlist if e.isdigit()]\n",
    "\n",
    "print(numlist)"
   ]
  },
  {
   "cell_type": "code",
   "execution_count": 39,
   "id": "dcf5906a",
   "metadata": {},
   "outputs": [
    {
     "name": "stdout",
     "output_type": "stream",
     "text": [
      "[[1, 0, 0, 0], [0, 0, 0, 0], [0, 0, 0, 0], [0, 0, 0, 0]]\n"
     ]
    }
   ],
   "source": [
    "lst = [[0] * 4 for _ in range(4)]\n",
    "lst[0][0] = 1\n",
    "\n",
    "print(lst)"
   ]
  },
  {
   "cell_type": "markdown",
   "id": "0425db99",
   "metadata": {},
   "source": [
    "## Shapefile et PyShp\n",
    "\n",
    "On lit les shapefiles par [pyshp](https://github.com/GeospatialPython/pyshp) (``import shapefile``) en Python\n",
    "\n",
    "- Installation : ``pip install pyshp``\n",
    "- Lecture : ``sf = shapefile.Reader('le/repertoire/qui/contient/les/fichier/')``\n",
    "- Les méthodes utiles pour un shapefile.Reader : \n",
    "    - ``sf.records()`` : retourner une liste des informations reliées aux shapes\n",
    "    - ``sf.shapes()`` : retourner une liste des shapes\n",
    "    - ``sf.shape(index)`` : retourner le shape d'indice ``index``\n",
    "- Lecture de shape : ``shp = sf.shape(index)``\n",
    "- Les données utiles dans un shape :\n",
    "    - ``shp.bbox()`` : le bounding box ``[longitude_min, latitude_min, longitude_max, latitude_max]``\n",
    "    - ``shp.points()`` : une liste des points des polygônes (il peut y avoir plusieurs)\n",
    "    - ``shp.parts()`` : une liste d'indices où chaque polygône commence"
   ]
  },
  {
   "cell_type": "markdown",
   "id": "037a5b42",
   "metadata": {},
   "source": [
    "## Session de questions pour Problème 4 (ou d'autres choses)\n",
    "\n",
    "- Mon affichage est à l'envers, que fait-on ?\n",
    "- ???"
   ]
  }
 ],
 "metadata": {
  "kernelspec": {
   "display_name": "Python 3 (ipykernel)",
   "language": "python",
   "name": "python3"
  },
  "language_info": {
   "codemirror_mode": {
    "name": "ipython",
    "version": 3
   },
   "file_extension": ".py",
   "mimetype": "text/x-python",
   "name": "python",
   "nbconvert_exporter": "python",
   "pygments_lexer": "ipython3",
   "version": "3.11.6"
  }
 },
 "nbformat": 4,
 "nbformat_minor": 5
}
