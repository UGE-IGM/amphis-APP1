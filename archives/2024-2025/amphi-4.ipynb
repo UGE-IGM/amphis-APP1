{
 "cells": [
  {
   "cell_type": "markdown",
   "id": "39cc0b74",
   "metadata": {},
   "source": [
    "# APP1 — Problème 2 — Amphi n° 4"
   ]
  },
  {
   "cell_type": "markdown",
   "id": "6ecb65c3",
   "metadata": {},
   "source": [
    "## Rappels\n",
    "\n",
    "- Salles libre-service + tutorat tous les jours 12h45 - 14h, Ader 106 à partir d'aujourd'hui\n",
    "- Prochaine semaine de projet (en autonomie) la semaine du 11/11\n",
    "- Prochaine semaine de projet + remédiation la semaine du 18/11\n",
    "- CC0 le **10 octobre à 10h45, amphi A1**. Programme : tout jusqu'aux fonctions\n",
    "- Vacances de la Toussaint la semaine du 26/10\n",
    "- CC1 le **4 novembre à 13h, amphis A1, A2, A5**"
   ]
  },
  {
   "cell_type": "markdown",
   "id": "a6b8bd10",
   "metadata": {},
   "source": [
    "\n",
    "![calendrier2024-S1-AP-PR1.png](img/calendrier2024-S1-AP-PR1.png)"
   ]
  },
  {
   "cell_type": "markdown",
   "id": "709d49fd",
   "metadata": {
    "vscode": {
     "languageId": "plaintext"
    }
   },
   "source": [
    "## Discussions et questions générales"
   ]
  },
  {
   "cell_type": "markdown",
   "id": "9164df42",
   "metadata": {},
   "source": [
    "\n",
    "### Vos avis sur la séquence 1\n",
    "\n",
    "*Sujet, déroulement de la séquence, dynamique des équipes, difficulté, démo, évaluation...*\n",
    "\n",
    "**Premiers éléments :** dépouillement du questionnaire"
   ]
  },
  {
   "cell_type": "markdown",
   "id": "05b69b31",
   "metadata": {
    "vscode": {
     "languageId": "plaintext"
    }
   },
   "source": [
    "### Quelques suggestions\n",
    "\n",
    "- Commencer par une réflexion \"sans ordinateur\" pour\n",
    "    - Délimiter les grandes tâches\n",
    "    - Attribuer des responsabilités dans le groupe\n",
    "\n",
    "- Plusieurs façons de contribuer à un projet :\n",
    "    - Réflexion, croquis, algorithmes\n",
    "    - Lecture de documentation, recherche sur les forums\n",
    "    - Tests préliminaires, prototypes\n",
    "    - Mise au propre du code, relecture\n",
    "    - Conception d'interface utilisateur\n",
    "    - Préparation de ressources (images, fichiers...)\n",
    "    - Écriture de documentation\n",
    "    - Gourou Git :-)\n",
    "\n",
    "- STRUCTURER LE PROGRAMME À L'AIDE DE **FONCTIONS** !!!\n",
    "    - Chaque fonction doit avoir un rôle clair (même avant d'être écrite)\n",
    "    - Une fonction peut être programmée et **testée** seule\n",
    "    - Une fois une tâche terminée, facile à intégrer dans le reste\n",
    "\n",
    "- S'entraider, communiquer\n",
    "    - Ne pas laisser durer un blocage\n",
    "    - Faire des `git commit` et `git push` suffisamment fréquents, et prévenir les autres\n",
    "    - Vérifier souvent qu'on avance dans la bonne direction"
   ]
  },
  {
   "cell_type": "markdown",
   "id": "32c728c7",
   "metadata": {},
   "source": [
    "## Sujets du jour\n",
    "\n",
    "- Lecture commentée du problème 2\n",
    "- Un aperçu du cours d'AP1\n",
    "- Un aperçu des précédents CC0\n",
    "- Élément de cours : représentation des listes (et listes de listes) en mémoire\n",
    "    - Exercice : fabriquer une matrice $m \\times n$ remplie de 0\n",
    "- Élément de cours : quelques rappels sur les dictionnaires\n",
    "    - Exercice : compter le nombre d'occurrences de chaque lettre dans une chaîne avec un dictionnaire\n",
    "    - Exercice : inverser les clés et les valeurs d'un dictionnaire.\n",
    "- *à compléter par vos propositions ou besoins*\n",
    "\n",
    "Déjà traités :\n",
    "\n",
    "- ~~Un mot sur les bonnes pratiques de programmation~~\n",
    "- ~~Exo d'entraînement : afficher une grille carrée en `fltk`~~\n",
    "- ~~Exo d'entraînement : récupérer un clic sur la grille et déterminer sa case~~\n",
    "- ~~Travailler sur un fichier texte dans un programme~~\n",
    "- ~~Exo d'entraînement : conversions entre bases sur les entiers~~\n",
    "- ~~Comment traiter les paramètres en ligne de commande d'un programme ?~~\n",
    "- ~~Chaînes de documentation (docstrings) contenant des tests (doctests)~~"
   ]
  },
  {
   "cell_type": "markdown",
   "id": "0575cf15",
   "metadata": {},
   "source": []
  }
 ],
 "metadata": {
  "kernelspec": {
   "display_name": "Python 3 (ipykernel)",
   "language": "python",
   "name": "python3"
  },
  "language_info": {
   "codemirror_mode": {
    "name": "ipython",
    "version": 3
   },
   "file_extension": ".py",
   "mimetype": "text/x-python",
   "name": "python",
   "nbconvert_exporter": "python",
   "pygments_lexer": "ipython3",
   "version": "3.12.3"
  }
 },
 "nbformat": 4,
 "nbformat_minor": 5
}
