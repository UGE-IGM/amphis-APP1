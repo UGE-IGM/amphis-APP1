{
 "cells": [
  {
   "cell_type": "markdown",
   "id": "12e35ded",
   "metadata": {},
   "source": [
    "# Exercice sur les listes : ensembles finis\n"
   ]
  },
  {
   "cell_type": "markdown",
   "id": "bf983bcb",
   "metadata": {},
   "source": [
    "\n",
    "## Type de données abstrait\n"
   ]
  },
  {
   "cell_type": "markdown",
   "id": "afb7ec11",
   "metadata": {},
   "source": [
    "\n",
    "On souhaite créer des structures de données en Python et les fonctions associées pour manipuler des **ensembles** de valeurs (supposés de même type, et *comparables* deux à deux). On veut pouvoir :\n",
    "\n",
    "- créer un ensemble vide : `ensemble_vide()`\n",
    "- ajouter un élément à un ensemble : `ajoute(ensemble, elem)`\n",
    "- déterminer si un ensemble contient un élément donné : `contient(ensemble, elem)`\n",
    "\n",
    "De plus, on voudrait pouvoir comparer et combiner des ensembles entre eux :\n",
    "\n",
    "- déterminer si un ensemble est inclus dans un autre : `inclus_dans(ens1, ens2)`\n",
    "- calculer la réunion de deux ensembles : `union(ens1, ens2)`\n",
    "- calculer l'intersection de deux ensembles : `intersection(ens1, ens2)`\n",
    "- calculer la différence de deux ensembles : `difference(ens1, ens2)`\n",
    "\n",
    "On appelle ce genre de spécification un **type abstrait de données** (abstrait parce qu'on ne précise pas comment on l'implémente !)\n"
   ]
  },
  {
   "cell_type": "markdown",
   "id": "60a8098d",
   "metadata": {},
   "source": [
    "\n",
    "## Idées d'implémentation\n"
   ]
  },
  {
   "cell_type": "markdown",
   "id": "bb44fd2b",
   "metadata": {},
   "source": [
    "\n",
    "Quelles implémentations possibles ?\n",
    "\n",
    "- Avec une liste (ordinaire) sans doublon\n",
    "- Avec une liste **triée** sans doublon\n",
    "\n",
    "**En Python :** type `set`, *tables de hachage* (avec plein d'optimisations) → plus tard dans le cursus...\n"
   ]
  },
  {
   "cell_type": "markdown",
   "id": "3fbaf01c",
   "metadata": {},
   "source": [
    "## Code\n"
   ]
  },
  {
   "cell_type": "markdown",
   "id": "dac5a4f8",
   "metadata": {},
   "source": [
    "\n",
    "Pour chacune des implémentations envisagées ci-dessus, écrire l'ensemble des fonctions de la spécification du type abstrait *ensemble*."
   ]
  },
  {
   "cell_type": "code",
   "execution_count": 11,
   "id": "1617c164-4518-44ef-b5eb-06f82d33ba09",
   "metadata": {},
   "outputs": [],
   "source": [
    "def inclus_dans(un, deux):\n",
    "    i, j = 0, 0\n",
    "    while i < len(un) and j < len(deux):\n",
    "        if un[i] < deux[j]:\n",
    "            return False\n",
    "        elif un[i] == deux[j]:\n",
    "            i += 1\n",
    "            j += 1\n",
    "        else:  # un[i] > deux[j]\n",
    "            j += 1\n",
    "    return i == len(un)"
   ]
  },
  {
   "cell_type": "code",
   "execution_count": 15,
   "id": "320186b1-9c74-469b-b304-ebac2963f0ad",
   "metadata": {},
   "outputs": [
    {
     "data": {
      "text/plain": [
       "False"
      ]
     },
     "execution_count": 15,
     "metadata": {},
     "output_type": "execute_result"
    }
   ],
   "source": [
    "inclus_dans([1, 3, 3.4, 5], [1, 2, 3, 4, 5])"
   ]
  },
  {
   "cell_type": "code",
   "execution_count": 6,
   "id": "72764f46-229a-4ccd-aab9-7ecfefc16d1b",
   "metadata": {},
   "outputs": [],
   "source": [
    "def union(un, deux):\n",
    "    i, j = 0, 0\n",
    "    res = []\n",
    "    while i < len(un) and j < len(deux):\n",
    "        if un[i] < deux[j]:\n",
    "            res.append(un[i])\n",
    "            i += 1\n",
    "        elif un[i] == deux[j]:\n",
    "            res.append(un[i])\n",
    "            i += 1\n",
    "            j += 1\n",
    "        else:  # un[i] > deux[j]\n",
    "            res.append(deux[j])\n",
    "            j += 1\n",
    "    for k in range(i, len(un)):\n",
    "        res.append(un[k])\n",
    "    for k in range(j, len(deux)):\n",
    "        res.append(deux[k])\n",
    "    return res"
   ]
  },
  {
   "cell_type": "code",
   "execution_count": 16,
   "id": "dc7ffbd0-fb8c-44b8-9f74-6657e7a06d24",
   "metadata": {},
   "outputs": [],
   "source": [
    "def intersection(un, deux):\n",
    "    i, j = 0, 0\n",
    "    res = []\n",
    "    while i < len(un) and j < len(deux):\n",
    "        if un[i] < deux[j]:\n",
    "            i += 1\n",
    "        elif un[i] == deux[j]:\n",
    "            res.append(un[i])\n",
    "            i += 1\n",
    "            j += 1\n",
    "        else:  # un[i] > deux[j]\n",
    "            j += 1\n",
    "    return res"
   ]
  },
  {
   "cell_type": "code",
   "execution_count": 18,
   "id": "62b52e6e-6f40-4e21-a638-0601ce400555",
   "metadata": {},
   "outputs": [
    {
     "data": {
      "text/plain": [
       "[3, 9]"
      ]
     },
     "execution_count": 18,
     "metadata": {},
     "output_type": "execute_result"
    }
   ],
   "source": [
    "intersection([1, 2, 3, 9, 17], [-5, 3, 3.6, 9, 122, 123])"
   ]
  },
  {
   "cell_type": "code",
   "execution_count": 17,
   "id": "48af41b3-f91f-4a8c-80e8-acfaf8efc2ff",
   "metadata": {},
   "outputs": [
    {
     "data": {
      "text/plain": [
       "[3, 9]"
      ]
     },
     "execution_count": 17,
     "metadata": {},
     "output_type": "execute_result"
    }
   ],
   "source": [
    "intersection([-5, 3, 3.6, 9, 122, 123], [1, 2, 3, 9, 17])"
   ]
  },
  {
   "cell_type": "code",
   "execution_count": 7,
   "id": "232f445e-62f3-46e9-aed2-59fd3f853392",
   "metadata": {},
   "outputs": [
    {
     "data": {
      "text/plain": [
       "[-5, 1, 2, 3, 3.6, 9, 17, 122, 123]"
      ]
     },
     "execution_count": 7,
     "metadata": {},
     "output_type": "execute_result"
    }
   ],
   "source": [
    "union([1, 2, 3, 9, 17], [-5, 3, 3.6, 9, 122, 123])"
   ]
  },
  {
   "cell_type": "code",
   "execution_count": 8,
   "id": "98a2f011-fae1-4bf2-8368-aaa115df3a35",
   "metadata": {},
   "outputs": [
    {
     "data": {
      "text/plain": [
       "[-5, 1, 2, 3, 3.6, 9, 17, 122, 123]"
      ]
     },
     "execution_count": 8,
     "metadata": {},
     "output_type": "execute_result"
    }
   ],
   "source": [
    "union([-5, 3, 3.6, 9, 122, 123], [1, 2, 3, 9, 17])"
   ]
  },
  {
   "cell_type": "code",
   "execution_count": 23,
   "id": "8675203d-1e90-4e07-94d0-92f04155790d",
   "metadata": {},
   "outputs": [
    {
     "name": "stdout",
     "output_type": "stream",
     "text": [
      "None\n"
     ]
    }
   ],
   "source": [
    "def bip(z):\n",
    "    return z.append('bip')\n",
    "\n",
    "x = ['bop']\n",
    "x = bip(x)\n",
    "print(x)"
   ]
  },
  {
   "cell_type": "code",
   "execution_count": 24,
   "id": "bdd36711-224f-4c3a-a59a-c17a143adea8",
   "metadata": {},
   "outputs": [],
   "source": [
    "def suite(n):\n",
    "    if n == 0:\n",
    "        return 1\n",
    "    elif n%2 == 0:\n",
    "        return n * suite(n-1)\n",
    "    else :\n",
    "        return 1 + n - suite(n-1)"
   ]
  },
  {
   "cell_type": "code",
   "execution_count": 25,
   "id": "8f69b9f7-96f6-4a65-ab6f-c39b577c01f2",
   "metadata": {},
   "outputs": [
    {
     "name": "stdout",
     "output_type": "stream",
     "text": [
      "0 1\n",
      "1 1\n",
      "2 2\n",
      "3 2\n",
      "4 8\n",
      "5 -2\n"
     ]
    }
   ],
   "source": [
    "for i in range(6):\n",
    "    print(i, suite(i))"
   ]
  },
  {
   "cell_type": "code",
   "execution_count": null,
   "id": "fe048e4e-437e-49d4-9bd2-4e30e65e5b1e",
   "metadata": {},
   "outputs": [],
   "source": []
  }
 ],
 "metadata": {
  "kernelspec": {
   "display_name": "Python 3 (ipykernel)",
   "language": "python",
   "name": "python3"
  },
  "language_info": {
   "codemirror_mode": {
    "name": "ipython",
    "version": 3
   },
   "file_extension": ".py",
   "mimetype": "text/x-python",
   "name": "python",
   "nbconvert_exporter": "python",
   "pygments_lexer": "ipython3",
   "version": "3.12.3"
  }
 },
 "nbformat": 4,
 "nbformat_minor": 5
}
