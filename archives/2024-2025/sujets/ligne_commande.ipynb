{
 "cells": [
  {
   "cell_type": "markdown",
   "metadata": {},
   "source": [
    "# Lancement d’un programme en ligne de commande\n",
    "\n",
    "Dans un système de type UNIX / Linux etc. on travaille beaucoup en *ligne de commande* (ou \"terminal\")\n",
    "\n",
    "Pour manier Git *et* pour lancer vos programmes, vous devez apprendre à vous en servir\n",
    "\n",
    "**Démo :** le programme `cat`\n",
    "\n",
    "On peut aussi créer ses propres programmes en ligne de commande en Python\n",
    "([doc officielle Python](https://docs.python.org/fr/3/tutorial/stdlib.html#command-line-arguments)).\n",
    "\n",
    "Pour une gestion plus avancée des paramètres de programmes : module [argparse](https://docs.python.org/3/howto/argparse.html#argparse-tutorial)"
   ]
  },
  {
   "cell_type": "markdown",
   "metadata": {},
   "source": [
    "### Exercices\n",
    "\n",
    "1.  Écrire un programme en ligne de commande qui affiche ses arguments sur le terminal (ligne par ligne)"
   ]
  },
  {
   "cell_type": "markdown",
   "metadata": {},
   "source": [
    "2.  Écrire un programme en ligne de commande qui reçoit en paramètre le nom d'un fichier texte et affiche son contenu sous forme de liste de liste de mots"
   ]
  },
  {
   "cell_type": "markdown",
   "metadata": {},
   "source": [
    "3.  Écrire un programme en ligne de commande qui reçoit en paramètre un mot et le nom d'un fichier et affiche la liste des lignes du fichier qui contiennent ce mot"
   ]
  }
 ],
 "metadata": {
  "kernelspec": {
   "display_name": "Python 3 (ipykernel)",
   "language": "python",
   "name": "python3"
  },
  "language_info": {
   "codemirror_mode": {
    "name": "ipython",
    "version": 3
   },
   "file_extension": ".py",
   "mimetype": "text/x-python",
   "name": "python",
   "nbconvert_exporter": "python",
   "pygments_lexer": "ipython3",
   "version": "3.12.3"
  }
 },
 "nbformat": 4,
 "nbformat_minor": 4
}
