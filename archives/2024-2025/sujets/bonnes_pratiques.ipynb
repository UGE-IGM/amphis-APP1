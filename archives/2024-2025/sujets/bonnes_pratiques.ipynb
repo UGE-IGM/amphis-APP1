{
 "cells": [
  {
   "cell_type": "markdown",
   "metadata": {},
   "source": [
    "# Style et bonnes pratiques"
   ]
  },
  {
   "cell_type": "markdown",
   "metadata": {},
   "source": [
    "## Structure d'ensemble d'un programme\n",
    "\n",
    "Fichier principal :\n",
    "\n",
    "> ```python\n",
    "> # En tête de fichier : documentation du module\n",
    "> \"\"\"\n",
    "> Module peu intéressant mais bien structuré.\n",
    "> Auteur : anonyme.\n",
    "> \"\"\"\n",
    "> \n",
    "> # Imports\n",
    "> from foo import bar, baz\n",
    "> import mymodule\n",
    "> \n",
    "> # Définition de variables globales (au moins les constantes !)\n",
    "> largeur_fenetre = 800\n",
    "> hauteur_fenetre = 600\n",
    "> \n",
    "> # Définitions de fonctions et classes\n",
    "> def f1(a, b, c):\n",
    ">     \"\"\"Renvoie un truc.\"\"\"\n",
    ">     ...\n",
    ">     return \"un truc\"\n",
    "> \n",
    "> def main():\n",
    ">     print(f1(1, 2, 3))\n",
    "> \n",
    "> # Fin de fichier : programme principal\n",
    "> if __name__ == \"__main__\":\n",
    ">     main()\n",
    "> ```\n",
    "\n",
    "Fichiers de bibliothèques (ici `foo`, `baz`, `mymodule`) : modules prédéfinis ou tiers, ou modules faisant partie du projet, ayant la même structure (éventuellement sans programme principal)"
   ]
  },
  {
   "cell_type": "markdown",
   "metadata": {},
   "source": [
    "#### PEP 8 — *Style guide for Python code*\n",
    "\n",
    "Le plus important : être *cohérent* (surtout à l'échelle d'une fonction ou d'un fichier)\n",
    "\n",
    "https://pep8.org/"
   ]
  },
  {
   "cell_type": "markdown",
   "metadata": {},
   "source": [
    "#### PEP 257 — Docstring conventions\n",
    "\n",
    "Comment décrire à quoi sert chaque fonction dans une chaîne de documentation ?\n",
    "\n",
    "https://www.python.org/dev/peps/pep-0257/"
   ]
  },
  {
   "cell_type": "markdown",
   "metadata": {},
   "source": [
    "#### Tests interactifs dans la documentation\n",
    "\n",
    "https://docs.python.org/fr/3/library/doctest.html"
   ]
  },
  {
   "cell_type": "markdown",
   "metadata": {},
   "source": [
    "#### Outils de contrôle de style\n",
    "\n",
    "https://github.com/klen/pylama  \n",
    "https://pylavadocs.readthedocs.io/en/latest/  \n",
    "etc."
   ]
  }
 ],
 "metadata": {
  "language_info": {
   "name": "python"
  }
 },
 "nbformat": 4,
 "nbformat_minor": 2
}
