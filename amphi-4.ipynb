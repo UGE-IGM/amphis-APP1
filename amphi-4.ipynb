{
 "cells": [
  {
   "cell_type": "markdown",
   "id": "ff0db9bf",
   "metadata": {
    "slideshow": {
     "slide_type": "slide"
    }
   },
   "source": [
    "# APP1 — Amphi 4"
   ]
  },
  {
   "cell_type": "markdown",
   "id": "20a1668b",
   "metadata": {},
   "source": [
    "## Retour sur le questionnaire de suivi\n",
    "\n",
    "- **Réponse reçues** : 35\n",
    "- **Déroulement du cours** : Majoritairement content (70%)\n",
    "- **Rythme** : Tout juste (65%) -- un peu rapide (23%)\n",
    "- **Soutien** : Suffisant (75%)\n",
    "- **Niveau de Python** : Suffisant (70%)\n",
    "- **Apprentissage** : Un peu (40%) -- Pas mal (30%)\n",
    "- **Git** : Difficulté mineur (50%) -- Difficulté majeur (17%) -- Pas du tout (11%)\n",
    "- **Collaboration** : Adéquat (80%)\n",
    "- **Soutenance** : Pas très bien (17%) -- Tout va bien (50%) -- Très bien (25%)"
   ]
  },
  {
   "cell_type": "markdown",
   "id": "02fb3bf4",
   "metadata": {},
   "source": [
    "## Difficulté rencontrée\n",
    "\n",
    "- Travailler en plusieurs (communication, partage de travail, etc.)\n",
    "- Trop d'autonomie requise\n",
    "- Rythme un peu trop rapide\n",
    "- Ne pas savoir où s'arrêter"
   ]
  },
  {
   "cell_type": "markdown",
   "id": "a7eca001",
   "metadata": {},
   "source": [
    "## Quelques suggestions\n",
    "\n",
    "- Parler plus dans l'équipe, échanger votre Discord, envoyer des mails, etc.\n",
    "- On forme aussi l'autonomie. Pourtant vous pouvez poser toutes question que vous voulez !\n",
    "- Une recherche en ligne est souvent utile.\n",
    "- Travailler aussi pendant les séances (quand vous n'avez pas de cours)\n",
    "- Travailler à votre rythme. On demande la partie obligatoire et un peu d'extra dans la direction que vous voulez"
   ]
  },
  {
   "cell_type": "markdown",
   "id": "afcb942d",
   "metadata": {},
   "source": [
    "## Vos avis et suggestions\n",
    "\n",
    "En général c'est positive. Voici quelques avis d'amélioration :\n",
    "\n",
    "- Formation d'équipes non aléatoire (même niveau, à votre choix, ...)\n",
    "- Documentation fltk bien, mais à améliorer sur la gestion d'évènements...\n",
    "- Evaluation pas assez claire\n",
    "- Un peu de cours théoriques sur certains points"
   ]
  },
  {
   "cell_type": "markdown",
   "id": "e27ba81d",
   "metadata": {
    "slideshow": {
     "slide_type": "slide"
    }
   },
   "source": [
    "## Vos questions"
   ]
  },
  {
   "cell_type": "markdown",
   "id": "20b9197a",
   "metadata": {
    "slideshow": {
     "slide_type": "-"
    }
   },
   "source": [
    "???"
   ]
  },
  {
   "cell_type": "markdown",
   "id": "eb593150",
   "metadata": {
    "slideshow": {
     "slide_type": "slide"
    }
   },
   "source": [
    "## Mes questions"
   ]
  },
  {
   "cell_type": "markdown",
   "id": "8d94c892",
   "metadata": {
    "slideshow": {
     "slide_type": "-"
    }
   },
   "source": [
    "Comment décrire à quelqu'un le modèle de mémoire de Python ?\n",
    "\n",
    "- Pas faite à la main (abstraite par l'interpréteur)\n",
    "- On manipule tous les objets par le biais de références (\"flèches\")\n",
    "- Toutes les valeurs / les objets sont dans le \"tas\"\n",
    "- Chaque objet (du tas) possède un type\n",
    "- **Pas** deux sortes de types : par valeur et par référence (*vrai dans d'autres langages comme Java*)\n",
    "- Pas de déclaration séparée nécessaire\n",
    "\n"
   ]
  },
  {
   "cell_type": "markdown",
   "id": "5cdc0b74",
   "metadata": {
    "slideshow": {
     "slide_type": "-"
    }
   },
   "source": [
    "De quoi a-t-on besoin pour spécifier entièrement le comportement d'une fonction ?\n",
    "\n",
    "- Quel est son nom ?\n",
    "- Quels sont les arguments, leur type... ?\n",
    "- Quels facteurs extérieurs influencent la fonction (*causes secondaires*) ?\n",
    "- Quels effets secondaires ou *effets de bord* (affichage, lecture fichier, exceptions, \"dessin\", modification de valeurs mutables, etc.)\n",
    "- Que renvoie la fonction ?\n",
    "- \"Qu'est-ce qu'elle fait ?\" (par exemple sous forme de documentation)"
   ]
  },
  {
   "cell_type": "markdown",
   "id": "f6d0623d",
   "metadata": {},
   "source": [
    "Un site utile : [Online Python Tutor](https://pythontutor.com/visualize.html#mode=edit)"
   ]
  },
  {
   "cell_type": "code",
   "execution_count": 30,
   "id": "6e53bede",
   "metadata": {
    "slideshow": {
     "slide_type": "slide"
    }
   },
   "outputs": [
    {
     "name": "nbtutor",
     "output_type": "stream",
     "text": []
    }
   ],
   "source": [
    "def essai(nimp):\n",
    "    nimp += 1\n",
    "    \n",
    "victime = 1\n",
    "essai(victime)\n",
    "victime"
   ]
  },
  {
   "cell_type": "code",
   "execution_count": 32,
   "id": "6692d344",
   "metadata": {
    "slideshow": {
     "slide_type": "slide"
    }
   },
   "outputs": [
    {
     "name": "nbtutor",
     "output_type": "stream",
     "text": []
    }
   ],
   "source": [
    "def essai(nimp):\n",
    "    nimp.append(1)\n",
    "    \n",
    "victime = [3, 2]\n",
    "essai(victime)\n",
    "victime"
   ]
  },
  {
   "cell_type": "code",
   "execution_count": null,
   "id": "bb9e7362",
   "metadata": {},
   "outputs": [],
   "source": []
  }
 ],
 "metadata": {
  "celltoolbar": "Visualize",
  "kernelspec": {
   "display_name": "Python 3 (ipykernel)",
   "language": "python",
   "name": "python3"
  },
  "language_info": {
   "codemirror_mode": {
    "name": "ipython",
    "version": 3
   },
   "file_extension": ".py",
   "mimetype": "text/x-python",
   "name": "python",
   "nbconvert_exporter": "python",
   "pygments_lexer": "ipython3",
   "version": "3.10.6"
  }
 },
 "nbformat": 4,
 "nbformat_minor": 5
}
