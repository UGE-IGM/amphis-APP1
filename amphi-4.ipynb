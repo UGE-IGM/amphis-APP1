{
 "cells": [
  {
   "cell_type": "markdown",
   "id": "39cc0b74",
   "metadata": {},
   "source": [
    "# APP1 — Problème 2 — Amphi n° 4"
   ]
  },
  {
   "cell_type": "markdown",
   "id": "6ecb65c3",
   "metadata": {},
   "source": [
    "## Point sur le calendrier\n",
    "\n",
    "- Octobre : entièrement consacré au problème 2 (plus une semaine de vacances)\n",
    "- À la rentrée (3/11) : semaine de CC 1, puis semaine en autonomie (pas de cours d'info) puis semaine de Projet1\n",
    "- Problème 3 APP1 : du 24/11 au 12/12"
   ]
  },
  {
   "cell_type": "markdown",
   "id": "67821b11",
   "metadata": {
    "vscode": {
     "languageId": "plaintext"
    }
   },
   "source": [
    "## Retour sur les objectifs d'apprentissage en APP1\n",
    "\n",
    "Idéalement, voilà ce qu'on souhaiterait que vous sachiez faire à la fin du\n",
    "module :\n",
    "\n",
    "### Résolution de problème\n",
    "\n",
    "- **Analyse :** Lire attentivement un énoncé, analyser et comprendre un problème\n",
    "  ;\n",
    "- **Recherche d'information :** Faire des recherches documentaires (manuels,\n",
    "  wikipedia, tutoriels, forums, vidéos, cours magistraux d'AP1 ou APP1, etc.) ;\n",
    "  demander de l'assistance (enseignants, autres étudiants, IA générative) ;\n",
    "  synthétiser et conserver les informations utiles (prise de notes) ;\n",
    "- **Stratégie de résolution :** Fournir des pistes de résolution ; imaginer une\n",
    "  architecture ; décomposer le problème en sous-problèmes plus simples ;\n",
    "  formuler les tâches à accomplir, les ordonnancer et les répartir entre les\n",
    "  membres selon leur difficulté et leur longueur estimées.\n",
    "\n",
    "### Algorithmique et programmation\n",
    "\n",
    "- **Modélisation :** Participer au choix des types et structures de données\n",
    "  appropriées pour représenter les éléments du projet ;\n",
    "- **Spécification :** Participer au découpage des tâches en fonctions bien\n",
    "  spécifiées, notamment en termes de paramètres, résultats et autres effets\n",
    "  éventuels ;\n",
    "- **Algorithmique :** Mettre au point ou participer activement à la mise au\n",
    "  point des algorithmes nécessaires au projet, en favorisant la simplicité ;\n",
    "- **Programmation :** Réaliser ou contribuer activement à la réalisation d'une\n",
    "  tâche spécifique ; respecter les pratiques de programmation recommandées\n",
    "  (structuration, documentation, modularité, etc.) ;\n",
    "\n",
    "### Posture au sein de l'équipe\n",
    "\n",
    "- **Adaptation :** S'adapter aux choix de l'équipe et aux réalisations déjà\n",
    "  proposées par les autres membres ; proposer (en non imposer) des correctifs ou\n",
    "  des améliorations le cas échéant.\n",
    "- **Responsabilité :** Partager la responsabilité de l'avancée régulière du\n",
    "  travail, participer aux décisions stratégiques (fonctionnalités prioritaires,\n",
    "  choix de design, etc.), respecter ses engagements, annoncer d'éventuelles\n",
    "  difficultés rapidement ;\n",
    "- **Compétences sociales :** Favoriser solidarité et bonne atmosphère de travail\n",
    "  au sein de l'équipe.\n",
    "\n",
    "### Compétences complémentaires\n",
    "\n",
    "- **Gestion du temps :** Gérer son temps, être disponible et réactif, mettre son\n",
    "  travail à la disposition de ses partenaires (et intégrer leur travail)\n",
    "  rapidement, veiller au respect des délais ;\n",
    "- **Gestion des données :** Organiser soigneusement son espace de travail ;\n",
    "  participer à la recherche et à la mise en forme des données ou fichiers\n",
    "  auxiliaires au projet (données en tables, images, textes...) ; participer à la\n",
    "  bonne tenue du dépôt Git ;\n",
    "- **Restitution :** Si applicable dans le projet, restituer de manière\n",
    "  structurée et synthétique des informations relatives au projet, à l'oral ou à\n",
    "  l'écrit."
   ]
  },
  {
   "cell_type": "markdown",
   "id": "fe900dd3",
   "metadata": {},
   "source": [
    "\n",
    "\n",
    "## Retour sur l'évaluation\n",
    "\n",
    "### À chaque séquence de trois semaines\n",
    "\n",
    "Estimation de la production et du fonctionnement de chaque équipe, et de la\n",
    "contribution de chaque personne (interactions à chaque séance, observations,\n",
    "historique du dépôt Git, etc.)\n",
    "\n",
    "### En fin de semestre\n",
    "\n",
    "Si possible, bref entretien individuel (**à confirmer**)\n",
    "\n",
    "**Synthèse de la note de TP** prenant en compte l'ensemble des observations\n",
    "recueillies. Note sur 20 selon un barème à définir. Quelques repères :\n",
    "\n",
    "- autour de 4 : aucun travail ou travail très insuffisant, nombreuses absences\n",
    "  injustifiées ;\n",
    "- autour de 8 : travail carencé, manque d'investissement, fragilité technique\n",
    "  ou conceptuelle, manque d'assiduité ;\n",
    "- autour de 12 : travail correct, prise d'initiative, bonne assiduité et\n",
    "  participation, quelques lacunes techniques ou conceptuelles ;\n",
    "- autour de 16 : travail régulier, posture très positive, compétences techniques ou\n",
    "  conceptuelles démontrées, assiduité parfaite.\n",
    "\n",
    "### Note finale \n",
    "\n",
    "Formule restant à fixer définitivement, par exemple :\n",
    "\n",
    "$$ \n",
    "\\frac{\\textrm{CC}_0 + 4 \\times \\textrm{CC}_1 + 5\n",
    "\\times \\textrm{CC}_2 + \\textrm{TP}}{11} \n",
    "$$"
   ]
  },
  {
   "cell_type": "markdown",
   "id": "27d8180d",
   "metadata": {},
   "source": [
    "## Bilan sur le problème 1\n",
    "\n",
    "*Sujet, déroulement de la séquence, dynamique des équipes, difficulté, démo, évaluation...*"
   ]
  },
  {
   "cell_type": "markdown",
   "id": "32c728c7",
   "metadata": {},
   "source": [
    "## Sujets du jour\n",
    "\n",
    "- Lecture commentée du problème 2\n",
    "- Un aperçu du cours d'AP1\n",
    "- Élément de cours : quelques rappels sur les dictionnaires\n",
    "    - Exercice : compter le nombre d'occurrences de chaque lettre dans une chaîne avec un dictionnaire\n",
    "    - Exercice : inverser les clés et les valeurs d'un dictionnaire.\n",
    "- *à compléter par vos propositions ou besoins*\n",
    "\n",
    "### Autres sujets au choix\n",
    "\n",
    "- Travailler sur un fichier texte (ou binaire) dans un programme\n",
    "- Traiter les paramètres en ligne de commande d'un programme\n",
    "- Chaînes de documentation (docstrings) contenant des tests (doctests)\n",
    "- Afficher une grille carrée en `fltk`\n",
    "- Récupérer un clic sur la grille et déterminer sa case\n",
    "- Quelques exemples de programmes `fltk` avec événements\n",
    "- *à compléter par vos propositions ou besoins*\n",
    "\n",
    "### Déjà traités\n",
    "\n",
    "- ~~Simuler un conflit sur Git~~\n",
    "- ~~Bonnes pratiques de programmation~~\n",
    "- ~~Représentation des listes (et listes de listes) en mémoire~~\n",
    "- ~~Conversions entre bases sur les entiers (suite)~~"
   ]
  },
  {
   "cell_type": "markdown",
   "id": "57a6d890",
   "metadata": {},
   "source": []
  }
 ],
 "metadata": {
  "kernelspec": {
   "display_name": "Python 3 (ipykernel)",
   "language": "python",
   "name": "python3"
  },
  "language_info": {
   "codemirror_mode": {
    "name": "ipython",
    "version": 3
   },
   "file_extension": ".py",
   "mimetype": "text/x-python",
   "name": "python",
   "nbconvert_exporter": "python",
   "pygments_lexer": "ipython3",
   "version": "3.13.3"
  }
 },
 "nbformat": 4,
 "nbformat_minor": 5
}
