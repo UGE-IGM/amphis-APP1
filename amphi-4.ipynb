{
 "cells": [
  {
   "cell_type": "markdown",
   "id": "ff0db9bf",
   "metadata": {
    "slideshow": {
     "slide_type": "slide"
    }
   },
   "source": [
    "# APP1 — Amphi 4"
   ]
  },
  {
   "cell_type": "markdown",
   "id": "a780cad8",
   "metadata": {},
   "source": [
    "## Retour sur le questionnaire de suivi\n",
    "\n",
    "- **Réponse reçues** : 52\n",
    "- **Déroulement du cours** : Majoritairement content (73%)\n",
    "- **Rythme** : Tout juste (52%) -- un peu rapide (40%)\n",
    "- **Soutien** : Suffisant (79%)\n",
    "- **Niveau de Python** : Suffisant ou largement suffisant (75%)\n",
    "- **Apprentissage** : Un peu (44%) -- Pas mal (37%) -- Beaucoup (13%)\n",
    "- **Git** : Difficulté mineur (50%) -- Difficulté majeur (15%) -- Pas du tout (6%)\n",
    "- **Collaboration** : Adéquat (71%)\n",
    "- **Soutenance** : Pas très bien (19%) -- Tout va bien (54%) -- Très bien (21%)"
   ]
  },
  {
   "cell_type": "markdown",
   "id": "02fb3bf4",
   "metadata": {},
   "source": [
    "## Difficulté rencontrée\n",
    "\n",
    "- Travailler en plusieurs (communication, partage de travail, etc.)\n",
    "- Trop d'autonomie requise (manque de ressources indiquées, forme projet à plusieurs jamais vu au lycée, etc.)\n",
    "- Rythme un peu trop rapide\n",
    "- Des blocages pour résoudre le problème, difficile de partir de rien\n",
    "- L'utilisation de Git"
   ]
  },
  {
   "cell_type": "markdown",
   "id": "a7eca001",
   "metadata": {},
   "source": [
    "## Quelques suggestions\n",
    "\n",
    "- Parler plus dans l'équipe, échanger votre Discord, envoyer des mails, etc.\n",
    "- On forme aussi l'autonomie. Pourtant vous pouvez poser toutes question que vous voulez !\n",
    "- Aussi la liberté de votre réalisation. Tant que ça colle à peu près à la description, c'est bon !\n",
    "- Travailler aussi pendant les séances (quand vous n'avez pas de cours).\n",
    "- Travailler à votre rythme. On demande la partie obligatoire et un peu d'extra dans la direction que vous voulez.\n",
    "- Une recherche en ligne est souvent utile."
   ]
  },
  {
   "cell_type": "markdown",
   "id": "afcb942d",
   "metadata": {},
   "source": [
    "## Vos avis et suggestions\n",
    "\n",
    "En général c'est positive. Voici quelques avis d'amélioration :\n",
    "\n",
    "- Plus d'explication sur le sujet du problème\n",
    "- Evaluation pas assez claire\n",
    "- Projet en individuel\n",
    "- Formation d'équipes non aléatoire (même niveau, à votre choix, ...)\n",
    "- Plus de temps pour un problème, ralentir le rythme\n",
    "- Un peu de cours théoriques sur certains points"
   ]
  },
  {
   "cell_type": "markdown",
   "id": "e27ba81d",
   "metadata": {
    "slideshow": {
     "slide_type": "slide"
    }
   },
   "source": [
    "## Vos questions"
   ]
  },
  {
   "cell_type": "markdown",
   "id": "20b9197a",
   "metadata": {
    "slideshow": {
     "slide_type": "-"
    }
   },
   "source": [
    "???"
   ]
  },
  {
   "cell_type": "markdown",
   "id": "1bee3481",
   "metadata": {},
   "source": [
    "## Clarification du style de code\n",
    "\n",
    "Exemple : fonction de parsing d'un image PPM P3 (Problème 1)"
   ]
  },
  {
   "cell_type": "code",
   "execution_count": 6,
   "id": "355ffb42",
   "metadata": {},
   "outputs": [
    {
     "name": "stdout",
     "output_type": "stream",
     "text": [
      "P3\n",
      "# exemple d'image\n",
      "4 4 # carre de 4 sur 4 pixels\n",
      "15\n",
      " 0  0  0    0  0  0    0  0  0   15  0 15\n",
      " 0  0  0    0 15  7    0  0  0    0  0  0\n",
      " 0  0  0    0  0  0    0 15  7    0  0  0\n",
      "15  0 15    0  0  0    0  0  0    0  0  0"
     ]
    }
   ],
   "source": [
    "with open(\"tmp/image.ppm\") as f:\n",
    "    for line in f:\n",
    "        print(line, end='')"
   ]
  },
  {
   "cell_type": "code",
   "execution_count": 7,
   "id": "605b00be",
   "metadata": {},
   "outputs": [],
   "source": [
    "def parse_file(filename):\n",
    "    '''\n",
    "    Lire un fichier en format P3, et retourner les informations\n",
    "    necessaires sur les pixels de l'image, sous forme d'une\n",
    "    matrice 2D de tableaux de taille 3.\n",
    "    \n",
    "    INPUT:\n",
    "    - `filename`: le nom du fichier\n",
    "    \n",
    "    OUTPUT:\n",
    "    Une liste des lignes (représentées par des listes de pixels)\n",
    "    de l'image dans `filename`, avec intensité maximale normalisée\n",
    "    à 255.\n",
    "    '''\n",
    "    # ouvrir le ficher\n",
    "    f = open(filename, 'r')\n",
    "    \n",
    "    # lire ligne par ligne, en enlevant les commentaires\n",
    "    data = []\n",
    "    flag = False # premiere ligne deja verifie\n",
    "    for line in f:\n",
    "        # verifier le format\n",
    "        ...\n",
    "        # enlever le commentaire\n",
    "        ...\n",
    "        # separer en liste de nombre et les ajouter aux donnees\n",
    "        ...\n",
    "    \n",
    "    # recuperer les informations de l'image\n",
    "    width, height = data[0], data[1]\n",
    "    maxint = data[2]\n",
    "    \n",
    "    # verifier le nombre de pixel\n",
    "    # trois couleurs par pixel, 3 pour donnees de l'image\n",
    "    if len(data) < 3 + width * height * 3:\n",
    "        raise ValueError('File ended prematurely.')\n",
    "    \n",
    "    # repartition de lignes de pixels\n",
    "    img = [] # liste de lignes\n",
    "    idx = 3\n",
    "    for h in range(height): # le nombre de ligne est height\n",
    "        # ajouter une nouvelle ligne\n",
    "        ...\n",
    "        # remplir cette ligne\n",
    "        ...\n",
    "    \n",
    "    # nettoyage et retour\n",
    "    f.close()\n",
    "    return img"
   ]
  },
  {
   "cell_type": "code",
   "execution_count": 8,
   "id": "1b87ae61",
   "metadata": {},
   "outputs": [
    {
     "data": {
      "text/plain": [
       "[[[0, 0, 0], [0, 0, 0], [0, 0, 0], [255, 0, 255]],\n",
       " [[0, 0, 0], [0, 255, 119], [0, 0, 0], [0, 0, 0]],\n",
       " [[0, 0, 0], [0, 0, 0], [0, 255, 119], [0, 0, 0]],\n",
       " [[255, 0, 255], [0, 0, 0], [0, 0, 0], [0, 0, 0]]]"
      ]
     },
     "execution_count": 8,
     "metadata": {},
     "output_type": "execute_result"
    }
   ],
   "source": [
    "parse_file('tmp/image.ppm')"
   ]
  },
  {
   "cell_type": "markdown",
   "id": "820ff318",
   "metadata": {},
   "source": [
    "## Algorithme pour Problème 2 : comment chercher un chemin valide (efficacement) ?\n",
    "\n",
    "Vos idées ?\n",
    "\n",
    "- Tester tous les formes possibles de chemins, et voir s'il y en a un valide\n",
    "- Eliminer certains chemins avec des tests.\n",
    "- Balayage : aller sur les cases vide\n",
    "- Backtracking (tenter tous les possibilités, et échec, retourner à l'état précédent et prendre un autre choix)\n",
    "- Heuristique : trier les directions en ordre de distance\n",
    "- Algorithme A* (trop compliqué / abstrait)"
   ]
  },
  {
   "cell_type": "markdown",
   "id": "eb593150",
   "metadata": {
    "slideshow": {
     "slide_type": "slide"
    }
   },
   "source": [
    "## Mes questions"
   ]
  },
  {
   "cell_type": "markdown",
   "id": "8d94c892",
   "metadata": {
    "slideshow": {
     "slide_type": "-"
    }
   },
   "source": [
    "Comment décrire à quelqu'un le modèle de mémoire de Python ?\n",
    "\n",
    "- Espace de mémoire (avec structure)\n",
    "- Objet\n",
    "- Instance d'objet dans la RAM\n",
    "- Variables sont des \"noms\", qui pointent vers un espace de mémoire qui contient le vrai objet.\n"
   ]
  },
  {
   "cell_type": "code",
   "execution_count": 9,
   "id": "31e000e3",
   "metadata": {},
   "outputs": [
    {
     "name": "stdout",
     "output_type": "stream",
     "text": [
      "[1, 5, 3]\n"
     ]
    }
   ],
   "source": [
    "l1 = [1, 2, 3]\n",
    "l2 = l1\n",
    "l2[1] = 5\n",
    "print(l1)"
   ]
  },
  {
   "cell_type": "code",
   "execution_count": 10,
   "id": "48db3112",
   "metadata": {},
   "outputs": [
    {
     "name": "stdout",
     "output_type": "stream",
     "text": [
      "[3, 4]\n"
     ]
    }
   ],
   "source": [
    "def f(l):\n",
    "    l = 5\n",
    "\n",
    "l = [3, 4]\n",
    "f(l)\n",
    "print(l)"
   ]
  },
  {
   "cell_type": "code",
   "execution_count": 12,
   "id": "cee46cd0",
   "metadata": {},
   "outputs": [
    {
     "name": "stdout",
     "output_type": "stream",
     "text": [
      "[3, 4, 5]\n"
     ]
    }
   ],
   "source": [
    "def g(l):\n",
    "    l.append(5)\n",
    "    \n",
    "l = [3, 4]\n",
    "g(l)\n",
    "print(l)"
   ]
  },
  {
   "cell_type": "markdown",
   "id": "f6d0623d",
   "metadata": {},
   "source": [
    "Un site utile : [Online Python Tutor](https://pythontutor.com/visualize.html#mode=edit)"
   ]
  }
 ],
 "metadata": {
  "celltoolbar": "Visualize",
  "kernelspec": {
   "display_name": "Python 3 (ipykernel)",
   "language": "python",
   "name": "python3"
  },
  "language_info": {
   "codemirror_mode": {
    "name": "ipython",
    "version": 3
   },
   "file_extension": ".py",
   "mimetype": "text/x-python",
   "name": "python",
   "nbconvert_exporter": "python",
   "pygments_lexer": "ipython3",
   "version": "3.11.4"
  }
 },
 "nbformat": 4,
 "nbformat_minor": 5
}
