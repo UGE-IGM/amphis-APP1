{
 "cells": [
  {
   "cell_type": "code",
   "execution_count": 28,
   "id": "5ee80aab",
   "metadata": {
    "slideshow": {
     "slide_type": "skip"
    }
   },
   "outputs": [
    {
     "name": "stdout",
     "output_type": "stream",
     "text": [
      "The nbtutor extension is already loaded. To reload it, use:\n",
      "  %reload_ext nbtutor\n"
     ]
    }
   ],
   "source": [
    "%load_ext nbtutor"
   ]
  },
  {
   "cell_type": "markdown",
   "id": "ff0db9bf",
   "metadata": {
    "slideshow": {
     "slide_type": "slide"
    }
   },
   "source": [
    "# APP1 — Amphi 4"
   ]
  },
  {
   "cell_type": "markdown",
   "id": "e27ba81d",
   "metadata": {
    "slideshow": {
     "slide_type": "slide"
    }
   },
   "source": [
    "## Vos questions"
   ]
  },
  {
   "cell_type": "markdown",
   "id": "20b9197a",
   "metadata": {
    "slideshow": {
     "slide_type": "-"
    }
   },
   "source": [
    "Que doit afficher le programme ASCII quand un caractère n'existe pas dans la police ?  \n",
    "*On peut mettre un blanc, un caractère spécial...*"
   ]
  },
  {
   "cell_type": "markdown",
   "id": "ad498897",
   "metadata": {
    "slideshow": {
     "slide_type": "-"
    }
   },
   "source": [
    "Est-on obligé d'utiliser des dictionnaires ?  \n",
    "*Non.*"
   ]
  },
  {
   "cell_type": "markdown",
   "id": "eb593150",
   "metadata": {
    "slideshow": {
     "slide_type": "slide"
    }
   },
   "source": [
    "## Mes questions"
   ]
  },
  {
   "cell_type": "markdown",
   "id": "8d94c892",
   "metadata": {
    "slideshow": {
     "slide_type": "-"
    }
   },
   "source": [
    "Comment décrire à quelqu'un le modèle de mémoire de Python ?\n",
    "\n",
    "- Pas faite à la main (abstraite par l'interpréteur)\n",
    "- On manipule tous les objets par le biais de références (\"flèches\")\n",
    "- Toutes les valeurs / les objets sont dans le \"tas\"\n",
    "- Chaque objet (du tas) possède un type\n",
    "- **Pas** deux sortes de types : par valeur et par référence (*vrai dans d'autres langages comme Java*)\n",
    "- Pas de déclaration séparée nécessaire\n",
    "\n"
   ]
  },
  {
   "cell_type": "markdown",
   "id": "5cdc0b74",
   "metadata": {
    "slideshow": {
     "slide_type": "-"
    }
   },
   "source": [
    "De quoi a-t-on besoin pour spécifier entièrement le comportement d'une fonction ?\n",
    "\n",
    "- Quel est son nom ?\n",
    "- Quels sont les arguments, leur type... ?\n",
    "- Quels facteurs extérieurs influencent la fonction (*causes secondaires*) ?\n",
    "- Quels effets secondaires ou *effets de bord* (affichage, lecture fichier, exceptions, \"dessin\", modification de valeurs mutables, etc.)\n",
    "- Que renvoie la fonction ?\n",
    "- \"Qu'est-ce qu'elle fait ?\" (par exemple sous forme de documentation)"
   ]
  },
  {
   "cell_type": "code",
   "execution_count": 30,
   "id": "6e53bede",
   "metadata": {
    "slideshow": {
     "slide_type": "slide"
    }
   },
   "outputs": [
    {
     "name": "nbtutor",
     "output_type": "stream",
     "text": []
    }
   ],
   "source": [
    "%%nbtutor -rf\n",
    "\n",
    "def essai(nimp):\n",
    "    nimp += 1\n",
    "    \n",
    "victime = 1\n",
    "essai(victime)\n",
    "victime"
   ]
  },
  {
   "cell_type": "code",
   "execution_count": 32,
   "id": "6692d344",
   "metadata": {
    "slideshow": {
     "slide_type": "slide"
    }
   },
   "outputs": [
    {
     "name": "nbtutor",
     "output_type": "stream",
     "text": []
    }
   ],
   "source": [
    "%%nbtutor -rf\n",
    "\n",
    "def essai(nimp):\n",
    "    nimp.append(1)\n",
    "    \n",
    "victime = [3, 2]\n",
    "essai(victime)\n",
    "victime"
   ]
  },
  {
   "cell_type": "markdown",
   "id": "f9e9867c",
   "metadata": {
    "slideshow": {
     "slide_type": "slide"
    }
   },
   "source": [
    "## Exercices du QCM d'AP1"
   ]
  },
  {
   "cell_type": "markdown",
   "id": "41b568f1",
   "metadata": {
    "slideshow": {
     "slide_type": "subslide"
    }
   },
   "source": [
    "### Affichage d'une fraction\n",
    "\n",
    "Écrire un programme qui étant donnés deux entiers `p` et `q`, avec `q` non nul, affiche élégamment la fraction $\\dfrac{p}{q}$.\n",
    "\t\t\n",
    "Voici trois exemples d'affichage, en fonction des valeurs de `p` et de `q` :  \n",
    "`- 6 / 4` si `p = 6` et `q = -4`  \n",
    "`3 / 2`   si `p = -3` et `q = -2`  \n",
    "`3` \t  si `p = 3` et `q = 1`"
   ]
  },
  {
   "cell_type": "code",
   "execution_count": 42,
   "id": "3c4c751c",
   "metadata": {
    "slideshow": {
     "slide_type": "subslide"
    }
   },
   "outputs": [
    {
     "name": "stdout",
     "output_type": "stream",
     "text": [
      "-3\n"
     ]
    }
   ],
   "source": [
    "p = -3\n",
    "q = 1\n",
    "\n",
    "if q == 1:\n",
    "    print(p)\n",
    "elif p>0 and q<0:\n",
    "    print(\"-\", p,\"/\",(-1)*q)\n",
    "elif p<0 and q<0:\n",
    "    print((-1)*p, \"/\", (-1)*q)\n",
    "else:\n",
    "    print(p, \"/\", q)"
   ]
  },
  {
   "cell_type": "code",
   "execution_count": null,
   "id": "820965a1",
   "metadata": {},
   "outputs": [],
   "source": [
    "isNegative = 0\n",
    "if q < 0:\n",
    "    q=int(q*-1)\n",
    "    isNegative+=1\n",
    "if p < 0:\n",
    "    p=int(p*-1)\n",
    "    isNegative+=1\n",
    "if q==1:\n",
    "    print(p)\n",
    "elif isNegative == 1:\n",
    "    print(\"-\",p,\"/\",q)\n",
    "else:\n",
    "    print(p,\"/\",q)"
   ]
  },
  {
   "cell_type": "code",
   "execution_count": 45,
   "id": "a32c3a6e",
   "metadata": {},
   "outputs": [
    {
     "name": "stdout",
     "output_type": "stream",
     "text": [
      "- 3 / 2\n"
     ]
    }
   ],
   "source": [
    "p = 3\n",
    "q = -2\n",
    "\n",
    "negatif = p * q < 0\n",
    "if negatif:\n",
    "    print(\"- \", end=\"\")\n",
    "print(abs(p), end=\" \")\n",
    "if abs(q) != 1:\n",
    "    print(\"/\", abs(q))"
   ]
  },
  {
   "cell_type": "markdown",
   "id": "eab152f9",
   "metadata": {
    "slideshow": {
     "slide_type": "subslide"
    }
   },
   "source": [
    "### Affichage d'un nombre complexe\n",
    "\n",
    "Écrire un programme qui étant donné deux entiers `p` et `q`\taffiche le nombre complexe `p + q.i`.\n",
    "\t\t\n",
    "Voici quatre exemples d'affichage, en fonction des valeurs de `p` et de `q` :  \n",
    "`3 - 2i`si `p = 3` et `q = -2`  \n",
    "`3` si `p = 3` et `q = 0`  \n",
    "`2i` si `p = 0` et `q = 2`  \n",
    "`i` si `p = 0` et `q = 1` "
   ]
  },
  {
   "cell_type": "code",
   "execution_count": null,
   "id": "f0b54a59",
   "metadata": {
    "slideshow": {
     "slide_type": "subslide"
    }
   },
   "outputs": [],
   "source": []
  },
  {
   "cell_type": "markdown",
   "id": "05187aaa",
   "metadata": {
    "slideshow": {
     "slide_type": "subslide"
    }
   },
   "source": [
    "### Moyenne d'une suite d'entiers positifs\n",
    "\n",
    "Écrire un programme qui lit une suite d'entiers positifs ou nuls au clavier, puis affiche leur moyenne. Le programme doit *ignorer* les entiers strictement négatifs et s'arrêter lorsque l'utilisateur entre la chaîne `\"fin\"`.\n",
    "\n",
    "Si l'utilisateur saisit immédiatement `\"fin\"`, la suite est vide et la moyenne ne peut pas être calculée. Le programme doit alors provoquer une erreur."
   ]
  },
  {
   "cell_type": "code",
   "execution_count": 53,
   "id": "39b2034a",
   "metadata": {},
   "outputs": [
    {
     "name": "stdout",
     "output_type": "stream",
     "text": [
      "3\n",
      "-1\n",
      "6\n",
      "-1\n",
      "0\n",
      "fin\n"
     ]
    }
   ],
   "source": [
    "somme = 0\n",
    "compteur = 0\n",
    "n = input()\n",
    "while n!=\"fin\":\n",
    "    a = int(n)\n",
    "    if a>=0:\n",
    "        somme += a\n",
    "        compteur += 1\n",
    "    n = input()\n",
    "resultat = somme/ compteur\n",
    "        "
   ]
  },
  {
   "cell_type": "code",
   "execution_count": 54,
   "id": "b2ff2f90",
   "metadata": {},
   "outputs": [
    {
     "data": {
      "text/plain": [
       "3.0"
      ]
     },
     "execution_count": 54,
     "metadata": {},
     "output_type": "execute_result"
    }
   ],
   "source": [
    "resultat"
   ]
  },
  {
   "cell_type": "code",
   "execution_count": 52,
   "id": "1a38f670",
   "metadata": {
    "slideshow": {
     "slide_type": "subslide"
    }
   },
   "outputs": [
    {
     "data": {
      "text/plain": [
       "9"
      ]
     },
     "execution_count": 52,
     "metadata": {},
     "output_type": "execute_result"
    }
   ],
   "source": [
    "from functools import reduce\n",
    "reduce((lambda a, x: a + x if x > 0 else a), [1, 3, 5])"
   ]
  },
  {
   "cell_type": "markdown",
   "id": "f29cd692",
   "metadata": {
    "slideshow": {
     "slide_type": "subslide"
    }
   },
   "source": [
    "### Racine carrée entière\n",
    "\n",
    "Écrire un programme qui lit un entier positif `n` au clavier (saisie contrôlée) et qui affiche le plus grand entier `racine` tel que `racine * racine <= n`.\n",
    "\n",
    "Exemple d'exécution :\n",
    "```\n",
    "Saisissez un entier positif, svp : 10\n",
    "La racine carre entiere de 10 est 3\n",
    "```"
   ]
  },
  {
   "cell_type": "code",
   "execution_count": null,
   "id": "e107e147",
   "metadata": {
    "slideshow": {
     "slide_type": "subslide"
    }
   },
   "outputs": [],
   "source": []
  },
  {
   "cell_type": "markdown",
   "id": "ac07bde2",
   "metadata": {
    "slideshow": {
     "slide_type": "subslide"
    }
   },
   "source": [
    "### Somme des carrés\n",
    "\n",
    "Écrire un programme qui demande à l'utilisateur un entier `n` supérieur ou égal à `5` (saisie contrôlée), puis calcule et affiche la somme des carrés des nombres de `1` à `n`.\n",
    "\n",
    "Exemple d'exécution :\n",
    "\n",
    "```\n",
    "Saisissez un entier supérieur ou égal à 5, svp : 10\n",
    "La somme 1**2 + ... +  10**2 vaut 385\n",
    "```"
   ]
  },
  {
   "cell_type": "code",
   "execution_count": null,
   "id": "8e2b8f32",
   "metadata": {
    "slideshow": {
     "slide_type": "subslide"
    }
   },
   "outputs": [],
   "source": []
  },
  {
   "cell_type": "markdown",
   "id": "64bcc350",
   "metadata": {
    "slideshow": {
     "slide_type": "subslide"
    }
   },
   "source": [
    "### Distance de freinage\n",
    "\n",
    "Une voiture roulant à 130 km/h freine brutalement. Après plusieurs expérience, un capteur a permis de déterminer\n",
    "que sa vitesse instantanée diminuait de 10 km/h chaque seconde.\n",
    "\n",
    "Écrire un programme qui affiche, tant que la voiture est en mouvement, ses différentes vitesses prises, ainsi que la distance parcourue pendant le freinage.\n",
    "\n",
    "*Ajouts : temps total de freinage, distance résiduelle, graphique...*"
   ]
  },
  {
   "cell_type": "code",
   "execution_count": null,
   "id": "95a2a0bc",
   "metadata": {
    "slideshow": {
     "slide_type": "subslide"
    }
   },
   "outputs": [],
   "source": []
  },
  {
   "cell_type": "code",
   "execution_count": 27,
   "id": "aa5b0098",
   "metadata": {
    "slideshow": {
     "slide_type": "subslide"
    }
   },
   "outputs": [
    {
     "data": {
      "image/png": "[encoded data removed]",
      "text/plain": [
       "<Figure size 432x288 with 2 Axes>"
      ]
     },
     "metadata": {
      "image/png": {
       "height": 248,
       "width": 395
      },
      "needs_background": "light"
     },
     "output_type": "display_data"
    },
    {
     "data": {
      "text/plain": [
       "[0, 36.11111111111111, 61.11111111111111, 75.0, 75.69444444444444]"
      ]
     },
     "execution_count": 27,
     "metadata": {},
     "output_type": "execute_result"
    }
   ],
   "source": [
    "import matplotlib.pyplot as plt\n",
    "\n",
    "def freinage(vinit, deceleration):\n",
    "    t = 0\n",
    "    distance = 0\n",
    "    vitesse = vinit\n",
    "    \n",
    "    temps = [0]\n",
    "    distances = [0]\n",
    "    vitesses = [vinit]\n",
    "    \n",
    "    while vitesse > 0:\n",
    "        portion = min(deceleration, vitesse) / deceleration\n",
    "        \n",
    "        distance += vitesse * portion / 3600 * 1000\n",
    "        vitesse -= deceleration * portion\n",
    "        t += portion\n",
    "        \n",
    "        temps.append(t)\n",
    "        distances.append(distance)\n",
    "        vitesses.append(vitesse)\n",
    "        \n",
    "    return distances, vitesses, temps\n",
    "\n",
    "\n",
    "distances, vitesses, temps = freinage(130, 40)\n",
    "\n",
    "fig, ax1 = plt.subplots()\n",
    "ax1.plot(temps, distances)\n",
    "\n",
    "ax2 = ax1.twinx()\n",
    "ax2.plot(temps, vitesses)\n",
    "\n",
    "plt.show()\n",
    "distances"
   ]
  },
  {
   "cell_type": "code",
   "execution_count": null,
   "id": "82f0cdc7",
   "metadata": {},
   "outputs": [],
   "source": []
  }
 ],
 "metadata": {
  "celltoolbar": "Visualize",
  "kernelspec": {
   "display_name": "Python 3 (ipykernel)",
   "language": "python",
   "name": "python3"
  },
  "language_info": {
   "codemirror_mode": {
    "name": "ipython",
    "version": 3
   },
   "file_extension": ".py",
   "mimetype": "text/x-python",
   "name": "python",
   "nbconvert_exporter": "python",
   "pygments_lexer": "ipython3",
   "version": "3.9.7"
  }
 },
 "nbformat": 4,
 "nbformat_minor": 5
}
