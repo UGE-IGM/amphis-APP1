{
 "cells": [
  {
   "cell_type": "markdown",
   "id": "3e2e9c21",
   "metadata": {
    "slideshow": {
     "slide_type": "slide"
    }
   },
   "source": [
    "# APP1 -- TP 1 -- TODO List"
   ]
  },
  {
   "cell_type": "markdown",
   "id": "08c3a080",
   "metadata": {
    "slideshow": {
     "slide_type": "slide"
    }
   },
   "source": [
    "- Créer un compte [GitHub](https://github.com) si vous n'en avez pas, préférablement avec votre mail étudiant\n",
    "- Accéder au [problème 1 sur GitHub classroom](https://classroom.github.com/a/4Md7fpQz)\n",
    "- Rejoindre l'équipe appelée `numero-nom1-nom2-nom3` où `numero` est le numéro de votre groupe, et que `nom1`, `nom2` et `nom3` sont les noms des membres de l'équipe dans l'ordre alphabétique (ou la créer si nécessaire)  \n",
    "  Attention, ne vous trompez pas d'équipe, vous ne pourrez pas en changer !\n",
    "- Relire *en détail* le sujet du problème 1, contenu dans le repo de votre équipe\n",
    "\n",
    "- Faire une copie du dépôt `git` de votre équipe pour le problème 1 (depuis le terminal, dans un répertoire approprié).\n",
    "    * Si vous utilisez une clé ssh, la commande sera\n",
    "    ```shell\n",
    "    git clone git@github.com:UGE-L1-MI-2022-2023/nom_de_votre_depot.git\n",
    "    ```\n",
    "    * Si vous utiliser un token personnel d'accès, la commande sera\n",
    "    ```shell\n",
    "    git clone https://github.com/UGE-L1-MI-2022-2023/nom_de_votre_depot.git\n",
    "    ```\n",
    "- Lire la [doc FLTK](https://antoinemeyer.frama.io/fltk/), la bibliothèque qu'on va utiliser\n",
    "- Installer Python et un éditeur sur votre machine personnelle si nécessaire\n",
    "- Commencer à réfléchir !\n",
    "- Si vous avez du temps, lire ce [tutoriel de git](https://rogerdudler.github.io/git-guide/index.fr.html)"
   ]
  },
  {
   "cell_type": "code",
   "execution_count": null,
   "id": "06a6f7a5",
   "metadata": {},
   "outputs": [],
   "source": []
  }
 ],
 "metadata": {
  "celltoolbar": "Diaporama",
  "kernelspec": {
   "display_name": "Python 3 (ipykernel)",
   "language": "python",
   "name": "python3"
  },
  "language_info": {
   "codemirror_mode": {
    "name": "ipython",
    "version": 3
   },
   "file_extension": ".py",
   "mimetype": "text/x-python",
   "name": "python",
   "nbconvert_exporter": "python",
   "pygments_lexer": "ipython3",
   "version": "3.10.4"
  }
 },
 "nbformat": 4,
 "nbformat_minor": 5
}
