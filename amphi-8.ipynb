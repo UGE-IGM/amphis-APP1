{
 "cells": [
  {
   "cell_type": "markdown",
   "id": "1265647e",
   "metadata": {},
   "source": [
    "# Amphi APP1 - Séquence 4 - Soutien\n",
    "\n",
    "**Contenu**\n",
    "1. Rappel de l'organisation\n",
    "1. Retour sur CC1\n",
    "1. Shapefile\n",
    "1. Session de questions sur Problème 4\n",
    "1. Exercice d'entraînement `fltk` : dessiner un polygone point par point"
   ]
  },
  {
   "cell_type": "markdown",
   "id": "01b2fa50",
   "metadata": {},
   "source": [
    "## Rappel de l'organisation\n",
    "\n",
    "**Pour APP1** :\n",
    "- Date de limite de soumission Git : 24 novembre à 23h\n",
    "- Séance de soutenance : 24 ou 25 novembre\n",
    "\n",
    "**Pour Projet commun de AP1/APP1**\n",
    "- Début : 28 novembre\n",
    "- Durée : trois semaines\n",
    "- Modalité de regroupement : binôme libre **dans le même groupe de TP**"
   ]
  },
  {
   "cell_type": "markdown",
   "id": "14d04dfd",
   "metadata": {},
   "source": [
    "## Retour sur CC1\n",
    "\n",
    "Tout n'est pas encore corrigé... On en parlera la semaine prochaine."
   ]
  },
  {
   "cell_type": "markdown",
   "id": "212fac69",
   "metadata": {},
   "source": [
    "**Question 11**: préfixe croissant\n",
    "\n",
    "Ecrire une fonction ``prefixe_croissant(lst)`` qui renvoie le plus long préfixe croissant du paramètre, qui est une liste."
   ]
  },
  {
   "cell_type": "code",
   "execution_count": 18,
   "id": "18dab136",
   "metadata": {},
   "outputs": [],
   "source": [
    "import doctest\n",
    "\n",
    "def prefixe_croissant(lst):\n",
    "    '''\n",
    "    Returns the longest increasing prefix\n",
    "    :param: lst -> list of integers\n",
    "    :return: list, longest increasing prefixe\n",
    "    \n",
    "    >>> prefixe_croissant([])\n",
    "    []\n",
    "    >>> prefixe_croissant([3, 1, 2])\n",
    "    [3]\n",
    "    >>> prefixe_croissant([1, 4])\n",
    "    [1, 4]\n",
    "    >>> prefixe_croissant([3, 4, 6, 1, 2])\n",
    "    [3, 4, 6]\n",
    "    '''\n",
    "    if not lst:\n",
    "        return []\n",
    "    lst2 = [lst[0]]\n",
    "    for i in range(1, len(lst)):\n",
    "        if lst[i - 1] < lst[i]:\n",
    "            lst2.append(lst[i])\n",
    "        else:\n",
    "            break\n",
    "    return lst2\n",
    "# doctest.testmod()\n",
    "doctest.run_docstring_examples(prefixe_croissant, globals())"
   ]
  },
  {
   "cell_type": "markdown",
   "id": "f5555927",
   "metadata": {},
   "source": [
    "**Question 12** : liste des indices\n",
    "\n",
    "Ecrire une fonction ``liste_indices(lst, elem)`` qui renvoie une liste des indices de ``lst`` dont l'élément est égal à ``elem``."
   ]
  },
  {
   "cell_type": "code",
   "execution_count": 23,
   "id": "f0141f73",
   "metadata": {},
   "outputs": [],
   "source": [
    "def liste_indices(lst, elem):\n",
    "    '''\n",
    "    Returns the list of indices i such that lst[i] is equal to elem\n",
    "    \n",
    "    >>> liste_indices([], 'test')\n",
    "    []\n",
    "    >>> liste_indices(['ce', 'test', 'est', 'un', 'très', 'bon', 'test'], 'test')\n",
    "    [1, 6]\n",
    "    >>> liste_indices([1, 0, 3, 3, 0, 1], 5)\n",
    "    []\n",
    "    >>> liste_indices([1, 0, 3, 3, 0, 1], 3)\n",
    "    [2, 3]\n",
    "    '''\n",
    "    i = 0\n",
    "    liste = []\n",
    "    for i in range(len(lst)):\n",
    "        if lst[i] == elem :\n",
    "            liste.append(i)\n",
    "    return liste\n",
    "\n",
    "doctest.run_docstring_examples(liste_indices, globals())"
   ]
  },
  {
   "cell_type": "markdown",
   "id": "d56d7e18",
   "metadata": {},
   "source": [
    "**Question 13** : liste de caractères vers chaîne, avec caractère ignoré\n",
    "\n",
    "Ecrire une fonction ``liste_vers_mot_ignore(lst, cara_ignore)`` qui enchaîne les caractères dans ``lst`` pour faire une chaîne, sauf ceux égaux au caractère à ignorer ``cara_ignore``."
   ]
  },
  {
   "cell_type": "code",
   "execution_count": 24,
   "id": "8e1c3c11",
   "metadata": {},
   "outputs": [],
   "source": [
    "def liste_vers_mot_ignore(lst, cara_ignore):\n",
    "    '''\n",
    "    Returns a string composed by characters in lst, without those equal to cara_ignore\n",
    "    \n",
    "    >>> liste_vers_mot_ignore(['#', 'B', 'o', '#', 'n', 'j', 'o', '#', '#', 'u', 'r'], '#')\n",
    "    'Bonjour'\n",
    "    >>> liste_vers_mot_ignore(['x', 'x', 'x'], 'x')\n",
    "    ''\n",
    "    >>> liste_vers_mot_ignore([], '@')\n",
    "    ''\n",
    "    '''\n",
    "    carac_return = \"\"\n",
    "    for carac in lst:\n",
    "        if carac != cara_ignore:\n",
    "            carac_return += carac\n",
    "    return carac_return\n",
    "\n",
    "doctest.run_docstring_examples(liste_vers_mot_ignore, globals())"
   ]
  },
  {
   "cell_type": "markdown",
   "id": "a506d57d",
   "metadata": {},
   "source": [
    "## Saisir contrôlé\n",
    "\n",
    "On veut lire l'entrée et mettre chaque élément dans une liste jusqu'à une certain condition soit vérifiée.\n",
    "\n",
    "**Code de base**\n",
    "```python\n",
    "input_list = []\n",
    "user_input = input()\n",
    "while cond:\n",
    "    input_list.append(user_input)\n",
    "    user_input = input()\n",
    "```"
   ]
  },
  {
   "cell_type": "code",
   "execution_count": null,
   "id": "36ec24fc",
   "metadata": {},
   "outputs": [],
   "source": [
    "def read_five_strings():\n",
    "    '''\n",
    "    Reads five strings from keyboard, then returns the list\n",
    "    '''\n",
    "    input_list = []\n",
    "    user_input = input()\n",
    "    while len(input_list) < 5:\n",
    "        input_list.append(user_input)\n",
    "        user_input = input()\n",
    "    return input_list"
   ]
  },
  {
   "cell_type": "code",
   "execution_count": null,
   "id": "77bbd9df",
   "metadata": {},
   "outputs": [],
   "source": [
    "def read_positive_numbers():\n",
    "    '''\n",
    "    Reads numbers from keyboard, until reaching \n",
    "    a negative number, then return the list\n",
    "    '''\n",
    "    input_list = []\n",
    "    user_input = input()\n",
    "    while int(user_input) >= 0:\n",
    "        input_list.append(user_input)\n",
    "        user_input = input()\n",
    "    return input_list"
   ]
  },
  {
   "cell_type": "code",
   "execution_count": 25,
   "id": "b0ae4d7f",
   "metadata": {},
   "outputs": [],
   "source": [
    "def read_sum_limit(maxsum):\n",
    "    '''\n",
    "    Reads numbers from keyboard, until their sum\n",
    "    is larger than maxsum, then return the list\n",
    "    '''\n",
    "    input_list = []\n",
    "    partialsum = 0\n",
    "    while partialsum < maxsum:\n",
    "        user_input = input()\n",
    "        input_list.append(int(user_input))\n",
    "        partialsum += int(user_input)\n",
    "    return input_list"
   ]
  },
  {
   "cell_type": "markdown",
   "id": "79a790c0",
   "metadata": {},
   "source": [
    "**Question 14** : lecture des caractères\n",
    "\n",
    "Ecrire une fonction ``saisir_liste_caractere`` qui lire les caractères saisis par l'utilisateur (1 par ligne). La fonction termine si une ligne saisie n'a pas la longueur 1."
   ]
  },
  {
   "cell_type": "code",
   "execution_count": null,
   "id": "fe2777b0",
   "metadata": {},
   "outputs": [],
   "source": [
    "def saisir_liste_caractere():\n",
    "    '''\n",
    "    Reads single characters, until reaching a line of length not 1, then return the list\n",
    "    '''\n",
    "    input_list = []\n",
    "    while True:\n",
    "        char = input()\n",
    "        if len(char) != 1:\n",
    "            break\n",
    "        input_list.append(char)\n",
    "    return input_list "
   ]
  },
  {
   "cell_type": "markdown",
   "id": "2b547080",
   "metadata": {},
   "source": [
    "## Compréhension de liste\n",
    "\n",
    "On veut souvent construire des nouvelles listes à partir d'une ancienne.\n",
    "\n",
    "**Exemple** : Extraction des éléments pairs"
   ]
  },
  {
   "cell_type": "code",
   "execution_count": 26,
   "id": "23d67d94",
   "metadata": {},
   "outputs": [
    {
     "name": "stdout",
     "output_type": "stream",
     "text": [
      "[4, 2, 6]\n"
     ]
    }
   ],
   "source": [
    "numlist = [3, 1, 4, 1, 5, 9, 2, 6, 5, 3, 5]\n",
    "evenlist = []\n",
    "\n",
    "for num in numlist:\n",
    "    if num % 2 == 0:\n",
    "        evenlist.append(num)\n",
    "\n",
    "print(evenlist)"
   ]
  },
  {
   "cell_type": "markdown",
   "id": "3aefa8d8",
   "metadata": {},
   "source": [
    "**Exemple** : Extraction et conversion des nombres"
   ]
  },
  {
   "cell_type": "code",
   "execution_count": 27,
   "id": "011e2a75",
   "metadata": {},
   "outputs": [
    {
     "name": "stdout",
     "output_type": "stream",
     "text": [
      "[60000, 56000]\n"
     ]
    }
   ],
   "source": [
    "strlist = ['Ce', 'bibliothèque', 'contient', '60000', 'ouvrage', 'dont', '56000', 'sont', 'en', 'maths']\n",
    "numlist = []\n",
    "\n",
    "for elem in strlist:\n",
    "    if elem.isdigit():\n",
    "        numlist.append(int(elem))\n",
    "\n",
    "print(numlist)"
   ]
  },
  {
   "cell_type": "markdown",
   "id": "c8ab8f8b",
   "metadata": {},
   "source": [
    "**Structure générique**\n",
    "\n",
    "```python\n",
    "for elem in oldlist:\n",
    "    if cond: # related to elem, but also possibly external data\n",
    "        newlist.append(processing_function(elem))\n",
    "```\n",
    "\n",
    "**Compréhension de liste** : une façon simple d'écrire du code\n",
    "```python\n",
    "newlist = [processing_function(elem) for elem in oldlist if cond]\n",
    "```\n",
    "\n",
    "La variable ``oldlist`` pourrait être n'importe quel **itérable** !!"
   ]
  },
  {
   "cell_type": "code",
   "execution_count": 28,
   "id": "696043e2",
   "metadata": {},
   "outputs": [
    {
     "name": "stdout",
     "output_type": "stream",
     "text": [
      "[4, 2, 6]\n"
     ]
    }
   ],
   "source": [
    "numlist = [3, 1, 4, 1, 5, 9, 2, 6, 5, 3, 5]\n",
    "evenlist = [e for e in numlist if e%2==0]\n",
    "\n",
    "print(evenlist)"
   ]
  },
  {
   "cell_type": "code",
   "execution_count": 29,
   "id": "a929a3bf",
   "metadata": {},
   "outputs": [
    {
     "name": "stdout",
     "output_type": "stream",
     "text": [
      "[60000, 56000]\n"
     ]
    }
   ],
   "source": [
    "strlist = ['Ce', 'bibliothèque', 'contient', '60000', 'ouvrage', 'dont', '56000', 'sont', 'en', 'maths']\n",
    "numlist = [int(e) for e in strlist if e.isdigit()]\n",
    "\n",
    "print(numlist)"
   ]
  },
  {
   "cell_type": "code",
   "execution_count": 36,
   "id": "dcf5906a",
   "metadata": {},
   "outputs": [
    {
     "name": "stdout",
     "output_type": "stream",
     "text": [
      "[[1, 0, 0, 0], [0, 0, 0, 0], [0, 0, 0, 0], [0, 0, 0, 0]]\n"
     ]
    }
   ],
   "source": [
    "lst = [[0] * 4 for _ in range(4)]\n",
    "lst[0][0] = 1\n",
    "\n",
    "print(lst)"
   ]
  },
  {
   "cell_type": "markdown",
   "id": "eff1a4e6",
   "metadata": {},
   "source": [
    "Faisons les questions dans CC1 avec la compréhension de liste (**mais ne pas l'utiliser dans l'examen car hors programme...**)"
   ]
  },
  {
   "cell_type": "code",
   "execution_count": 37,
   "id": "8c9ce4e6",
   "metadata": {},
   "outputs": [],
   "source": [
    "def liste_indices(lst, elem):\n",
    "    '''\n",
    "    Returns the list of indices i such that lst[i] is equal to elem\n",
    "    \n",
    "    >>> liste_indices([], 'test')\n",
    "    []\n",
    "    >>> liste_indices(['ce', 'test', 'est', 'un', 'très', 'bon', 'test'], 'test')\n",
    "    [1, 6]\n",
    "    >>> liste_indices([1, 0, 3, 3, 0, 1], 5)\n",
    "    []\n",
    "    >>> liste_indices([1, 0, 3, 3, 0, 1], 3)\n",
    "    [2, 3]\n",
    "    '''\n",
    "    return [i for i in range(len(lst)) if lst[i] == elem]\n",
    "\n",
    "doctest.run_docstring_examples(liste_indices, globals())"
   ]
  },
  {
   "cell_type": "code",
   "execution_count": 39,
   "id": "3b065aaf",
   "metadata": {},
   "outputs": [],
   "source": [
    "def liste_vers_mot_ignore(lst, cara_ignore):\n",
    "    '''\n",
    "    Returns a string composed by characters in lst, without those equal to cara_ignore\n",
    "    \n",
    "    >>> liste_vers_mot_ignore(['#', 'B', 'o', '#', 'n', 'j', 'o', '#', '#', 'u', 'r'], '#')\n",
    "    'Bonjour'\n",
    "    >>> liste_vers_mot_ignore(['x', 'x', 'x'], 'x')\n",
    "    ''\n",
    "    >>> liste_vers_mot_ignore([], '@')\n",
    "    ''\n",
    "    '''\n",
    "    return ''.join([e for e in lst if e!= cara_ignore])\n",
    "\n",
    "doctest.run_docstring_examples(liste_vers_mot_ignore, globals())"
   ]
  },
  {
   "cell_type": "markdown",
   "id": "0425db99",
   "metadata": {},
   "source": [
    "## Shapefile et PyShp\n",
    "\n",
    "On lit les shapefiles par [pyshp](https://github.com/GeospatialPython/pyshp) (``import shapefile``) en Python\n",
    "\n",
    "- Installation : ``pip install pyshp``\n",
    "- Lecture : ``sf = shapefile.Reader('le/repertoire/qui/contient/les/fichier/')``\n",
    "- Les méthodes utiles pour un shapefile.Reader : \n",
    "    - ``sf.records()`` : retourner une liste des informations reliées aux shapes\n",
    "    - ``sf.shapes()`` : retourner une liste des shapes\n",
    "    - ``sf.shape(index)`` : retourner le shape d'indice ``index``\n",
    "- Lecture de shape : ``shp = sf.shape(index)``\n",
    "- Les données utiles dans un shape :\n",
    "    - ``shp.bbox()`` : le bounding box ``[longitude_min, latitude_min, longitude_max, latitude_max]``\n",
    "    - ``shp.points()`` : une liste des points des polygônes (il peut y avoir plusieurs)\n",
    "    - ``shp.parts()`` : une liste d'indices où chaque polygône commence"
   ]
  },
  {
   "cell_type": "markdown",
   "id": "037a5b42",
   "metadata": {},
   "source": [
    "## Session de questions pour Problème 4 (ou d'autres choses)\n",
    "\n",
    "- Mon affichage est à l'envers, que fait-on ?\n",
    "- ???"
   ]
  },
  {
   "cell_type": "markdown",
   "id": "c97ce0f3",
   "metadata": {},
   "source": [
    "## Exercice d'entraînement\n",
    "\n",
    "**Objectif :** créer un programme graphique qui permet de dessiner des polygones dans une fenêtre\n",
    "\n",
    "**Interactions :** \n",
    "- le bouton \"quitter\"... quitte\n",
    "- un clic gauche \"pose\" un point\n",
    "- un clic droit pendant le tracé d'un polygone ferme le polygone en cours\n",
    "- un clic droit à tout autre moment supprime le dernier polygone tracé\n",
    "\n",
    "**Look & feel :** \n",
    "le segment en cours (s'il existe) doit \"suivre\" le pointeur de la souris"
   ]
  },
  {
   "cell_type": "code",
   "execution_count": null,
   "id": "4e9133f8",
   "metadata": {},
   "outputs": [],
   "source": []
  }
 ],
 "metadata": {
  "kernelspec": {
   "display_name": "Python 3 (ipykernel)",
   "language": "python",
   "name": "python3"
  },
  "language_info": {
   "codemirror_mode": {
    "name": "ipython",
    "version": 3
   },
   "file_extension": ".py",
   "mimetype": "text/x-python",
   "name": "python",
   "nbconvert_exporter": "python",
   "pygments_lexer": "ipython3",
   "version": "3.10.7"
  }
 },
 "nbformat": 4,
 "nbformat_minor": 5
}
